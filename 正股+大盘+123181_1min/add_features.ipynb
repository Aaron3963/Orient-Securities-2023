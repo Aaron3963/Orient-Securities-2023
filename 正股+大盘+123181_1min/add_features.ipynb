{
 "cells": [
  {
   "cell_type": "code",
   "execution_count": 8,
   "metadata": {},
   "outputs": [],
   "source": [
    "import pandas as pd\n",
    "import numpy as np\n",
    "import seaborn as sns\n",
    "\n",
    "PATH_READ_BOUND = '123181_test_raw.csv'\n",
    "PATH_READ_STOCK = '301085_test_raw.csv'\n",
    "\n",
    "PATH_WRITE = 'test_log_ret_B+S.csv'\n",
    "\n",
    "# df = pd.read_csv(PATH_READ, index_col='Timestamp')\n",
    "stock = pd.read_csv(PATH_READ_STOCK, index_col='Timestamp')\n",
    "bound = pd.read_csv(PATH_READ_BOUND, index_col='Timestamp')\n"
   ]
  },
  {
   "cell_type": "markdown",
   "metadata": {},
   "source": [
    "Add Avg on Stock and Bound"
   ]
  },
  {
   "cell_type": "code",
   "execution_count": 9,
   "metadata": {},
   "outputs": [],
   "source": [
    "bound['Avg'] = bound['Turnover']/bound['Volume']\n",
    "\n",
    "nan_rows_Avg = bound[bound['Avg'].isnull()]\n",
    "\n",
    "# 如遇涨/跌停，直接用高开低收的价格，因为都一样\n",
    "for index, row in nan_rows_Avg.iterrows():\n",
    "    if row['High'] == row['Low'] == row['Open'] == row['Close']:\n",
    "        row['Avg'] = row['High']\n",
    "\n",
    "bound.update(nan_rows_Avg)\n",
    "\n",
    "#+++++++++++++++++++++++++++++++++++++++++++++++++++++++++++++++++\n",
    "\n",
    "stock['Avg'] = stock['Turnover']/stock['Volume']\n",
    "\n",
    "nan_rows_Avg = stock[stock['Avg'].isnull()]\n",
    "\n",
    "# 如遇涨/跌停，直接用高开低收的价格，因为都一样\n",
    "for index, row in nan_rows_Avg.iterrows():\n",
    "    if row['High'] == row['Low'] == row['Open'] == row['Close']:\n",
    "        row['Avg'] = row['High']\n",
    "\n",
    "stock.update(nan_rows_Avg)\n",
    "\n",
    "stock.to_csv('stock_temp.csv')"
   ]
  },
  {
   "cell_type": "code",
   "execution_count": 10,
   "metadata": {},
   "outputs": [],
   "source": [
    "bound['BOUND_Log_Return_Avg_1min'] = np.log(bound['Avg'] / bound['Avg'].shift(1))\n",
    "\n",
    "stock['STOCK_Log_Return_Avg_1min'] = np.log(stock['Avg'] / stock['Avg'].shift(1))"
   ]
  },
  {
   "cell_type": "markdown",
   "metadata": {},
   "source": [
    "Add Target"
   ]
  },
  {
   "cell_type": "code",
   "execution_count": 11,
   "metadata": {},
   "outputs": [
    {
     "name": "stdout",
     "output_type": "stream",
     "text": [
      "Index(['TradingDay', 'InstrumentID', 'PreClosePrice', 'Open', 'High', 'Low',\n",
      "       'Volume', 'Turnover', 'Close', 'Avg', 'BOUND_Log_Return_Avg_1min',\n",
      "       'Target_Avg_1min'],\n",
      "      dtype='object')\n"
     ]
    }
   ],
   "source": [
    "bound['Target_Avg_1min'] = (bound['Avg'].shift(-1) - bound['Avg'])/bound['Avg']\n",
    "\n",
    "print(bound.columns)"
   ]
  },
  {
   "cell_type": "markdown",
   "metadata": {},
   "source": [
    "New dataframe generated"
   ]
  },
  {
   "cell_type": "code",
   "execution_count": 12,
   "metadata": {},
   "outputs": [
    {
     "name": "stdout",
     "output_type": "stream",
     "text": [
      "                     BOUND_Log_Return_Avg_1min  Target_Avg_1min  \\\n",
      "Timestamp                                                         \n",
      "2023-06-01 09:31:00                  -0.000267         0.003871   \n",
      "2023-06-01 09:32:00                   0.003864        -0.003964   \n",
      "2023-06-01 09:33:00                  -0.003972         0.008724   \n",
      "2023-06-01 09:34:00                   0.008686        -0.001719   \n",
      "2023-06-01 09:35:00                  -0.001721        -0.003557   \n",
      "...                                        ...              ...   \n",
      "2023-07-06 14:53:00                   0.000060         0.000237   \n",
      "2023-07-06 14:54:00                   0.000237         0.003944   \n",
      "2023-07-06 14:55:00                   0.003936         0.000983   \n",
      "2023-07-06 14:56:00                   0.000983         0.000381   \n",
      "2023-07-06 14:57:00                   0.000381        -0.000055   \n",
      "\n",
      "                     STOCK_Log_Return_Avg_1min  \n",
      "Timestamp                                       \n",
      "2023-06-01 09:31:00                   0.012464  \n",
      "2023-06-01 09:32:00                   0.007106  \n",
      "2023-06-01 09:33:00                  -0.003104  \n",
      "2023-06-01 09:34:00                   0.012583  \n",
      "2023-06-01 09:35:00                   0.001496  \n",
      "...                                        ...  \n",
      "2023-07-06 14:53:00                  -0.000143  \n",
      "2023-07-06 14:54:00                  -0.000233  \n",
      "2023-07-06 14:55:00                  -0.000017  \n",
      "2023-07-06 14:56:00                   0.000083  \n",
      "2023-07-06 14:57:00                   0.000737  \n",
      "\n",
      "[5590 rows x 3 columns]\n"
     ]
    }
   ],
   "source": [
    "temp1 = bound[['BOUND_Log_Return_Avg_1min','Target_Avg_1min']]\n",
    "temp2 = stock[['STOCK_Log_Return_Avg_1min']]\n",
    "\n",
    "df = pd.concat([temp1, temp2], axis=1)\n",
    "\n",
    "df = df.dropna()\n",
    "\n",
    "print(df)\n",
    "\n",
    "df.to_csv(PATH_WRITE)"
   ]
  }
 ],
 "metadata": {
  "kernelspec": {
   "display_name": "Python 3 (ipykernel)",
   "language": "python",
   "name": "python3"
  },
  "language_info": {
   "codemirror_mode": {
    "name": "ipython",
    "version": 3
   },
   "file_extension": ".py",
   "mimetype": "text/x-python",
   "name": "python",
   "nbconvert_exporter": "python",
   "pygments_lexer": "ipython3",
   "version": "3.10.9"
  },
  "orig_nbformat": 4
 },
 "nbformat": 4,
 "nbformat_minor": 2
}
