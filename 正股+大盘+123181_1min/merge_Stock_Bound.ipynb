{
 "cells": [
  {
   "cell_type": "code",
   "execution_count": 37,
   "metadata": {},
   "outputs": [
    {
     "name": "stdout",
     "output_type": "stream",
     "text": [
      "Index(['Open', 'High', 'Low', 'Volume', 'Turnover', 'Close',\n",
      "       'STOCK_Hist_Ret_Close_3min', 'STOCK_Hist_Ret_Close_5min',\n",
      "       'STOCK_Hist_Ret_Close_10min', 'STOCK_Hist_Ret_Close_15min',\n",
      "       'STOCK_Log_Return_Close_1min', 'Avg', '4meanPrice',\n",
      "       'STOCK_Log_Return_Avg_1min', 'STOCK_Hist_Ret_Avg_3min',\n",
      "       'STOCK_Hist_Ret_Avg_5min', 'STOCK_Hist_Ret_Avg_10min',\n",
      "       'STOCK_Hist_Ret_Avg_15min', 'STOCK_Vol_5min_Close',\n",
      "       'STOCK_Vol_10min_Close', 'STOCK_Vol_15min_Close', 'STOCK_BOP',\n",
      "       'STOCK_TR', 'STOCK_ATR_16', '15min_range', 'TB_15min_Label'],\n",
      "      dtype='object')\n"
     ]
    }
   ],
   "source": [
    "import pandas as pd\n",
    "import numpy as np\n",
    "import seaborn as sns\n",
    "\n",
    "PATH_READ_STOCK = '301085_test_withF.csv'\n",
    "PATH_READ_BOUND = '123181_test_withF_temp.csv'\n",
    "\n",
    "PATH_WRITE = '123181_test_with_Stock_F_selected.csv'\n",
    "# df = pd.read_csv(PATH_READ, index_col='Timestamp')\n",
    "stock = pd.read_csv(PATH_READ_STOCK, index_col='Timestamp')\n",
    "bound = pd.read_csv(PATH_READ_BOUND, index_col= 'Timestamp')\n",
    "\n",
    "print(stock.columns)"
   ]
  },
  {
   "cell_type": "code",
   "execution_count": 38,
   "metadata": {},
   "outputs": [],
   "source": [
    "stock = stock[['STOCK_Hist_Ret_Close_3min','STOCK_Log_Return_Avg_1min','STOCK_BOP','STOCK_ATR_16']]"
   ]
  },
  {
   "cell_type": "markdown",
   "metadata": {},
   "source": [
    "Merging, using index label from bound."
   ]
  },
  {
   "cell_type": "code",
   "execution_count": 39,
   "metadata": {},
   "outputs": [],
   "source": [
    "df = pd.concat([bound,stock], axis=1, join='inner')"
   ]
  },
  {
   "cell_type": "code",
   "execution_count": 40,
   "metadata": {},
   "outputs": [
    {
     "name": "stdout",
     "output_type": "stream",
     "text": [
      "Number of rows before cleaning: 2432\n",
      "Number of rows after cleaning: 2056\n",
      "                        Open     High      Low   Volume     Turnover    Close  \\\n",
      "Timestamp                                                                       \n",
      "2023-07-07 09:45:00  294.983  294.983  293.668  35920.0  10574484.13  294.125   \n",
      "2023-07-07 09:46:00  294.237  294.946  294.237  18140.0   5339177.47  294.946   \n",
      "2023-07-07 09:47:00  294.948  294.968  294.717  12290.0   3624046.28  294.908   \n",
      "2023-07-07 09:48:00  295.000  295.002  293.656  12100.0   3560980.01  293.656   \n",
      "2023-07-07 09:49:00  293.429  293.793  291.913  42260.0  12380238.63  291.913   \n",
      "...                      ...      ...      ...      ...          ...      ...   \n",
      "2023-07-20 14:39:00  260.500  260.500  260.300   4990.0   1299621.21  260.418   \n",
      "2023-07-20 14:40:00  260.407  260.407  259.800   8290.0   2155531.29  259.938   \n",
      "2023-07-20 14:41:00  259.938  260.029  259.598   5710.0   1483580.76  260.029   \n",
      "2023-07-20 14:42:00  260.029  260.500  260.029   4120.0   1072577.36  260.200   \n",
      "2023-07-20 14:43:00  260.409  260.409  260.002   2990.0    777774.89  260.188   \n",
      "\n",
      "                     Hist_Ret_Close_3min  Hist_Ret_Close_5min  \\\n",
      "Timestamp                                                       \n",
      "2023-07-07 09:45:00             0.995448             0.988655   \n",
      "2023-07-07 09:46:00             0.998835             0.996725   \n",
      "2023-07-07 09:47:00             1.000842             0.998098   \n",
      "2023-07-07 09:48:00             0.998405             0.994466   \n",
      "2023-07-07 09:49:00             0.989717             0.990677   \n",
      "...                                  ...                  ...   \n",
      "2023-07-20 14:39:00             0.999601             0.997923   \n",
      "2023-07-20 14:40:00             0.997077             0.995168   \n",
      "2023-07-20 14:41:00             0.997736             0.998108   \n",
      "2023-07-20 14:42:00             0.999163             0.998082   \n",
      "2023-07-20 14:43:00             1.000962             0.998346   \n",
      "\n",
      "                     Hist_Ret_Close_10min  Hist_Ret_Close_15min  ...  \\\n",
      "Timestamp                                                        ...   \n",
      "2023-07-07 09:45:00              0.993870              0.958062  ...   \n",
      "2023-07-07 09:46:00              0.992750              0.982381  ...   \n",
      "2023-07-07 09:47:00              0.995003              0.980376  ...   \n",
      "2023-07-07 09:48:00              0.994443              0.977843  ...   \n",
      "2023-07-07 09:49:00              0.985414              0.980673  ...   \n",
      "...                                   ...                   ...  ...   \n",
      "2023-07-20 14:39:00              0.995798              0.995451  ...   \n",
      "2023-07-20 14:40:00              0.993495              0.993882  ...   \n",
      "2023-07-20 14:41:00              0.995334              0.994036  ...   \n",
      "2023-07-20 14:42:00              0.996736              0.993520  ...   \n",
      "2023-07-20 14:43:00              0.996396              0.994029  ...   \n",
      "\n",
      "                     Vol_15min_Close       BOP     TR    ATR_16  15min_range  \\\n",
      "Timestamp                                                                      \n",
      "2023-07-07 09:45:00         2.096633 -0.652471  1.315  2.012063       13.332   \n",
      "2023-07-07 09:46:00         1.926733  1.000000  0.821  2.063375        8.791   \n",
      "2023-07-07 09:47:00         1.551924 -0.159363  0.251  1.644938        7.457   \n",
      "2023-07-07 09:48:00         1.172202 -0.998514  1.346  1.512938        6.961   \n",
      "2023-07-07 09:49:00         1.393758 -0.806383  1.880  1.402188        6.335   \n",
      "...                              ...       ...    ...       ...          ...   \n",
      "2023-07-20 14:39:00         0.469913 -0.410000  0.319  0.328938        1.597   \n",
      "2023-07-20 14:40:00         0.557562 -0.772652  0.618  0.357500        2.097   \n",
      "2023-07-20 14:41:00         0.599486  0.211137  0.431  0.369313        2.299   \n",
      "2023-07-20 14:42:00         0.572513  0.363057  0.471  0.391875        2.299   \n",
      "2023-07-20 14:43:00         0.540399 -0.542998  0.407  0.398063        2.221   \n",
      "\n",
      "                     TB_15min_Label  STOCK_Hist_Ret_Close_3min  \\\n",
      "Timestamp                                                        \n",
      "2023-07-07 09:45:00             1.0                   0.989299   \n",
      "2023-07-07 09:46:00            -1.0                   0.989412   \n",
      "2023-07-07 09:47:00            -1.0                   0.990003   \n",
      "2023-07-07 09:48:00            -1.0                   0.990402   \n",
      "2023-07-07 09:49:00             1.0                   0.989145   \n",
      "...                             ...                        ...   \n",
      "2023-07-20 14:39:00            -1.0                   0.998731   \n",
      "2023-07-20 14:40:00             1.0                   0.999047   \n",
      "2023-07-20 14:41:00             1.0                   0.997143   \n",
      "2023-07-20 14:42:00             1.0                   0.998888   \n",
      "2023-07-20 14:43:00             1.0                   0.999841   \n",
      "\n",
      "                     STOCK_Log_Return_Avg_1min  STOCK_BOP  STOCK_ATR_16  \n",
      "Timestamp                                                                \n",
      "2023-07-07 09:45:00              -4.526174e-03  -0.558824      0.368750  \n",
      "2023-07-07 09:46:00              -5.020869e-03   0.233333      0.387500  \n",
      "2023-07-07 09:47:00              -1.051319e-03  -0.666667      0.328750  \n",
      "2023-07-07 09:48:00              -3.232646e-03  -1.000000      0.322500  \n",
      "2023-07-07 09:49:00              -3.931706e-03  -1.000000      0.307500  \n",
      "...                                        ...        ...           ...  \n",
      "2023-07-20 14:39:00              -4.751471e-05  -0.750000      0.089375  \n",
      "2023-07-20 14:40:00              -7.135009e-04  -0.714286      0.087500  \n",
      "2023-07-20 14:41:00              -1.279047e-03  -1.000000      0.090625  \n",
      "2023-07-20 14:42:00              -3.838619e-07   0.636364      0.094375  \n",
      "2023-07-20 14:43:00               6.442007e-04   0.250000      0.086250  \n",
      "\n",
      "[2056 rows x 38 columns]\n"
     ]
    }
   ],
   "source": [
    "print('Number of rows before cleaning: %d'%df.shape[0])\n",
    "\n",
    "# df.index = df['Timestamp']\n",
    "# df = df.drop(['Timestamp'], axis=1)\n",
    "\n",
    "df = df[(df['Target_Close_1min'] != 0)\n",
    "                      & (df['Target_Close_5min_Mean'] != 0)\n",
    "                      & (df['Target_Close_10min_Mean'] != 0)\n",
    "                      & (df['Target_Close_15min_Mean'] != 0)\n",
    "                     ]\n",
    "pd.set_option ('mode.use_inf_as_na', True)\n",
    "df = df.dropna()\n",
    "\n",
    "\n",
    "print('Number of rows after cleaning: %d'%df.shape[0])\n",
    "\n",
    "print(df)"
   ]
  },
  {
   "cell_type": "code",
   "execution_count": 41,
   "metadata": {},
   "outputs": [],
   "source": [
    "df.to_csv(PATH_WRITE)"
   ]
  }
 ],
 "metadata": {
  "kernelspec": {
   "display_name": "Python 3 (ipykernel)",
   "language": "python",
   "name": "python3"
  },
  "language_info": {
   "codemirror_mode": {
    "name": "ipython",
    "version": 3
   },
   "file_extension": ".py",
   "mimetype": "text/x-python",
   "name": "python",
   "nbconvert_exporter": "python",
   "pygments_lexer": "ipython3",
   "version": "3.10.9"
  },
  "orig_nbformat": 4
 },
 "nbformat": 4,
 "nbformat_minor": 2
}
