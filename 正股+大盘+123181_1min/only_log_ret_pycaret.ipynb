{
 "cells": [
  {
   "cell_type": "code",
   "execution_count": 1,
   "metadata": {},
   "outputs": [
    {
     "name": "stdout",
     "output_type": "stream",
     "text": [
      "Index(['BOUND_Log_Return_Avg_1min', 'Target_Avg_1min',\n",
      "       'STOCK_Log_Return_Avg_1min'],\n",
      "      dtype='object')\n"
     ]
    }
   ],
   "source": [
    "import pycaret\n",
    "pycaret.__version__\n",
    "from pycaret.datasets import get_data\n",
    "import pandas as pd\n",
    "\n",
    "from pycaret.regression import *\n",
    "\n",
    "TRAIN_PATH = 'train_log_ret_B+S.csv'\n",
    "TEST_PATH = 'test_log_ret_B+S.csv'\n",
    "\n",
    "train = pd.read_csv(TRAIN_PATH,index_col='Timestamp')\n",
    "test = pd.read_csv(TEST_PATH,index_col='Timestamp')\n",
    "\n",
    "print(train.columns)"
   ]
  },
  {
   "cell_type": "code",
   "execution_count": 2,
   "metadata": {},
   "outputs": [
    {
     "data": {
      "text/plain": [
       "pycaret.regression.oop.RegressionExperiment"
      ]
     },
     "execution_count": 2,
     "metadata": {},
     "output_type": "execute_result"
    }
   ],
   "source": [
    "from pycaret.regression import RegressionExperiment\n",
    "# from pycaret.regression import *\n",
    "exp = RegressionExperiment()\n",
    "type(exp)"
   ]
  },
  {
   "cell_type": "code",
   "execution_count": 3,
   "metadata": {},
   "outputs": [
    {
     "data": {
      "text/html": [
       "<style type=\"text/css\">\n",
       "</style>\n",
       "<table id=\"T_2b20f\">\n",
       "  <thead>\n",
       "    <tr>\n",
       "      <th class=\"blank level0\" >&nbsp;</th>\n",
       "      <th id=\"T_2b20f_level0_col0\" class=\"col_heading level0 col0\" >Description</th>\n",
       "      <th id=\"T_2b20f_level0_col1\" class=\"col_heading level0 col1\" >Value</th>\n",
       "    </tr>\n",
       "  </thead>\n",
       "  <tbody>\n",
       "    <tr>\n",
       "      <th id=\"T_2b20f_level0_row0\" class=\"row_heading level0 row0\" >0</th>\n",
       "      <td id=\"T_2b20f_row0_col0\" class=\"data row0 col0\" >Session id</td>\n",
       "      <td id=\"T_2b20f_row0_col1\" class=\"data row0 col1\" >123</td>\n",
       "    </tr>\n",
       "    <tr>\n",
       "      <th id=\"T_2b20f_level0_row1\" class=\"row_heading level0 row1\" >1</th>\n",
       "      <td id=\"T_2b20f_row1_col0\" class=\"data row1 col0\" >Target</td>\n",
       "      <td id=\"T_2b20f_row1_col1\" class=\"data row1 col1\" >Target_Avg_1min</td>\n",
       "    </tr>\n",
       "    <tr>\n",
       "      <th id=\"T_2b20f_level0_row2\" class=\"row_heading level0 row2\" >2</th>\n",
       "      <td id=\"T_2b20f_row2_col0\" class=\"data row2 col0\" >Target type</td>\n",
       "      <td id=\"T_2b20f_row2_col1\" class=\"data row2 col1\" >Regression</td>\n",
       "    </tr>\n",
       "    <tr>\n",
       "      <th id=\"T_2b20f_level0_row3\" class=\"row_heading level0 row3\" >3</th>\n",
       "      <td id=\"T_2b20f_row3_col0\" class=\"data row3 col0\" >Original data shape</td>\n",
       "      <td id=\"T_2b20f_row3_col1\" class=\"data row3 col1\" >(5590, 3)</td>\n",
       "    </tr>\n",
       "    <tr>\n",
       "      <th id=\"T_2b20f_level0_row4\" class=\"row_heading level0 row4\" >4</th>\n",
       "      <td id=\"T_2b20f_row4_col0\" class=\"data row4 col0\" >Transformed data shape</td>\n",
       "      <td id=\"T_2b20f_row4_col1\" class=\"data row4 col1\" >(5590, 3)</td>\n",
       "    </tr>\n",
       "    <tr>\n",
       "      <th id=\"T_2b20f_level0_row5\" class=\"row_heading level0 row5\" >5</th>\n",
       "      <td id=\"T_2b20f_row5_col0\" class=\"data row5 col0\" >Transformed train set shape</td>\n",
       "      <td id=\"T_2b20f_row5_col1\" class=\"data row5 col1\" >(3912, 3)</td>\n",
       "    </tr>\n",
       "    <tr>\n",
       "      <th id=\"T_2b20f_level0_row6\" class=\"row_heading level0 row6\" >6</th>\n",
       "      <td id=\"T_2b20f_row6_col0\" class=\"data row6 col0\" >Transformed test set shape</td>\n",
       "      <td id=\"T_2b20f_row6_col1\" class=\"data row6 col1\" >(1678, 3)</td>\n",
       "    </tr>\n",
       "    <tr>\n",
       "      <th id=\"T_2b20f_level0_row7\" class=\"row_heading level0 row7\" >7</th>\n",
       "      <td id=\"T_2b20f_row7_col0\" class=\"data row7 col0\" >Numeric features</td>\n",
       "      <td id=\"T_2b20f_row7_col1\" class=\"data row7 col1\" >2</td>\n",
       "    </tr>\n",
       "  </tbody>\n",
       "</table>\n"
      ],
      "text/plain": [
       "<pandas.io.formats.style.Styler at 0x1f95d4c9060>"
      ]
     },
     "metadata": {},
     "output_type": "display_data"
    },
    {
     "data": {
      "text/plain": [
       "<pycaret.regression.oop.RegressionExperiment at 0x1f95b6af850>"
      ]
     },
     "execution_count": 3,
     "metadata": {},
     "output_type": "execute_result"
    }
   ],
   "source": [
    "setup(data=train, data_split_shuffle = False,preprocess = False,target='Target_Avg_1min', session_id = 123)\n",
    "\n",
    "# setup(data=train,target='Target_Avg_1min', session_id = 123)"
   ]
  },
  {
   "cell_type": "code",
   "execution_count": 4,
   "metadata": {},
   "outputs": [
    {
     "data": {
      "text/html": [],
      "text/plain": [
       "<IPython.core.display.HTML object>"
      ]
     },
     "metadata": {},
     "output_type": "display_data"
    },
    {
     "data": {
      "text/html": [
       "<style type=\"text/css\">\n",
       "#T_06e4b th {\n",
       "  text-align: left;\n",
       "}\n",
       "#T_06e4b_row0_col0, #T_06e4b_row0_col5, #T_06e4b_row0_col6, #T_06e4b_row1_col0, #T_06e4b_row1_col4, #T_06e4b_row1_col5, #T_06e4b_row1_col6, #T_06e4b_row2_col0, #T_06e4b_row2_col4, #T_06e4b_row2_col5, #T_06e4b_row2_col6, #T_06e4b_row3_col0, #T_06e4b_row3_col4, #T_06e4b_row3_col5, #T_06e4b_row3_col6, #T_06e4b_row4_col0, #T_06e4b_row4_col4, #T_06e4b_row4_col5, #T_06e4b_row4_col6, #T_06e4b_row5_col0, #T_06e4b_row5_col3, #T_06e4b_row5_col4, #T_06e4b_row5_col5, #T_06e4b_row5_col6, #T_06e4b_row6_col0, #T_06e4b_row6_col3, #T_06e4b_row6_col4, #T_06e4b_row6_col5, #T_06e4b_row7_col0, #T_06e4b_row7_col1, #T_06e4b_row7_col3, #T_06e4b_row7_col4, #T_06e4b_row7_col5, #T_06e4b_row7_col6, #T_06e4b_row8_col0, #T_06e4b_row8_col1, #T_06e4b_row8_col3, #T_06e4b_row8_col4, #T_06e4b_row8_col5, #T_06e4b_row8_col6, #T_06e4b_row9_col0, #T_06e4b_row9_col1, #T_06e4b_row9_col3, #T_06e4b_row9_col4, #T_06e4b_row9_col5, #T_06e4b_row9_col6, #T_06e4b_row10_col0, #T_06e4b_row10_col1, #T_06e4b_row10_col3, #T_06e4b_row10_col4, #T_06e4b_row10_col5, #T_06e4b_row10_col6, #T_06e4b_row11_col0, #T_06e4b_row11_col1, #T_06e4b_row11_col3, #T_06e4b_row11_col4, #T_06e4b_row11_col5, #T_06e4b_row11_col6, #T_06e4b_row12_col0, #T_06e4b_row12_col1, #T_06e4b_row12_col3, #T_06e4b_row12_col4, #T_06e4b_row12_col5, #T_06e4b_row12_col6, #T_06e4b_row13_col0, #T_06e4b_row13_col1, #T_06e4b_row13_col3, #T_06e4b_row13_col4, #T_06e4b_row13_col5, #T_06e4b_row13_col6, #T_06e4b_row14_col0, #T_06e4b_row14_col1, #T_06e4b_row14_col3, #T_06e4b_row14_col4, #T_06e4b_row14_col6, #T_06e4b_row15_col0, #T_06e4b_row15_col1, #T_06e4b_row15_col3, #T_06e4b_row15_col4, #T_06e4b_row15_col6, #T_06e4b_row16_col0, #T_06e4b_row16_col1, #T_06e4b_row16_col3, #T_06e4b_row16_col4, #T_06e4b_row16_col5, #T_06e4b_row16_col6, #T_06e4b_row17_col0, #T_06e4b_row17_col1, #T_06e4b_row17_col3, #T_06e4b_row17_col4, #T_06e4b_row17_col5, #T_06e4b_row17_col6 {\n",
       "  text-align: left;\n",
       "}\n",
       "#T_06e4b_row0_col1, #T_06e4b_row0_col2, #T_06e4b_row0_col3, #T_06e4b_row0_col4, #T_06e4b_row1_col1, #T_06e4b_row1_col2, #T_06e4b_row1_col3, #T_06e4b_row2_col1, #T_06e4b_row2_col2, #T_06e4b_row2_col3, #T_06e4b_row3_col1, #T_06e4b_row3_col2, #T_06e4b_row3_col3, #T_06e4b_row4_col1, #T_06e4b_row4_col2, #T_06e4b_row4_col3, #T_06e4b_row5_col1, #T_06e4b_row5_col2, #T_06e4b_row6_col1, #T_06e4b_row6_col2, #T_06e4b_row6_col6, #T_06e4b_row7_col2, #T_06e4b_row8_col2, #T_06e4b_row9_col2, #T_06e4b_row10_col2, #T_06e4b_row11_col2, #T_06e4b_row12_col2, #T_06e4b_row13_col2, #T_06e4b_row14_col2, #T_06e4b_row14_col5, #T_06e4b_row15_col2, #T_06e4b_row15_col5, #T_06e4b_row16_col2, #T_06e4b_row17_col2 {\n",
       "  text-align: left;\n",
       "  background-color: yellow;\n",
       "}\n",
       "#T_06e4b_row0_col7, #T_06e4b_row1_col7, #T_06e4b_row2_col7, #T_06e4b_row3_col7, #T_06e4b_row5_col7, #T_06e4b_row6_col7, #T_06e4b_row7_col7, #T_06e4b_row8_col7, #T_06e4b_row9_col7, #T_06e4b_row10_col7, #T_06e4b_row11_col7, #T_06e4b_row12_col7, #T_06e4b_row13_col7, #T_06e4b_row14_col7, #T_06e4b_row15_col7, #T_06e4b_row16_col7, #T_06e4b_row17_col7 {\n",
       "  text-align: left;\n",
       "  background-color: lightgrey;\n",
       "}\n",
       "#T_06e4b_row4_col7 {\n",
       "  text-align: left;\n",
       "  background-color: yellow;\n",
       "  background-color: lightgrey;\n",
       "}\n",
       "</style>\n",
       "<table id=\"T_06e4b\">\n",
       "  <thead>\n",
       "    <tr>\n",
       "      <th class=\"blank level0\" >&nbsp;</th>\n",
       "      <th id=\"T_06e4b_level0_col0\" class=\"col_heading level0 col0\" >Model</th>\n",
       "      <th id=\"T_06e4b_level0_col1\" class=\"col_heading level0 col1\" >MAE</th>\n",
       "      <th id=\"T_06e4b_level0_col2\" class=\"col_heading level0 col2\" >MSE</th>\n",
       "      <th id=\"T_06e4b_level0_col3\" class=\"col_heading level0 col3\" >RMSE</th>\n",
       "      <th id=\"T_06e4b_level0_col4\" class=\"col_heading level0 col4\" >R2</th>\n",
       "      <th id=\"T_06e4b_level0_col5\" class=\"col_heading level0 col5\" >RMSLE</th>\n",
       "      <th id=\"T_06e4b_level0_col6\" class=\"col_heading level0 col6\" >MAPE</th>\n",
       "      <th id=\"T_06e4b_level0_col7\" class=\"col_heading level0 col7\" >TT (Sec)</th>\n",
       "    </tr>\n",
       "  </thead>\n",
       "  <tbody>\n",
       "    <tr>\n",
       "      <th id=\"T_06e4b_level0_row0\" class=\"row_heading level0 row0\" >huber</th>\n",
       "      <td id=\"T_06e4b_row0_col0\" class=\"data row0 col0\" >Huber Regressor</td>\n",
       "      <td id=\"T_06e4b_row0_col1\" class=\"data row0 col1\" >0.0022</td>\n",
       "      <td id=\"T_06e4b_row0_col2\" class=\"data row0 col2\" >0.0000</td>\n",
       "      <td id=\"T_06e4b_row0_col3\" class=\"data row0 col3\" >0.0033</td>\n",
       "      <td id=\"T_06e4b_row0_col4\" class=\"data row0 col4\" >0.0300</td>\n",
       "      <td id=\"T_06e4b_row0_col5\" class=\"data row0 col5\" >0.0030</td>\n",
       "      <td id=\"T_06e4b_row0_col6\" class=\"data row0 col6\" >5024643535.6724</td>\n",
       "      <td id=\"T_06e4b_row0_col7\" class=\"data row0 col7\" >0.4520</td>\n",
       "    </tr>\n",
       "    <tr>\n",
       "      <th id=\"T_06e4b_level0_row1\" class=\"row_heading level0 row1\" >omp</th>\n",
       "      <td id=\"T_06e4b_row1_col0\" class=\"data row1 col0\" >Orthogonal Matching Pursuit</td>\n",
       "      <td id=\"T_06e4b_row1_col1\" class=\"data row1 col1\" >0.0022</td>\n",
       "      <td id=\"T_06e4b_row1_col2\" class=\"data row1 col2\" >0.0000</td>\n",
       "      <td id=\"T_06e4b_row1_col3\" class=\"data row1 col3\" >0.0033</td>\n",
       "      <td id=\"T_06e4b_row1_col4\" class=\"data row1 col4\" >0.0298</td>\n",
       "      <td id=\"T_06e4b_row1_col5\" class=\"data row1 col5\" >0.0029</td>\n",
       "      <td id=\"T_06e4b_row1_col6\" class=\"data row1 col6\" >8320091956.8118</td>\n",
       "      <td id=\"T_06e4b_row1_col7\" class=\"data row1 col7\" >0.4530</td>\n",
       "    </tr>\n",
       "    <tr>\n",
       "      <th id=\"T_06e4b_level0_row2\" class=\"row_heading level0 row2\" >br</th>\n",
       "      <td id=\"T_06e4b_row2_col0\" class=\"data row2 col0\" >Bayesian Ridge</td>\n",
       "      <td id=\"T_06e4b_row2_col1\" class=\"data row2 col1\" >0.0022</td>\n",
       "      <td id=\"T_06e4b_row2_col2\" class=\"data row2 col2\" >0.0000</td>\n",
       "      <td id=\"T_06e4b_row2_col3\" class=\"data row2 col3\" >0.0033</td>\n",
       "      <td id=\"T_06e4b_row2_col4\" class=\"data row2 col4\" >0.0266</td>\n",
       "      <td id=\"T_06e4b_row2_col5\" class=\"data row2 col5\" >0.0029</td>\n",
       "      <td id=\"T_06e4b_row2_col6\" class=\"data row2 col6\" >8366132430.4217</td>\n",
       "      <td id=\"T_06e4b_row2_col7\" class=\"data row2 col7\" >0.4530</td>\n",
       "    </tr>\n",
       "    <tr>\n",
       "      <th id=\"T_06e4b_level0_row3\" class=\"row_heading level0 row3\" >lr</th>\n",
       "      <td id=\"T_06e4b_row3_col0\" class=\"data row3 col0\" >Linear Regression</td>\n",
       "      <td id=\"T_06e4b_row3_col1\" class=\"data row3 col1\" >0.0022</td>\n",
       "      <td id=\"T_06e4b_row3_col2\" class=\"data row3 col2\" >0.0000</td>\n",
       "      <td id=\"T_06e4b_row3_col3\" class=\"data row3 col3\" >0.0033</td>\n",
       "      <td id=\"T_06e4b_row3_col4\" class=\"data row3 col4\" >0.0263</td>\n",
       "      <td id=\"T_06e4b_row3_col5\" class=\"data row3 col5\" >0.0029</td>\n",
       "      <td id=\"T_06e4b_row3_col6\" class=\"data row3 col6\" >8346929768.0324</td>\n",
       "      <td id=\"T_06e4b_row3_col7\" class=\"data row3 col7\" >1.1720</td>\n",
       "    </tr>\n",
       "    <tr>\n",
       "      <th id=\"T_06e4b_level0_row4\" class=\"row_heading level0 row4\" >lar</th>\n",
       "      <td id=\"T_06e4b_row4_col0\" class=\"data row4 col0\" >Least Angle Regression</td>\n",
       "      <td id=\"T_06e4b_row4_col1\" class=\"data row4 col1\" >0.0022</td>\n",
       "      <td id=\"T_06e4b_row4_col2\" class=\"data row4 col2\" >0.0000</td>\n",
       "      <td id=\"T_06e4b_row4_col3\" class=\"data row4 col3\" >0.0033</td>\n",
       "      <td id=\"T_06e4b_row4_col4\" class=\"data row4 col4\" >0.0262</td>\n",
       "      <td id=\"T_06e4b_row4_col5\" class=\"data row4 col5\" >0.0029</td>\n",
       "      <td id=\"T_06e4b_row4_col6\" class=\"data row4 col6\" >8359660340.8030</td>\n",
       "      <td id=\"T_06e4b_row4_col7\" class=\"data row4 col7\" >0.4480</td>\n",
       "    </tr>\n",
       "    <tr>\n",
       "      <th id=\"T_06e4b_level0_row5\" class=\"row_heading level0 row5\" >ridge</th>\n",
       "      <td id=\"T_06e4b_row5_col0\" class=\"data row5 col0\" >Ridge Regression</td>\n",
       "      <td id=\"T_06e4b_row5_col1\" class=\"data row5 col1\" >0.0022</td>\n",
       "      <td id=\"T_06e4b_row5_col2\" class=\"data row5 col2\" >0.0000</td>\n",
       "      <td id=\"T_06e4b_row5_col3\" class=\"data row5 col3\" >0.0034</td>\n",
       "      <td id=\"T_06e4b_row5_col4\" class=\"data row5 col4\" >-0.0008</td>\n",
       "      <td id=\"T_06e4b_row5_col5\" class=\"data row5 col5\" >0.0033</td>\n",
       "      <td id=\"T_06e4b_row5_col6\" class=\"data row5 col6\" >10219359232.9950</td>\n",
       "      <td id=\"T_06e4b_row5_col7\" class=\"data row5 col7\" >0.4600</td>\n",
       "    </tr>\n",
       "    <tr>\n",
       "      <th id=\"T_06e4b_level0_row6\" class=\"row_heading level0 row6\" >par</th>\n",
       "      <td id=\"T_06e4b_row6_col0\" class=\"data row6 col0\" >Passive Aggressive Regressor</td>\n",
       "      <td id=\"T_06e4b_row6_col1\" class=\"data row6 col1\" >0.0022</td>\n",
       "      <td id=\"T_06e4b_row6_col2\" class=\"data row6 col2\" >0.0000</td>\n",
       "      <td id=\"T_06e4b_row6_col3\" class=\"data row6 col3\" >0.0034</td>\n",
       "      <td id=\"T_06e4b_row6_col4\" class=\"data row6 col4\" >-0.0046</td>\n",
       "      <td id=\"T_06e4b_row6_col5\" class=\"data row6 col5\" >0.0034</td>\n",
       "      <td id=\"T_06e4b_row6_col6\" class=\"data row6 col6\" >1.0000</td>\n",
       "      <td id=\"T_06e4b_row6_col7\" class=\"data row6 col7\" >0.4630</td>\n",
       "    </tr>\n",
       "    <tr>\n",
       "      <th id=\"T_06e4b_level0_row7\" class=\"row_heading level0 row7\" >en</th>\n",
       "      <td id=\"T_06e4b_row7_col0\" class=\"data row7 col0\" >Elastic Net</td>\n",
       "      <td id=\"T_06e4b_row7_col1\" class=\"data row7 col1\" >0.0023</td>\n",
       "      <td id=\"T_06e4b_row7_col2\" class=\"data row7 col2\" >0.0000</td>\n",
       "      <td id=\"T_06e4b_row7_col3\" class=\"data row7 col3\" >0.0034</td>\n",
       "      <td id=\"T_06e4b_row7_col4\" class=\"data row7 col4\" >-0.0065</td>\n",
       "      <td id=\"T_06e4b_row7_col5\" class=\"data row7 col5\" >0.0033</td>\n",
       "      <td id=\"T_06e4b_row7_col6\" class=\"data row7 col6\" >10354079130.5992</td>\n",
       "      <td id=\"T_06e4b_row7_col7\" class=\"data row7 col7\" >0.4520</td>\n",
       "    </tr>\n",
       "    <tr>\n",
       "      <th id=\"T_06e4b_level0_row8\" class=\"row_heading level0 row8\" >lasso</th>\n",
       "      <td id=\"T_06e4b_row8_col0\" class=\"data row8 col0\" >Lasso Regression</td>\n",
       "      <td id=\"T_06e4b_row8_col1\" class=\"data row8 col1\" >0.0023</td>\n",
       "      <td id=\"T_06e4b_row8_col2\" class=\"data row8 col2\" >0.0000</td>\n",
       "      <td id=\"T_06e4b_row8_col3\" class=\"data row8 col3\" >0.0034</td>\n",
       "      <td id=\"T_06e4b_row8_col4\" class=\"data row8 col4\" >-0.0065</td>\n",
       "      <td id=\"T_06e4b_row8_col5\" class=\"data row8 col5\" >0.0033</td>\n",
       "      <td id=\"T_06e4b_row8_col6\" class=\"data row8 col6\" >10354079130.5992</td>\n",
       "      <td id=\"T_06e4b_row8_col7\" class=\"data row8 col7\" >0.7730</td>\n",
       "    </tr>\n",
       "    <tr>\n",
       "      <th id=\"T_06e4b_level0_row9\" class=\"row_heading level0 row9\" >llar</th>\n",
       "      <td id=\"T_06e4b_row9_col0\" class=\"data row9 col0\" >Lasso Least Angle Regression</td>\n",
       "      <td id=\"T_06e4b_row9_col1\" class=\"data row9 col1\" >0.0023</td>\n",
       "      <td id=\"T_06e4b_row9_col2\" class=\"data row9 col2\" >0.0000</td>\n",
       "      <td id=\"T_06e4b_row9_col3\" class=\"data row9 col3\" >0.0034</td>\n",
       "      <td id=\"T_06e4b_row9_col4\" class=\"data row9 col4\" >-0.0065</td>\n",
       "      <td id=\"T_06e4b_row9_col5\" class=\"data row9 col5\" >0.0033</td>\n",
       "      <td id=\"T_06e4b_row9_col6\" class=\"data row9 col6\" >10354079130.5992</td>\n",
       "      <td id=\"T_06e4b_row9_col7\" class=\"data row9 col7\" >0.4520</td>\n",
       "    </tr>\n",
       "    <tr>\n",
       "      <th id=\"T_06e4b_level0_row10\" class=\"row_heading level0 row10\" >dummy</th>\n",
       "      <td id=\"T_06e4b_row10_col0\" class=\"data row10 col0\" >Dummy Regressor</td>\n",
       "      <td id=\"T_06e4b_row10_col1\" class=\"data row10 col1\" >0.0023</td>\n",
       "      <td id=\"T_06e4b_row10_col2\" class=\"data row10 col2\" >0.0000</td>\n",
       "      <td id=\"T_06e4b_row10_col3\" class=\"data row10 col3\" >0.0034</td>\n",
       "      <td id=\"T_06e4b_row10_col4\" class=\"data row10 col4\" >-0.0065</td>\n",
       "      <td id=\"T_06e4b_row10_col5\" class=\"data row10 col5\" >0.0033</td>\n",
       "      <td id=\"T_06e4b_row10_col6\" class=\"data row10 col6\" >10354079130.5992</td>\n",
       "      <td id=\"T_06e4b_row10_col7\" class=\"data row10 col7\" >0.4700</td>\n",
       "    </tr>\n",
       "    <tr>\n",
       "      <th id=\"T_06e4b_level0_row11\" class=\"row_heading level0 row11\" >ada</th>\n",
       "      <td id=\"T_06e4b_row11_col0\" class=\"data row11 col0\" >AdaBoost Regressor</td>\n",
       "      <td id=\"T_06e4b_row11_col1\" class=\"data row11 col1\" >0.0023</td>\n",
       "      <td id=\"T_06e4b_row11_col2\" class=\"data row11 col2\" >0.0000</td>\n",
       "      <td id=\"T_06e4b_row11_col3\" class=\"data row11 col3\" >0.0034</td>\n",
       "      <td id=\"T_06e4b_row11_col4\" class=\"data row11 col4\" >-0.0090</td>\n",
       "      <td id=\"T_06e4b_row11_col5\" class=\"data row11 col5\" >0.0031</td>\n",
       "      <td id=\"T_06e4b_row11_col6\" class=\"data row11 col6\" >14863710639.8821</td>\n",
       "      <td id=\"T_06e4b_row11_col7\" class=\"data row11 col7\" >0.4730</td>\n",
       "    </tr>\n",
       "    <tr>\n",
       "      <th id=\"T_06e4b_level0_row12\" class=\"row_heading level0 row12\" >gbr</th>\n",
       "      <td id=\"T_06e4b_row12_col0\" class=\"data row12 col0\" >Gradient Boosting Regressor</td>\n",
       "      <td id=\"T_06e4b_row12_col1\" class=\"data row12 col1\" >0.0023</td>\n",
       "      <td id=\"T_06e4b_row12_col2\" class=\"data row12 col2\" >0.0000</td>\n",
       "      <td id=\"T_06e4b_row12_col3\" class=\"data row12 col3\" >0.0035</td>\n",
       "      <td id=\"T_06e4b_row12_col4\" class=\"data row12 col4\" >-0.0673</td>\n",
       "      <td id=\"T_06e4b_row12_col5\" class=\"data row12 col5\" >0.0030</td>\n",
       "      <td id=\"T_06e4b_row12_col6\" class=\"data row12 col6\" >5446639958.6446</td>\n",
       "      <td id=\"T_06e4b_row12_col7\" class=\"data row12 col7\" >0.5320</td>\n",
       "    </tr>\n",
       "    <tr>\n",
       "      <th id=\"T_06e4b_level0_row13\" class=\"row_heading level0 row13\" >lightgbm</th>\n",
       "      <td id=\"T_06e4b_row13_col0\" class=\"data row13 col0\" >Light Gradient Boosting Machine</td>\n",
       "      <td id=\"T_06e4b_row13_col1\" class=\"data row13 col1\" >0.0023</td>\n",
       "      <td id=\"T_06e4b_row13_col2\" class=\"data row13 col2\" >0.0000</td>\n",
       "      <td id=\"T_06e4b_row13_col3\" class=\"data row13 col3\" >0.0035</td>\n",
       "      <td id=\"T_06e4b_row13_col4\" class=\"data row13 col4\" >-0.0835</td>\n",
       "      <td id=\"T_06e4b_row13_col5\" class=\"data row13 col5\" >0.0029</td>\n",
       "      <td id=\"T_06e4b_row13_col6\" class=\"data row13 col6\" >4675810129.7633</td>\n",
       "      <td id=\"T_06e4b_row13_col7\" class=\"data row13 col7\" >0.6290</td>\n",
       "    </tr>\n",
       "    <tr>\n",
       "      <th id=\"T_06e4b_level0_row14\" class=\"row_heading level0 row14\" >knn</th>\n",
       "      <td id=\"T_06e4b_row14_col0\" class=\"data row14 col0\" >K Neighbors Regressor</td>\n",
       "      <td id=\"T_06e4b_row14_col1\" class=\"data row14 col1\" >0.0025</td>\n",
       "      <td id=\"T_06e4b_row14_col2\" class=\"data row14 col2\" >0.0000</td>\n",
       "      <td id=\"T_06e4b_row14_col3\" class=\"data row14 col3\" >0.0037</td>\n",
       "      <td id=\"T_06e4b_row14_col4\" class=\"data row14 col4\" >-0.2363</td>\n",
       "      <td id=\"T_06e4b_row14_col5\" class=\"data row14 col5\" >0.0028</td>\n",
       "      <td id=\"T_06e4b_row14_col6\" class=\"data row14 col6\" >322420381.2426</td>\n",
       "      <td id=\"T_06e4b_row14_col7\" class=\"data row14 col7\" >0.4500</td>\n",
       "    </tr>\n",
       "    <tr>\n",
       "      <th id=\"T_06e4b_level0_row15\" class=\"row_heading level0 row15\" >rf</th>\n",
       "      <td id=\"T_06e4b_row15_col0\" class=\"data row15 col0\" >Random Forest Regressor</td>\n",
       "      <td id=\"T_06e4b_row15_col1\" class=\"data row15 col1\" >0.0025</td>\n",
       "      <td id=\"T_06e4b_row15_col2\" class=\"data row15 col2\" >0.0000</td>\n",
       "      <td id=\"T_06e4b_row15_col3\" class=\"data row15 col3\" >0.0037</td>\n",
       "      <td id=\"T_06e4b_row15_col4\" class=\"data row15 col4\" >-0.2441</td>\n",
       "      <td id=\"T_06e4b_row15_col5\" class=\"data row15 col5\" >0.0028</td>\n",
       "      <td id=\"T_06e4b_row15_col6\" class=\"data row15 col6\" >3564217381.0970</td>\n",
       "      <td id=\"T_06e4b_row15_col7\" class=\"data row15 col7\" >0.6610</td>\n",
       "    </tr>\n",
       "    <tr>\n",
       "      <th id=\"T_06e4b_level0_row16\" class=\"row_heading level0 row16\" >et</th>\n",
       "      <td id=\"T_06e4b_row16_col0\" class=\"data row16 col0\" >Extra Trees Regressor</td>\n",
       "      <td id=\"T_06e4b_row16_col1\" class=\"data row16 col1\" >0.0027</td>\n",
       "      <td id=\"T_06e4b_row16_col2\" class=\"data row16 col2\" >0.0000</td>\n",
       "      <td id=\"T_06e4b_row16_col3\" class=\"data row16 col3\" >0.0039</td>\n",
       "      <td id=\"T_06e4b_row16_col4\" class=\"data row16 col4\" >-0.3914</td>\n",
       "      <td id=\"T_06e4b_row16_col5\" class=\"data row16 col5\" >0.0029</td>\n",
       "      <td id=\"T_06e4b_row16_col6\" class=\"data row16 col6\" >2791246517.0403</td>\n",
       "      <td id=\"T_06e4b_row16_col7\" class=\"data row16 col7\" >0.5600</td>\n",
       "    </tr>\n",
       "    <tr>\n",
       "      <th id=\"T_06e4b_level0_row17\" class=\"row_heading level0 row17\" >dt</th>\n",
       "      <td id=\"T_06e4b_row17_col0\" class=\"data row17 col0\" >Decision Tree Regressor</td>\n",
       "      <td id=\"T_06e4b_row17_col1\" class=\"data row17 col1\" >0.0034</td>\n",
       "      <td id=\"T_06e4b_row17_col2\" class=\"data row17 col2\" >0.0000</td>\n",
       "      <td id=\"T_06e4b_row17_col3\" class=\"data row17 col3\" >0.0050</td>\n",
       "      <td id=\"T_06e4b_row17_col4\" class=\"data row17 col4\" >-1.4199</td>\n",
       "      <td id=\"T_06e4b_row17_col5\" class=\"data row17 col5\" >0.0035</td>\n",
       "      <td id=\"T_06e4b_row17_col6\" class=\"data row17 col6\" >2018378603.7022</td>\n",
       "      <td id=\"T_06e4b_row17_col7\" class=\"data row17 col7\" >0.4520</td>\n",
       "    </tr>\n",
       "  </tbody>\n",
       "</table>\n"
      ],
      "text/plain": [
       "<pandas.io.formats.style.Styler at 0x1f95a80fa90>"
      ]
     },
     "metadata": {},
     "output_type": "display_data"
    },
    {
     "data": {
      "application/vnd.jupyter.widget-view+json": {
       "model_id": "673f71e090234e18a52600167e391d98",
       "version_major": 2,
       "version_minor": 0
      },
      "text/plain": [
       "Processing:   0%|          | 0/77 [00:00<?, ?it/s]"
      ]
     },
     "metadata": {},
     "output_type": "display_data"
    }
   ],
   "source": [
    "best = compare_models()"
   ]
  },
  {
   "cell_type": "code",
   "execution_count": 5,
   "metadata": {},
   "outputs": [
    {
     "data": {
      "application/vnd.jupyter.widget-view+json": {
       "model_id": "365cabd44813431ea803d9a6bd2bc6e6",
       "version_major": 2,
       "version_minor": 0
      },
      "text/plain": [
       "interactive(children=(ToggleButtons(description='Plot Type:', icons=('',), options=(('Pipeline Plot', 'pipelin…"
      ]
     },
     "metadata": {},
     "output_type": "display_data"
    },
    {
     "name": "stdout",
     "output_type": "stream",
     "text": [
      "HuberRegressor()\n"
     ]
    }
   ],
   "source": [
    "evaluate_model(best)\n",
    "print(best)"
   ]
  },
  {
   "cell_type": "code",
   "execution_count": 6,
   "metadata": {},
   "outputs": [],
   "source": [
    "# tuned = tune_model(best)"
   ]
  },
  {
   "cell_type": "code",
   "execution_count": 7,
   "metadata": {},
   "outputs": [
    {
     "data": {
      "text/html": [
       "<style type=\"text/css\">\n",
       "</style>\n",
       "<table id=\"T_f6e27\">\n",
       "  <thead>\n",
       "    <tr>\n",
       "      <th class=\"blank level0\" >&nbsp;</th>\n",
       "      <th id=\"T_f6e27_level0_col0\" class=\"col_heading level0 col0\" >Model</th>\n",
       "      <th id=\"T_f6e27_level0_col1\" class=\"col_heading level0 col1\" >MAE</th>\n",
       "      <th id=\"T_f6e27_level0_col2\" class=\"col_heading level0 col2\" >MSE</th>\n",
       "      <th id=\"T_f6e27_level0_col3\" class=\"col_heading level0 col3\" >RMSE</th>\n",
       "      <th id=\"T_f6e27_level0_col4\" class=\"col_heading level0 col4\" >R2</th>\n",
       "      <th id=\"T_f6e27_level0_col5\" class=\"col_heading level0 col5\" >RMSLE</th>\n",
       "      <th id=\"T_f6e27_level0_col6\" class=\"col_heading level0 col6\" >MAPE</th>\n",
       "    </tr>\n",
       "  </thead>\n",
       "  <tbody>\n",
       "    <tr>\n",
       "      <th id=\"T_f6e27_level0_row0\" class=\"row_heading level0 row0\" >0</th>\n",
       "      <td id=\"T_f6e27_row0_col0\" class=\"data row0 col0\" >Huber Regressor</td>\n",
       "      <td id=\"T_f6e27_row0_col1\" class=\"data row0 col1\" >0.0011</td>\n",
       "      <td id=\"T_f6e27_row0_col2\" class=\"data row0 col2\" >0.0000</td>\n",
       "      <td id=\"T_f6e27_row0_col3\" class=\"data row0 col3\" >0.0017</td>\n",
       "      <td id=\"T_f6e27_row0_col4\" class=\"data row0 col4\" >0.0252</td>\n",
       "      <td id=\"T_f6e27_row0_col5\" class=\"data row0 col5\" >0.0016</td>\n",
       "      <td id=\"T_f6e27_row0_col6\" class=\"data row0 col6\" >1.4696</td>\n",
       "    </tr>\n",
       "  </tbody>\n",
       "</table>\n"
      ],
      "text/plain": [
       "<pandas.io.formats.style.Styler at 0x1f95d59cc70>"
      ]
     },
     "metadata": {},
     "output_type": "display_data"
    },
    {
     "data": {
      "text/html": [
       "<div>\n",
       "<style scoped>\n",
       "    .dataframe tbody tr th:only-of-type {\n",
       "        vertical-align: middle;\n",
       "    }\n",
       "\n",
       "    .dataframe tbody tr th {\n",
       "        vertical-align: top;\n",
       "    }\n",
       "\n",
       "    .dataframe thead th {\n",
       "        text-align: right;\n",
       "    }\n",
       "</style>\n",
       "<table border=\"1\" class=\"dataframe\">\n",
       "  <thead>\n",
       "    <tr style=\"text-align: right;\">\n",
       "      <th></th>\n",
       "      <th>BOUND_Log_Return_Avg_1min</th>\n",
       "      <th>STOCK_Log_Return_Avg_1min</th>\n",
       "      <th>Target_Avg_1min</th>\n",
       "      <th>prediction_label</th>\n",
       "    </tr>\n",
       "    <tr>\n",
       "      <th>Timestamp</th>\n",
       "      <th></th>\n",
       "      <th></th>\n",
       "      <th></th>\n",
       "      <th></th>\n",
       "    </tr>\n",
       "  </thead>\n",
       "  <tbody>\n",
       "    <tr>\n",
       "      <th>2023-07-07 09:31:00</th>\n",
       "      <td>-0.006801</td>\n",
       "      <td>-0.005057</td>\n",
       "      <td>-0.011139</td>\n",
       "      <td>-0.001262</td>\n",
       "    </tr>\n",
       "    <tr>\n",
       "      <th>2023-07-07 09:32:00</th>\n",
       "      <td>-0.011201</td>\n",
       "      <td>-0.011920</td>\n",
       "      <td>-0.008134</td>\n",
       "      <td>-0.002055</td>\n",
       "    </tr>\n",
       "    <tr>\n",
       "      <th>2023-07-07 09:33:00</th>\n",
       "      <td>-0.008168</td>\n",
       "      <td>-0.007842</td>\n",
       "      <td>-0.002788</td>\n",
       "      <td>-0.001508</td>\n",
       "    </tr>\n",
       "    <tr>\n",
       "      <th>2023-07-07 09:34:00</th>\n",
       "      <td>-0.002792</td>\n",
       "      <td>-0.002688</td>\n",
       "      <td>-0.005101</td>\n",
       "      <td>-0.000539</td>\n",
       "    </tr>\n",
       "    <tr>\n",
       "      <th>2023-07-07 09:35:00</th>\n",
       "      <td>-0.005114</td>\n",
       "      <td>-0.004148</td>\n",
       "      <td>-0.002104</td>\n",
       "      <td>-0.000958</td>\n",
       "    </tr>\n",
       "  </tbody>\n",
       "</table>\n",
       "</div>"
      ],
      "text/plain": [
       "                     BOUND_Log_Return_Avg_1min  STOCK_Log_Return_Avg_1min  \\\n",
       "Timestamp                                                                   \n",
       "2023-07-07 09:31:00                  -0.006801                  -0.005057   \n",
       "2023-07-07 09:32:00                  -0.011201                  -0.011920   \n",
       "2023-07-07 09:33:00                  -0.008168                  -0.007842   \n",
       "2023-07-07 09:34:00                  -0.002792                  -0.002688   \n",
       "2023-07-07 09:35:00                  -0.005114                  -0.004148   \n",
       "\n",
       "                     Target_Avg_1min  prediction_label  \n",
       "Timestamp                                               \n",
       "2023-07-07 09:31:00        -0.011139         -0.001262  \n",
       "2023-07-07 09:32:00        -0.008134         -0.002055  \n",
       "2023-07-07 09:33:00        -0.002788         -0.001508  \n",
       "2023-07-07 09:34:00        -0.005101         -0.000539  \n",
       "2023-07-07 09:35:00        -0.002104         -0.000958  "
      ]
     },
     "execution_count": 7,
     "metadata": {},
     "output_type": "execute_result"
    }
   ],
   "source": [
    "# test = test.drop(['Target_Avg_1min'], axis=1)\n",
    "predictions = predict_model(best, data = test)\n",
    "# predictions = predict_model(best, data = train)\n",
    "\n",
    "predictions.head()"
   ]
  }
 ],
 "metadata": {
  "kernelspec": {
   "display_name": "Python 3 (ipykernel)",
   "language": "python",
   "name": "python3"
  },
  "language_info": {
   "codemirror_mode": {
    "name": "ipython",
    "version": 3
   },
   "file_extension": ".py",
   "mimetype": "text/x-python",
   "name": "python",
   "nbconvert_exporter": "python",
   "pygments_lexer": "ipython3",
   "version": "3.10.9"
  }
 },
 "nbformat": 4,
 "nbformat_minor": 2
}
