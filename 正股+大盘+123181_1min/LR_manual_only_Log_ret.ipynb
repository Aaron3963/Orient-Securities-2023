{
 "cells": [
  {
   "cell_type": "code",
   "execution_count": 9,
   "metadata": {},
   "outputs": [
    {
     "name": "stdout",
     "output_type": "stream",
     "text": [
      "Index(['Timestamp', 'BOUND_Log_Return_Avg_1min', 'Target_Avg_1min',\n",
      "       'STOCK_Log_Return_Avg_1min'],\n",
      "      dtype='object')\n"
     ]
    }
   ],
   "source": [
    "import pandas as pd\n",
    "from sklearn.linear_model import LinearRegression, Ridge\n",
    "from sklearn.metrics import mean_squared_error,r2_score\n",
    "from sklearn.model_selection import train_test_split\n",
    "import matplotlib.pyplot as plt\n",
    "\n",
    "\n",
    "TRAIN_PATH = 'train_log_ret_B+S.csv'\n",
    "TEST_PATH = 'test_log_ret_B+S.csv'\n",
    "\n",
    "train = pd.read_csv(TRAIN_PATH)\n",
    "test = pd.read_csv(TEST_PATH)\n",
    "\n",
    "print(train.columns)\n"
   ]
  },
  {
   "cell_type": "markdown",
   "metadata": {},
   "source": [
    "Train Model"
   ]
  },
  {
   "cell_type": "code",
   "execution_count": 10,
   "metadata": {},
   "outputs": [
    {
     "name": "stdout",
     "output_type": "stream",
     "text": [
      "[ 0.23089616 -0.01227739]\n",
      "MSE: 0.000003\n",
      "R^2: 0.016892\n"
     ]
    }
   ],
   "source": [
    "model = LinearRegression()\n",
    "\n",
    "model.fit(train[['BOUND_Log_Return_Avg_1min','STOCK_Log_Return_Avg_1min']], train['Target_Avg_1min'])\n",
    "\n",
    "predictions = model.predict(test[['BOUND_Log_Return_Avg_1min','STOCK_Log_Return_Avg_1min']])\n",
    "\n",
    "              \n",
    "# Results\n",
    "print(model.coef_)\n",
    "print(\"MSE: %5f\"%mean_squared_error(test['Target_Avg_1min'],predictions))\n",
    "print(\"R^2: %5f\"%r2_score(test['Target_Avg_1min'],predictions))\n"
   ]
  }
 ],
 "metadata": {
  "kernelspec": {
   "display_name": "Python 3 (ipykernel)",
   "language": "python",
   "name": "python3"
  },
  "language_info": {
   "codemirror_mode": {
    "name": "ipython",
    "version": 3
   },
   "file_extension": ".py",
   "mimetype": "text/x-python",
   "name": "python",
   "nbconvert_exporter": "python",
   "pygments_lexer": "ipython3",
   "version": "3.10.9"
  },
  "orig_nbformat": 4
 },
 "nbformat": 4,
 "nbformat_minor": 2
}
