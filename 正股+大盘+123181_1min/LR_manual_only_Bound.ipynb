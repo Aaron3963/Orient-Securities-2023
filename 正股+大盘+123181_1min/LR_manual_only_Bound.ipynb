{
 "cells": [
  {
   "cell_type": "code",
   "execution_count": 19,
   "metadata": {},
   "outputs": [
    {
     "name": "stdout",
     "output_type": "stream",
     "text": [
      "Index(['Timestamp', 'Open', 'High', 'Low', 'Volume', 'Turnover', 'Close',\n",
      "       'Hist_Ret_Close_3min', 'Hist_Ret_Close_5min', 'Hist_Ret_Close_10min',\n",
      "       'Hist_Ret_Close_15min', 'Log_Return_Close_1min', 'Avg', '4meanPrice',\n",
      "       'Log_Return_Avg_1min', 'Hist_Ret_Avg_3min', 'Hist_Ret_Avg_5min',\n",
      "       'Hist_Ret_Avg_10min', 'Hist_Ret_Avg_15min', 'Target_Close_1min',\n",
      "       'Target_Close_5min_Mean', 'Target_Close_10min_Mean',\n",
      "       'Target_Close_15min_Mean', 'Target_Avg_1min', 'Target_Avg_5min_Mean',\n",
      "       'Target_Avg_10min_Mean', 'Target_Avg_15min_Mean', 'Vol_5min_Close',\n",
      "       'Vol_10min_Close', 'Vol_15min_Close', 'BOP', 'TR', 'ATR_16',\n",
      "       '15min_range', 'TB_15min_Label'],\n",
      "      dtype='object')\n"
     ]
    }
   ],
   "source": [
    "import pandas as pd\n",
    "from sklearn.linear_model import LinearRegression, Ridge\n",
    "from sklearn.metrics import mean_squared_error,r2_score\n",
    "from sklearn.model_selection import train_test_split\n",
    "import matplotlib.pyplot as plt\n",
    "\n",
    "\n",
    "TRAIN_PATH = '123181_train_withF.csv'\n",
    "TEST_PATH = '123181_test_withF.csv'\n",
    "\n",
    "train = pd.read_csv(TRAIN_PATH)\n",
    "test = pd.read_csv(TEST_PATH)\n",
    "\n",
    "print(train.columns)\n"
   ]
  },
  {
   "cell_type": "markdown",
   "metadata": {},
   "source": [
    "Train Model"
   ]
  },
  {
   "cell_type": "code",
   "execution_count": 20,
   "metadata": {},
   "outputs": [],
   "source": [
    "def experiment(train, test, target):\n",
    "    model = LinearRegression()\n",
    "\n",
    "    model.fit(train[['Hist_Ret_Close_3min','Log_Return_Close_1min','Log_Return_Avg_1min','Hist_Ret_Avg_3min','BOP','ATR_16']], train[target])\n",
    "\n",
    "    predictions = model.predict(test[['Hist_Ret_Close_3min','Log_Return_Close_1min','Log_Return_Avg_1min','Hist_Ret_Avg_3min','BOP','ATR_16']])\n",
    "\n",
    "                \n",
    "    # Results\n",
    "    print(model.coef_)\n",
    "    print(\"MSE: %5f\"%mean_squared_error(test[target],predictions))\n",
    "    print(\"R^2: %5f\"%r2_score(test[target],predictions))\n"
   ]
  },
  {
   "cell_type": "code",
   "execution_count": 23,
   "metadata": {},
   "outputs": [
    {
     "name": "stdout",
     "output_type": "stream",
     "text": [
      "[ 7.49209057e-02 -9.81483398e-02 -1.11311401e-02 -4.83513483e-02\n",
      "  6.29504142e-06  1.17820510e-04]\n",
      "MSE: 0.000004\n",
      "R^2: -0.005533\n"
     ]
    }
   ],
   "source": [
    "experiment(train = train, test = test, target= 'Target_Close_5min_Mean')"
   ]
  }
 ],
 "metadata": {
  "kernelspec": {
   "display_name": "Python 3 (ipykernel)",
   "language": "python",
   "name": "python3"
  },
  "language_info": {
   "codemirror_mode": {
    "name": "ipython",
    "version": 3
   },
   "file_extension": ".py",
   "mimetype": "text/x-python",
   "name": "python",
   "nbconvert_exporter": "python",
   "pygments_lexer": "ipython3",
   "version": "3.10.9"
  },
  "orig_nbformat": 4
 },
 "nbformat": 4,
 "nbformat_minor": 2
}
