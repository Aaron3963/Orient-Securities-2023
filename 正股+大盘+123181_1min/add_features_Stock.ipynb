{
 "cells": [
  {
   "cell_type": "code",
   "execution_count": 104,
   "metadata": {},
   "outputs": [],
   "source": [
    "import pandas as pd\n",
    "import numpy as np\n",
    "import seaborn as sns\n",
    "\n",
    "PATH_READ = '301085_test_raw.csv'\n",
    "PATH_WRITE = '301085_test_withF.csv'\n",
    "# df = pd.read_csv(PATH_READ, index_col='Timestamp')\n",
    "df = pd.read_csv(PATH_READ)\n"
   ]
  },
  {
   "cell_type": "markdown",
   "metadata": {},
   "source": [
    "Preprocessing, cleaning unwanted cols"
   ]
  },
  {
   "cell_type": "code",
   "execution_count": 105,
   "metadata": {},
   "outputs": [
    {
     "name": "stdout",
     "output_type": "stream",
     "text": [
      "Index(['Timestamp', 'Open', 'High', 'Low', 'Volume', 'Turnover', 'Close'], dtype='object')\n"
     ]
    }
   ],
   "source": [
    "df = df.drop(['InstrumentID','TradingDay','PreClosePrice',], axis=1)\n",
    "# df.index = pd.to_datetime(df.index)\n",
    "\n",
    "print(df.columns)"
   ]
  },
  {
   "cell_type": "markdown",
   "metadata": {},
   "source": [
    "Add hist return features"
   ]
  },
  {
   "cell_type": "code",
   "execution_count": 106,
   "metadata": {},
   "outputs": [
    {
     "name": "stdout",
     "output_type": "stream",
     "text": [
      "Index(['Timestamp', 'Open', 'High', 'Low', 'Volume', 'Turnover', 'Close',\n",
      "       'STOCK_Hist_Ret_Close_3min', 'STOCK_Hist_Ret_Close_5min',\n",
      "       'STOCK_Hist_Ret_Close_10min', 'STOCK_Hist_Ret_Close_15min'],\n",
      "      dtype='object')\n"
     ]
    }
   ],
   "source": [
    "def hist_ret_close(df, param):\n",
    "    return df['Close'] / df['Close'].shift(param)\n",
    "\n",
    "df.insert(loc=df.columns.get_loc('Close')+1, column= 'STOCK_Hist_Ret_Close_15min', value= hist_ret_close(df,15))\n",
    "df.insert(loc=df.columns.get_loc('Close')+1, column= 'STOCK_Hist_Ret_Close_10min', value= hist_ret_close(df,10))\n",
    "df.insert(loc=df.columns.get_loc('Close')+1, column= 'STOCK_Hist_Ret_Close_5min', value= hist_ret_close(df,5))\n",
    "df.insert(loc=df.columns.get_loc('Close')+1, column= 'STOCK_Hist_Ret_Close_3min', value= hist_ret_close(df,3))\n",
    "\n",
    "print(df.columns)"
   ]
  },
  {
   "cell_type": "markdown",
   "metadata": {},
   "source": [
    "Add log return features"
   ]
  },
  {
   "cell_type": "code",
   "execution_count": 107,
   "metadata": {},
   "outputs": [
    {
     "name": "stdout",
     "output_type": "stream",
     "text": [
      "Index(['Timestamp', 'Open', 'High', 'Low', 'Volume', 'Turnover', 'Close',\n",
      "       'STOCK_Hist_Ret_Close_3min', 'STOCK_Hist_Ret_Close_5min',\n",
      "       'STOCK_Hist_Ret_Close_10min', 'STOCK_Hist_Ret_Close_15min',\n",
      "       'STOCK_Log_Return_Close_1min'],\n",
      "      dtype='object')\n"
     ]
    }
   ],
   "source": [
    "df['STOCK_Log_Return_Close_1min'] = np.log(df['Close'] / df['Close'].shift(1))\n",
    "\n",
    "print(df.columns)"
   ]
  },
  {
   "cell_type": "markdown",
   "metadata": {},
   "source": [
    "Add average price and mean price from 4"
   ]
  },
  {
   "cell_type": "code",
   "execution_count": 108,
   "metadata": {},
   "outputs": [
    {
     "name": "stdout",
     "output_type": "stream",
     "text": [
      "                Timestamp   Open   High    Low    Volume    Turnover  Close  \\\n",
      "0     2023-07-07 09:26:00  69.40  69.40  69.40   18500.0   1283900.0  69.40   \n",
      "1     2023-07-07 09:31:00  69.31  69.31  68.40   68900.0   4757542.0  68.40   \n",
      "2     2023-07-07 09:32:00  68.40  68.50  68.05   63800.0   4353188.0  68.05   \n",
      "3     2023-07-07 09:33:00  68.01  68.01  67.50  147600.0   9992348.0  67.55   \n",
      "4     2023-07-07 09:34:00  67.75  67.75  67.30  179500.0  12119316.0  67.30   \n",
      "...                   ...    ...    ...    ...       ...         ...    ...   \n",
      "2427  2023-07-20 14:58:00  63.33  63.34  63.33    1900.0    120294.0  63.34   \n",
      "2428  2023-07-20 14:59:00  63.34  63.34  63.34       0.0         0.0  63.34   \n",
      "2429  2023-07-20 15:00:00  63.34  63.34  63.34       0.0         0.0  63.34   \n",
      "2430  2023-07-20 15:01:00  63.37  63.37  63.37   46500.0   2946705.0  63.37   \n",
      "2431  2023-07-20 15:35:00  63.37  63.37  63.37       0.0         0.0  63.37   \n",
      "\n",
      "      STOCK_Hist_Ret_Close_3min  STOCK_Hist_Ret_Close_5min  \\\n",
      "0                           NaN                        NaN   \n",
      "1                           NaN                        NaN   \n",
      "2                           NaN                        NaN   \n",
      "3                      0.973343                        NaN   \n",
      "4                      0.983918                        NaN   \n",
      "...                         ...                        ...   \n",
      "2427                   1.002215                   1.001740   \n",
      "2428                   1.003326                   1.000632   \n",
      "2429                   1.001581                   1.002215   \n",
      "2430                   1.000474                   1.003802   \n",
      "2431                   1.000474                   1.002056   \n",
      "\n",
      "      STOCK_Hist_Ret_Close_10min  STOCK_Hist_Ret_Close_15min  \\\n",
      "0                            NaN                         NaN   \n",
      "1                            NaN                         NaN   \n",
      "2                            NaN                         NaN   \n",
      "3                            NaN                         NaN   \n",
      "4                            NaN                         NaN   \n",
      "...                          ...                         ...   \n",
      "2427                    1.008278                    1.006835   \n",
      "2428                    1.006515                    1.007796   \n",
      "2429                    1.006835                    1.008920   \n",
      "2430                    1.006672                    1.006672   \n",
      "2431                    1.005554                    1.007472   \n",
      "\n",
      "      STOCK_Log_Return_Close_1min        Avg  \n",
      "0                             NaN  69.400000  \n",
      "1                       -0.014514  69.049956  \n",
      "2                       -0.005130  68.231787  \n",
      "3                       -0.007375  67.698835  \n",
      "4                       -0.003708  67.517081  \n",
      "...                           ...        ...  \n",
      "2427                     0.001580  63.312632  \n",
      "2428                     0.000000        NaN  \n",
      "2429                     0.000000        NaN  \n",
      "2430                     0.000474  63.370000  \n",
      "2431                     0.000000        NaN  \n",
      "\n",
      "[2432 rows x 13 columns]\n"
     ]
    }
   ],
   "source": [
    "df['Avg'] = df['Turnover']/df['Volume']\n",
    "\n",
    "# For unchanged prices, fill zero\n",
    "\n",
    "# 目前对于涨/跌停这种情况的策略是在数据里补0，也许可以用NaN然后删除？\n",
    "# df['AvgPrice'].fillna(0, inplace=True)\n",
    "\n",
    "\n",
    "nan_rows_Avg = df[df['Avg'].isnull()]\n",
    "\n",
    "# 如遇涨/跌停，直接用高开低收的价格，因为都一样\n",
    "for index, row in nan_rows_Avg.iterrows():\n",
    "    if row['High'] == row['Low'] == row['Open'] == row['Close']:\n",
    "        row['Avg'] = row['High']\n",
    "\n",
    "df.update(nan_rows_Avg)\n",
    "\n",
    "print(df)\n",
    "\n",
    "df['4meanPrice'] = (df['High']+df['Low']+df['Close']+df['Open'])/4.0\n"
   ]
  },
  {
   "cell_type": "markdown",
   "metadata": {},
   "source": [
    "Add log return based on Avg"
   ]
  },
  {
   "cell_type": "code",
   "execution_count": 109,
   "metadata": {},
   "outputs": [
    {
     "name": "stdout",
     "output_type": "stream",
     "text": [
      "Index(['Timestamp', 'Open', 'High', 'Low', 'Volume', 'Turnover', 'Close',\n",
      "       'STOCK_Hist_Ret_Close_3min', 'STOCK_Hist_Ret_Close_5min',\n",
      "       'STOCK_Hist_Ret_Close_10min', 'STOCK_Hist_Ret_Close_15min',\n",
      "       'STOCK_Log_Return_Close_1min', 'Avg', '4meanPrice',\n",
      "       'STOCK_Log_Return_Avg_1min'],\n",
      "      dtype='object')\n"
     ]
    }
   ],
   "source": [
    "df['STOCK_Log_Return_Avg_1min'] = np.log(df['Avg'] / df['Avg'].shift(1))\n",
    "\n",
    "print(df.columns)"
   ]
  },
  {
   "cell_type": "markdown",
   "metadata": {},
   "source": [
    "Hist based on avg price"
   ]
  },
  {
   "cell_type": "code",
   "execution_count": 110,
   "metadata": {},
   "outputs": [],
   "source": [
    "def hist_ret_avg(df, param):\n",
    "    return df['Avg'] / df['Avg'].shift(param)\n",
    "\n",
    "df['STOCK_Hist_Ret_Avg_3min'] = hist_ret_avg(df, 3)\n",
    "df['STOCK_Hist_Ret_Avg_5min'] = hist_ret_avg(df, 5)\n",
    "df['STOCK_Hist_Ret_Avg_10min'] = hist_ret_avg(df, 10)\n",
    "df['STOCK_Hist_Ret_Avg_15min'] = hist_ret_avg(df, 15)"
   ]
  },
  {
   "cell_type": "markdown",
   "metadata": {},
   "source": [
    "Experiment with rolling volatility"
   ]
  },
  {
   "cell_type": "code",
   "execution_count": 111,
   "metadata": {},
   "outputs": [
    {
     "name": "stdout",
     "output_type": "stream",
     "text": [
      "Index(['Timestamp', 'Open', 'High', 'Low', 'Volume', 'Turnover', 'Close',\n",
      "       'STOCK_Hist_Ret_Close_3min', 'STOCK_Hist_Ret_Close_5min',\n",
      "       'STOCK_Hist_Ret_Close_10min', 'STOCK_Hist_Ret_Close_15min',\n",
      "       'STOCK_Log_Return_Close_1min', 'Avg', '4meanPrice',\n",
      "       'STOCK_Log_Return_Avg_1min', 'STOCK_Hist_Ret_Avg_3min',\n",
      "       'STOCK_Hist_Ret_Avg_5min', 'STOCK_Hist_Ret_Avg_10min',\n",
      "       'STOCK_Hist_Ret_Avg_15min', 'STOCK_Vol_5min_Close',\n",
      "       'STOCK_Vol_10min_Close', 'STOCK_Vol_15min_Close'],\n",
      "      dtype='object')\n"
     ]
    }
   ],
   "source": [
    "def rolling_std(df, window_size):\n",
    "    return df['Close'].rolling(window=window_size).std()\n",
    "\n",
    "df['STOCK_Vol_5min_Close'] = rolling_std(df, 5)\n",
    "df['STOCK_Vol_10min_Close'] = rolling_std(df, 10)\n",
    "df['STOCK_Vol_15min_Close'] = rolling_std(df, 15)\n",
    "\n",
    "print(df.columns)"
   ]
  },
  {
   "cell_type": "code",
   "execution_count": 112,
   "metadata": {},
   "outputs": [
    {
     "name": "stdout",
     "output_type": "stream",
     "text": [
      "0            NaN\n",
      "1      -1.000000\n",
      "2      -0.777778\n",
      "3      -0.901961\n",
      "4      -1.000000\n",
      "          ...   \n",
      "2427    1.000000\n",
      "2428         NaN\n",
      "2429         NaN\n",
      "2430         NaN\n",
      "2431         NaN\n",
      "Name: STOCK_BOP, Length: 2432, dtype: float64\n"
     ]
    }
   ],
   "source": [
    "df['STOCK_BOP'] = ((df['Close']-df['Open']) / (df['High']-df['Low']))\n",
    "\n",
    "print(df['STOCK_BOP'])"
   ]
  },
  {
   "cell_type": "markdown",
   "metadata": {},
   "source": [
    "Average True Range"
   ]
  },
  {
   "cell_type": "code",
   "execution_count": 113,
   "metadata": {},
   "outputs": [],
   "source": [
    "df['High-Low'] = df['High'] - df['Low']\n",
    "df['High-Close_prev'] = abs(df['High'] - df['Close'].shift(1))\n",
    "df['Low-Close_prev'] = abs(df['Low'] - df['Close'].shift(1))\n",
    "df['STOCK_TR'] = df[['High-Low', 'High-Close_prev', 'Low-Close_prev']].max(axis=1)\n",
    "\n",
    "# Choose the ATR period\n",
    "ATR_period = 16\n",
    "\n",
    "# Calculate Average True Range (ATR)\n",
    "df['STOCK_ATR_16'] = df['STOCK_TR'].rolling(ATR_period).mean()\n",
    "\n",
    "# Drop the intermediate columns used for TR calculation\n",
    "df.drop(['High-Low', 'High-Close_prev', 'Low-Close_prev'], axis=1, inplace=True)"
   ]
  },
  {
   "cell_type": "markdown",
   "metadata": {},
   "source": [
    "Add Triple Barrier Target"
   ]
  },
  {
   "cell_type": "code",
   "execution_count": 114,
   "metadata": {},
   "outputs": [
    {
     "data": {
      "text/plain": [
       "<Axes: >"
      ]
     },
     "execution_count": 114,
     "metadata": {},
     "output_type": "execute_result"
    },
    {
     "data": {
      "image/png": "[encoded data removed]",
      "text/plain": [
       "<Figure size 640x480 with 1 Axes>"
      ]
     },
     "metadata": {},
     "output_type": "display_data"
    }
   ],
   "source": [
    "df['15min_range'] = df['High'].rolling(15).max() - df['Low'].rolling(15).min()\n",
    "(df['15min_range'] /df['High']).hist()"
   ]
  },
  {
   "cell_type": "code",
   "execution_count": 115,
   "metadata": {},
   "outputs": [],
   "source": [
    "def getDailyVol(data, span=30):\n",
    "    df = data.assign(Return = lambda x: data['Close'] / data['Close'].shift(1)-1)\n",
    "    sigma = df['Return'].ewm(span=span).std()\n",
    "    return sigma\n",
    "\n",
    "vol = getDailyVol(data=df)"
   ]
  },
  {
   "cell_type": "code",
   "execution_count": 116,
   "metadata": {},
   "outputs": [
    {
     "name": "stdout",
     "output_type": "stream",
     "text": [
      "               Timestamp                  VB       Vol\n",
      "0    2023-07-07 09:26:00 2023-07-07 09:41:00       NaN\n",
      "1    2023-07-07 09:31:00 2023-07-07 09:46:00       NaN\n",
      "2    2023-07-07 09:32:00 2023-07-07 09:47:00  0.006571\n",
      "3    2023-07-07 09:33:00 2023-07-07 09:48:00  0.004757\n",
      "4    2023-07-07 09:34:00 2023-07-07 09:49:00  0.004639\n",
      "...                  ...                 ...       ...\n",
      "2427 2023-07-20 14:58:00 2023-07-20 15:13:00  0.001431\n",
      "2428 2023-07-20 14:59:00 2023-07-20 15:14:00  0.001386\n",
      "2429 2023-07-20 15:00:00 2023-07-20 15:15:00  0.001341\n",
      "2430 2023-07-20 15:01:00 2023-07-20 15:16:00  0.001299\n",
      "2431 2023-07-20 15:35:00 2023-07-20 15:50:00  0.001258\n",
      "\n",
      "[2432 rows x 3 columns]\n"
     ]
    }
   ],
   "source": [
    "df['Timestamp'] = pd.to_datetime(df['Timestamp'])\n",
    "\n",
    "events = df[['Timestamp']].copy(deep=True)\n",
    "events['VB'] = df['Timestamp'] + pd.Timedelta(minutes=15)\n",
    "events['Vol'] = vol\n",
    "\n",
    "print(events)"
   ]
  },
  {
   "cell_type": "code",
   "execution_count": 117,
   "metadata": {},
   "outputs": [],
   "source": [
    "def TBL(df, events, width):\n",
    "    \n",
    "    res = events[['Timestamp', 'VB']].copy(deep=True)\n",
    "    \n",
    "    if width[0] > 0: events['UB'] = width[0]*events['Vol']\n",
    "    else: events['UB'] = np.nan\n",
    "        \n",
    "    if width[1] > 0: events['DB'] = -width[1]*events['Vol']\n",
    "    else: events['DB'] = np.nan\n",
    "        \n",
    "    for col,date,vb in res.itertuples():\n",
    "        df0 = df[(df['Timestamp'] > date) & (df['Timestamp'] < vb)].copy(deep=True)\n",
    "        df0['Return'] = df0['Close'] / df.loc[df['Timestamp'] == date, 'Close'].iloc[0]-1\n",
    "        \n",
    "        idx = (res['Timestamp'] == date)\n",
    "        \n",
    "        res.loc[idx, 'ut'] = df0.loc[df0['Return'] > events.loc[idx,'UB'].iloc[0], 'Timestamp'].min()\n",
    "        res.loc[idx, 'dt'] = df0.loc[df0['Return'] < events.loc[idx,'DB'].iloc[0], 'Timestamp'].min()\n",
    "            \n",
    "    return res"
   ]
  },
  {
   "cell_type": "code",
   "execution_count": 118,
   "metadata": {},
   "outputs": [
    {
     "name": "stdout",
     "output_type": "stream",
     "text": [
      "               Timestamp                  VB  ut                  dt  \\\n",
      "0    2023-07-07 09:26:00 2023-07-07 09:41:00 NaT                 NaT   \n",
      "1    2023-07-07 09:31:00 2023-07-07 09:46:00 NaT                 NaT   \n",
      "2    2023-07-07 09:32:00 2023-07-07 09:47:00 NaT 2023-07-07 09:33:00   \n",
      "3    2023-07-07 09:33:00 2023-07-07 09:48:00 NaT 2023-07-07 09:34:00   \n",
      "4    2023-07-07 09:34:00 2023-07-07 09:49:00 NaT 2023-07-07 09:35:00   \n",
      "...                  ...                 ...  ..                 ...   \n",
      "2427 2023-07-20 14:58:00 2023-07-20 15:13:00 NaT                 NaT   \n",
      "2428 2023-07-20 14:59:00 2023-07-20 15:14:00 NaT                 NaT   \n",
      "2429 2023-07-20 15:00:00 2023-07-20 15:15:00 NaT                 NaT   \n",
      "2430 2023-07-20 15:01:00 2023-07-20 15:16:00 NaT                 NaT   \n",
      "2431 2023-07-20 15:35:00 2023-07-20 15:50:00 NaT                 NaT   \n",
      "\n",
      "                   First  \n",
      "0    2023-07-07 09:41:00  \n",
      "1    2023-07-07 09:46:00  \n",
      "2    2023-07-07 09:33:00  \n",
      "3    2023-07-07 09:34:00  \n",
      "4    2023-07-07 09:35:00  \n",
      "...                  ...  \n",
      "2427 2023-07-20 15:13:00  \n",
      "2428 2023-07-20 15:14:00  \n",
      "2429 2023-07-20 15:15:00  \n",
      "2430 2023-07-20 15:16:00  \n",
      "2431 2023-07-20 15:50:00  \n",
      "\n",
      "[2432 rows x 5 columns]\n"
     ]
    }
   ],
   "source": [
    "def get_first_touch(df, events, width):\n",
    "    res = TBL(df, events, width)\n",
    "    res['First'] = res[['VB', 'ut', 'dt']].dropna(how='all').min(axis=1)\n",
    "    return res\n",
    "\n",
    "# 上下栅栏的宽度由 vol(span) * 系数[up,down] 决定\n",
    "result = get_first_touch(df,events,width = [0.4,0.4])\n",
    "print(result)"
   ]
  },
  {
   "cell_type": "code",
   "execution_count": 119,
   "metadata": {},
   "outputs": [
    {
     "name": "stdout",
     "output_type": "stream",
     "text": [
      "               Timestamp  TB_15min_Label\n",
      "0    2023-07-07 09:26:00            -1.0\n",
      "1    2023-07-07 09:31:00            -1.0\n",
      "2    2023-07-07 09:32:00            -1.0\n",
      "3    2023-07-07 09:33:00            -1.0\n",
      "4    2023-07-07 09:34:00            -1.0\n",
      "...                  ...             ...\n",
      "2427 2023-07-20 14:58:00             NaN\n",
      "2428 2023-07-20 14:59:00             NaN\n",
      "2429 2023-07-20 15:00:00             NaN\n",
      "2430 2023-07-20 15:01:00             NaN\n",
      "2431 2023-07-20 15:35:00             NaN\n",
      "\n",
      "[2432 rows x 2 columns]\n"
     ]
    }
   ],
   "source": [
    "def get_label(df,result):\n",
    "    result = result.dropna(subset=['First'])\n",
    "    outcome = result[['Timestamp']].copy(deep=True)\n",
    "    \n",
    "    price_t0 = pd.merge(result,df,on=['Timestamp'],how='left')['Close']\n",
    "    price_t1 = pd.merge(result,df,left_on=['First'], right_on=['Timestamp'], how = 'left')['Close']\n",
    "    \n",
    "    outcome['Return'] = price_t1/price_t0-1\n",
    "    outcome['TB_15min_Label'] = np.sign(outcome['Return'].dropna())\n",
    "    \n",
    "    outcome = outcome.drop(['Return'], axis = 1)\n",
    "\n",
    "    return outcome\n",
    "\n",
    "outcome = get_label(df,result)\n",
    "print(outcome)\n",
    "\n",
    "df = pd.merge(df,outcome, on=['Timestamp'],how='inner')"
   ]
  },
  {
   "cell_type": "markdown",
   "metadata": {},
   "source": [
    "Cleaning NaN and unwanted data"
   ]
  },
  {
   "cell_type": "code",
   "execution_count": 120,
   "metadata": {},
   "outputs": [],
   "source": [
    "# print('Number of rows before cleaning: %d'%df.shape[0])\n",
    "\n",
    "df.index = df['Timestamp']\n",
    "df = df.drop(['Timestamp'], axis=1)\n",
    "\n",
    "# df = df[(df['Target_Close_1min'] != 0)\n",
    "#                       & (df['Target_Close_5min_Mean'] != 0)\n",
    "#                       & (df['Target_Close_10min_Mean'] != 0)\n",
    "#                       & (df['Target_Close_15min_Mean'] != 0)\n",
    "#                      ]\n",
    "# pd.set_option ('mode.use_inf_as_na', True)\n",
    "# df = df.dropna()\n",
    "\n",
    "\n",
    "# print('Number of rows after cleaning: %d'%df.shape[0])\n",
    "\n",
    "# print(df)"
   ]
  },
  {
   "cell_type": "markdown",
   "metadata": {},
   "source": [
    "Saving CSV"
   ]
  },
  {
   "cell_type": "code",
   "execution_count": 121,
   "metadata": {},
   "outputs": [],
   "source": [
    "df.to_csv(PATH_WRITE)"
   ]
  }
 ],
 "metadata": {
  "kernelspec": {
   "display_name": "Python 3 (ipykernel)",
   "language": "python",
   "name": "python3"
  },
  "orig_nbformat": 4
 },
 "nbformat": 4,
 "nbformat_minor": 2
}
