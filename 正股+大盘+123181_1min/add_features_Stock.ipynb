{
 "cells": [
  {
   "cell_type": "code",
   "execution_count": 33,
   "metadata": {},
   "outputs": [],
   "source": [
    "import pandas as pd\n",
    "import numpy as np\n",
    "import seaborn as sns\n",
    "\n",
    "PATH_READ = '301085_train_raw.csv'\n",
    "PATH_WRITE = '301085_train_withF.csv'\n",
    "# df = pd.read_csv(PATH_READ, index_col='Timestamp')\n",
    "df = pd.read_csv(PATH_READ)\n"
   ]
  },
  {
   "cell_type": "markdown",
   "metadata": {},
   "source": [
    "Preprocessing, cleaning unwanted cols"
   ]
  },
  {
   "cell_type": "code",
   "execution_count": 34,
   "metadata": {},
   "outputs": [
    {
     "name": "stdout",
     "output_type": "stream",
     "text": [
      "Index(['Timestamp', 'Open', 'High', 'Low', 'Volume', 'Turnover', 'Close'], dtype='object')\n"
     ]
    }
   ],
   "source": [
    "df = df.drop(['InstrumentID','TradingDay','PreClosePrice',], axis=1)\n",
    "# df.index = pd.to_datetime(df.index)\n",
    "\n",
    "print(df.columns)"
   ]
  },
  {
   "cell_type": "markdown",
   "metadata": {},
   "source": [
    "Add hist return features"
   ]
  },
  {
   "cell_type": "code",
   "execution_count": 35,
   "metadata": {},
   "outputs": [
    {
     "name": "stdout",
     "output_type": "stream",
     "text": [
      "Index(['Timestamp', 'Open', 'High', 'Low', 'Volume', 'Turnover', 'Close',\n",
      "       'STOCK_Hist_Ret_Close_3min', 'STOCK_Hist_Ret_Close_5min',\n",
      "       'STOCK_Hist_Ret_Close_10min', 'STOCK_Hist_Ret_Close_15min'],\n",
      "      dtype='object')\n"
     ]
    }
   ],
   "source": [
    "def hist_ret_close(df, param):\n",
    "    return df['Close'] / df['Close'].shift(param)\n",
    "\n",
    "df.insert(loc=df.columns.get_loc('Close')+1, column= 'STOCK_Hist_Ret_Close_15min', value= hist_ret_close(df,15))\n",
    "df.insert(loc=df.columns.get_loc('Close')+1, column= 'STOCK_Hist_Ret_Close_10min', value= hist_ret_close(df,10))\n",
    "df.insert(loc=df.columns.get_loc('Close')+1, column= 'STOCK_Hist_Ret_Close_5min', value= hist_ret_close(df,5))\n",
    "df.insert(loc=df.columns.get_loc('Close')+1, column= 'STOCK_Hist_Ret_Close_3min', value= hist_ret_close(df,3))\n",
    "\n",
    "print(df.columns)"
   ]
  },
  {
   "cell_type": "markdown",
   "metadata": {},
   "source": [
    "Add log return features"
   ]
  },
  {
   "cell_type": "code",
   "execution_count": 36,
   "metadata": {},
   "outputs": [
    {
     "name": "stdout",
     "output_type": "stream",
     "text": [
      "Index(['Timestamp', 'Open', 'High', 'Low', 'Volume', 'Turnover', 'Close',\n",
      "       'STOCK_Hist_Ret_Close_3min', 'STOCK_Hist_Ret_Close_5min',\n",
      "       'STOCK_Hist_Ret_Close_10min', 'STOCK_Hist_Ret_Close_15min',\n",
      "       'STOCK_Log_Return_Close_1min'],\n",
      "      dtype='object')\n"
     ]
    }
   ],
   "source": [
    "df['STOCK_Log_Return_Close_1min'] = np.log(df['Close'] / df['Close'].shift(1))\n",
    "\n",
    "print(df.columns)"
   ]
  },
  {
   "cell_type": "markdown",
   "metadata": {},
   "source": [
    "Add average price and mean price from 4"
   ]
  },
  {
   "cell_type": "code",
   "execution_count": 37,
   "metadata": {},
   "outputs": [
    {
     "name": "stdout",
     "output_type": "stream",
     "text": [
      "                Timestamp   Open   High    Low    Volume   Turnover  Close  \\\n",
      "0     2023-06-01 09:26:00  45.55  45.55  45.55   17300.0   788015.0  45.55   \n",
      "1     2023-06-01 09:31:00  45.64  46.62  45.61  124300.0  5732875.0  46.62   \n",
      "2     2023-06-01 09:32:00  46.45  46.62  46.17   72100.0  3349057.0  46.17   \n",
      "3     2023-06-01 09:33:00  46.27  46.52  46.10   52300.0  2421814.0  46.52   \n",
      "4     2023-06-01 09:34:00  46.60  47.12  46.60  144800.0  6790040.0  46.92   \n",
      "...                   ...    ...    ...    ...       ...        ...    ...   \n",
      "5834  2023-07-06 14:58:00  69.28  69.28  69.28    2600.0   180102.0  69.28   \n",
      "5835  2023-07-06 14:59:00  69.28  69.28  69.28       0.0        0.0  69.28   \n",
      "5836  2023-07-06 15:00:00  69.28  69.28  69.28       0.0        0.0  69.28   \n",
      "5837  2023-07-06 15:01:00  69.30  69.30  69.30   74100.0  5135130.0  69.30   \n",
      "5838  2023-07-06 15:35:00  69.30  69.30  69.30       0.0        0.0  69.30   \n",
      "\n",
      "      STOCK_Hist_Ret_Close_3min  STOCK_Hist_Ret_Close_5min  \\\n",
      "0                           NaN                        NaN   \n",
      "1                           NaN                        NaN   \n",
      "2                           NaN                        NaN   \n",
      "3                      1.021295                        NaN   \n",
      "4                      1.006435                        NaN   \n",
      "...                         ...                        ...   \n",
      "5834                   1.001301                   1.001011   \n",
      "5835                   1.001156                   1.001446   \n",
      "5836                   1.000144                   1.001301   \n",
      "5837                   1.000289                   1.001445   \n",
      "5838                   1.000289                   1.000433   \n",
      "\n",
      "      STOCK_Hist_Ret_Close_10min  STOCK_Hist_Ret_Close_15min  \\\n",
      "0                            NaN                         NaN   \n",
      "1                            NaN                         NaN   \n",
      "2                            NaN                         NaN   \n",
      "3                            NaN                         NaN   \n",
      "4                            NaN                         NaN   \n",
      "...                          ...                         ...   \n",
      "5834                    1.003476                    1.005223   \n",
      "5835                    1.002895                    1.005223   \n",
      "5836                    1.002460                    1.004640   \n",
      "5837                    0.999856                    1.004348   \n",
      "5838                    1.001300                    1.003911   \n",
      "\n",
      "      STOCK_Log_Return_Close_1min        Avg  \n",
      "0                             NaN  45.550000  \n",
      "1                        0.023219  46.121279  \n",
      "2                       -0.009699  46.450166  \n",
      "3                        0.007552  46.306195  \n",
      "4                        0.008562  46.892541  \n",
      "...                           ...        ...  \n",
      "5834                     0.000144  69.270000  \n",
      "5835                     0.000000        NaN  \n",
      "5836                     0.000000        NaN  \n",
      "5837                     0.000289  69.300000  \n",
      "5838                     0.000000        NaN  \n",
      "\n",
      "[5839 rows x 13 columns]\n"
     ]
    }
   ],
   "source": [
    "df['Avg'] = df['Turnover']/df['Volume']\n",
    "\n",
    "# For unchanged prices, fill zero\n",
    "\n",
    "# 目前对于涨/跌停这种情况的策略是在数据里补0，也许可以用NaN然后删除？\n",
    "# df['AvgPrice'].fillna(0, inplace=True)\n",
    "\n",
    "\n",
    "nan_rows_Avg = df[df['Avg'].isnull()]\n",
    "\n",
    "# 如遇涨/跌停，直接用高开低收的价格，因为都一样\n",
    "for index, row in nan_rows_Avg.iterrows():\n",
    "    if row['High'] == row['Low'] == row['Open'] == row['Close']:\n",
    "        row['Avg'] = row['High']\n",
    "\n",
    "df.update(nan_rows_Avg)\n",
    "\n",
    "print(df)\n",
    "\n",
    "df['4meanPrice'] = (df['High']+df['Low']+df['Close']+df['Open'])/4.0\n"
   ]
  },
  {
   "cell_type": "markdown",
   "metadata": {},
   "source": [
    "Add log return based on Avg"
   ]
  },
  {
   "cell_type": "code",
   "execution_count": 38,
   "metadata": {},
   "outputs": [
    {
     "name": "stdout",
     "output_type": "stream",
     "text": [
      "Index(['Timestamp', 'Open', 'High', 'Low', 'Volume', 'Turnover', 'Close',\n",
      "       'STOCK_Hist_Ret_Close_3min', 'STOCK_Hist_Ret_Close_5min',\n",
      "       'STOCK_Hist_Ret_Close_10min', 'STOCK_Hist_Ret_Close_15min',\n",
      "       'STOCK_Log_Return_Close_1min', 'Avg', '4meanPrice',\n",
      "       'STOCK_Log_Return_Avg_1min'],\n",
      "      dtype='object')\n"
     ]
    }
   ],
   "source": [
    "df['STOCK_Log_Return_Avg_1min'] = np.log(df['Avg'] / df['Avg'].shift(1))\n",
    "\n",
    "print(df.columns)"
   ]
  },
  {
   "cell_type": "markdown",
   "metadata": {},
   "source": [
    "Hist based on avg price"
   ]
  },
  {
   "cell_type": "code",
   "execution_count": 39,
   "metadata": {},
   "outputs": [],
   "source": [
    "def hist_ret_avg(df, param):\n",
    "    return df['Avg'] / df['Avg'].shift(param)\n",
    "\n",
    "df['STOCK_Hist_Ret_Avg_3min'] = hist_ret_avg(df, 3)\n",
    "df['STOCK_Hist_Ret_Avg_5min'] = hist_ret_avg(df, 5)\n",
    "df['STOCK_Hist_Ret_Avg_10min'] = hist_ret_avg(df, 10)\n",
    "df['STOCK_Hist_Ret_Avg_15min'] = hist_ret_avg(df, 15)"
   ]
  },
  {
   "cell_type": "markdown",
   "metadata": {},
   "source": [
    "Experiment with rolling volatility"
   ]
  },
  {
   "cell_type": "code",
   "execution_count": 40,
   "metadata": {},
   "outputs": [
    {
     "name": "stdout",
     "output_type": "stream",
     "text": [
      "Index(['Timestamp', 'Open', 'High', 'Low', 'Volume', 'Turnover', 'Close',\n",
      "       'STOCK_Hist_Ret_Close_3min', 'STOCK_Hist_Ret_Close_5min',\n",
      "       'STOCK_Hist_Ret_Close_10min', 'STOCK_Hist_Ret_Close_15min',\n",
      "       'STOCK_Log_Return_Close_1min', 'Avg', '4meanPrice',\n",
      "       'STOCK_Log_Return_Avg_1min', 'STOCK_Hist_Ret_Avg_3min',\n",
      "       'STOCK_Hist_Ret_Avg_5min', 'STOCK_Hist_Ret_Avg_10min',\n",
      "       'STOCK_Hist_Ret_Avg_15min', 'STOCK_Vol_5min_Close',\n",
      "       'STOCK_Vol_10min_Close', 'STOCK_Vol_15min_Close'],\n",
      "      dtype='object')\n"
     ]
    }
   ],
   "source": [
    "def rolling_std(df, window_size):\n",
    "    return df['Close'].rolling(window=window_size).std()\n",
    "\n",
    "df['STOCK_Vol_5min_Close'] = rolling_std(df, 5)\n",
    "df['STOCK_Vol_10min_Close'] = rolling_std(df, 10)\n",
    "df['STOCK_Vol_15min_Close'] = rolling_std(df, 15)\n",
    "\n",
    "print(df.columns)"
   ]
  },
  {
   "cell_type": "markdown",
   "metadata": {},
   "source": [
    "Add Triple Barrier Target"
   ]
  },
  {
   "cell_type": "code",
   "execution_count": 41,
   "metadata": {},
   "outputs": [
    {
     "data": {
      "text/plain": [
       "<Axes: >"
      ]
     },
     "execution_count": 41,
     "metadata": {},
     "output_type": "execute_result"
    },
    {
     "data": {
      "image/png": "[encoded data removed]",
      "text/plain": [
       "<Figure size 640x480 with 1 Axes>"
      ]
     },
     "metadata": {},
     "output_type": "display_data"
    }
   ],
   "source": [
    "df['15min_range'] = df['High'].rolling(15).max() - df['Low'].rolling(15).min()\n",
    "(df['15min_range'] /df['High']).hist()"
   ]
  },
  {
   "cell_type": "code",
   "execution_count": 42,
   "metadata": {},
   "outputs": [],
   "source": [
    "def getDailyVol(data, span=30):\n",
    "    df = data.assign(Return = lambda x: data['Close'] / data['Close'].shift(1)-1)\n",
    "    sigma = df['Return'].ewm(span=span).std()\n",
    "    return sigma\n",
    "\n",
    "vol = getDailyVol(data=df)"
   ]
  },
  {
   "cell_type": "code",
   "execution_count": 43,
   "metadata": {},
   "outputs": [
    {
     "name": "stdout",
     "output_type": "stream",
     "text": [
      "               Timestamp                  VB       Vol\n",
      "0    2023-06-01 09:26:00 2023-06-01 09:41:00       NaN\n",
      "1    2023-06-01 09:31:00 2023-06-01 09:46:00       NaN\n",
      "2    2023-06-01 09:32:00 2023-06-01 09:47:00  0.023436\n",
      "3    2023-06-01 09:33:00 2023-06-01 09:48:00  0.016309\n",
      "4    2023-06-01 09:34:00 2023-06-01 09:49:00  0.013123\n",
      "...                  ...                 ...       ...\n",
      "5834 2023-07-06 14:58:00 2023-07-06 15:13:00  0.000858\n",
      "5835 2023-07-06 14:59:00 2023-07-06 15:14:00  0.000831\n",
      "5836 2023-07-06 15:00:00 2023-07-06 15:15:00  0.000805\n",
      "5837 2023-07-06 15:01:00 2023-07-06 15:16:00  0.000779\n",
      "5838 2023-07-06 15:35:00 2023-07-06 15:50:00  0.000755\n",
      "\n",
      "[5839 rows x 3 columns]\n"
     ]
    }
   ],
   "source": [
    "df['Timestamp'] = pd.to_datetime(df['Timestamp'])\n",
    "\n",
    "events = df[['Timestamp']].copy(deep=True)\n",
    "events['VB'] = df['Timestamp'] + pd.Timedelta(minutes=15)\n",
    "events['Vol'] = vol\n",
    "\n",
    "print(events)"
   ]
  },
  {
   "cell_type": "code",
   "execution_count": 44,
   "metadata": {},
   "outputs": [],
   "source": [
    "def TBL(df, events, width):\n",
    "    \n",
    "    res = events[['Timestamp', 'VB']].copy(deep=True)\n",
    "    \n",
    "    if width[0] > 0: events['UB'] = width[0]*events['Vol']\n",
    "    else: events['UB'] = np.nan\n",
    "        \n",
    "    if width[1] > 0: events['DB'] = -width[1]*events['Vol']\n",
    "    else: events['DB'] = np.nan\n",
    "        \n",
    "    for col,date,vb in res.itertuples():\n",
    "        df0 = df[(df['Timestamp'] > date) & (df['Timestamp'] < vb)].copy(deep=True)\n",
    "        df0['Return'] = df0['Close'] / df.loc[df['Timestamp'] == date, 'Close'].iloc[0]-1\n",
    "        \n",
    "        idx = (res['Timestamp'] == date)\n",
    "        \n",
    "        res.loc[idx, 'ut'] = df0.loc[df0['Return'] > events.loc[idx,'UB'].iloc[0], 'Timestamp'].min()\n",
    "        res.loc[idx, 'dt'] = df0.loc[df0['Return'] < events.loc[idx,'DB'].iloc[0], 'Timestamp'].min()\n",
    "            \n",
    "    return res"
   ]
  },
  {
   "cell_type": "code",
   "execution_count": 45,
   "metadata": {},
   "outputs": [
    {
     "name": "stdout",
     "output_type": "stream",
     "text": [
      "               Timestamp                  VB                  ut  dt  \\\n",
      "0    2023-06-01 09:26:00 2023-06-01 09:41:00                 NaT NaT   \n",
      "1    2023-06-01 09:31:00 2023-06-01 09:46:00                 NaT NaT   \n",
      "2    2023-06-01 09:32:00 2023-06-01 09:47:00 2023-06-01 09:34:00 NaT   \n",
      "3    2023-06-01 09:33:00 2023-06-01 09:48:00 2023-06-01 09:34:00 NaT   \n",
      "4    2023-06-01 09:34:00 2023-06-01 09:49:00 2023-06-01 09:38:00 NaT   \n",
      "...                  ...                 ...                 ...  ..   \n",
      "5834 2023-07-06 14:58:00 2023-07-06 15:13:00                 NaT NaT   \n",
      "5835 2023-07-06 14:59:00 2023-07-06 15:14:00                 NaT NaT   \n",
      "5836 2023-07-06 15:00:00 2023-07-06 15:15:00                 NaT NaT   \n",
      "5837 2023-07-06 15:01:00 2023-07-06 15:16:00                 NaT NaT   \n",
      "5838 2023-07-06 15:35:00 2023-07-06 15:50:00                 NaT NaT   \n",
      "\n",
      "                   First  \n",
      "0    2023-06-01 09:41:00  \n",
      "1    2023-06-01 09:46:00  \n",
      "2    2023-06-01 09:34:00  \n",
      "3    2023-06-01 09:34:00  \n",
      "4    2023-06-01 09:38:00  \n",
      "...                  ...  \n",
      "5834 2023-07-06 15:13:00  \n",
      "5835 2023-07-06 15:14:00  \n",
      "5836 2023-07-06 15:15:00  \n",
      "5837 2023-07-06 15:16:00  \n",
      "5838 2023-07-06 15:50:00  \n",
      "\n",
      "[5839 rows x 5 columns]\n"
     ]
    }
   ],
   "source": [
    "def get_first_touch(df, events, width):\n",
    "    res = TBL(df, events, width)\n",
    "    res['First'] = res[['VB', 'ut', 'dt']].dropna(how='all').min(axis=1)\n",
    "    return res\n",
    "\n",
    "# 上下栅栏的宽度由 vol(span) * 系数[up,down] 决定\n",
    "result = get_first_touch(df,events,width = [0.4,0.4])\n",
    "print(result)"
   ]
  },
  {
   "cell_type": "code",
   "execution_count": 46,
   "metadata": {},
   "outputs": [
    {
     "name": "stdout",
     "output_type": "stream",
     "text": [
      "               Timestamp  TB_15min_Label\n",
      "0    2023-06-01 09:26:00             1.0\n",
      "1    2023-06-01 09:31:00             1.0\n",
      "2    2023-06-01 09:32:00             1.0\n",
      "3    2023-06-01 09:33:00             1.0\n",
      "4    2023-06-01 09:34:00             1.0\n",
      "...                  ...             ...\n",
      "5834 2023-07-06 14:58:00             NaN\n",
      "5835 2023-07-06 14:59:00             NaN\n",
      "5836 2023-07-06 15:00:00             NaN\n",
      "5837 2023-07-06 15:01:00             NaN\n",
      "5838 2023-07-06 15:35:00             NaN\n",
      "\n",
      "[5839 rows x 2 columns]\n"
     ]
    }
   ],
   "source": [
    "def get_label(df,result):\n",
    "    result = result.dropna(subset=['First'])\n",
    "    outcome = result[['Timestamp']].copy(deep=True)\n",
    "    \n",
    "    price_t0 = pd.merge(result,df,on=['Timestamp'],how='left')['Close']\n",
    "    price_t1 = pd.merge(result,df,left_on=['First'], right_on=['Timestamp'], how = 'left')['Close']\n",
    "    \n",
    "    outcome['Return'] = price_t1/price_t0-1\n",
    "    outcome['TB_15min_Label'] = np.sign(outcome['Return'].dropna())\n",
    "    \n",
    "    outcome = outcome.drop(['Return'], axis = 1)\n",
    "\n",
    "    return outcome\n",
    "\n",
    "outcome = get_label(df,result)\n",
    "print(outcome)\n",
    "\n",
    "df = pd.merge(df,outcome, on=['Timestamp'],how='inner')"
   ]
  },
  {
   "cell_type": "markdown",
   "metadata": {},
   "source": [
    "Cleaning NaN and unwanted data"
   ]
  },
  {
   "cell_type": "code",
   "execution_count": 47,
   "metadata": {},
   "outputs": [],
   "source": [
    "# print('Number of rows before cleaning: %d'%df.shape[0])\n",
    "\n",
    "df.index = df['Timestamp']\n",
    "df = df.drop(['Timestamp'], axis=1)\n",
    "\n",
    "# df = df[(df['Target_Close_1min'] != 0)\n",
    "#                       & (df['Target_Close_5min_Mean'] != 0)\n",
    "#                       & (df['Target_Close_10min_Mean'] != 0)\n",
    "#                       & (df['Target_Close_15min_Mean'] != 0)\n",
    "#                      ]\n",
    "# pd.set_option ('mode.use_inf_as_na', True)\n",
    "# df = df.dropna()\n",
    "\n",
    "\n",
    "# print('Number of rows after cleaning: %d'%df.shape[0])\n",
    "\n",
    "# print(df)"
   ]
  },
  {
   "cell_type": "markdown",
   "metadata": {},
   "source": [
    "Saving CSV"
   ]
  },
  {
   "cell_type": "code",
   "execution_count": 48,
   "metadata": {},
   "outputs": [],
   "source": [
    "df.to_csv(PATH_WRITE)"
   ]
  }
 ],
 "metadata": {
  "kernelspec": {
   "display_name": "Python 3 (ipykernel)",
   "language": "python",
   "name": "python3"
  },
  "language_info": {
   "codemirror_mode": {
    "name": "ipython",
    "version": 3
   },
   "file_extension": ".py",
   "mimetype": "text/x-python",
   "name": "python",
   "nbconvert_exporter": "python",
   "pygments_lexer": "ipython3",
   "version": "3.10.9"
  },
  "orig_nbformat": 4
 },
 "nbformat": 4,
 "nbformat_minor": 2
}
