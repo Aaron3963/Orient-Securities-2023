{
 "cells": [
  {
   "cell_type": "code",
   "execution_count": 82,
   "metadata": {},
   "outputs": [],
   "source": [
    "import pandas as pd\n",
    "import numpy as np\n",
    "import seaborn as sns\n",
    "\n",
    "PATH_READ = '123181_train_raw.csv'\n",
    "PATH_WRITE = '123181_train_withF.csv'\n",
    "# df = pd.read_csv(PATH_READ, index_col='Timestamp')\n",
    "df = pd.read_csv(PATH_READ)\n"
   ]
  },
  {
   "cell_type": "markdown",
   "metadata": {},
   "source": [
    "Preprocessing, cleaning unwanted cols"
   ]
  },
  {
   "cell_type": "code",
   "execution_count": 83,
   "metadata": {},
   "outputs": [
    {
     "name": "stdout",
     "output_type": "stream",
     "text": [
      "Index(['Timestamp', 'Open', 'High', 'Low', 'Volume', 'Turnover', 'Close'], dtype='object')\n"
     ]
    }
   ],
   "source": [
    "df = df.drop(['InstrumentID','TradingDay','PreClosePrice',], axis=1)\n",
    "# df.index = pd.to_datetime(df.index)\n",
    "\n",
    "print(df.columns)"
   ]
  },
  {
   "cell_type": "markdown",
   "metadata": {},
   "source": [
    "Add hist return features"
   ]
  },
  {
   "cell_type": "code",
   "execution_count": 84,
   "metadata": {},
   "outputs": [
    {
     "name": "stdout",
     "output_type": "stream",
     "text": [
      "Index(['Timestamp', 'Open', 'High', 'Low', 'Volume', 'Turnover', 'Close',\n",
      "       'Hist_Ret_Close_3min', 'Hist_Ret_Close_5min', 'Hist_Ret_Close_10min',\n",
      "       'Hist_Ret_Close_15min'],\n",
      "      dtype='object')\n"
     ]
    }
   ],
   "source": [
    "def hist_ret_close(df, param):\n",
    "    return df['Close'] / df['Close'].shift(param)\n",
    "\n",
    "df.insert(loc=df.columns.get_loc('Close')+1, column= 'Hist_Ret_Close_15min', value= hist_ret_close(df,15))\n",
    "df.insert(loc=df.columns.get_loc('Close')+1, column= 'Hist_Ret_Close_10min', value= hist_ret_close(df,10))\n",
    "df.insert(loc=df.columns.get_loc('Close')+1, column= 'Hist_Ret_Close_5min', value= hist_ret_close(df,5))\n",
    "df.insert(loc=df.columns.get_loc('Close')+1, column= 'Hist_Ret_Close_3min', value= hist_ret_close(df,3))\n",
    "\n",
    "print(df.columns)"
   ]
  },
  {
   "cell_type": "markdown",
   "metadata": {},
   "source": [
    "Add log return features"
   ]
  },
  {
   "cell_type": "code",
   "execution_count": 85,
   "metadata": {},
   "outputs": [
    {
     "name": "stdout",
     "output_type": "stream",
     "text": [
      "Index(['Timestamp', 'Open', 'High', 'Low', 'Volume', 'Turnover', 'Close',\n",
      "       'Hist_Ret_Close_3min', 'Hist_Ret_Close_5min', 'Hist_Ret_Close_10min',\n",
      "       'Hist_Ret_Close_15min', 'Log_Return_Close_1min'],\n",
      "      dtype='object')\n",
      "0            NaN\n",
      "1       0.002370\n",
      "2      -0.003013\n",
      "3       0.003482\n",
      "4       0.005856\n",
      "          ...   \n",
      "5835    0.000184\n",
      "5836    0.000000\n",
      "5837    0.000000\n",
      "5838   -0.000303\n",
      "5839    0.000000\n",
      "Name: Log_Return_Close_1min, Length: 5840, dtype: float64\n"
     ]
    }
   ],
   "source": [
    "df['Log_Return_Close_1min'] = np.log(df['Close'] / df['Close'].shift(1))\n",
    "\n",
    "print(df.columns)\n",
    "print(df['Log_Return_Close_1min'])"
   ]
  },
  {
   "cell_type": "markdown",
   "metadata": {},
   "source": [
    "Add average price and mean price from 4"
   ]
  },
  {
   "cell_type": "code",
   "execution_count": 86,
   "metadata": {},
   "outputs": [
    {
     "name": "stdout",
     "output_type": "stream",
     "text": [
      "                Timestamp     Open     High      Low    Volume     Turnover  \\\n",
      "0     2023-06-01 09:26:00  161.800  161.800  161.800    6900.0   1116420.00   \n",
      "1     2023-06-01 09:31:00  161.580  162.184  161.000   61100.0   9883344.91   \n",
      "2     2023-06-01 09:32:00  162.324  163.221  161.601  102460.0  16637773.53   \n",
      "3     2023-06-01 09:33:00  161.605  162.260  161.341   38490.0   6225348.15   \n",
      "4     2023-06-01 09:34:00  162.572  163.740  162.490  115630.0  18865071.86   \n",
      "...                   ...      ...      ...      ...       ...          ...   \n",
      "5835  2023-07-06 14:58:00  303.521  303.592  303.521    1860.0    564560.61   \n",
      "5836  2023-07-06 14:59:00  303.592  303.592  303.592       0.0         0.00   \n",
      "5837  2023-07-06 15:00:00  303.592  303.592  303.592       0.0         0.00   \n",
      "5838  2023-07-06 15:01:00  303.500  303.500  303.500   53090.0  16112815.00   \n",
      "5839  2023-07-06 15:35:00  303.500  303.500  303.500       0.0         0.00   \n",
      "\n",
      "        Close  Hist_Ret_Close_3min  Hist_Ret_Close_5min  Hist_Ret_Close_10min  \\\n",
      "0     161.800                  NaN                  NaN                   NaN   \n",
      "1     162.184                  NaN                  NaN                   NaN   \n",
      "2     161.696                  NaN                  NaN                   NaN   \n",
      "3     162.260             1.002843                  NaN                   NaN   \n",
      "4     163.213             1.006345                  NaN                   NaN   \n",
      "...       ...                  ...                  ...                   ...   \n",
      "5835  303.592             1.001095             1.005272              1.009282   \n",
      "5836  303.592             1.000142             1.005272              1.008467   \n",
      "5837  303.592             1.000184             1.001095              1.006271   \n",
      "5838  303.500             0.999697             0.999839              1.004348   \n",
      "5839  303.500             0.999697             0.999881              1.005603   \n",
      "\n",
      "      Hist_Ret_Close_15min  Log_Return_Close_1min         Avg  \n",
      "0                      NaN                    NaN  161.800000  \n",
      "1                      NaN               0.002370  161.756873  \n",
      "2                      NaN              -0.003013  162.383111  \n",
      "3                      NaN               0.003482  161.739365  \n",
      "4                      NaN               0.005856  163.150323  \n",
      "...                    ...                    ...         ...  \n",
      "5835              1.009426               0.000184  303.527210  \n",
      "5836              1.008273               0.000000         NaN  \n",
      "5837              1.009675               0.000000         NaN  \n",
      "5838              1.007931              -0.000303  303.500000  \n",
      "5839              1.007870               0.000000         NaN  \n",
      "\n",
      "[5840 rows x 13 columns]\n"
     ]
    }
   ],
   "source": [
    "df['Avg'] = df['Turnover']/df['Volume']\n",
    "\n",
    "# For unchanged prices, fill zero\n",
    "\n",
    "# 目前对于涨/跌停这种情况的策略是在数据里补0，也许可以用NaN然后删除？\n",
    "# df['AvgPrice'].fillna(0, inplace=True)\n",
    "\n",
    "\n",
    "nan_rows_Avg = df[df['Avg'].isnull()]\n",
    "\n",
    "# 如遇涨/跌停，直接用高开低收的价格，因为都一样\n",
    "for index, row in nan_rows_Avg.iterrows():\n",
    "    if row['High'] == row['Low'] == row['Open'] == row['Close']:\n",
    "        row['Avg'] = row['High']\n",
    "\n",
    "df.update(nan_rows_Avg)\n",
    "\n",
    "print(df)\n",
    "\n",
    "df['4meanPrice'] = (df['High']+df['Low']+df['Close']+df['Open'])/4.0\n"
   ]
  },
  {
   "cell_type": "markdown",
   "metadata": {},
   "source": [
    "Add log return based on Avg"
   ]
  },
  {
   "cell_type": "code",
   "execution_count": 87,
   "metadata": {},
   "outputs": [
    {
     "name": "stdout",
     "output_type": "stream",
     "text": [
      "Index(['Timestamp', 'Open', 'High', 'Low', 'Volume', 'Turnover', 'Close',\n",
      "       'Hist_Ret_Close_3min', 'Hist_Ret_Close_5min', 'Hist_Ret_Close_10min',\n",
      "       'Hist_Ret_Close_15min', 'Log_Return_Close_1min', 'Avg', '4meanPrice',\n",
      "       'Log_Return_Avg_1min'],\n",
      "      dtype='object')\n",
      "0            NaN\n",
      "1      -0.000267\n",
      "2       0.003864\n",
      "3      -0.003972\n",
      "4       0.008686\n",
      "          ...   \n",
      "5835   -0.000055\n",
      "5836         NaN\n",
      "5837         NaN\n",
      "5838         NaN\n",
      "5839         NaN\n",
      "Name: Log_Return_Avg_1min, Length: 5840, dtype: float64\n"
     ]
    }
   ],
   "source": [
    "df['Log_Return_Avg_1min'] = np.log(df['Avg'] / df['Avg'].shift(1))\n",
    "\n",
    "print(df.columns)\n",
    "print(df['Log_Return_Avg_1min'])"
   ]
  },
  {
   "cell_type": "markdown",
   "metadata": {},
   "source": [
    "Hist based on avg price"
   ]
  },
  {
   "cell_type": "code",
   "execution_count": 88,
   "metadata": {},
   "outputs": [],
   "source": [
    "def hist_ret_avg(df, param):\n",
    "    return df['Avg'] / df['Avg'].shift(param)\n",
    "\n",
    "df['Hist_Ret_Avg_3min'] = hist_ret_avg(df, 3)\n",
    "df['Hist_Ret_Avg_5min'] = hist_ret_avg(df, 5)\n",
    "df['Hist_Ret_Avg_10min'] = hist_ret_avg(df, 10)\n",
    "df['Hist_Ret_Avg_15min'] = hist_ret_avg(df, 15)"
   ]
  },
  {
   "cell_type": "markdown",
   "metadata": {},
   "source": [
    "Add targets based on close price"
   ]
  },
  {
   "cell_type": "code",
   "execution_count": 89,
   "metadata": {},
   "outputs": [],
   "source": [
    "df['Target_Close_1min'] = (df['Close'].shift(-1) - df['Close'])/df['Close']\n",
    "\n",
    "df['Target_Close_5min_Mean'] = (df['Close'].rolling(window=5).mean().shift(-5) - df['Close']) / df['Close']\n",
    "\n",
    "df['Target_Close_10min_Mean'] = (df['Close'].rolling(window=10).mean().shift(-10) - df['Close']) / df['Close']\n",
    "\n",
    "df['Target_Close_15min_Mean'] = (df['Close'].rolling(window=10).mean().shift(-15) - df['Close']) / df['Close']"
   ]
  },
  {
   "cell_type": "markdown",
   "metadata": {},
   "source": [
    "Add targets based on avg price"
   ]
  },
  {
   "cell_type": "code",
   "execution_count": 90,
   "metadata": {},
   "outputs": [],
   "source": [
    "df['Target_Avg_1min'] = (df['Avg'].shift(-1) - df['Avg'])/df['Avg']\n",
    "\n",
    "df['Target_Avg_5min_Mean'] = (df['Avg'].rolling(window=5).mean().shift(-5) - df['Avg']) / df['Avg']\n",
    "\n",
    "df['Target_Avg_10min_Mean'] = (df['Avg'].rolling(window=10).mean().shift(-10) - df['Avg']) / df['Avg']\n",
    "\n",
    "df['Target_Avg_15min_Mean'] = (df['Avg'].rolling(window=10).mean().shift(-15) - df['Avg']) / df['Avg']"
   ]
  },
  {
   "cell_type": "markdown",
   "metadata": {},
   "source": [
    "Experiment with rolling volatility"
   ]
  },
  {
   "cell_type": "code",
   "execution_count": 91,
   "metadata": {},
   "outputs": [
    {
     "name": "stdout",
     "output_type": "stream",
     "text": [
      "Index(['Timestamp', 'Open', 'High', 'Low', 'Volume', 'Turnover', 'Close',\n",
      "       'Hist_Ret_Close_3min', 'Hist_Ret_Close_5min', 'Hist_Ret_Close_10min',\n",
      "       'Hist_Ret_Close_15min', 'Log_Return_Close_1min', 'Avg', '4meanPrice',\n",
      "       'Log_Return_Avg_1min', 'Hist_Ret_Avg_3min', 'Hist_Ret_Avg_5min',\n",
      "       'Hist_Ret_Avg_10min', 'Hist_Ret_Avg_15min', 'Target_Close_1min',\n",
      "       'Target_Close_5min_Mean', 'Target_Close_10min_Mean',\n",
      "       'Target_Close_15min_Mean', 'Target_Avg_1min', 'Target_Avg_5min_Mean',\n",
      "       'Target_Avg_10min_Mean', 'Target_Avg_15min_Mean', 'Vol_5min_Close',\n",
      "       'Vol_10min_Close', 'Vol_15min_Close'],\n",
      "      dtype='object')\n"
     ]
    }
   ],
   "source": [
    "def rolling_std(df, window_size):\n",
    "    return df['Close'].rolling(window=window_size).std()\n",
    "\n",
    "df['Vol_5min_Close'] = rolling_std(df, 5)\n",
    "df['Vol_10min_Close'] = rolling_std(df, 10)\n",
    "df['Vol_15min_Close'] = rolling_std(df, 15)\n",
    "\n",
    "print(df.columns)"
   ]
  },
  {
   "cell_type": "markdown",
   "metadata": {},
   "source": [
    "BOP = [(Close-Open)/(High-Low)]*Volume"
   ]
  },
  {
   "cell_type": "code",
   "execution_count": 92,
   "metadata": {},
   "outputs": [
    {
     "name": "stdout",
     "output_type": "stream",
     "text": [
      "0            NaN\n",
      "1       0.510135\n",
      "2      -0.387654\n",
      "3       0.712731\n",
      "4       0.512800\n",
      "          ...   \n",
      "5835    1.000000\n",
      "5836         NaN\n",
      "5837         NaN\n",
      "5838         NaN\n",
      "5839         NaN\n",
      "Name: BOP, Length: 5840, dtype: float64\n"
     ]
    }
   ],
   "source": [
    "df['BOP'] = ((df['Close']-df['Open']) / (df['High']-df['Low']))\n",
    "\n",
    "print(df['BOP'])"
   ]
  },
  {
   "cell_type": "markdown",
   "metadata": {},
   "source": [
    "Average True Range"
   ]
  },
  {
   "cell_type": "code",
   "execution_count": 93,
   "metadata": {},
   "outputs": [],
   "source": [
    "df['High-Low'] = df['High'] - df['Low']\n",
    "df['High-Close_prev'] = abs(df['High'] - df['Close'].shift(1))\n",
    "df['Low-Close_prev'] = abs(df['Low'] - df['Close'].shift(1))\n",
    "df['TR'] = df[['High-Low', 'High-Close_prev', 'Low-Close_prev']].max(axis=1)\n",
    "\n",
    "# Choose the ATR period\n",
    "ATR_period = 16\n",
    "\n",
    "# Calculate Average True Range (ATR)\n",
    "df['ATR_16'] = df['TR'].rolling(ATR_period).mean()\n",
    "\n",
    "# Drop the intermediate columns used for TR calculation\n",
    "df.drop(['High-Low', 'High-Close_prev', 'Low-Close_prev'], axis=1, inplace=True)"
   ]
  },
  {
   "cell_type": "markdown",
   "metadata": {},
   "source": [
    "Add Triple Barrier Target"
   ]
  },
  {
   "cell_type": "code",
   "execution_count": 94,
   "metadata": {},
   "outputs": [
    {
     "data": {
      "text/plain": [
       "<Axes: >"
      ]
     },
     "execution_count": 94,
     "metadata": {},
     "output_type": "execute_result"
    },
    {
     "data": {
      "image/png": "[encoded data removed]",
      "text/plain": [
       "<Figure size 640x480 with 1 Axes>"
      ]
     },
     "metadata": {},
     "output_type": "display_data"
    }
   ],
   "source": [
    "df['15min_range'] = df['High'].rolling(15).max() - df['Low'].rolling(15).min()\n",
    "(df['15min_range'] /df['High']).hist()"
   ]
  },
  {
   "cell_type": "code",
   "execution_count": 95,
   "metadata": {},
   "outputs": [],
   "source": [
    "def getDailyVol(data, span=30):\n",
    "    df = data.assign(Return = lambda x: data['Close'] / data['Close'].shift(1)-1)\n",
    "    sigma = df['Return'].ewm(span=span).std()\n",
    "    return sigma\n",
    "\n",
    "vol = getDailyVol(data=df)"
   ]
  },
  {
   "cell_type": "code",
   "execution_count": 96,
   "metadata": {},
   "outputs": [
    {
     "name": "stdout",
     "output_type": "stream",
     "text": [
      "               Timestamp                  VB       Vol\n",
      "0    2023-06-01 09:26:00 2023-06-01 09:41:00       NaN\n",
      "1    2023-06-01 09:31:00 2023-06-01 09:46:00       NaN\n",
      "2    2023-06-01 09:32:00 2023-06-01 09:47:00  0.003806\n",
      "3    2023-06-01 09:33:00 2023-06-01 09:48:00  0.003497\n",
      "4    2023-06-01 09:34:00 2023-06-01 09:49:00  0.003777\n",
      "...                  ...                 ...       ...\n",
      "5835 2023-07-06 14:58:00 2023-07-06 15:13:00  0.001540\n",
      "5836 2023-07-06 14:59:00 2023-07-06 15:14:00  0.001493\n",
      "5837 2023-07-06 15:00:00 2023-07-06 15:15:00  0.001447\n",
      "5838 2023-07-06 15:01:00 2023-07-06 15:16:00  0.001410\n",
      "5839 2023-07-06 15:35:00 2023-07-06 15:50:00  0.001366\n",
      "\n",
      "[5840 rows x 3 columns]\n"
     ]
    }
   ],
   "source": [
    "df['Timestamp'] = pd.to_datetime(df['Timestamp'])\n",
    "\n",
    "events = df[['Timestamp']].copy(deep=True)\n",
    "events['VB'] = df['Timestamp'] + pd.Timedelta(minutes=15)\n",
    "events['Vol'] = vol\n",
    "\n",
    "print(events)"
   ]
  },
  {
   "cell_type": "code",
   "execution_count": 97,
   "metadata": {},
   "outputs": [],
   "source": [
    "def TBL(df, events, width):\n",
    "    \n",
    "    res = events[['Timestamp', 'VB']].copy(deep=True)\n",
    "    \n",
    "    if width[0] > 0: events['UB'] = width[0]*events['Vol']\n",
    "    else: events['UB'] = np.nan\n",
    "        \n",
    "    if width[1] > 0: events['DB'] = -width[1]*events['Vol']\n",
    "    else: events['DB'] = np.nan\n",
    "        \n",
    "    for col,date,vb in res.itertuples():\n",
    "        df0 = df[(df['Timestamp'] > date) & (df['Timestamp'] < vb)].copy(deep=True)\n",
    "        df0['Return'] = df0['Close'] / df.loc[df['Timestamp'] == date, 'Close'].iloc[0]-1\n",
    "        \n",
    "        idx = (res['Timestamp'] == date)\n",
    "        \n",
    "        res.loc[idx, 'ut'] = df0.loc[df0['Return'] > events.loc[idx,'UB'].iloc[0], 'Timestamp'].min()\n",
    "        res.loc[idx, 'dt'] = df0.loc[df0['Return'] < events.loc[idx,'DB'].iloc[0], 'Timestamp'].min()\n",
    "            \n",
    "    return res"
   ]
  },
  {
   "cell_type": "code",
   "execution_count": 98,
   "metadata": {},
   "outputs": [
    {
     "name": "stdout",
     "output_type": "stream",
     "text": [
      "               Timestamp                  VB                  ut  \\\n",
      "0    2023-06-01 09:26:00 2023-06-01 09:41:00                 NaT   \n",
      "1    2023-06-01 09:31:00 2023-06-01 09:46:00                 NaT   \n",
      "2    2023-06-01 09:32:00 2023-06-01 09:47:00 2023-06-01 09:33:00   \n",
      "3    2023-06-01 09:33:00 2023-06-01 09:48:00 2023-06-01 09:34:00   \n",
      "4    2023-06-01 09:34:00 2023-06-01 09:49:00 2023-06-01 09:38:00   \n",
      "...                  ...                 ...                 ...   \n",
      "5835 2023-07-06 14:58:00 2023-07-06 15:13:00                 NaT   \n",
      "5836 2023-07-06 14:59:00 2023-07-06 15:14:00                 NaT   \n",
      "5837 2023-07-06 15:00:00 2023-07-06 15:15:00                 NaT   \n",
      "5838 2023-07-06 15:01:00 2023-07-06 15:16:00                 NaT   \n",
      "5839 2023-07-06 15:35:00 2023-07-06 15:50:00                 NaT   \n",
      "\n",
      "                      dt               First  \n",
      "0                    NaT 2023-06-01 09:41:00  \n",
      "1                    NaT 2023-06-01 09:46:00  \n",
      "2                    NaT 2023-06-01 09:33:00  \n",
      "3                    NaT 2023-06-01 09:34:00  \n",
      "4    2023-06-01 09:35:00 2023-06-01 09:35:00  \n",
      "...                  ...                 ...  \n",
      "5835                 NaT 2023-07-06 15:13:00  \n",
      "5836                 NaT 2023-07-06 15:14:00  \n",
      "5837                 NaT 2023-07-06 15:15:00  \n",
      "5838                 NaT 2023-07-06 15:16:00  \n",
      "5839                 NaT 2023-07-06 15:50:00  \n",
      "\n",
      "[5840 rows x 5 columns]\n"
     ]
    }
   ],
   "source": [
    "def get_first_touch(df, events, width):\n",
    "    res = TBL(df, events, width)\n",
    "    res['First'] = res[['VB', 'ut', 'dt']].dropna(how='all').min(axis=1)\n",
    "    return res\n",
    "\n",
    "# 上下栅栏的宽度由 vol(span) * 系数[up,down] 决定\n",
    "result = get_first_touch(df,events,width = [0.4,0.4])\n",
    "print(result)"
   ]
  },
  {
   "cell_type": "code",
   "execution_count": 99,
   "metadata": {},
   "outputs": [
    {
     "name": "stdout",
     "output_type": "stream",
     "text": [
      "               Timestamp  TB_15min_Label\n",
      "0    2023-06-01 09:26:00             1.0\n",
      "1    2023-06-01 09:31:00             1.0\n",
      "2    2023-06-01 09:32:00             1.0\n",
      "3    2023-06-01 09:33:00             1.0\n",
      "4    2023-06-01 09:34:00            -1.0\n",
      "...                  ...             ...\n",
      "5835 2023-07-06 14:58:00             NaN\n",
      "5836 2023-07-06 14:59:00             NaN\n",
      "5837 2023-07-06 15:00:00             NaN\n",
      "5838 2023-07-06 15:01:00             NaN\n",
      "5839 2023-07-06 15:35:00             NaN\n",
      "\n",
      "[5840 rows x 2 columns]\n"
     ]
    }
   ],
   "source": [
    "def get_label(df,result):\n",
    "    result = result.dropna(subset=['First'])\n",
    "    outcome = result[['Timestamp']].copy(deep=True)\n",
    "    \n",
    "    price_t0 = pd.merge(result,df,on=['Timestamp'],how='left')['Close']\n",
    "    price_t1 = pd.merge(result,df,left_on=['First'], right_on=['Timestamp'], how = 'left')['Close']\n",
    "    \n",
    "    outcome['Return'] = price_t1/price_t0-1\n",
    "    outcome['TB_15min_Label'] = np.sign(outcome['Return'].dropna())\n",
    "    \n",
    "    outcome = outcome.drop(['Return'], axis = 1)\n",
    "\n",
    "    return outcome\n",
    "\n",
    "outcome = get_label(df,result)\n",
    "print(outcome)\n",
    "\n",
    "df = pd.merge(df,outcome, on=['Timestamp'],how='inner')"
   ]
  },
  {
   "cell_type": "markdown",
   "metadata": {},
   "source": [
    "Cleaning NaN and unwanted data"
   ]
  },
  {
   "cell_type": "code",
   "execution_count": 100,
   "metadata": {},
   "outputs": [
    {
     "name": "stdout",
     "output_type": "stream",
     "text": [
      "Number of rows before cleaning: 5840\n",
      "Number of rows after cleaning: 4826\n",
      "                        Open     High      Low   Volume     Turnover    Close  \\\n",
      "Timestamp                                                                       \n",
      "2023-06-01 09:45:00  164.447  164.883  163.664  66850.0  10992018.33  163.664   \n",
      "2023-06-01 09:46:00  163.510  163.689  163.269  56180.0   9185431.13  163.348   \n",
      "2023-06-01 09:47:00  163.379  163.684  162.892  45340.0   7400842.01  162.892   \n",
      "2023-06-01 09:48:00  162.819  163.449  162.802  58240.0   9503958.08  163.272   \n",
      "2023-06-01 09:49:00  163.381  163.500  163.219  15950.0   2605439.91  163.330   \n",
      "...                      ...      ...      ...      ...          ...      ...   \n",
      "2023-07-06 14:39:00  299.800  300.263  299.800  10430.0   3129620.72  300.000   \n",
      "2023-07-06 14:40:00  299.990  300.350  299.802   9600.0   2880003.58  300.099   \n",
      "2023-07-06 14:41:00  300.200  300.200  299.843   9230.0   2769834.58  300.200   \n",
      "2023-07-06 14:42:00  300.148  300.337  299.995  10790.0   3239103.66  300.051   \n",
      "2023-07-06 14:43:00  300.092  300.771  300.092  18120.0   5446658.82  300.757   \n",
      "\n",
      "                     Hist_Ret_Close_3min  Hist_Ret_Close_5min  \\\n",
      "Timestamp                                                       \n",
      "2023-06-01 09:45:00             0.999627             0.996093   \n",
      "2023-06-01 09:46:00             0.992695             0.994811   \n",
      "2023-06-01 09:47:00             0.989858             0.994912   \n",
      "2023-06-01 09:48:00             0.997605             0.992233   \n",
      "2023-06-01 09:49:00             0.999890             0.992519   \n",
      "...                                  ...                  ...   \n",
      "2023-07-06 14:39:00             0.998692             1.002372   \n",
      "2023-07-06 14:40:00             1.000177             1.001549   \n",
      "2023-07-06 14:41:00             1.000917             0.999358   \n",
      "2023-07-06 14:42:00             1.000170             1.000017   \n",
      "2023-07-06 14:43:00             1.002193             1.002774   \n",
      "\n",
      "                     Hist_Ret_Close_10min  Hist_Ret_Close_15min  ...  \\\n",
      "Timestamp                                                        ...   \n",
      "2023-06-01 09:45:00              1.006835              1.011520  ...   \n",
      "2023-06-01 09:46:00              1.007239              1.007177  ...   \n",
      "2023-06-01 09:47:00              1.000018              1.007397  ...   \n",
      "2023-06-01 09:48:00              0.994506              1.006237  ...   \n",
      "2023-06-01 09:49:00              0.997910              1.000717  ...   \n",
      "...                                   ...                   ...  ...   \n",
      "2023-07-06 14:39:00              0.996340              0.998369  ...   \n",
      "2023-07-06 14:40:00              0.996153              0.999454  ...   \n",
      "2023-07-06 14:41:00              0.998453              0.997906  ...   \n",
      "2023-07-06 14:42:00              1.000170              0.995795  ...   \n",
      "2023-07-06 14:43:00              1.002624              0.998858  ...   \n",
      "\n",
      "                     Target_Avg_10min_Mean  Target_Avg_15min_Mean  \\\n",
      "Timestamp                                                           \n",
      "2023-06-01 09:45:00              -0.004215              -0.002472   \n",
      "2023-06-01 09:46:00               0.001881               0.002939   \n",
      "2023-06-01 09:47:00               0.003981               0.004111   \n",
      "2023-06-01 09:48:00               0.004618               0.003506   \n",
      "2023-06-01 09:49:00               0.003773               0.001423   \n",
      "...                                    ...                    ...   \n",
      "2023-07-06 14:39:00               0.002165               0.004643   \n",
      "2023-07-06 14:40:00               0.002852               0.005536   \n",
      "2023-07-06 14:41:00               0.003246               0.005998   \n",
      "2023-07-06 14:42:00               0.003448               0.006449   \n",
      "2023-07-06 14:43:00               0.002561               0.005994   \n",
      "\n",
      "                     Vol_5min_Close  Vol_10min_Close  Vol_15min_Close  \\\n",
      "Timestamp                                                               \n",
      "2023-06-01 09:45:00        0.432360         0.760929         0.966785   \n",
      "2023-06-01 09:46:00        0.553675         0.543003         0.914257   \n",
      "2023-06-01 09:47:00        0.739736         0.542377         0.800161   \n",
      "2023-06-01 09:48:00        0.629709         0.567852         0.729616   \n",
      "2023-06-01 09:49:00        0.275200         0.587643         0.726418   \n",
      "...                             ...              ...              ...   \n",
      "2023-07-06 14:39:00        0.271760         0.546249         0.627206   \n",
      "2023-07-06 14:40:00        0.179664         0.373034         0.630929   \n",
      "2023-07-06 14:41:00        0.103636         0.303805         0.619374   \n",
      "2023-07-06 14:42:00        0.103564         0.305055         0.558966   \n",
      "2023-07-06 14:43:00        0.308367         0.395711         0.527695   \n",
      "\n",
      "                          BOP     TR    ATR_16  15min_range  TB_15min_Label  \n",
      "Timestamp                                                                    \n",
      "2023-06-01 09:45:00 -0.642330  1.219  0.945000        3.883            -1.0  \n",
      "2023-06-01 09:46:00 -0.385714  0.420  0.971250        3.542            -1.0  \n",
      "2023-06-01 09:47:00 -0.614899  0.792  0.946750        3.542             1.0  \n",
      "2023-06-01 09:48:00  0.700155  0.647  0.885938        2.880             1.0  \n",
      "2023-06-01 09:49:00 -0.181495  0.281  0.846063        2.880             1.0  \n",
      "...                       ...    ...       ...          ...             ...  \n",
      "2023-07-06 14:39:00  0.431965  0.463  0.671312        2.656             1.0  \n",
      "2023-07-06 14:40:00  0.198905  0.548  0.678313        2.656             1.0  \n",
      "2023-07-06 14:41:00  0.000000  0.357  0.682500        2.656             1.0  \n",
      "2023-07-06 14:42:00 -0.283626  0.342  0.665437        2.554             1.0  \n",
      "2023-07-06 14:43:00  0.979381  0.720  0.638687        2.360             1.0  \n",
      "\n",
      "[4826 rows x 34 columns]\n"
     ]
    }
   ],
   "source": [
    "print('Number of rows before cleaning: %d'%df.shape[0])\n",
    "\n",
    "df.index = df['Timestamp']\n",
    "df = df.drop(['Timestamp'], axis=1)\n",
    "\n",
    "df = df[(df['Target_Close_1min'] != 0)\n",
    "                      & (df['Target_Close_5min_Mean'] != 0)\n",
    "                      & (df['Target_Close_10min_Mean'] != 0)\n",
    "                      & (df['Target_Close_15min_Mean'] != 0)\n",
    "                     ]\n",
    "pd.set_option ('mode.use_inf_as_na', True)\n",
    "df = df.dropna()\n",
    "\n",
    "\n",
    "print('Number of rows after cleaning: %d'%df.shape[0])\n",
    "\n",
    "print(df)"
   ]
  },
  {
   "cell_type": "markdown",
   "metadata": {},
   "source": [
    "Saving CSV"
   ]
  },
  {
   "cell_type": "code",
   "execution_count": 101,
   "metadata": {},
   "outputs": [],
   "source": [
    "df.to_csv(PATH_WRITE)"
   ]
  }
 ],
 "metadata": {
  "kernelspec": {
   "display_name": "Python 3 (ipykernel)",
   "language": "python",
   "name": "python3"
  },
  "language_info": {
   "codemirror_mode": {
    "name": "ipython",
    "version": 3
   },
   "file_extension": ".py",
   "mimetype": "text/x-python",
   "name": "python",
   "nbconvert_exporter": "python",
   "pygments_lexer": "ipython3",
   "version": "3.10.9"
  },
  "orig_nbformat": 4
 },
 "nbformat": 4,
 "nbformat_minor": 2
}
