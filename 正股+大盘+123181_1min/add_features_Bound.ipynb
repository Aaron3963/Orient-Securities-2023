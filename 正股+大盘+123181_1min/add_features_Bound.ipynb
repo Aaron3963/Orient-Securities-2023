{
 "cells": [
  {
   "cell_type": "code",
   "execution_count": 122,
   "metadata": {},
   "outputs": [],
   "source": [
    "import pandas as pd\n",
    "import numpy as np\n",
    "import seaborn as sns\n",
    "\n",
    "PATH_READ = '123181_test_raw.csv'\n",
    "PATH_WRITE = '123181_test_withF_temp.csv'\n",
    "# df = pd.read_csv(PATH_READ, index_col='Timestamp')\n",
    "df = pd.read_csv(PATH_READ)\n"
   ]
  },
  {
   "cell_type": "markdown",
   "metadata": {},
   "source": [
    "Preprocessing, cleaning unwanted cols"
   ]
  },
  {
   "cell_type": "code",
   "execution_count": 123,
   "metadata": {},
   "outputs": [
    {
     "name": "stdout",
     "output_type": "stream",
     "text": [
      "Index(['Timestamp', 'Open', 'High', 'Low', 'Volume', 'Turnover', 'Close'], dtype='object')\n"
     ]
    }
   ],
   "source": [
    "df = df.drop(['InstrumentID','TradingDay','PreClosePrice',], axis=1)\n",
    "# df.index = pd.to_datetime(df.index)\n",
    "\n",
    "print(df.columns)"
   ]
  },
  {
   "cell_type": "markdown",
   "metadata": {},
   "source": [
    "Add hist return features"
   ]
  },
  {
   "cell_type": "code",
   "execution_count": 124,
   "metadata": {},
   "outputs": [
    {
     "name": "stdout",
     "output_type": "stream",
     "text": [
      "Index(['Timestamp', 'Open', 'High', 'Low', 'Volume', 'Turnover', 'Close',\n",
      "       'Hist_Ret_Close_3min', 'Hist_Ret_Close_5min', 'Hist_Ret_Close_10min',\n",
      "       'Hist_Ret_Close_15min'],\n",
      "      dtype='object')\n"
     ]
    }
   ],
   "source": [
    "def hist_ret_close(df, param):\n",
    "    return df['Close'] / df['Close'].shift(param)\n",
    "\n",
    "df.insert(loc=df.columns.get_loc('Close')+1, column= 'Hist_Ret_Close_15min', value= hist_ret_close(df,15))\n",
    "df.insert(loc=df.columns.get_loc('Close')+1, column= 'Hist_Ret_Close_10min', value= hist_ret_close(df,10))\n",
    "df.insert(loc=df.columns.get_loc('Close')+1, column= 'Hist_Ret_Close_5min', value= hist_ret_close(df,5))\n",
    "df.insert(loc=df.columns.get_loc('Close')+1, column= 'Hist_Ret_Close_3min', value= hist_ret_close(df,3))\n",
    "\n",
    "print(df.columns)"
   ]
  },
  {
   "cell_type": "markdown",
   "metadata": {},
   "source": [
    "Add log return features"
   ]
  },
  {
   "cell_type": "code",
   "execution_count": 125,
   "metadata": {},
   "outputs": [
    {
     "name": "stdout",
     "output_type": "stream",
     "text": [
      "Index(['Timestamp', 'Open', 'High', 'Low', 'Volume', 'Turnover', 'Close',\n",
      "       'Hist_Ret_Close_3min', 'Hist_Ret_Close_5min', 'Hist_Ret_Close_10min',\n",
      "       'Hist_Ret_Close_15min', 'Log_Return_Close_1min'],\n",
      "      dtype='object')\n",
      "0            NaN\n",
      "1      -0.022279\n",
      "2       0.001913\n",
      "3      -0.001667\n",
      "4      -0.008843\n",
      "          ...   \n",
      "2427    0.000084\n",
      "2428    0.000000\n",
      "2429    0.000000\n",
      "2430    0.000384\n",
      "2431    0.000000\n",
      "Name: Log_Return_Close_1min, Length: 2432, dtype: float64\n"
     ]
    }
   ],
   "source": [
    "df['Log_Return_Close_1min'] = np.log(df['Close'] / df['Close'].shift(1))\n",
    "\n",
    "print(df.columns)\n",
    "print(df['Log_Return_Close_1min'])"
   ]
  },
  {
   "cell_type": "markdown",
   "metadata": {},
   "source": [
    "Add average price and mean price from 4"
   ]
  },
  {
   "cell_type": "code",
   "execution_count": 126,
   "metadata": {},
   "outputs": [
    {
     "name": "stdout",
     "output_type": "stream",
     "text": [
      "                Timestamp     Open     High      Low    Volume     Turnover  \\\n",
      "0     2023-07-07 09:26:00  307.000  307.000  307.000   25540.0   7840780.00   \n",
      "1     2023-07-07 09:31:00  307.000  307.000  300.054  147350.0  44929827.97   \n",
      "2     2023-07-07 09:32:00  299.001  302.459  299.001   72650.0  21905618.55   \n",
      "3     2023-07-07 09:33:00  301.125  301.125  297.473   83310.0  24915514.67   \n",
      "4     2023-07-07 09:34:00  300.584  300.617  296.995   71470.0  21314935.10   \n",
      "...                   ...      ...      ...      ...       ...          ...   \n",
      "2427  2023-07-20 14:58:00  260.500  260.500  260.500     220.0     57310.00   \n",
      "2428  2023-07-20 14:59:00  260.500  260.500  260.500       0.0         0.00   \n",
      "2429  2023-07-20 15:00:00  260.500  260.500  260.500       0.0         0.00   \n",
      "2430  2023-07-20 15:01:00  260.600  260.600  260.600    9770.0   2546062.00   \n",
      "2431  2023-07-20 15:35:00  260.600  260.600  260.600       0.0         0.00   \n",
      "\n",
      "        Close  Hist_Ret_Close_3min  Hist_Ret_Close_5min  Hist_Ret_Close_10min  \\\n",
      "0     307.000                  NaN                  NaN                   NaN   \n",
      "1     300.236                  NaN                  NaN                   NaN   \n",
      "2     300.811                  NaN                  NaN                   NaN   \n",
      "3     300.310             0.978208                  NaN                   NaN   \n",
      "4     297.666             0.991440                  NaN                   NaN   \n",
      "...       ...                  ...                  ...                   ...   \n",
      "2427  260.500             0.998662             0.997993              0.997889   \n",
      "2428  260.500             0.998352             0.999206              0.997683   \n",
      "2429  260.500             1.000084             0.998662              0.998834   \n",
      "2430  260.600             1.000384             0.998735              0.998467   \n",
      "2431  260.600             1.000384             1.000468              0.999149   \n",
      "\n",
      "      Hist_Ret_Close_15min  Log_Return_Close_1min         Avg  \n",
      "0                      NaN                    NaN  307.000000  \n",
      "1                      NaN              -0.022279  304.919090  \n",
      "2                      NaN               0.001913  301.522623  \n",
      "3                      NaN              -0.001667  299.069916  \n",
      "4                      NaN              -0.008843  298.236114  \n",
      "...                    ...                    ...         ...  \n",
      "2427              1.001199               0.000084  260.500000  \n",
      "2428              1.000492               0.000000         NaN  \n",
      "2429              1.001072               0.000000         NaN  \n",
      "2430              0.999042               0.000384  260.600000  \n",
      "2431              0.999233               0.000000         NaN  \n",
      "\n",
      "[2432 rows x 13 columns]\n"
     ]
    }
   ],
   "source": [
    "df['Avg'] = df['Turnover']/df['Volume']\n",
    "\n",
    "# For unchanged prices, fill zero\n",
    "\n",
    "# 目前对于涨/跌停这种情况的策略是在数据里补0，也许可以用NaN然后删除？\n",
    "# df['AvgPrice'].fillna(0, inplace=True)\n",
    "\n",
    "\n",
    "nan_rows_Avg = df[df['Avg'].isnull()]\n",
    "\n",
    "# 如遇涨/跌停，直接用高开低收的价格，因为都一样\n",
    "for index, row in nan_rows_Avg.iterrows():\n",
    "    if row['High'] == row['Low'] == row['Open'] == row['Close']:\n",
    "        row['Avg'] = row['High']\n",
    "\n",
    "df.update(nan_rows_Avg)\n",
    "\n",
    "print(df)\n",
    "\n",
    "df['4meanPrice'] = (df['High']+df['Low']+df['Close']+df['Open'])/4.0\n"
   ]
  },
  {
   "cell_type": "markdown",
   "metadata": {},
   "source": [
    "Add log return based on Avg"
   ]
  },
  {
   "cell_type": "code",
   "execution_count": 127,
   "metadata": {},
   "outputs": [
    {
     "name": "stdout",
     "output_type": "stream",
     "text": [
      "Index(['Timestamp', 'Open', 'High', 'Low', 'Volume', 'Turnover', 'Close',\n",
      "       'Hist_Ret_Close_3min', 'Hist_Ret_Close_5min', 'Hist_Ret_Close_10min',\n",
      "       'Hist_Ret_Close_15min', 'Log_Return_Close_1min', 'Avg', '4meanPrice',\n",
      "       'Log_Return_Avg_1min'],\n",
      "      dtype='object')\n",
      "0            NaN\n",
      "1      -0.006801\n",
      "2      -0.011201\n",
      "3      -0.008168\n",
      "4      -0.002792\n",
      "          ...   \n",
      "2427   -0.000584\n",
      "2428         NaN\n",
      "2429         NaN\n",
      "2430         NaN\n",
      "2431         NaN\n",
      "Name: Log_Return_Avg_1min, Length: 2432, dtype: float64\n"
     ]
    }
   ],
   "source": [
    "df['Log_Return_Avg_1min'] = np.log(df['Avg'] / df['Avg'].shift(1))\n",
    "\n",
    "print(df.columns)\n",
    "print(df['Log_Return_Avg_1min'])"
   ]
  },
  {
   "cell_type": "markdown",
   "metadata": {},
   "source": [
    "Hist based on avg price"
   ]
  },
  {
   "cell_type": "code",
   "execution_count": 128,
   "metadata": {},
   "outputs": [],
   "source": [
    "def hist_ret_avg(df, param):\n",
    "    return df['Avg'] / df['Avg'].shift(param)\n",
    "\n",
    "df['Hist_Ret_Avg_3min'] = hist_ret_avg(df, 3)\n",
    "df['Hist_Ret_Avg_5min'] = hist_ret_avg(df, 5)\n",
    "df['Hist_Ret_Avg_10min'] = hist_ret_avg(df, 10)\n",
    "df['Hist_Ret_Avg_15min'] = hist_ret_avg(df, 15)"
   ]
  },
  {
   "cell_type": "markdown",
   "metadata": {},
   "source": [
    "Add targets based on close price"
   ]
  },
  {
   "cell_type": "code",
   "execution_count": 129,
   "metadata": {},
   "outputs": [],
   "source": [
    "df['Target_Close_1min'] = (df['Close'].shift(-1) - df['Close'])/df['Close']\n",
    "\n",
    "df['Target_Close_5min_Mean'] = (df['Close'].rolling(window=5).mean().shift(-5) - df['Close']) / df['Close']\n",
    "\n",
    "df['Target_Close_10min_Mean'] = (df['Close'].rolling(window=10).mean().shift(-10) - df['Close']) / df['Close']\n",
    "\n",
    "df['Target_Close_15min_Mean'] = (df['Close'].rolling(window=10).mean().shift(-15) - df['Close']) / df['Close']"
   ]
  },
  {
   "cell_type": "markdown",
   "metadata": {},
   "source": [
    "Add targets based on avg price"
   ]
  },
  {
   "cell_type": "code",
   "execution_count": 130,
   "metadata": {},
   "outputs": [],
   "source": [
    "df['Target_Avg_1min'] = (df['Avg'].shift(-1) - df['Avg'])/df['Avg']\n",
    "\n",
    "df['Target_Avg_5min_Mean'] = (df['Avg'].rolling(window=5).mean().shift(-5) - df['Avg']) / df['Avg']\n",
    "\n",
    "df['Target_Avg_10min_Mean'] = (df['Avg'].rolling(window=10).mean().shift(-10) - df['Avg']) / df['Avg']\n",
    "\n",
    "df['Target_Avg_15min_Mean'] = (df['Avg'].rolling(window=10).mean().shift(-15) - df['Avg']) / df['Avg']"
   ]
  },
  {
   "cell_type": "markdown",
   "metadata": {},
   "source": [
    "Experiment with rolling volatility"
   ]
  },
  {
   "cell_type": "code",
   "execution_count": 131,
   "metadata": {},
   "outputs": [
    {
     "name": "stdout",
     "output_type": "stream",
     "text": [
      "Index(['Timestamp', 'Open', 'High', 'Low', 'Volume', 'Turnover', 'Close',\n",
      "       'Hist_Ret_Close_3min', 'Hist_Ret_Close_5min', 'Hist_Ret_Close_10min',\n",
      "       'Hist_Ret_Close_15min', 'Log_Return_Close_1min', 'Avg', '4meanPrice',\n",
      "       'Log_Return_Avg_1min', 'Hist_Ret_Avg_3min', 'Hist_Ret_Avg_5min',\n",
      "       'Hist_Ret_Avg_10min', 'Hist_Ret_Avg_15min', 'Target_Close_1min',\n",
      "       'Target_Close_5min_Mean', 'Target_Close_10min_Mean',\n",
      "       'Target_Close_15min_Mean', 'Target_Avg_1min', 'Target_Avg_5min_Mean',\n",
      "       'Target_Avg_10min_Mean', 'Target_Avg_15min_Mean', 'Vol_5min_Close',\n",
      "       'Vol_10min_Close', 'Vol_15min_Close'],\n",
      "      dtype='object')\n"
     ]
    }
   ],
   "source": [
    "def rolling_std(df, window_size):\n",
    "    return df['Close'].rolling(window=window_size).std()\n",
    "\n",
    "df['Vol_5min_Close'] = rolling_std(df, 5)\n",
    "df['Vol_10min_Close'] = rolling_std(df, 10)\n",
    "df['Vol_15min_Close'] = rolling_std(df, 15)\n",
    "\n",
    "print(df.columns)"
   ]
  },
  {
   "cell_type": "markdown",
   "metadata": {},
   "source": [
    "BOP = [(Close-Open)/(High-Low)]*Volume"
   ]
  },
  {
   "cell_type": "code",
   "execution_count": 132,
   "metadata": {},
   "outputs": [
    {
     "name": "stdout",
     "output_type": "stream",
     "text": [
      "0            NaN\n",
      "1      -0.973798\n",
      "2       0.523424\n",
      "3      -0.223165\n",
      "4      -0.805632\n",
      "          ...   \n",
      "2427         NaN\n",
      "2428         NaN\n",
      "2429         NaN\n",
      "2430         NaN\n",
      "2431         NaN\n",
      "Name: BOP, Length: 2432, dtype: float64\n"
     ]
    }
   ],
   "source": [
    "df['BOP'] = ((df['Close']-df['Open']) / (df['High']-df['Low']))\n",
    "\n",
    "print(df['BOP'])"
   ]
  },
  {
   "cell_type": "markdown",
   "metadata": {},
   "source": [
    "Average True Range"
   ]
  },
  {
   "cell_type": "code",
   "execution_count": 133,
   "metadata": {},
   "outputs": [],
   "source": [
    "df['High-Low'] = df['High'] - df['Low']\n",
    "df['High-Close_prev'] = abs(df['High'] - df['Close'].shift(1))\n",
    "df['Low-Close_prev'] = abs(df['Low'] - df['Close'].shift(1))\n",
    "df['TR'] = df[['High-Low', 'High-Close_prev', 'Low-Close_prev']].max(axis=1)\n",
    "\n",
    "# Choose the ATR period\n",
    "ATR_period = 16\n",
    "\n",
    "# Calculate Average True Range (ATR)\n",
    "df['ATR_16'] = df['TR'].rolling(ATR_period).mean()\n",
    "\n",
    "# Drop the intermediate columns used for TR calculation\n",
    "df.drop(['High-Low', 'High-Close_prev', 'Low-Close_prev'], axis=1, inplace=True)"
   ]
  },
  {
   "cell_type": "markdown",
   "metadata": {},
   "source": [
    "Add Triple Barrier Target"
   ]
  },
  {
   "cell_type": "code",
   "execution_count": 134,
   "metadata": {},
   "outputs": [
    {
     "data": {
      "text/plain": [
       "<Axes: >"
      ]
     },
     "execution_count": 134,
     "metadata": {},
     "output_type": "execute_result"
    },
    {
     "data": {
      "image/png": "[encoded data removed]",
      "text/plain": [
       "<Figure size 640x480 with 1 Axes>"
      ]
     },
     "metadata": {},
     "output_type": "display_data"
    }
   ],
   "source": [
    "df['15min_range'] = df['High'].rolling(15).max() - df['Low'].rolling(15).min()\n",
    "(df['15min_range'] /df['High']).hist()"
   ]
  },
  {
   "cell_type": "code",
   "execution_count": 135,
   "metadata": {},
   "outputs": [],
   "source": [
    "def getDailyVol(data, span=30):\n",
    "    df = data.assign(Return = lambda x: data['Close'] / data['Close'].shift(1)-1)\n",
    "    sigma = df['Return'].ewm(span=span).std()\n",
    "    return sigma\n",
    "\n",
    "vol = getDailyVol(data=df)"
   ]
  },
  {
   "cell_type": "code",
   "execution_count": 136,
   "metadata": {},
   "outputs": [
    {
     "name": "stdout",
     "output_type": "stream",
     "text": [
      "               Timestamp                  VB       Vol\n",
      "0    2023-07-07 09:26:00 2023-07-07 09:41:00       NaN\n",
      "1    2023-07-07 09:31:00 2023-07-07 09:46:00       NaN\n",
      "2    2023-07-07 09:32:00 2023-07-07 09:47:00  0.016934\n",
      "3    2023-07-07 09:33:00 2023-07-07 09:48:00  0.012673\n",
      "4    2023-07-07 09:34:00 2023-07-07 09:49:00  0.010223\n",
      "...                  ...                 ...       ...\n",
      "2427 2023-07-20 14:58:00 2023-07-20 15:13:00  0.001025\n",
      "2428 2023-07-20 14:59:00 2023-07-20 15:14:00  0.000992\n",
      "2429 2023-07-20 15:00:00 2023-07-20 15:15:00  0.000960\n",
      "2430 2023-07-20 15:01:00 2023-07-20 15:16:00  0.000936\n",
      "2431 2023-07-20 15:35:00 2023-07-20 15:50:00  0.000906\n",
      "\n",
      "[2432 rows x 3 columns]\n"
     ]
    }
   ],
   "source": [
    "df['Timestamp'] = pd.to_datetime(df['Timestamp'])\n",
    "\n",
    "events = df[['Timestamp']].copy(deep=True)\n",
    "events['VB'] = df['Timestamp'] + pd.Timedelta(minutes=15)\n",
    "events['Vol'] = vol\n",
    "\n",
    "print(events)"
   ]
  },
  {
   "cell_type": "code",
   "execution_count": 137,
   "metadata": {},
   "outputs": [],
   "source": [
    "def TBL(df, events, width):\n",
    "    \n",
    "    res = events[['Timestamp', 'VB']].copy(deep=True)\n",
    "    \n",
    "    if width[0] > 0: events['UB'] = width[0]*events['Vol']\n",
    "    else: events['UB'] = np.nan\n",
    "        \n",
    "    if width[1] > 0: events['DB'] = -width[1]*events['Vol']\n",
    "    else: events['DB'] = np.nan\n",
    "        \n",
    "    for col,date,vb in res.itertuples():\n",
    "        df0 = df[(df['Timestamp'] > date) & (df['Timestamp'] < vb)].copy(deep=True)\n",
    "        df0['Return'] = df0['Close'] / df.loc[df['Timestamp'] == date, 'Close'].iloc[0]-1\n",
    "        \n",
    "        idx = (res['Timestamp'] == date)\n",
    "        \n",
    "        res.loc[idx, 'ut'] = df0.loc[df0['Return'] > events.loc[idx,'UB'].iloc[0], 'Timestamp'].min()\n",
    "        res.loc[idx, 'dt'] = df0.loc[df0['Return'] < events.loc[idx,'DB'].iloc[0], 'Timestamp'].min()\n",
    "            \n",
    "    return res"
   ]
  },
  {
   "cell_type": "code",
   "execution_count": 138,
   "metadata": {},
   "outputs": [
    {
     "name": "stdout",
     "output_type": "stream",
     "text": [
      "               Timestamp                  VB  ut                  dt  \\\n",
      "0    2023-07-07 09:26:00 2023-07-07 09:41:00 NaT                 NaT   \n",
      "1    2023-07-07 09:31:00 2023-07-07 09:46:00 NaT                 NaT   \n",
      "2    2023-07-07 09:32:00 2023-07-07 09:47:00 NaT 2023-07-07 09:34:00   \n",
      "3    2023-07-07 09:33:00 2023-07-07 09:48:00 NaT 2023-07-07 09:34:00   \n",
      "4    2023-07-07 09:34:00 2023-07-07 09:49:00 NaT 2023-07-07 09:35:00   \n",
      "...                  ...                 ...  ..                 ...   \n",
      "2427 2023-07-20 14:58:00 2023-07-20 15:13:00 NaT                 NaT   \n",
      "2428 2023-07-20 14:59:00 2023-07-20 15:14:00 NaT                 NaT   \n",
      "2429 2023-07-20 15:00:00 2023-07-20 15:15:00 NaT                 NaT   \n",
      "2430 2023-07-20 15:01:00 2023-07-20 15:16:00 NaT                 NaT   \n",
      "2431 2023-07-20 15:35:00 2023-07-20 15:50:00 NaT                 NaT   \n",
      "\n",
      "                   First  \n",
      "0    2023-07-07 09:41:00  \n",
      "1    2023-07-07 09:46:00  \n",
      "2    2023-07-07 09:34:00  \n",
      "3    2023-07-07 09:34:00  \n",
      "4    2023-07-07 09:35:00  \n",
      "...                  ...  \n",
      "2427 2023-07-20 15:13:00  \n",
      "2428 2023-07-20 15:14:00  \n",
      "2429 2023-07-20 15:15:00  \n",
      "2430 2023-07-20 15:16:00  \n",
      "2431 2023-07-20 15:50:00  \n",
      "\n",
      "[2432 rows x 5 columns]\n"
     ]
    }
   ],
   "source": [
    "def get_first_touch(df, events, width):\n",
    "    res = TBL(df, events, width)\n",
    "    res['First'] = res[['VB', 'ut', 'dt']].dropna(how='all').min(axis=1)\n",
    "    return res\n",
    "\n",
    "# 上下栅栏的宽度由 vol(span) * 系数[up,down] 决定\n",
    "result = get_first_touch(df,events,width = [0.4,0.4])\n",
    "print(result)"
   ]
  },
  {
   "cell_type": "code",
   "execution_count": 139,
   "metadata": {},
   "outputs": [
    {
     "name": "stdout",
     "output_type": "stream",
     "text": [
      "               Timestamp  TB_15min_Label\n",
      "0    2023-07-07 09:26:00            -1.0\n",
      "1    2023-07-07 09:31:00            -1.0\n",
      "2    2023-07-07 09:32:00            -1.0\n",
      "3    2023-07-07 09:33:00            -1.0\n",
      "4    2023-07-07 09:34:00            -1.0\n",
      "...                  ...             ...\n",
      "2427 2023-07-20 14:58:00             NaN\n",
      "2428 2023-07-20 14:59:00             NaN\n",
      "2429 2023-07-20 15:00:00             NaN\n",
      "2430 2023-07-20 15:01:00             NaN\n",
      "2431 2023-07-20 15:35:00             NaN\n",
      "\n",
      "[2432 rows x 2 columns]\n"
     ]
    }
   ],
   "source": [
    "def get_label(df,result):\n",
    "    result = result.dropna(subset=['First'])\n",
    "    outcome = result[['Timestamp']].copy(deep=True)\n",
    "    \n",
    "    price_t0 = pd.merge(result,df,on=['Timestamp'],how='left')['Close']\n",
    "    price_t1 = pd.merge(result,df,left_on=['First'], right_on=['Timestamp'], how = 'left')['Close']\n",
    "    \n",
    "    outcome['Return'] = price_t1/price_t0-1\n",
    "    outcome['TB_15min_Label'] = np.sign(outcome['Return'].dropna())\n",
    "    \n",
    "    outcome = outcome.drop(['Return'], axis = 1)\n",
    "\n",
    "    return outcome\n",
    "\n",
    "outcome = get_label(df,result)\n",
    "print(outcome)\n",
    "\n",
    "df = pd.merge(df,outcome, on=['Timestamp'],how='inner')"
   ]
  },
  {
   "cell_type": "markdown",
   "metadata": {},
   "source": [
    "Cleaning NaN and unwanted data"
   ]
  },
  {
   "cell_type": "code",
   "execution_count": 140,
   "metadata": {},
   "outputs": [
    {
     "name": "stdout",
     "output_type": "stream",
     "text": [
      "Number of rows before cleaning: 2432\n",
      "Number of rows after cleaning: 2432\n",
      "                        Open     High      Low    Volume     Turnover  \\\n",
      "Timestamp                                                               \n",
      "2023-07-07 09:26:00  307.000  307.000  307.000   25540.0   7840780.00   \n",
      "2023-07-07 09:31:00  307.000  307.000  300.054  147350.0  44929827.97   \n",
      "2023-07-07 09:32:00  299.001  302.459  299.001   72650.0  21905618.55   \n",
      "2023-07-07 09:33:00  301.125  301.125  297.473   83310.0  24915514.67   \n",
      "2023-07-07 09:34:00  300.584  300.617  296.995   71470.0  21314935.10   \n",
      "...                      ...      ...      ...       ...          ...   \n",
      "2023-07-20 14:58:00  260.500  260.500  260.500     220.0     57310.00   \n",
      "2023-07-20 14:59:00  260.500  260.500  260.500       0.0         0.00   \n",
      "2023-07-20 15:00:00  260.500  260.500  260.500       0.0         0.00   \n",
      "2023-07-20 15:01:00  260.600  260.600  260.600    9770.0   2546062.00   \n",
      "2023-07-20 15:35:00  260.600  260.600  260.600       0.0         0.00   \n",
      "\n",
      "                       Close  Hist_Ret_Close_3min  Hist_Ret_Close_5min  \\\n",
      "Timestamp                                                                \n",
      "2023-07-07 09:26:00  307.000                  NaN                  NaN   \n",
      "2023-07-07 09:31:00  300.236                  NaN                  NaN   \n",
      "2023-07-07 09:32:00  300.811                  NaN                  NaN   \n",
      "2023-07-07 09:33:00  300.310             0.978208                  NaN   \n",
      "2023-07-07 09:34:00  297.666             0.991440                  NaN   \n",
      "...                      ...                  ...                  ...   \n",
      "2023-07-20 14:58:00  260.500             0.998662             0.997993   \n",
      "2023-07-20 14:59:00  260.500             0.998352             0.999206   \n",
      "2023-07-20 15:00:00  260.500             1.000084             0.998662   \n",
      "2023-07-20 15:01:00  260.600             1.000384             0.998735   \n",
      "2023-07-20 15:35:00  260.600             1.000384             1.000468   \n",
      "\n",
      "                     Hist_Ret_Close_10min  Hist_Ret_Close_15min  ...  \\\n",
      "Timestamp                                                        ...   \n",
      "2023-07-07 09:26:00                   NaN                   NaN  ...   \n",
      "2023-07-07 09:31:00                   NaN                   NaN  ...   \n",
      "2023-07-07 09:32:00                   NaN                   NaN  ...   \n",
      "2023-07-07 09:33:00                   NaN                   NaN  ...   \n",
      "2023-07-07 09:34:00                   NaN                   NaN  ...   \n",
      "...                                   ...                   ...  ...   \n",
      "2023-07-20 14:58:00              0.997889              1.001199  ...   \n",
      "2023-07-20 14:59:00              0.997683              1.000492  ...   \n",
      "2023-07-20 15:00:00              0.998834              1.001072  ...   \n",
      "2023-07-20 15:01:00              0.998467              0.999042  ...   \n",
      "2023-07-20 15:35:00              0.999149              0.999233  ...   \n",
      "\n",
      "                     Target_Avg_10min_Mean  Target_Avg_15min_Mean  \\\n",
      "Timestamp                                                           \n",
      "2023-07-07 09:26:00              -0.029012              -0.036682   \n",
      "2023-07-07 09:31:00              -0.025177              -0.030684   \n",
      "2023-07-07 09:32:00              -0.016146              -0.020353   \n",
      "2023-07-07 09:33:00              -0.009297              -0.012631   \n",
      "2023-07-07 09:34:00              -0.007594              -0.010724   \n",
      "...                                    ...                    ...   \n",
      "2023-07-20 14:58:00                    NaN                    NaN   \n",
      "2023-07-20 14:59:00                    NaN                    NaN   \n",
      "2023-07-20 15:00:00                    NaN                    NaN   \n",
      "2023-07-20 15:01:00                    NaN                    NaN   \n",
      "2023-07-20 15:35:00                    NaN                    NaN   \n",
      "\n",
      "                     Vol_5min_Close  Vol_10min_Close  Vol_15min_Close  \\\n",
      "Timestamp                                                               \n",
      "2023-07-07 09:26:00             NaN              NaN              NaN   \n",
      "2023-07-07 09:31:00             NaN              NaN              NaN   \n",
      "2023-07-07 09:32:00             NaN              NaN              NaN   \n",
      "2023-07-07 09:33:00             NaN              NaN              NaN   \n",
      "2023-07-07 09:34:00        3.464165              NaN              NaN   \n",
      "...                             ...              ...              ...   \n",
      "2023-07-20 14:58:00        0.202592         0.210960         0.263689   \n",
      "2023-07-20 14:59:00        0.219417         0.207474         0.251777   \n",
      "2023-07-20 15:00:00        0.194994         0.222282         0.215541   \n",
      "2023-07-20 15:01:00        0.048133         0.203711         0.220564   \n",
      "2023-07-20 15:35:00        0.054772         0.199910         0.225136   \n",
      "\n",
      "                          BOP     TR    ATR_16  15min_range  TB_15min_Label  \n",
      "Timestamp                                                                    \n",
      "2023-07-07 09:26:00       NaN  0.000       NaN          NaN            -1.0  \n",
      "2023-07-07 09:31:00 -0.973798  6.946       NaN          NaN            -1.0  \n",
      "2023-07-07 09:32:00  0.523424  3.458       NaN          NaN            -1.0  \n",
      "2023-07-07 09:33:00 -0.223165  3.652       NaN          NaN            -1.0  \n",
      "2023-07-07 09:34:00 -0.805632  3.622       NaN          NaN            -1.0  \n",
      "...                       ...    ...       ...          ...             ...  \n",
      "2023-07-20 14:58:00       NaN  0.022  0.359875        1.234             NaN  \n",
      "2023-07-20 14:59:00       NaN  0.000  0.334438        1.234             NaN  \n",
      "2023-07-20 15:00:00       NaN  0.000  0.317500        1.130             NaN  \n",
      "2023-07-20 15:01:00       NaN  0.100  0.298375        0.722             NaN  \n",
      "2023-07-20 15:35:00       NaN  0.000  0.249625        0.722             NaN  \n",
      "\n",
      "[2432 rows x 34 columns]\n"
     ]
    }
   ],
   "source": [
    "print('Number of rows before cleaning: %d'%df.shape[0])\n",
    "\n",
    "df.index = df['Timestamp']\n",
    "df = df.drop(['Timestamp'], axis=1)\n",
    "\n",
    "# df = df[(df['Target_Close_1min'] != 0)\n",
    "#                       & (df['Target_Close_5min_Mean'] != 0)\n",
    "#                       & (df['Target_Close_10min_Mean'] != 0)\n",
    "#                       & (df['Target_Close_15min_Mean'] != 0)\n",
    "#                      ]\n",
    "# pd.set_option ('mode.use_inf_as_na', True)\n",
    "# df = df.dropna()\n",
    "\n",
    "\n",
    "print('Number of rows after cleaning: %d'%df.shape[0])\n",
    "\n",
    "print(df)"
   ]
  },
  {
   "cell_type": "markdown",
   "metadata": {},
   "source": [
    "Saving CSV"
   ]
  },
  {
   "cell_type": "code",
   "execution_count": 141,
   "metadata": {},
   "outputs": [],
   "source": [
    "df.to_csv(PATH_WRITE)"
   ]
  }
 ],
 "metadata": {
  "kernelspec": {
   "display_name": "Python 3 (ipykernel)",
   "language": "python",
   "name": "python3"
  },
  "language_info": {
   "codemirror_mode": {
    "name": "ipython",
    "version": 3
   },
   "file_extension": ".py",
   "mimetype": "text/x-python",
   "name": "python",
   "nbconvert_exporter": "python",
   "pygments_lexer": "ipython3",
   "version": "3.10.9"
  },
  "orig_nbformat": 4
 },
 "nbformat": 4,
 "nbformat_minor": 2
}
