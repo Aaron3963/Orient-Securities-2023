{
 "cells": [
  {
   "cell_type": "code",
   "execution_count": 3,
   "metadata": {},
   "outputs": [
    {
     "name": "stdout",
     "output_type": "stream",
     "text": [
      "Index(['Open', 'High', 'Low', 'Volume', 'Turnover', 'Close',\n",
      "       'Hist_Ret_Close_3min', 'Hist_Ret_Close_5min', 'Hist_Ret_Close_10min',\n",
      "       'Hist_Ret_Close_15min', 'Log_Return_Close_1min', 'Avg', '4meanPrice',\n",
      "       'Log_Return_Avg_1min', 'Hist_Ret_Avg_3min', 'Hist_Ret_Avg_5min',\n",
      "       'Hist_Ret_Avg_10min', 'Hist_Ret_Avg_15min', 'Target_Close_1min',\n",
      "       'Target_Close_5min_Mean', 'Target_Close_10min_Mean',\n",
      "       'Target_Close_15min_Mean', 'Target_Avg_1min', 'Target_Avg_5min_Mean',\n",
      "       'Target_Avg_10min_Mean', 'Target_Avg_15min_Mean', 'Vol_5min_Close',\n",
      "       'Vol_10min_Close', 'Vol_15min_Close',\n",
      "       'Sharpe_Log_ret_1min/Vol_5min_Close',\n",
      "       'Sharpe_Log_ret_1min/Vol_10min_Close',\n",
      "       'Sharpe_Log_ret_1min/Vol_15min_Close', '15min_range', 'TB_15min_Label'],\n",
      "      dtype='object')\n"
     ]
    }
   ],
   "source": [
    "from sklearn.neighbors import KNeighborsClassifier\n",
    "from sklearn.metrics import accuracy_score\n",
    "\n",
    "import pandas as pd\n",
    "\n",
    "# Assuming you have your feature matrix as X and target variable as y\n",
    "TRAIN_PATH = '123181_train_withF.csv'\n",
    "TEST_PATH = '123181_test_withF.csv'\n",
    "\n",
    "train = pd.read_csv(TRAIN_PATH,index_col='Timestamp')\n",
    "test = pd.read_csv(TEST_PATH,index_col='Timestamp')\n",
    "\n",
    "print(train.columns)"
   ]
  },
  {
   "cell_type": "code",
   "execution_count": 2,
   "metadata": {},
   "outputs": [
    {
     "name": "stdout",
     "output_type": "stream",
     "text": [
      "Accuracy: 0.6466666666666666\n"
     ]
    }
   ],
   "source": [
    "\n",
    "# Split the data into train and test sets\n",
    "train_X = train[['Log_Return_Avg_1min', 'Hist_Ret_Avg_3min','Hist_Ret_Avg_5min', \n",
    "               'Hist_Ret_Avg_10min', 'Hist_Ret_Avg_15min','Target_Avg_1min']]\n",
    "\n",
    "test_X = test[['Log_Return_Avg_1min', 'Hist_Ret_Avg_3min','Hist_Ret_Avg_5min', \n",
    "               'Hist_Ret_Avg_10min', 'Hist_Ret_Avg_15min','Target_Avg_1min']]\n",
    "\n",
    "train_y = train['TB_15min_Label']\n",
    "test_y = test['TB_15min_Label']\n",
    "\n",
    "\n",
    "# Create a KNeighborsClassifier object\n",
    "knn = KNeighborsClassifier()\n",
    "\n",
    "# Fit the model on the training data\n",
    "knn.fit(train_X, train_y)\n",
    "\n",
    "# Predict on the test data\n",
    "predictions = knn.predict(test_X)\n",
    "\n",
    "# Calculate accuracy\n",
    "accuracy = accuracy_score(test_y, predictions)\n",
    "print(\"Accuracy:\", accuracy)\n"
   ]
  }
 ],
 "metadata": {
  "kernelspec": {
   "display_name": "Python 3 (ipykernel)",
   "language": "python",
   "name": "python3"
  },
  "language_info": {
   "codemirror_mode": {
    "name": "ipython",
    "version": 3
   },
   "file_extension": ".py",
   "mimetype": "text/x-python",
   "name": "python",
   "nbconvert_exporter": "python",
   "pygments_lexer": "ipython3",
   "version": "3.10.9"
  },
  "orig_nbformat": 4
 },
 "nbformat": 4,
 "nbformat_minor": 2
}
