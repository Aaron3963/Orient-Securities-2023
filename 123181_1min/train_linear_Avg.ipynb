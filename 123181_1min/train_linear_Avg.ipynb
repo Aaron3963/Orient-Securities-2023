{
 "cells": [
  {
   "cell_type": "code",
   "execution_count": 18,
   "metadata": {},
   "outputs": [
    {
     "name": "stdout",
     "output_type": "stream",
     "text": [
      "Index(['Timestamp', 'Open', 'High', 'Low', 'Volume', 'Turnover', 'Close',\n",
      "       'Hist_Ret_Close_3min', 'Hist_Ret_Close_5min', 'Hist_Ret_Close_10min',\n",
      "       'Hist_Ret_Close_15min', 'Log_Return_Close_1min', 'Avg', '4meanPrice',\n",
      "       'Log_Return_Avg_1min', 'Hist_Ret_Avg_3min', 'Hist_Ret_Avg_5min',\n",
      "       'Hist_Ret_Avg_10min', 'Hist_Ret_Avg_15min', 'Target_Close_1min',\n",
      "       'Target_Close_5min_Mean', 'Target_Close_10min_Mean',\n",
      "       'Target_Close_15min_Mean', 'Target_Avg_1min', 'Target_Avg_5min_Mean',\n",
      "       'Target_Avg_10min_Mean', 'Target_Avg_15min_Mean', 'Vol_5min_Close',\n",
      "       'Vol_10min_Close', 'Vol_15min_Close',\n",
      "       'Sharpe_Log_ret_1min/Vol_5min_Close',\n",
      "       'Sharpe_Log_ret_1min/Vol_10min_Close',\n",
      "       'Sharpe_Log_ret_1min/Vol_15min_Close', '15min_range', 'TB_15min_Label'],\n",
      "      dtype='object')\n"
     ]
    }
   ],
   "source": [
    "import pandas as pd\n",
    "from sklearn.linear_model import LinearRegression, Ridge\n",
    "from sklearn.metrics import mean_squared_error,r2_score\n",
    "from sklearn.model_selection import train_test_split\n",
    "import matplotlib.pyplot as plt\n",
    "\n",
    "\n",
    "TRAIN_PATH = '123181_train_withF.csv'\n",
    "TEST_PATH = '123181_test_withF.csv'\n",
    "\n",
    "train = pd.read_csv(TRAIN_PATH)\n",
    "test = pd.read_csv(TEST_PATH)\n",
    "\n",
    "print(train.columns)\n"
   ]
  },
  {
   "cell_type": "markdown",
   "metadata": {},
   "source": [
    "Train Model"
   ]
  },
  {
   "cell_type": "code",
   "execution_count": 19,
   "metadata": {},
   "outputs": [],
   "source": [
    "def trainLR_Close(train, test, target):\n",
    "       model = LinearRegression()\n",
    "\n",
    "       model.fit(train[['Hist_Ret_Close_3min', 'Hist_Ret_Close_5min',\n",
    "              'Hist_Ret_Close_10min', 'Hist_Ret_Close_15min', 'Log_Return_Close_1min',\n",
    "              'Avg', '4meanPrice', 'Vol_5min_Close', 'Vol_10min_Close', 'Vol_15min_Close',\n",
    "              'Sharpe_Log_ret_1min/Vol_5min_Close', 'Sharpe_Log_ret_1min/Vol_10min_Close',\n",
    "              'Sharpe_Log_ret_1min/Vol_15min_Close']], train[target])\n",
    "\n",
    "       # Calculate prediction from model\n",
    "       predictions = model.predict(test[['Hist_Ret_Close_3min', 'Hist_Ret_Close_5min',\n",
    "              'Hist_Ret_Close_10min', 'Hist_Ret_Close_15min', 'Log_Return_Close_1min',\n",
    "              'Avg', '4meanPrice', 'Vol_5min_Close', 'Vol_10min_Close', 'Vol_15min_Close',\n",
    "              'Sharpe_Log_ret_1min/Vol_5min_Close', 'Sharpe_Log_ret_1min/Vol_10min_Close',\n",
    "              'Sharpe_Log_ret_1min/Vol_15min_Close']])\n",
    "                                 \n",
    "       # Results\n",
    "       print(model.coef_)\n",
    "       print(\"MSE: %5f\"%mean_squared_error(test[target],predictions))\n",
    "       print(\"R^2: %5f\"%r2_score(test[target],predictions))\n"
   ]
  },
  {
   "cell_type": "code",
   "execution_count": 20,
   "metadata": {},
   "outputs": [],
   "source": [
    "def trainLR_Avg(train, test, target):\n",
    "       model = LinearRegression()\n",
    "\n",
    "       model.fit(train[['Log_Return_Avg_1min', 'Hist_Ret_Avg_3min', 'Hist_Ret_Avg_5min',\n",
    "       'Hist_Ret_Avg_10min', 'Hist_Ret_Avg_15min']], train[target])\n",
    "\n",
    "       predictions = model.predict(test[['Log_Return_Avg_1min', 'Hist_Ret_Avg_3min', 'Hist_Ret_Avg_5min',\n",
    "       'Hist_Ret_Avg_10min', 'Hist_Ret_Avg_15min']])\n",
    "       \n",
    "                \n",
    "       # Results\n",
    "       print(model.coef_)\n",
    "       print(\"MSE: %5f\"%mean_squared_error(test[target],predictions))\n",
    "       print(\"R^2: %5f\"%r2_score(test[target],predictions))\n"
   ]
  },
  {
   "cell_type": "code",
   "execution_count": 21,
   "metadata": {},
   "outputs": [
    {
     "name": "stdout",
     "output_type": "stream",
     "text": [
      "[ 3.42034002e-02 -2.24570044e-02  1.49605600e-02 -2.31481170e-03\n",
      " -9.35390135e-02 -8.61035791e-04  8.58069703e-04  7.03679765e-05\n",
      " -4.01357497e-05  1.24383947e-04  2.56338051e-02 -2.07230110e-02\n",
      "  2.82480507e-02]\n",
      "MSE: 0.000004\n",
      "R^2: -0.017392\n",
      "[ 0.20609169  0.0177219  -0.02521359  0.01099461  0.00144806]\n",
      "MSE: 0.000003\n",
      "R^2: 0.022133\n"
     ]
    }
   ],
   "source": [
    "trainLR_Close(train,test,'Target_Close_1min')\n",
    "\n",
    "trainLR_Avg(train,test, 'Target_Avg_1min')"
   ]
  }
 ],
 "metadata": {
  "kernelspec": {
   "display_name": "Python 3 (ipykernel)",
   "language": "python",
   "name": "python3"
  },
  "language_info": {
   "codemirror_mode": {
    "name": "ipython",
    "version": 3
   },
   "file_extension": ".py",
   "mimetype": "text/x-python",
   "name": "python",
   "nbconvert_exporter": "python",
   "pygments_lexer": "ipython3",
   "version": "3.10.9"
  },
  "orig_nbformat": 4
 },
 "nbformat": 4,
 "nbformat_minor": 2
}
