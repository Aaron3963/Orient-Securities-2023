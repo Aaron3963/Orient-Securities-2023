{
 "cells": [
  {
   "cell_type": "code",
   "execution_count": 26,
   "id": "1112d5be",
   "metadata": {},
   "outputs": [
    {
     "ename": "ModuleNotFoundError",
     "evalue": "No module named 'pandas_ta'",
     "output_type": "error",
     "traceback": [
      "\u001b[1;31m---------------------------------------------------------------------------\u001b[0m",
      "\u001b[1;31mModuleNotFoundError\u001b[0m                       Traceback (most recent call last)",
      "Cell \u001b[1;32mIn[26], line 5\u001b[0m\n\u001b[0;32m      3\u001b[0m \u001b[38;5;28;01mimport\u001b[39;00m \u001b[38;5;21;01mrandom\u001b[39;00m\n\u001b[0;32m      4\u001b[0m \u001b[38;5;28;01mimport\u001b[39;00m \u001b[38;5;21;01mnumpy\u001b[39;00m \u001b[38;5;28;01mas\u001b[39;00m \u001b[38;5;21;01mnp\u001b[39;00m\n\u001b[1;32m----> 5\u001b[0m \u001b[38;5;28;01mimport\u001b[39;00m \u001b[38;5;21;01mpandas_ta\u001b[39;00m \u001b[38;5;28;01mas\u001b[39;00m \u001b[38;5;21;01mpta\u001b[39;00m\n\u001b[0;32m      7\u001b[0m \u001b[38;5;28;01mfrom\u001b[39;00m \u001b[38;5;21;01msklearn\u001b[39;00m\u001b[38;5;21;01m.\u001b[39;00m\u001b[38;5;21;01mlinear_model\u001b[39;00m \u001b[38;5;28;01mimport\u001b[39;00m LinearRegression\n\u001b[0;32m      8\u001b[0m \u001b[38;5;28;01mfrom\u001b[39;00m \u001b[38;5;21;01msklearn\u001b[39;00m\u001b[38;5;21;01m.\u001b[39;00m\u001b[38;5;21;01mmetrics\u001b[39;00m \u001b[38;5;28;01mimport\u001b[39;00m mean_squared_error,r2_score\n",
      "\u001b[1;31mModuleNotFoundError\u001b[0m: No module named 'pandas_ta'"
     ]
    }
   ],
   "source": [
    "import os\n",
    "import pandas as pd\n",
    "import random\n",
    "import numpy as np\n",
    "import pandas_ta as pta\n",
    "\n",
    "from sklearn.linear_model import LinearRegression\n",
    "from sklearn.metrics import mean_squared_error,r2_score\n",
    "from sklearn.model_selection import train_test_split\n",
    "\n",
    "SEED = 114514"
   ]
  },
  {
   "cell_type": "code",
   "execution_count": 3,
   "id": "aa9b0ee2",
   "metadata": {
    "collapsed": true
   },
   "outputs": [],
   "source": [
    "def fix_all_seeds(seed):\n",
    "    np.random.seed(seed)\n",
    "    random.seed(seed)\n",
    "    os.environ[\"PYTHONHASHSEED\"] = str(seed)\n",
    "    \n",
    "fix_all_seeds(SEED)"
   ]
  },
  {
   "cell_type": "code",
   "execution_count": 6,
   "id": "9a634786",
   "metadata": {
    "collapsed": true
   },
   "outputs": [],
   "source": [
    "raw_data = pd.read_csv(\"C:/Users/Aaron/OneDrive/Internships and Jobs/2023 暑假/东方证券/123181/123181.csv\", index_col= \"Timestamp\")"
   ]
  },
  {
   "cell_type": "code",
   "execution_count": 7,
   "id": "d6c75b4d",
   "metadata": {
    "collapsed": true
   },
   "outputs": [],
   "source": [
    "def calc_sma_diff_test(close, timeperiod_short, timeperiod_long):\n",
    "    res_short = close[-timeperiod_short:].mean()\n",
    "    res_long = close[-timeperiod_long:].mean()\n",
    "    res = (res_long - res_short) / res_long\n",
    "    return res\n",
    "\n",
    "def calc_bbands_test(close, timeperiod, std=2):\n",
    "    close_std = close[-timeperiod:].std(ddof=0)\n",
    "    rol = close[-timeperiod:].mean()\n",
    "    upper = rol + close_std * std\n",
    "    lower = rol - close_std * std\n",
    "    res = (upper - close[-1]) / (upper - lower)\n",
    "    return res\n",
    "\n",
    "def calc_atr_test(high, low, close, timeperiod):\n",
    "    A = high[-timeperiod:] - close[-(timeperiod+1):-1]\n",
    "    B = close[-(timeperiod+1):-1] - low[-timeperiod:]\n",
    "    C = high[-timeperiod:] - low[-timeperiod:]\n",
    "    res = np.vstack((A, B, C)).max(axis=0).mean()\n",
    "    return res\n",
    "\n",
    "def calc_natr_test(high, low, close, timeperiod):\n",
    "    res = calc_atr_test(high, low, close, timeperiod) / close[-1]\n",
    "    return res\n",
    "\n",
    "def calc_minus_di_test(high, low, close, timeperiod):\n",
    "    high_diff = np.diff(high[-(timeperiod+1):])\n",
    "    low_diff = np.diff(low[-(timeperiod+1):])\n",
    "    high_diff[(high_diff<0)] = 0\n",
    "    low_diff[(low_diff<0)] = 0\n",
    "#     high_diff[(high_diff<low_diff)] = 0\n",
    "    low_diff[(high_diff>low_diff)] = 0\n",
    "    tr = calc_atr_test(high, low, close, timeperiod)*timeperiod\n",
    "    res = 100 * low_diff.sum() / tr\n",
    "    return res\n",
    "\n",
    "def calc_plus_di_test(high, low, close, timeperiod):\n",
    "    high_diff = np.diff(high[-(timeperiod+1):])\n",
    "    low_diff = np.diff(low[-(timeperiod+1):])\n",
    "    high_diff[(high_diff<0)] = 0\n",
    "    low_diff[(low_diff<0)] = 0\n",
    "    high_diff[(high_diff<low_diff)] = 0\n",
    "#     low_diff[(high_diff>low_diff)] = 0\n",
    "    tr = calc_atr_test(high, low, close, timeperiod)*timeperiod\n",
    "    res = 100 * high_diff.sum() / tr\n",
    "    return res\n",
    "\n",
    "def calc_log_ret_test(close, lag=0):\n",
    "    return np.log(close[-(1+15*lag)] / close[-(1+15*(lag+1))])\n",
    "\n",
    "def upper_shadow_15_perc_test(high, close, open_, lag=0):\n",
    "    if lag:\n",
    "        return high[-15*(lag+1):-15*lag].max() * 100 / np.maximum(close[-15*lag-1], open_[-15*(lag+1)-1])\n",
    "    else:\n",
    "        return high[-15:].max() * 100 / np.maximum(close[-1], open_[-16])\n",
    "\n",
    "def lower_shadow_15_perc_test(low, close, open_, lag=0):\n",
    "    if lag:\n",
    "        return np.minimum(close[-15*lag-1], open_[-15*(lag+1)-1]) * 100 / low[-15*(lag+1):-15*lag].min()\n",
    "    else:\n",
    "        return np.minimum(close[-1], open_[-16]) * 100 / low[-15:].min()"
   ]
  },
  {
   "cell_type": "code",
   "execution_count": 25,
   "id": "1cf4ac27",
   "metadata": {},
   "outputs": [],
   "source": [
    "def feature_generation(open_, high, low, close, volume):\n",
    "    ### original def features\n",
    "    pta.sm\n",
    "    res.append(calc_sma_diff_test(close, 12, 26))\n",
    "#     res.append(calc_sma_diff_test(close, 12*4*4, 24*4*4))\n",
    "#     res.append(calc_sma_diff_test(close, 12*4*4*4, 24*4*4*4))\n",
    "#     res.append(calc_sma_diff_test(close, 12*4*4*4*4, 24*4*4*4*4))\n",
    "#     res.append(calc_sma_diff_test(volume, 12*4*4, 24*4*4))\n",
    "#     res.append(calc_rsi_test(close, 14*4))\n",
    "#     res.append(calc_natr_test(high, low, close, 14*4*4*4))\n",
    "#     res.append(calc_minus_di_test(high, low, close, 14))\n",
    "#     res.append(calc_minus_di_test(high, low, close, 14*4*4*4))\n",
    "#     res.append(calc_plus_di_test(high, low, close, 14*4))\n",
    "#     res.append(calc_plus_di_test(high, low, close, 14*4*4*4))\n",
    "#     res.append(calc_log_ret_test(close))\n",
    "#     res.append(calc_log_ret_test(close, lag=1))\n",
    "#     res.append(calc_log_ret_test(close, lag=2))\n",
    "#     res.append(upper_shadow_15_perc_test(high, close, open_))\n",
    "#     res.append(lower_shadow_15_perc_test(low, close, open_))\n",
    "#     res.append(calc_bbands_test(close, 5*4*2))\n",
    "#     res.append(calc_bbands_test(close, 5*4*4))\n",
    "#     res.append(calc_bbands_test(close, 5*4*4*2))\n",
    "#     res.append(calc_bbands_test(close, 5*4*4*4))\n",
    "    \n",
    "    res = np.array(res).reshape([1, -1])\n",
    "    return res"
   ]
  },
  {
   "cell_type": "code",
   "execution_count": 10,
   "id": "64982dfd",
   "metadata": {},
   "outputs": [
    {
     "name": "stdout",
     "output_type": "stream",
     "text": [
      "                    Open     High      Low  Volume      Turnover    Close\n",
      "Timestamp                                                                \n",
      "2023/6/8 13:06   267.864  268.800  267.864   34890  9.360937e+06  268.749\n",
      "2023/6/1 10:07   163.100  163.106  162.854   12880  2.098914e+06  163.048\n",
      "2023/6/20 13:25  327.888  327.888  326.844   43560  1.426354e+07  327.105\n",
      "2023/6/5 10:30   199.687  199.687  199.687     560  1.118247e+05  199.687\n",
      "2023/6/5 14:39   199.687  199.687  199.687     110  2.196557e+04  199.687\n",
      "...                  ...      ...      ...     ...           ...      ...\n",
      "2023/6/9 14:35   252.300  253.864  252.260   91470  2.317567e+07  253.156\n",
      "2023/6/13 14:42  330.600  330.600  330.600     820  2.710920e+05  330.600\n",
      "2023/6/6 9:59    220.491  220.718  219.202   90040  1.981544e+07  219.202\n",
      "2023/6/19 9:31   359.390  363.999  357.205  388387  1.401622e+08  357.205\n",
      "2023/6/8 9:49    277.933  279.545  277.911  329750  9.194304e+07  278.469\n",
      "\n",
      "[2895 rows x 6 columns]\n"
     ]
    }
   ],
   "source": [
    "y = raw_data['Predict_1min']\n",
    "\n",
    "X = raw_data[['Open',\n",
    "            'High',\n",
    "            'Low',\n",
    "            'Volume',\n",
    "            'Turnover',\n",
    "            'Close']]\n",
    "\n",
    "# Split raw dataset into train and test with seed 114514\n",
    "X_train_raw, X_test_raw, y_train, y_test = train_test_split(X, y, test_size = 0.3, random_state=SEED)\n",
    "\n",
    "print(X_train_raw)"
   ]
  },
  {
   "cell_type": "code",
   "execution_count": 24,
   "id": "0c9a5c8a",
   "metadata": {},
   "outputs": [
    {
     "ename": "IndexError",
     "evalue": "invalid index to scalar variable.",
     "output_type": "error",
     "traceback": [
      "\u001b[1;31m---------------------------------------------------------------------------\u001b[0m",
      "\u001b[1;31mIndexError\u001b[0m                                Traceback (most recent call last)",
      "Cell \u001b[1;32mIn[24], line 4\u001b[0m\n\u001b[0;32m      1\u001b[0m X_train \u001b[38;5;241m=\u001b[39m pd\u001b[38;5;241m.\u001b[39mDataFrame(index \u001b[38;5;241m=\u001b[39m X_train_raw\u001b[38;5;241m.\u001b[39mindex)\n\u001b[0;32m      2\u001b[0m \u001b[38;5;28;01mfor\u001b[39;00m index,row \u001b[38;5;129;01min\u001b[39;00m X_train_raw\u001b[38;5;241m.\u001b[39miterrows():\n\u001b[1;32m----> 4\u001b[0m     X_train[index] \u001b[38;5;241m=\u001b[39m \u001b[43mget_features_test\u001b[49m\u001b[43m(\u001b[49m\u001b[43mrow\u001b[49m\u001b[43m[\u001b[49m\u001b[38;5;124;43m'\u001b[39;49m\u001b[38;5;124;43mOpen\u001b[39;49m\u001b[38;5;124;43m'\u001b[39;49m\u001b[43m]\u001b[49m\u001b[43m,\u001b[49m\u001b[43mrow\u001b[49m\u001b[43m[\u001b[49m\u001b[38;5;124;43m'\u001b[39;49m\u001b[38;5;124;43mHigh\u001b[39;49m\u001b[38;5;124;43m'\u001b[39;49m\u001b[43m]\u001b[49m\u001b[43m,\u001b[49m\u001b[43mrow\u001b[49m\u001b[43m[\u001b[49m\u001b[38;5;124;43m'\u001b[39;49m\u001b[38;5;124;43mLow\u001b[39;49m\u001b[38;5;124;43m'\u001b[39;49m\u001b[43m]\u001b[49m\u001b[43m,\u001b[49m\u001b[43mrow\u001b[49m\u001b[43m[\u001b[49m\u001b[38;5;124;43m'\u001b[39;49m\u001b[38;5;124;43mClose\u001b[39;49m\u001b[38;5;124;43m'\u001b[39;49m\u001b[43m]\u001b[49m\u001b[43m,\u001b[49m\u001b[43mrow\u001b[49m\u001b[43m[\u001b[49m\u001b[38;5;124;43m'\u001b[39;49m\u001b[38;5;124;43mVolume\u001b[39;49m\u001b[38;5;124;43m'\u001b[39;49m\u001b[43m]\u001b[49m\u001b[43m)\u001b[49m\n\u001b[0;32m      6\u001b[0m \u001b[38;5;66;03m#     # Skipping row if errors like index-OOR\u001b[39;00m\n\u001b[0;32m      7\u001b[0m \u001b[38;5;66;03m#     except:\u001b[39;00m\n\u001b[0;32m      8\u001b[0m \u001b[38;5;66;03m#         print(\"Skip a line\")\u001b[39;00m\n\u001b[0;32m     10\u001b[0m \u001b[38;5;28mprint\u001b[39m(X_train)\n",
      "Cell \u001b[1;32mIn[17], line 4\u001b[0m, in \u001b[0;36mget_features_test\u001b[1;34m(open_, high, low, close, volume)\u001b[0m\n\u001b[0;32m      1\u001b[0m \u001b[38;5;28;01mdef\u001b[39;00m \u001b[38;5;21mget_features_test\u001b[39m(open_, high, low, close, volume):\n\u001b[0;32m      2\u001b[0m     \u001b[38;5;66;03m### original def features\u001b[39;00m\n\u001b[0;32m      3\u001b[0m     res \u001b[38;5;241m=\u001b[39m []\n\u001b[1;32m----> 4\u001b[0m     res\u001b[38;5;241m.\u001b[39mappend(\u001b[43mcalc_sma_diff_test\u001b[49m\u001b[43m(\u001b[49m\u001b[43mclose\u001b[49m\u001b[43m,\u001b[49m\u001b[43m \u001b[49m\u001b[38;5;241;43m12\u001b[39;49m\u001b[43m,\u001b[49m\u001b[43m \u001b[49m\u001b[38;5;241;43m26\u001b[39;49m\u001b[43m)\u001b[49m)\n\u001b[0;32m      5\u001b[0m     res\u001b[38;5;241m.\u001b[39mappend(calc_sma_diff_test(close, \u001b[38;5;241m12\u001b[39m\u001b[38;5;241m*\u001b[39m\u001b[38;5;241m4\u001b[39m\u001b[38;5;241m*\u001b[39m\u001b[38;5;241m4\u001b[39m, \u001b[38;5;241m24\u001b[39m\u001b[38;5;241m*\u001b[39m\u001b[38;5;241m4\u001b[39m\u001b[38;5;241m*\u001b[39m\u001b[38;5;241m4\u001b[39m))\n\u001b[0;32m      6\u001b[0m     res\u001b[38;5;241m.\u001b[39mappend(calc_sma_diff_test(close, \u001b[38;5;241m12\u001b[39m\u001b[38;5;241m*\u001b[39m\u001b[38;5;241m4\u001b[39m\u001b[38;5;241m*\u001b[39m\u001b[38;5;241m4\u001b[39m\u001b[38;5;241m*\u001b[39m\u001b[38;5;241m4\u001b[39m, \u001b[38;5;241m24\u001b[39m\u001b[38;5;241m*\u001b[39m\u001b[38;5;241m4\u001b[39m\u001b[38;5;241m*\u001b[39m\u001b[38;5;241m4\u001b[39m\u001b[38;5;241m*\u001b[39m\u001b[38;5;241m4\u001b[39m))\n",
      "Cell \u001b[1;32mIn[7], line 2\u001b[0m, in \u001b[0;36mcalc_sma_diff_test\u001b[1;34m(close, timeperiod_short, timeperiod_long)\u001b[0m\n\u001b[0;32m      1\u001b[0m \u001b[38;5;28;01mdef\u001b[39;00m \u001b[38;5;21mcalc_sma_diff_test\u001b[39m(close, timeperiod_short, timeperiod_long):\n\u001b[1;32m----> 2\u001b[0m     res_short \u001b[38;5;241m=\u001b[39m \u001b[43mclose\u001b[49m\u001b[43m[\u001b[49m\u001b[38;5;241;43m-\u001b[39;49m\u001b[43mtimeperiod_short\u001b[49m\u001b[43m:\u001b[49m\u001b[43m]\u001b[49m\u001b[38;5;241m.\u001b[39mmean()\n\u001b[0;32m      3\u001b[0m     res_long \u001b[38;5;241m=\u001b[39m close[\u001b[38;5;241m-\u001b[39mtimeperiod_long:]\u001b[38;5;241m.\u001b[39mmean()\n\u001b[0;32m      4\u001b[0m     res \u001b[38;5;241m=\u001b[39m (res_long \u001b[38;5;241m-\u001b[39m res_short) \u001b[38;5;241m/\u001b[39m res_long\n",
      "\u001b[1;31mIndexError\u001b[0m: invalid index to scalar variable."
     ]
    }
   ],
   "source": [
    "X_train = pd.DataFrame(index = X_train_raw.index)\n",
    "for index,row in X_train_raw.iterrows():\n",
    "    \n",
    "    X_train[index] = get_features_test(row['Open'],row['High'],row['Low'],row['Close'],row['Volume'])\n",
    "        \n",
    "#     # Skipping row if errors like index-OOR\n",
    "#     except:\n",
    "#         print(\"Skip a line\")\n",
    "        \n",
    "print(X_train)"
   ]
  },
  {
   "cell_type": "code",
   "execution_count": null,
   "id": "3eb30089",
   "metadata": {},
   "outputs": [],
   "source": []
  }
 ],
 "metadata": {
  "kernelspec": {
   "display_name": "Python 3 (ipykernel)",
   "language": "python",
   "name": "python3"
  },
  "language_info": {
   "codemirror_mode": {
    "name": "ipython",
    "version": 3
   },
   "file_extension": ".py",
   "mimetype": "text/x-python",
   "name": "python",
   "nbconvert_exporter": "python",
   "pygments_lexer": "ipython3",
   "version": "3.10.9"
  }
 },
 "nbformat": 4,
 "nbformat_minor": 5
}
