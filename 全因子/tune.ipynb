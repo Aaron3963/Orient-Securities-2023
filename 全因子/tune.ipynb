{
 "cells": [
  {
   "cell_type": "code",
   "execution_count": 1,
   "metadata": {},
   "outputs": [
    {
     "name": "stdout",
     "output_type": "stream",
     "text": [
      "Index(['Open', 'High', 'Low', 'Volume', 'Turnover', 'Close', 'Avg'], dtype='object')\n"
     ]
    }
   ],
   "source": [
    "from tuneta.tune_ta import TuneTA\n",
    "import pandas as pd\n",
    "import numpy as np\n",
    "\n",
    "import talib\n",
    "\n",
    "PATH_READ_TRAIN = '123181_train_raw.csv'\n",
    "PATH_READ_TEST = '123181_test_raw.csv'\n",
    "\n",
    "df = pd.read_csv(PATH_READ_TRAIN, index_col='Timestamp')\n",
    "df_test = pd.read_csv(PATH_READ_TEST, index_col='Timestamp')\n",
    "\n",
    "df = df.drop(['InstrumentID','TradingDay','PreClosePrice',], axis=1)\n",
    "df.index = pd.to_datetime(df.index)\n",
    "\n",
    "df['Avg'] = talib.AVGPRICE(df['Open'], df['High'], df['Low'], df['Close'])\n",
    "df_test['Avg'] = talib.AVGPRICE(df_test['Open'], df_test['High'], df_test['Low'], df_test['Close'])\n",
    "\n",
    "\n",
    "print(df.columns)"
   ]
  },
  {
   "cell_type": "code",
   "execution_count": 2,
   "metadata": {},
   "outputs": [],
   "source": [
    "def target(df, column, period):\n",
    "    if period == 1:\n",
    "        return (df[column].shift(-1) - df[column])/df[column]\n",
    "    if period > 1:\n",
    "        return (df[column].rolling(window=period).mean().shift(-1 * period) - df[column]) / df[column]"
   ]
  },
  {
   "cell_type": "code",
   "execution_count": 3,
   "metadata": {},
   "outputs": [],
   "source": [
    "def class_target(value):\n",
    "    if value > 0:\n",
    "        return 1\n",
    "    elif value < 0:\n",
    "        return -1\n",
    "    else:\n",
    "        return 0"
   ]
  },
  {
   "cell_type": "code",
   "execution_count": 4,
   "metadata": {},
   "outputs": [],
   "source": [
    "def TBtarget(df):\n",
    "    df['15min_range'] = df['High'].rolling(15).max() - df['Low'].rolling(15).min()\n",
    "\n",
    "    def getDailyVol(data, span=30):\n",
    "        df = data.assign(Return = lambda x: data['Close'] / data['Close'].shift(1)-1)\n",
    "        sigma = df['Return'].ewm(span=span).std()\n",
    "        return sigma\n",
    "\n",
    "    vol = getDailyVol(data=df)\n",
    "    df['Timestamp'] = pd.to_datetime(df['Timestamp'])\n",
    "\n",
    "    events = df[['Timestamp']].copy(deep=True)\n",
    "    events['VB'] = df['Timestamp'] + pd.Timedelta(minutes=15)\n",
    "    events['Vol'] = vol\n",
    "\n",
    "    def TBL(df, events, width):\n",
    "        \n",
    "        res = events[['Timestamp', 'VB']].copy(deep=True)\n",
    "        \n",
    "        if width[0] > 0: events['UB'] = width[0]*events['Vol']\n",
    "        else: events['UB'] = np.nan\n",
    "            \n",
    "        if width[1] > 0: events['DB'] = -width[1]*events['Vol']\n",
    "        else: events['DB'] = np.nan\n",
    "            \n",
    "        for col,date,vb in res.itertuples():\n",
    "            df0 = df[(df['Timestamp'] > date) & (df['Timestamp'] < vb)].copy(deep=True)\n",
    "            df0['Return'] = df0['Close'] / df.loc[df['Timestamp'] == date, 'Close'].iloc[0]-1\n",
    "            \n",
    "            idx = (res['Timestamp'] == date)\n",
    "            \n",
    "            res.loc[idx, 'ut'] = df0.loc[df0['Return'] > events.loc[idx,'UB'].iloc[0], 'Timestamp'].min()\n",
    "            res.loc[idx, 'dt'] = df0.loc[df0['Return'] < events.loc[idx,'DB'].iloc[0], 'Timestamp'].min()\n",
    "                \n",
    "        return res\n",
    "    def get_first_touch(df, events, width):\n",
    "        res = TBL(df, events, width)\n",
    "        res['First'] = res[['VB', 'ut', 'dt']].dropna(how='all').min(axis=1)\n",
    "        return res\n",
    "\n",
    "    # 上下栅栏的宽度由 vol(span) * 系数[up,down] 决定\n",
    "    result = get_first_touch(df,events,width = [0.4,0.4])\n",
    "\n",
    "    print(result.head)\n",
    "\n",
    "    def get_label(df,result):\n",
    "        result = result.dropna(subset=['First'])\n",
    "        outcome = result[['Timestamp']].copy(deep=True)\n",
    "        \n",
    "        price_t0 = pd.merge(result,df,on=['Timestamp'],how='left')['Close']\n",
    "        price_t1 = pd.merge(result,df,left_on=['First'], right_on=['Timestamp'], how = 'left')['Close']\n",
    "        \n",
    "        outcome['Return'] = price_t1/price_t0-1\n",
    "        outcome['TB_15min_Label'] = np.sign(outcome['Return'].dropna())\n",
    "        \n",
    "        outcome = outcome.drop(['Return'], axis = 1)\n",
    "\n",
    "        return outcome\n",
    "\n",
    "    outcome = get_label(df,result)\n",
    "\n",
    "    return pd.merge(df,outcome, on=['Timestamp'],how='inner')"
   ]
  },
  {
   "cell_type": "code",
   "execution_count": 5,
   "metadata": {},
   "outputs": [],
   "source": [
    "\n",
    "df['Target_Close_1min'] = target(df,'Close', 1)\n",
    "df['Target_Avg_1min'] = target(df, 'Avg', 1)\n",
    "\n",
    "df = df[df['Target_Close_1min'] != 0]\n",
    "df = df.dropna()\n",
    "\n",
    "df_test['Target_Close_1min'] = target(df_test,'Close', 1)\n",
    "df_test['Target_Avg_1min'] = target(df_test, 'Avg', 1)\n",
    "\n",
    "df_test = df_test[df_test['Target_Close_1min'] != 0]\n",
    "df_test = df_test.dropna()\n",
    "\n",
    "df['Target_Class_Avg_1min'] = df['Target_Avg_1min'].apply(class_target)\n",
    "df_test['Target_Class_Avg_1min'] = df_test['Target_Avg_1min'].apply(class_target)"
   ]
  },
  {
   "cell_type": "code",
   "execution_count": 6,
   "metadata": {},
   "outputs": [],
   "source": [
    "train_X = df[['Open',\n",
    "            'High',\n",
    "            'Low',\n",
    "            'Volume',\n",
    "            'Turnover',\n",
    "            'Close']]\n",
    "\n",
    "test_X = df_test[['Open',\n",
    "            'High',\n",
    "            'Low',\n",
    "            'Volume',\n",
    "            'Turnover',\n",
    "            'Close']]\n",
    "\n",
    "train_y = df['Target_Class_Avg_1min']\n",
    "test_y = df_test['Target_Class_Avg_1min']"
   ]
  },
  {
   "cell_type": "code",
   "execution_count": 7,
   "metadata": {},
   "outputs": [],
   "source": [
    "tt = TuneTA(n_jobs=8, verbose=True)\n",
    "\n",
    "tt.fit(train_X, train_y,\n",
    "# 优化指标\n",
    "indicators=['tta'],\n",
    "# 待优化参数的两个参数范围（时间的短期和长期）\n",
    "ranges=[(4, 40)],\n",
    "# 每个时间段最多100次试验，以搜索最佳指标参数\n",
    "trials=300,\n",
    "# 在每个时间段持续20次试验没有改善后停止搜索参数\n",
    "early_stop=50)"
   ]
  },
  {
   "cell_type": "code",
   "execution_count": null,
   "metadata": {},
   "outputs": [],
   "source": [
    "tt.prune(max_inter_correlation=.7)\n",
    "\n",
    "tt.report(target_corr=True, features_corr=True)"
   ]
  },
  {
   "cell_type": "code",
   "execution_count": null,
   "metadata": {},
   "outputs": [],
   "source": [
    "features_train = tt.transform(train_X)\n",
    "\n",
    "features_test = tt.transform(test_X)"
   ]
  },
  {
   "cell_type": "code",
   "execution_count": null,
   "metadata": {},
   "outputs": [],
   "source": [
    "print('Number of rows before cleaning: %d'%features_train.shape[0])\n",
    "features_train = features_train.dropna()\n",
    "print('Number of rows after cleaning: %d'%features_train.shape[0])\n",
    "\n",
    "\n",
    "print('Number of rows before cleaning: %d'%features_test.shape[0])\n",
    "features_test = features_test.dropna()\n",
    "print('Number of rows after cleaning: %d'%features_test.shape[0])"
   ]
  },
  {
   "cell_type": "code",
   "execution_count": null,
   "metadata": {},
   "outputs": [],
   "source": [
    "train_result = pd.merge(features_train, train_y, how='left', left_index= True, right_index=True)\n",
    "test_result = pd.merge(features_test, test_y, how='left', left_index= True, right_index=True)"
   ]
  },
  {
   "cell_type": "code",
   "execution_count": null,
   "metadata": {},
   "outputs": [],
   "source": [
    "train_result.to_csv('train_withF_Avg_1min.csv')\n",
    "test_result.to_csv('test_withF_Avg_1min.csv')"
   ]
  }
 ],
 "metadata": {
  "kernelspec": {
   "display_name": "base",
   "language": "python",
   "name": "python3"
  },
  "language_info": {
   "codemirror_mode": {
    "name": "ipython",
    "version": 3
   },
   "file_extension": ".py",
   "mimetype": "text/x-python",
   "name": "python",
   "nbconvert_exporter": "python",
   "pygments_lexer": "ipython3",
   "version": "3.10.9"
  },
  "orig_nbformat": 4
 },
 "nbformat": 4,
 "nbformat_minor": 2
}
