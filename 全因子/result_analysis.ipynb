{
 "cells": [
  {
   "cell_type": "code",
   "execution_count": 15,
   "metadata": {},
   "outputs": [
    {
     "name": "stdout",
     "output_type": "stream",
     "text": [
      "                     Target_Class_Avg_1min  prediction_label\n",
      "Timestamp                                                   \n",
      "2023-07-07 14:42:00                     -1                -1\n",
      "2023-07-07 14:43:00                      1                -1\n",
      "2023-07-07 14:44:00                      1                 1\n",
      "2023-07-07 14:45:00                      1                 1\n",
      "2023-07-07 14:46:00                     -1                 1\n",
      "...                                    ...               ...\n",
      "2023-07-20 14:54:00                     -1                -1\n",
      "2023-07-20 14:55:00                      1                 1\n",
      "2023-07-20 14:56:00                     -1                 1\n",
      "2023-07-20 14:57:00                     -1                -1\n",
      "2023-07-20 15:00:00                      1                -1\n",
      "\n",
      "[2160 rows x 2 columns]\n"
     ]
    }
   ],
   "source": [
    "import pandas as pd\n",
    "import numpy as np\n",
    "import talib as ta\n",
    "\n",
    "import seaborn as sns\n",
    "import matplotlib.pyplot as plt\n",
    "\n",
    "\n",
    "PATH_READ = 'Classification_result_ET_Binary.csv'\n",
    "\n",
    "\n",
    "df = pd.read_csv(PATH_READ, index_col= 'Timestamp')\n",
    "\n",
    "df = df[['Target_Class_Avg_1min', 'prediction_label']]\n",
    "\n",
    "print(df)"
   ]
  },
  {
   "cell_type": "code",
   "execution_count": 7,
   "metadata": {},
   "outputs": [
    {
     "name": "stdout",
     "output_type": "stream",
     "text": [
      "Predict min: -0.0051898708715452\n",
      "Predict max: 0.0092796870188612\n"
     ]
    }
   ],
   "source": [
    "min_value = df['prediction_label'].min()\n",
    "max_value = df['prediction_label'].max()\n",
    "\n",
    "print('Predict min: ' + str(min_value))\n",
    "print('Predict max: ' + str(max_value))"
   ]
  },
  {
   "cell_type": "code",
   "execution_count": 8,
   "metadata": {},
   "outputs": [],
   "source": [
    "def quantiles(df, num_interval):\n",
    "    df_sorted = df.sort_values(by='prediction_label')\n",
    "   \n",
    "    quantile_markers = pd.qcut(df_sorted['prediction_label'], q=num_interval, labels=False)\n",
    "\n",
    "# Add the quantile markers as a new column to the DataFrame\n",
    "    df_sorted['Interval_Marker'] = quantile_markers\n",
    "\n",
    "    return df_sorted"
   ]
  },
  {
   "cell_type": "code",
   "execution_count": 9,
   "metadata": {},
   "outputs": [
    {
     "name": "stdout",
     "output_type": "stream",
     "text": [
      "                     Target_Avg_1min  prediction_label  Interval_Marker\n",
      "Timestamp                                                              \n",
      "2023-07-19 09:34:00        -0.008285         -0.005190                0\n",
      "2023-07-18 09:31:00        -0.005017         -0.004880                0\n",
      "2023-07-14 09:32:00         0.002298         -0.004407                0\n",
      "2023-07-14 09:36:00        -0.002159         -0.004390                0\n",
      "2023-07-19 10:02:00        -0.005518         -0.003882                0\n",
      "...                              ...               ...              ...\n",
      "2023-07-17 13:06:00         0.005087          0.007877               19\n",
      "2023-07-17 15:00:00        -0.001014          0.008443               19\n",
      "2023-07-19 09:50:00         0.004894          0.008744               19\n",
      "2023-07-20 09:26:00        -0.002677          0.008929               19\n",
      "2023-07-12 09:26:00         0.002692          0.009280               19\n",
      "\n",
      "[2160 rows x 3 columns]\n"
     ]
    }
   ],
   "source": [
    "df_sorted = quantiles(df, 20)\n",
    "print(df_sorted)\n"
   ]
  },
  {
   "cell_type": "code",
   "execution_count": 10,
   "metadata": {},
   "outputs": [],
   "source": [
    "def quant_analysis_list(df, num_interval, target):\n",
    "    results = []\n",
    "\n",
    "    for i in range(num_interval):\n",
    "        selected_rows = df[df['Interval_Marker'] == i]\n",
    "\n",
    "        acc = (selected_rows[target] * selected_rows['prediction_label'] > 0).mean() * 100\n",
    "        p_corr = selected_rows[target].corr(selected_rows['prediction_label'])\n",
    "        s_corr = selected_rows[target].corr(selected_rows['prediction_label'], method='spearman')\n",
    "        true_mean = selected_rows[target].mean()\n",
    "        pred_mean = selected_rows[target].mean()\n",
    "\n",
    "        results.append([i, acc, p_corr, s_corr, true_mean, pred_mean])\n",
    "\n",
    "    # Create the summary DataFrame\n",
    "    columns = ['Interval', 'Percent in the Same Direction', 'Correlation Pearson', 'Correlation Spearman', 'True Mean', 'Predicted Mean']\n",
    "    summary_df = pd.DataFrame(results, columns=columns)\n",
    "\n",
    "    summary_df.index = summary_df['Interval']\n",
    "    summary_df.drop(columns='Interval', inplace=True)\n",
    "\n",
    "    return summary_df"
   ]
  },
  {
   "cell_type": "code",
   "execution_count": 11,
   "metadata": {},
   "outputs": [
    {
     "name": "stdout",
     "output_type": "stream",
     "text": [
      "          Percent in the Same Direction  Correlation Pearson  \\\n",
      "Interval                                                       \n",
      "0                             88.888889             0.344777   \n",
      "1                             78.703704             0.010374   \n",
      "2                             83.333333             0.176896   \n",
      "3                             72.222222            -0.051855   \n",
      "4                             69.444444             0.011772   \n",
      "5                             72.222222            -0.056912   \n",
      "6                             65.740741             0.010040   \n",
      "7                             67.592593            -0.015666   \n",
      "8                             64.814815            -0.100602   \n",
      "9                             56.481481             0.050784   \n",
      "10                            54.629630             0.256286   \n",
      "11                            44.444444             0.143205   \n",
      "12                            55.555556             0.057716   \n",
      "13                            61.111111             0.192484   \n",
      "14                            59.259259            -0.044997   \n",
      "15                            65.740741             0.053095   \n",
      "16                            68.518519             0.049702   \n",
      "17                            72.222222            -0.015693   \n",
      "18                            78.703704             0.259213   \n",
      "19                            73.148148             0.128232   \n",
      "\n",
      "          Correlation Spearman  True Mean  Predicted Mean  \n",
      "Interval                                                   \n",
      "0                     0.162213  -0.001684       -0.001684  \n",
      "1                     0.030781  -0.000973       -0.000973  \n",
      "2                     0.166109  -0.000635       -0.000635  \n",
      "3                    -0.064011  -0.000416       -0.000416  \n",
      "4                     0.010613  -0.000574       -0.000574  \n",
      "5                    -0.048472  -0.000472       -0.000472  \n",
      "6                     0.000800  -0.000268       -0.000268  \n",
      "7                    -0.030772  -0.000415       -0.000415  \n",
      "8                    -0.101880  -0.000301       -0.000301  \n",
      "9                     0.113483  -0.000110       -0.000110  \n",
      "10                    0.238866   0.000089        0.000089  \n",
      "11                    0.139949  -0.000106       -0.000106  \n",
      "12                   -0.013280   0.000238        0.000238  \n",
      "13                    0.073280   0.000151        0.000151  \n",
      "14                   -0.066764   0.000274        0.000274  \n",
      "15                    0.029971   0.000272        0.000272  \n",
      "16                    0.105443   0.000391        0.000391  \n",
      "17                    0.016358   0.000515        0.000515  \n",
      "18                    0.282193   0.000935        0.000935  \n",
      "19                    0.096916   0.002084        0.002084  \n"
     ]
    }
   ],
   "source": [
    "print(quant_analysis_list(df_sorted, 20, 'Target_Avg_1min'))"
   ]
  }
 ],
 "metadata": {
  "kernelspec": {
   "display_name": "base",
   "language": "python",
   "name": "python3"
  },
  "language_info": {
   "codemirror_mode": {
    "name": "ipython",
    "version": 3
   },
   "file_extension": ".py",
   "mimetype": "text/x-python",
   "name": "python",
   "nbconvert_exporter": "python",
   "pygments_lexer": "ipython3",
   "version": "3.10.9"
  },
  "orig_nbformat": 4
 },
 "nbformat": 4,
 "nbformat_minor": 2
}
