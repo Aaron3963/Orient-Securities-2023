{
 "cells": [
  {
   "cell_type": "code",
   "execution_count": 22,
   "metadata": {},
   "outputs": [
    {
     "name": "stdout",
     "output_type": "stream",
     "text": [
      "Index(['tta_STDDEV_timeperiod_18', 'tta_TRANGE', 'tta_NATR_timeperiod_28',\n",
      "       'tta_ADOSC_fastperiod_7_slowperiod_10',\n",
      "       'tta_STOCH_fastk_period_20_slowk_period_36_slowd_period_7_0',\n",
      "       'tta_STOCH_fastk_period_20_slowk_period_36_slowd_period_7_1', 'tta_BOP',\n",
      "       'tta_ADX_timeperiod_10', 'tta_MINUS_DM_timeperiod_9',\n",
      "       'tta_STOCHRSI_timeperiod_5_fastk_period_38_fastd_period_37_0',\n",
      "       'tta_STOCHRSI_timeperiod_5_fastk_period_38_fastd_period_37_1',\n",
      "       'tta_T3_timeperiod_36', 'tta_HT_PHASOR_0', 'tta_HT_PHASOR_1',\n",
      "       'tta_AROONOSC_timeperiod_25', 'tta_MINUS_DI_timeperiod_27',\n",
      "       'tta_CDLBELTHOLD', 'tta_HT_DCPERIOD', 'tta_HT_DCPHASE',\n",
      "       'tta_HT_TRENDMODE',\n",
      "       'tta_SAREXT_accelerationlong_28_accelerationshort_26',\n",
      "       'tta_CDLSHORTLINE', 'tta_CDLDOJI', 'tta_HT_SINE_0', 'tta_HT_SINE_1',\n",
      "       'tta_CDLENGULFING', 'tta_CDLMORNINGDOJISTAR', 'tta_CDLTRISTAR',\n",
      "       'tta_CDLSTALLEDPATTERN', 'tta_CDLONNECK', 'tta_CDLTASUKIGAP',\n",
      "       'tta_CDLUNIQUE3RIVER', 'tta_CDL2CROWS', 'tta_CDLHIKKAKEMOD',\n",
      "       'tta_CDLHIKKAKE', 'tta_CDL3LINESTRIKE', 'tta_CDLGAPSIDESIDEWHITE',\n",
      "       'tta_CDLSTICKSANDWICH', 'tta_CDL3WHITESOLDIERS',\n",
      "       'tta_CDLIDENTICAL3CROWS', 'tta_CDLLADDERBOTTOM',\n",
      "       'tta_CDLEVENINGDOJISTAR', 'tta_CDLSPINNINGTOP', 'tta_CDLHAMMER',\n",
      "       'tta_CDLRICKSHAWMAN', 'tta_CDLDRAGONFLYDOJI', 'tta_CDLSHOOTINGSTAR',\n",
      "       'tta_CDLADVANCEBLOCK', 'tta_CDL3BLACKCROWS', 'tta_CDLXSIDEGAP3METHODS',\n",
      "       'tta_CDLMATCHINGLOW', 'tta_CDLSEPARATINGLINES', 'tta_CDLINNECK',\n",
      "       'tta_CDLHARAMI', 'tta_CDLEVENINGSTAR', 'tta_CDLDOJISTAR',\n",
      "       'tta_CDLINVERTEDHAMMER', 'tta_CDL3INSIDE', 'tta_CDLTHRUSTING',\n",
      "       'tta_CDLHANGINGMAN', 'tta_CDLMORNINGSTAR', 'tta_CDLPIERCING',\n",
      "       'tta_CDLHARAMICROSS', 'tta_CDLDARKCLOUDCOVER', 'tta_CDLHOMINGPIGEON',\n",
      "       'Target_Avg_10min'],\n",
      "      dtype='object')\n"
     ]
    }
   ],
   "source": [
    "import pycaret\n",
    "pycaret.__version__\n",
    "import pandas as pd\n",
    "\n",
    "from pycaret.regression import *\n",
    "\n",
    "TRAIN_PATH = 'train_withF_Avg_10min.csv'\n",
    "TEST_PATH = 'test_withF_Avg_10min.csv'\n",
    "\n",
    "train = pd.read_csv(TRAIN_PATH,index_col='Timestamp')\n",
    "test = pd.read_csv(TEST_PATH,index_col='Timestamp')\n",
    "\n",
    "print(train.columns)"
   ]
  },
  {
   "cell_type": "code",
   "execution_count": 23,
   "metadata": {},
   "outputs": [],
   "source": [
    "# percent_zeros = (train == 0).sum() / len(train) * 100\n",
    "\n",
    "# # Identify columns where the percentage of zeros exceeds 90%\n",
    "# columns_to_drop = percent_zeros[percent_zeros >= 90].index\n",
    "\n",
    "# # print(columns_to_drop)\n",
    "\n",
    "# train.drop(columns=columns_to_drop,inplace= True)\n",
    "# test.drop(columns=columns_to_drop,inplace= True)\n",
    "\n",
    "# print(train.columns)\n"
   ]
  },
  {
   "cell_type": "code",
   "execution_count": 24,
   "metadata": {},
   "outputs": [
    {
     "data": {
      "text/plain": [
       "pycaret.regression.oop.RegressionExperiment"
      ]
     },
     "execution_count": 24,
     "metadata": {},
     "output_type": "execute_result"
    }
   ],
   "source": [
    "from pycaret.regression import RegressionExperiment\n",
    "# from pycaret.regression import *\n",
    "exp = RegressionExperiment()\n",
    "type(exp)"
   ]
  },
  {
   "cell_type": "code",
   "execution_count": 25,
   "metadata": {},
   "outputs": [
    {
     "data": {
      "text/html": [
       "<style type=\"text/css\">\n",
       "</style>\n",
       "<table id=\"T_a1576\">\n",
       "  <thead>\n",
       "    <tr>\n",
       "      <th class=\"blank level0\" >&nbsp;</th>\n",
       "      <th id=\"T_a1576_level0_col0\" class=\"col_heading level0 col0\" >Description</th>\n",
       "      <th id=\"T_a1576_level0_col1\" class=\"col_heading level0 col1\" >Value</th>\n",
       "    </tr>\n",
       "  </thead>\n",
       "  <tbody>\n",
       "    <tr>\n",
       "      <th id=\"T_a1576_level0_row0\" class=\"row_heading level0 row0\" >0</th>\n",
       "      <td id=\"T_a1576_row0_col0\" class=\"data row0 col0\" >Session id</td>\n",
       "      <td id=\"T_a1576_row0_col1\" class=\"data row0 col1\" >123</td>\n",
       "    </tr>\n",
       "    <tr>\n",
       "      <th id=\"T_a1576_level0_row1\" class=\"row_heading level0 row1\" >1</th>\n",
       "      <td id=\"T_a1576_row1_col0\" class=\"data row1 col0\" >Target</td>\n",
       "      <td id=\"T_a1576_row1_col1\" class=\"data row1 col1\" >Target_Avg_10min</td>\n",
       "    </tr>\n",
       "    <tr>\n",
       "      <th id=\"T_a1576_level0_row2\" class=\"row_heading level0 row2\" >2</th>\n",
       "      <td id=\"T_a1576_row2_col0\" class=\"data row2 col0\" >Target type</td>\n",
       "      <td id=\"T_a1576_row2_col1\" class=\"data row2 col1\" >Regression</td>\n",
       "    </tr>\n",
       "    <tr>\n",
       "      <th id=\"T_a1576_level0_row3\" class=\"row_heading level0 row3\" >3</th>\n",
       "      <td id=\"T_a1576_row3_col0\" class=\"data row3 col0\" >Original data shape</td>\n",
       "      <td id=\"T_a1576_row3_col1\" class=\"data row3 col1\" >(5381, 66)</td>\n",
       "    </tr>\n",
       "    <tr>\n",
       "      <th id=\"T_a1576_level0_row4\" class=\"row_heading level0 row4\" >4</th>\n",
       "      <td id=\"T_a1576_row4_col0\" class=\"data row4 col0\" >Transformed data shape</td>\n",
       "      <td id=\"T_a1576_row4_col1\" class=\"data row4 col1\" >(5381, 66)</td>\n",
       "    </tr>\n",
       "    <tr>\n",
       "      <th id=\"T_a1576_level0_row5\" class=\"row_heading level0 row5\" >5</th>\n",
       "      <td id=\"T_a1576_row5_col0\" class=\"data row5 col0\" >Transformed train set shape</td>\n",
       "      <td id=\"T_a1576_row5_col1\" class=\"data row5 col1\" >(3766, 66)</td>\n",
       "    </tr>\n",
       "    <tr>\n",
       "      <th id=\"T_a1576_level0_row6\" class=\"row_heading level0 row6\" >6</th>\n",
       "      <td id=\"T_a1576_row6_col0\" class=\"data row6 col0\" >Transformed test set shape</td>\n",
       "      <td id=\"T_a1576_row6_col1\" class=\"data row6 col1\" >(1615, 66)</td>\n",
       "    </tr>\n",
       "    <tr>\n",
       "      <th id=\"T_a1576_level0_row7\" class=\"row_heading level0 row7\" >7</th>\n",
       "      <td id=\"T_a1576_row7_col0\" class=\"data row7 col0\" >Numeric features</td>\n",
       "      <td id=\"T_a1576_row7_col1\" class=\"data row7 col1\" >65</td>\n",
       "    </tr>\n",
       "  </tbody>\n",
       "</table>\n"
      ],
      "text/plain": [
       "<pandas.io.formats.style.Styler at 0x20fcab40d00>"
      ]
     },
     "metadata": {},
     "output_type": "display_data"
    },
    {
     "data": {
      "text/plain": [
       "<pycaret.regression.oop.RegressionExperiment at 0x20fca5bb760>"
      ]
     },
     "execution_count": 25,
     "metadata": {},
     "output_type": "execute_result"
    }
   ],
   "source": [
    "setup(data=train, data_split_shuffle = False,preprocess = False, feature_selection= True,target='Target_Avg_10min', session_id = 123)\n",
    "\n",
    "# setup(data=train,target='Target_Avg_1min', session_id = 123)"
   ]
  },
  {
   "cell_type": "code",
   "execution_count": 26,
   "metadata": {},
   "outputs": [
    {
     "data": {
      "text/html": [],
      "text/plain": [
       "<IPython.core.display.HTML object>"
      ]
     },
     "metadata": {},
     "output_type": "display_data"
    },
    {
     "data": {
      "text/html": [
       "<style type=\"text/css\">\n",
       "#T_cbb62 th {\n",
       "  text-align: left;\n",
       "}\n",
       "#T_cbb62_row0_col0, #T_cbb62_row0_col1, #T_cbb62_row0_col3, #T_cbb62_row0_col5, #T_cbb62_row0_col6, #T_cbb62_row1_col0, #T_cbb62_row1_col1, #T_cbb62_row1_col4, #T_cbb62_row1_col5, #T_cbb62_row1_col6, #T_cbb62_row2_col0, #T_cbb62_row2_col3, #T_cbb62_row2_col4, #T_cbb62_row2_col5, #T_cbb62_row3_col0, #T_cbb62_row3_col1, #T_cbb62_row3_col3, #T_cbb62_row3_col4, #T_cbb62_row3_col5, #T_cbb62_row3_col6, #T_cbb62_row4_col0, #T_cbb62_row4_col1, #T_cbb62_row4_col3, #T_cbb62_row4_col4, #T_cbb62_row4_col5, #T_cbb62_row4_col6, #T_cbb62_row5_col0, #T_cbb62_row5_col1, #T_cbb62_row5_col3, #T_cbb62_row5_col4, #T_cbb62_row5_col5, #T_cbb62_row5_col6, #T_cbb62_row6_col0, #T_cbb62_row6_col1, #T_cbb62_row6_col3, #T_cbb62_row6_col4, #T_cbb62_row6_col5, #T_cbb62_row6_col6, #T_cbb62_row7_col0, #T_cbb62_row7_col1, #T_cbb62_row7_col3, #T_cbb62_row7_col4, #T_cbb62_row7_col5, #T_cbb62_row7_col6, #T_cbb62_row8_col0, #T_cbb62_row8_col1, #T_cbb62_row8_col3, #T_cbb62_row8_col4, #T_cbb62_row8_col5, #T_cbb62_row8_col6, #T_cbb62_row9_col0, #T_cbb62_row9_col1, #T_cbb62_row9_col3, #T_cbb62_row9_col4, #T_cbb62_row9_col5, #T_cbb62_row9_col6, #T_cbb62_row10_col0, #T_cbb62_row10_col1, #T_cbb62_row10_col3, #T_cbb62_row10_col4, #T_cbb62_row10_col5, #T_cbb62_row10_col6, #T_cbb62_row11_col0, #T_cbb62_row11_col1, #T_cbb62_row11_col3, #T_cbb62_row11_col4, #T_cbb62_row11_col5, #T_cbb62_row11_col6, #T_cbb62_row12_col0, #T_cbb62_row12_col1, #T_cbb62_row12_col3, #T_cbb62_row12_col4, #T_cbb62_row12_col6, #T_cbb62_row13_col0, #T_cbb62_row13_col1, #T_cbb62_row13_col3, #T_cbb62_row13_col4, #T_cbb62_row13_col5, #T_cbb62_row13_col6, #T_cbb62_row14_col0, #T_cbb62_row14_col1, #T_cbb62_row14_col3, #T_cbb62_row14_col4, #T_cbb62_row14_col5, #T_cbb62_row14_col6, #T_cbb62_row15_col0, #T_cbb62_row15_col1, #T_cbb62_row15_col3, #T_cbb62_row15_col4, #T_cbb62_row15_col5, #T_cbb62_row15_col6, #T_cbb62_row16_col0, #T_cbb62_row16_col1, #T_cbb62_row16_col2, #T_cbb62_row16_col3, #T_cbb62_row16_col4, #T_cbb62_row16_col5, #T_cbb62_row16_col6, #T_cbb62_row17_col0, #T_cbb62_row17_col1, #T_cbb62_row17_col2, #T_cbb62_row17_col3, #T_cbb62_row17_col4, #T_cbb62_row17_col5, #T_cbb62_row17_col6 {\n",
       "  text-align: left;\n",
       "}\n",
       "#T_cbb62_row0_col2, #T_cbb62_row0_col4, #T_cbb62_row1_col2, #T_cbb62_row1_col3, #T_cbb62_row2_col1, #T_cbb62_row2_col2, #T_cbb62_row2_col6, #T_cbb62_row3_col2, #T_cbb62_row4_col2, #T_cbb62_row5_col2, #T_cbb62_row6_col2, #T_cbb62_row7_col2, #T_cbb62_row8_col2, #T_cbb62_row9_col2, #T_cbb62_row10_col2, #T_cbb62_row11_col2, #T_cbb62_row12_col2, #T_cbb62_row12_col5, #T_cbb62_row13_col2, #T_cbb62_row14_col2, #T_cbb62_row15_col2 {\n",
       "  text-align: left;\n",
       "  background-color: yellow;\n",
       "}\n",
       "#T_cbb62_row0_col7, #T_cbb62_row1_col7, #T_cbb62_row2_col7, #T_cbb62_row3_col7, #T_cbb62_row4_col7, #T_cbb62_row5_col7, #T_cbb62_row6_col7, #T_cbb62_row7_col7, #T_cbb62_row8_col7, #T_cbb62_row9_col7, #T_cbb62_row10_col7, #T_cbb62_row11_col7, #T_cbb62_row12_col7, #T_cbb62_row14_col7, #T_cbb62_row15_col7, #T_cbb62_row16_col7, #T_cbb62_row17_col7 {\n",
       "  text-align: left;\n",
       "  background-color: lightgrey;\n",
       "}\n",
       "#T_cbb62_row13_col7 {\n",
       "  text-align: left;\n",
       "  background-color: yellow;\n",
       "  background-color: lightgrey;\n",
       "}\n",
       "</style>\n",
       "<table id=\"T_cbb62\">\n",
       "  <thead>\n",
       "    <tr>\n",
       "      <th class=\"blank level0\" >&nbsp;</th>\n",
       "      <th id=\"T_cbb62_level0_col0\" class=\"col_heading level0 col0\" >Model</th>\n",
       "      <th id=\"T_cbb62_level0_col1\" class=\"col_heading level0 col1\" >MAE</th>\n",
       "      <th id=\"T_cbb62_level0_col2\" class=\"col_heading level0 col2\" >MSE</th>\n",
       "      <th id=\"T_cbb62_level0_col3\" class=\"col_heading level0 col3\" >RMSE</th>\n",
       "      <th id=\"T_cbb62_level0_col4\" class=\"col_heading level0 col4\" >R2</th>\n",
       "      <th id=\"T_cbb62_level0_col5\" class=\"col_heading level0 col5\" >RMSLE</th>\n",
       "      <th id=\"T_cbb62_level0_col6\" class=\"col_heading level0 col6\" >MAPE</th>\n",
       "      <th id=\"T_cbb62_level0_col7\" class=\"col_heading level0 col7\" >TT (Sec)</th>\n",
       "    </tr>\n",
       "  </thead>\n",
       "  <tbody>\n",
       "    <tr>\n",
       "      <th id=\"T_cbb62_level0_row0\" class=\"row_heading level0 row0\" >omp</th>\n",
       "      <td id=\"T_cbb62_row0_col0\" class=\"data row0 col0\" >Orthogonal Matching Pursuit</td>\n",
       "      <td id=\"T_cbb62_row0_col1\" class=\"data row0 col1\" >0.0061</td>\n",
       "      <td id=\"T_cbb62_row0_col2\" class=\"data row0 col2\" >0.0001</td>\n",
       "      <td id=\"T_cbb62_row0_col3\" class=\"data row0 col3\" >0.0088</td>\n",
       "      <td id=\"T_cbb62_row0_col4\" class=\"data row0 col4\" >-0.0299</td>\n",
       "      <td id=\"T_cbb62_row0_col5\" class=\"data row0 col5\" >0.0076</td>\n",
       "      <td id=\"T_cbb62_row0_col6\" class=\"data row0 col6\" >2.7062</td>\n",
       "      <td id=\"T_cbb62_row0_col7\" class=\"data row0 col7\" >2.0920</td>\n",
       "    </tr>\n",
       "    <tr>\n",
       "      <th id=\"T_cbb62_level0_row1\" class=\"row_heading level0 row1\" >br</th>\n",
       "      <td id=\"T_cbb62_row1_col0\" class=\"data row1 col0\" >Bayesian Ridge</td>\n",
       "      <td id=\"T_cbb62_row1_col1\" class=\"data row1 col1\" >0.0062</td>\n",
       "      <td id=\"T_cbb62_row1_col2\" class=\"data row1 col2\" >0.0001</td>\n",
       "      <td id=\"T_cbb62_row1_col3\" class=\"data row1 col3\" >0.0087</td>\n",
       "      <td id=\"T_cbb62_row1_col4\" class=\"data row1 col4\" >-0.0330</td>\n",
       "      <td id=\"T_cbb62_row1_col5\" class=\"data row1 col5\" >0.0073</td>\n",
       "      <td id=\"T_cbb62_row1_col6\" class=\"data row1 col6\" >4.2669</td>\n",
       "      <td id=\"T_cbb62_row1_col7\" class=\"data row1 col7\" >2.1360</td>\n",
       "    </tr>\n",
       "    <tr>\n",
       "      <th id=\"T_cbb62_level0_row2\" class=\"row_heading level0 row2\" >par</th>\n",
       "      <td id=\"T_cbb62_row2_col0\" class=\"data row2 col0\" >Passive Aggressive Regressor</td>\n",
       "      <td id=\"T_cbb62_row2_col1\" class=\"data row2 col1\" >0.0059</td>\n",
       "      <td id=\"T_cbb62_row2_col2\" class=\"data row2 col2\" >0.0001</td>\n",
       "      <td id=\"T_cbb62_row2_col3\" class=\"data row2 col3\" >0.0089</td>\n",
       "      <td id=\"T_cbb62_row2_col4\" class=\"data row2 col4\" >-0.0374</td>\n",
       "      <td id=\"T_cbb62_row2_col5\" class=\"data row2 col5\" >0.0088</td>\n",
       "      <td id=\"T_cbb62_row2_col6\" class=\"data row2 col6\" >1.0000</td>\n",
       "      <td id=\"T_cbb62_row2_col7\" class=\"data row2 col7\" >2.1080</td>\n",
       "    </tr>\n",
       "    <tr>\n",
       "      <th id=\"T_cbb62_level0_row3\" class=\"row_heading level0 row3\" >ridge</th>\n",
       "      <td id=\"T_cbb62_row3_col0\" class=\"data row3 col0\" >Ridge Regression</td>\n",
       "      <td id=\"T_cbb62_row3_col1\" class=\"data row3 col1\" >0.0063</td>\n",
       "      <td id=\"T_cbb62_row3_col2\" class=\"data row3 col2\" >0.0001</td>\n",
       "      <td id=\"T_cbb62_row3_col3\" class=\"data row3 col3\" >0.0088</td>\n",
       "      <td id=\"T_cbb62_row3_col4\" class=\"data row3 col4\" >-0.0597</td>\n",
       "      <td id=\"T_cbb62_row3_col5\" class=\"data row3 col5\" >0.0073</td>\n",
       "      <td id=\"T_cbb62_row3_col6\" class=\"data row3 col6\" >4.6727</td>\n",
       "      <td id=\"T_cbb62_row3_col7\" class=\"data row3 col7\" >2.1550</td>\n",
       "    </tr>\n",
       "    <tr>\n",
       "      <th id=\"T_cbb62_level0_row4\" class=\"row_heading level0 row4\" >lr</th>\n",
       "      <td id=\"T_cbb62_row4_col0\" class=\"data row4 col0\" >Linear Regression</td>\n",
       "      <td id=\"T_cbb62_row4_col1\" class=\"data row4 col1\" >0.0063</td>\n",
       "      <td id=\"T_cbb62_row4_col2\" class=\"data row4 col2\" >0.0001</td>\n",
       "      <td id=\"T_cbb62_row4_col3\" class=\"data row4 col3\" >0.0088</td>\n",
       "      <td id=\"T_cbb62_row4_col4\" class=\"data row4 col4\" >-0.0601</td>\n",
       "      <td id=\"T_cbb62_row4_col5\" class=\"data row4 col5\" >0.0073</td>\n",
       "      <td id=\"T_cbb62_row4_col6\" class=\"data row4 col6\" >4.6840</td>\n",
       "      <td id=\"T_cbb62_row4_col7\" class=\"data row4 col7\" >3.4400</td>\n",
       "    </tr>\n",
       "    <tr>\n",
       "      <th id=\"T_cbb62_level0_row5\" class=\"row_heading level0 row5\" >et</th>\n",
       "      <td id=\"T_cbb62_row5_col0\" class=\"data row5 col0\" >Extra Trees Regressor</td>\n",
       "      <td id=\"T_cbb62_row5_col1\" class=\"data row5 col1\" >0.0062</td>\n",
       "      <td id=\"T_cbb62_row5_col2\" class=\"data row5 col2\" >0.0001</td>\n",
       "      <td id=\"T_cbb62_row5_col3\" class=\"data row5 col3\" >0.0089</td>\n",
       "      <td id=\"T_cbb62_row5_col4\" class=\"data row5 col4\" >-0.0610</td>\n",
       "      <td id=\"T_cbb62_row5_col5\" class=\"data row5 col5\" >0.0073</td>\n",
       "      <td id=\"T_cbb62_row5_col6\" class=\"data row5 col6\" >4.1912</td>\n",
       "      <td id=\"T_cbb62_row5_col7\" class=\"data row5 col7\" >2.7910</td>\n",
       "    </tr>\n",
       "    <tr>\n",
       "      <th id=\"T_cbb62_level0_row6\" class=\"row_heading level0 row6\" >en</th>\n",
       "      <td id=\"T_cbb62_row6_col0\" class=\"data row6 col0\" >Elastic Net</td>\n",
       "      <td id=\"T_cbb62_row6_col1\" class=\"data row6 col1\" >0.0060</td>\n",
       "      <td id=\"T_cbb62_row6_col2\" class=\"data row6 col2\" >0.0001</td>\n",
       "      <td id=\"T_cbb62_row6_col3\" class=\"data row6 col3\" >0.0089</td>\n",
       "      <td id=\"T_cbb62_row6_col4\" class=\"data row6 col4\" >-0.0626</td>\n",
       "      <td id=\"T_cbb62_row6_col5\" class=\"data row6 col5\" >0.0081</td>\n",
       "      <td id=\"T_cbb62_row6_col6\" class=\"data row6 col6\" >2.0693</td>\n",
       "      <td id=\"T_cbb62_row6_col7\" class=\"data row6 col7\" >2.0950</td>\n",
       "    </tr>\n",
       "    <tr>\n",
       "      <th id=\"T_cbb62_level0_row7\" class=\"row_heading level0 row7\" >llar</th>\n",
       "      <td id=\"T_cbb62_row7_col0\" class=\"data row7 col0\" >Lasso Least Angle Regression</td>\n",
       "      <td id=\"T_cbb62_row7_col1\" class=\"data row7 col1\" >0.0060</td>\n",
       "      <td id=\"T_cbb62_row7_col2\" class=\"data row7 col2\" >0.0001</td>\n",
       "      <td id=\"T_cbb62_row7_col3\" class=\"data row7 col3\" >0.0089</td>\n",
       "      <td id=\"T_cbb62_row7_col4\" class=\"data row7 col4\" >-0.0627</td>\n",
       "      <td id=\"T_cbb62_row7_col5\" class=\"data row7 col5\" >0.0081</td>\n",
       "      <td id=\"T_cbb62_row7_col6\" class=\"data row7 col6\" >2.0706</td>\n",
       "      <td id=\"T_cbb62_row7_col7\" class=\"data row7 col7\" >2.0990</td>\n",
       "    </tr>\n",
       "    <tr>\n",
       "      <th id=\"T_cbb62_level0_row8\" class=\"row_heading level0 row8\" >lasso</th>\n",
       "      <td id=\"T_cbb62_row8_col0\" class=\"data row8 col0\" >Lasso Regression</td>\n",
       "      <td id=\"T_cbb62_row8_col1\" class=\"data row8 col1\" >0.0060</td>\n",
       "      <td id=\"T_cbb62_row8_col2\" class=\"data row8 col2\" >0.0001</td>\n",
       "      <td id=\"T_cbb62_row8_col3\" class=\"data row8 col3\" >0.0089</td>\n",
       "      <td id=\"T_cbb62_row8_col4\" class=\"data row8 col4\" >-0.0627</td>\n",
       "      <td id=\"T_cbb62_row8_col5\" class=\"data row8 col5\" >0.0081</td>\n",
       "      <td id=\"T_cbb62_row8_col6\" class=\"data row8 col6\" >2.0706</td>\n",
       "      <td id=\"T_cbb62_row8_col7\" class=\"data row8 col7\" >2.4550</td>\n",
       "    </tr>\n",
       "    <tr>\n",
       "      <th id=\"T_cbb62_level0_row9\" class=\"row_heading level0 row9\" >dummy</th>\n",
       "      <td id=\"T_cbb62_row9_col0\" class=\"data row9 col0\" >Dummy Regressor</td>\n",
       "      <td id=\"T_cbb62_row9_col1\" class=\"data row9 col1\" >0.0060</td>\n",
       "      <td id=\"T_cbb62_row9_col2\" class=\"data row9 col2\" >0.0001</td>\n",
       "      <td id=\"T_cbb62_row9_col3\" class=\"data row9 col3\" >0.0090</td>\n",
       "      <td id=\"T_cbb62_row9_col4\" class=\"data row9 col4\" >-0.0725</td>\n",
       "      <td id=\"T_cbb62_row9_col5\" class=\"data row9 col5\" >0.0081</td>\n",
       "      <td id=\"T_cbb62_row9_col6\" class=\"data row9 col6\" >2.2176</td>\n",
       "      <td id=\"T_cbb62_row9_col7\" class=\"data row9 col7\" >2.1460</td>\n",
       "    </tr>\n",
       "    <tr>\n",
       "      <th id=\"T_cbb62_level0_row10\" class=\"row_heading level0 row10\" >gbr</th>\n",
       "      <td id=\"T_cbb62_row10_col0\" class=\"data row10 col0\" >Gradient Boosting Regressor</td>\n",
       "      <td id=\"T_cbb62_row10_col1\" class=\"data row10 col1\" >0.0064</td>\n",
       "      <td id=\"T_cbb62_row10_col2\" class=\"data row10 col2\" >0.0001</td>\n",
       "      <td id=\"T_cbb62_row10_col3\" class=\"data row10 col3\" >0.0091</td>\n",
       "      <td id=\"T_cbb62_row10_col4\" class=\"data row10 col4\" >-0.1254</td>\n",
       "      <td id=\"T_cbb62_row10_col5\" class=\"data row10 col5\" >0.0076</td>\n",
       "      <td id=\"T_cbb62_row10_col6\" class=\"data row10 col6\" >6.3738</td>\n",
       "      <td id=\"T_cbb62_row10_col7\" class=\"data row10 col7\" >3.0690</td>\n",
       "    </tr>\n",
       "    <tr>\n",
       "      <th id=\"T_cbb62_level0_row11\" class=\"row_heading level0 row11\" >rf</th>\n",
       "      <td id=\"T_cbb62_row11_col0\" class=\"data row11 col0\" >Random Forest Regressor</td>\n",
       "      <td id=\"T_cbb62_row11_col1\" class=\"data row11 col1\" >0.0068</td>\n",
       "      <td id=\"T_cbb62_row11_col2\" class=\"data row11 col2\" >0.0001</td>\n",
       "      <td id=\"T_cbb62_row11_col3\" class=\"data row11 col3\" >0.0094</td>\n",
       "      <td id=\"T_cbb62_row11_col4\" class=\"data row11 col4\" >-0.1847</td>\n",
       "      <td id=\"T_cbb62_row11_col5\" class=\"data row11 col5\" >0.0075</td>\n",
       "      <td id=\"T_cbb62_row11_col6\" class=\"data row11 col6\" >5.5980</td>\n",
       "      <td id=\"T_cbb62_row11_col7\" class=\"data row11 col7\" >4.8690</td>\n",
       "    </tr>\n",
       "    <tr>\n",
       "      <th id=\"T_cbb62_level0_row12\" class=\"row_heading level0 row12\" >lightgbm</th>\n",
       "      <td id=\"T_cbb62_row12_col0\" class=\"data row12 col0\" >Light Gradient Boosting Machine</td>\n",
       "      <td id=\"T_cbb62_row12_col1\" class=\"data row12 col1\" >0.0069</td>\n",
       "      <td id=\"T_cbb62_row12_col2\" class=\"data row12 col2\" >0.0001</td>\n",
       "      <td id=\"T_cbb62_row12_col3\" class=\"data row12 col3\" >0.0094</td>\n",
       "      <td id=\"T_cbb62_row12_col4\" class=\"data row12 col4\" >-0.2111</td>\n",
       "      <td id=\"T_cbb62_row12_col5\" class=\"data row12 col5\" >0.0072</td>\n",
       "      <td id=\"T_cbb62_row12_col6\" class=\"data row12 col6\" >8.3232</td>\n",
       "      <td id=\"T_cbb62_row12_col7\" class=\"data row12 col7\" >2.5260</td>\n",
       "    </tr>\n",
       "    <tr>\n",
       "      <th id=\"T_cbb62_level0_row13\" class=\"row_heading level0 row13\" >lar</th>\n",
       "      <td id=\"T_cbb62_row13_col0\" class=\"data row13 col0\" >Least Angle Regression</td>\n",
       "      <td id=\"T_cbb62_row13_col1\" class=\"data row13 col1\" >0.0069</td>\n",
       "      <td id=\"T_cbb62_row13_col2\" class=\"data row13 col2\" >0.0001</td>\n",
       "      <td id=\"T_cbb62_row13_col3\" class=\"data row13 col3\" >0.0094</td>\n",
       "      <td id=\"T_cbb62_row13_col4\" class=\"data row13 col4\" >-0.2259</td>\n",
       "      <td id=\"T_cbb62_row13_col5\" class=\"data row13 col5\" >0.0073</td>\n",
       "      <td id=\"T_cbb62_row13_col6\" class=\"data row13 col6\" >7.3407</td>\n",
       "      <td id=\"T_cbb62_row13_col7\" class=\"data row13 col7\" >2.0910</td>\n",
       "    </tr>\n",
       "    <tr>\n",
       "      <th id=\"T_cbb62_level0_row14\" class=\"row_heading level0 row14\" >knn</th>\n",
       "      <td id=\"T_cbb62_row14_col0\" class=\"data row14 col0\" >K Neighbors Regressor</td>\n",
       "      <td id=\"T_cbb62_row14_col1\" class=\"data row14 col1\" >0.0068</td>\n",
       "      <td id=\"T_cbb62_row14_col2\" class=\"data row14 col2\" >0.0001</td>\n",
       "      <td id=\"T_cbb62_row14_col3\" class=\"data row14 col3\" >0.0099</td>\n",
       "      <td id=\"T_cbb62_row14_col4\" class=\"data row14 col4\" >-0.3303</td>\n",
       "      <td id=\"T_cbb62_row14_col5\" class=\"data row14 col5\" >0.0075</td>\n",
       "      <td id=\"T_cbb62_row14_col6\" class=\"data row14 col6\" >4.9772</td>\n",
       "      <td id=\"T_cbb62_row14_col7\" class=\"data row14 col7\" >2.1310</td>\n",
       "    </tr>\n",
       "    <tr>\n",
       "      <th id=\"T_cbb62_level0_row15\" class=\"row_heading level0 row15\" >ada</th>\n",
       "      <td id=\"T_cbb62_row15_col0\" class=\"data row15 col0\" >AdaBoost Regressor</td>\n",
       "      <td id=\"T_cbb62_row15_col1\" class=\"data row15 col1\" >0.0072</td>\n",
       "      <td id=\"T_cbb62_row15_col2\" class=\"data row15 col2\" >0.0001</td>\n",
       "      <td id=\"T_cbb62_row15_col3\" class=\"data row15 col3\" >0.0098</td>\n",
       "      <td id=\"T_cbb62_row15_col4\" class=\"data row15 col4\" >-0.5705</td>\n",
       "      <td id=\"T_cbb62_row15_col5\" class=\"data row15 col5\" >0.0076</td>\n",
       "      <td id=\"T_cbb62_row15_col6\" class=\"data row15 col6\" >6.9358</td>\n",
       "      <td id=\"T_cbb62_row15_col7\" class=\"data row15 col7\" >2.3730</td>\n",
       "    </tr>\n",
       "    <tr>\n",
       "      <th id=\"T_cbb62_level0_row16\" class=\"row_heading level0 row16\" >dt</th>\n",
       "      <td id=\"T_cbb62_row16_col0\" class=\"data row16 col0\" >Decision Tree Regressor</td>\n",
       "      <td id=\"T_cbb62_row16_col1\" class=\"data row16 col1\" >0.0102</td>\n",
       "      <td id=\"T_cbb62_row16_col2\" class=\"data row16 col2\" >0.0002</td>\n",
       "      <td id=\"T_cbb62_row16_col3\" class=\"data row16 col3\" >0.0140</td>\n",
       "      <td id=\"T_cbb62_row16_col4\" class=\"data row16 col4\" >-1.8387</td>\n",
       "      <td id=\"T_cbb62_row16_col5\" class=\"data row16 col5\" >0.0097</td>\n",
       "      <td id=\"T_cbb62_row16_col6\" class=\"data row16 col6\" >15.0771</td>\n",
       "      <td id=\"T_cbb62_row16_col7\" class=\"data row16 col7\" >2.1680</td>\n",
       "    </tr>\n",
       "    <tr>\n",
       "      <th id=\"T_cbb62_level0_row17\" class=\"row_heading level0 row17\" >huber</th>\n",
       "      <td id=\"T_cbb62_row17_col0\" class=\"data row17 col0\" >Huber Regressor</td>\n",
       "      <td id=\"T_cbb62_row17_col1\" class=\"data row17 col1\" >0.2417</td>\n",
       "      <td id=\"T_cbb62_row17_col2\" class=\"data row17 col2\" >0.0983</td>\n",
       "      <td id=\"T_cbb62_row17_col3\" class=\"data row17 col3\" >0.2991</td>\n",
       "      <td id=\"T_cbb62_row17_col4\" class=\"data row17 col4\" >-1627.9719</td>\n",
       "      <td id=\"T_cbb62_row17_col5\" class=\"data row17 col5\" >0.2407</td>\n",
       "      <td id=\"T_cbb62_row17_col6\" class=\"data row17 col6\" >376.0126</td>\n",
       "      <td id=\"T_cbb62_row17_col7\" class=\"data row17 col7\" >2.2420</td>\n",
       "    </tr>\n",
       "  </tbody>\n",
       "</table>\n"
      ],
      "text/plain": [
       "<pandas.io.formats.style.Styler at 0x20fbe4c4d90>"
      ]
     },
     "metadata": {},
     "output_type": "display_data"
    },
    {
     "data": {
      "application/vnd.jupyter.widget-view+json": {
       "model_id": "1011fcb9e94345ffb74198304980a481",
       "version_major": 2,
       "version_minor": 0
      },
      "text/plain": [
       "Processing:   0%|          | 0/77 [00:00<?, ?it/s]"
      ]
     },
     "metadata": {},
     "output_type": "display_data"
    }
   ],
   "source": [
    "best = compare_models()"
   ]
  },
  {
   "cell_type": "code",
   "execution_count": 27,
   "metadata": {},
   "outputs": [
    {
     "data": {
      "application/vnd.jupyter.widget-view+json": {
       "model_id": "d498006205a54f24841856e29fe925da",
       "version_major": 2,
       "version_minor": 0
      },
      "text/plain": [
       "interactive(children=(ToggleButtons(description='Plot Type:', icons=('',), options=(('Pipeline Plot', 'pipelin…"
      ]
     },
     "metadata": {},
     "output_type": "display_data"
    },
    {
     "name": "stdout",
     "output_type": "stream",
     "text": [
      "OrthogonalMatchingPursuit()\n"
     ]
    }
   ],
   "source": [
    "evaluate_model(best)\n",
    "print(best)"
   ]
  },
  {
   "cell_type": "code",
   "execution_count": 28,
   "metadata": {},
   "outputs": [],
   "source": [
    "# tuned = tune_model(best)"
   ]
  },
  {
   "cell_type": "code",
   "execution_count": 29,
   "metadata": {
    "scrolled": true
   },
   "outputs": [
    {
     "data": {
      "text/html": [
       "<style type=\"text/css\">\n",
       "</style>\n",
       "<table id=\"T_12364\">\n",
       "  <thead>\n",
       "    <tr>\n",
       "      <th class=\"blank level0\" >&nbsp;</th>\n",
       "      <th id=\"T_12364_level0_col0\" class=\"col_heading level0 col0\" >Model</th>\n",
       "      <th id=\"T_12364_level0_col1\" class=\"col_heading level0 col1\" >MAE</th>\n",
       "      <th id=\"T_12364_level0_col2\" class=\"col_heading level0 col2\" >MSE</th>\n",
       "      <th id=\"T_12364_level0_col3\" class=\"col_heading level0 col3\" >RMSE</th>\n",
       "      <th id=\"T_12364_level0_col4\" class=\"col_heading level0 col4\" >R2</th>\n",
       "      <th id=\"T_12364_level0_col5\" class=\"col_heading level0 col5\" >RMSLE</th>\n",
       "      <th id=\"T_12364_level0_col6\" class=\"col_heading level0 col6\" >MAPE</th>\n",
       "    </tr>\n",
       "  </thead>\n",
       "  <tbody>\n",
       "    <tr>\n",
       "      <th id=\"T_12364_level0_row0\" class=\"row_heading level0 row0\" >0</th>\n",
       "      <td id=\"T_12364_row0_col0\" class=\"data row0 col0\" >Orthogonal Matching Pursuit</td>\n",
       "      <td id=\"T_12364_row0_col1\" class=\"data row0 col1\" >0.0032</td>\n",
       "      <td id=\"T_12364_row0_col2\" class=\"data row0 col2\" >0.0000</td>\n",
       "      <td id=\"T_12364_row0_col3\" class=\"data row0 col3\" >0.0046</td>\n",
       "      <td id=\"T_12364_row0_col4\" class=\"data row0 col4\" >-0.1777</td>\n",
       "      <td id=\"T_12364_row0_col5\" class=\"data row0 col5\" >0.0035</td>\n",
       "      <td id=\"T_12364_row0_col6\" class=\"data row0 col6\" >4.8977</td>\n",
       "    </tr>\n",
       "  </tbody>\n",
       "</table>\n"
      ],
      "text/plain": [
       "<pandas.io.formats.style.Styler at 0x20fcaf5f8b0>"
      ]
     },
     "metadata": {},
     "output_type": "display_data"
    }
   ],
   "source": [
    "# test = test.drop(['Target_Close_1min'], axis=1)\n",
    "predictions = predict_model(best, data = test)\n",
    "# predictions = predict_model(best, data = train)\n",
    "\n",
    "predictions.head()\n",
    "\n",
    "predictions.to_csv('result_ET_Binary.csv')"
   ]
  },
  {
   "cell_type": "markdown",
   "metadata": {},
   "source": [
    "### precition : \n",
    "\n",
    "train pred vs actual \n",
    "\n",
    "###prediction_label\n",
    "\n",
    "pred: 10/20/50 quantile. [-1,1] => [-1, -0.8]   [-0.8, -0.6]\n",
    "\n",
    "'prediction_label'\n",
    "data_sort = data.sort_values\n",
    "\n",
    "\n",
    "## \n",
    "1）预测正确率\n",
    "2）corr，spearman pearson\n",
    "3）每个组里 actual mean ， pred mean"
   ]
  }
 ],
 "metadata": {
  "kernelspec": {
   "display_name": "Python 3 (ipykernel)",
   "language": "python",
   "name": "python3"
  },
  "language_info": {
   "codemirror_mode": {
    "name": "ipython",
    "version": 3
   },
   "file_extension": ".py",
   "mimetype": "text/x-python",
   "name": "python",
   "nbconvert_exporter": "python",
   "pygments_lexer": "ipython3",
   "version": "3.10.9"
  }
 },
 "nbformat": 4,
 "nbformat_minor": 2
}
