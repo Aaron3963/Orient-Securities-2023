{
 "cells": [
  {
   "cell_type": "code",
   "execution_count": 9,
   "metadata": {},
   "outputs": [
    {
     "name": "stdout",
     "output_type": "stream",
     "text": [
      "Index(['tta_BOP', 'tta_STOCHRSI_timeperiod_6_fastk_period_5_fastd_period_8_0',\n",
      "       'tta_STOCHRSI_timeperiod_6_fastk_period_5_fastd_period_8_1',\n",
      "       'tta_TRANGE', 'tta_CDLBELTHOLD', 'tta_CDLCLOSINGMARUBOZU',\n",
      "       'tta_ULTOSC_timeperiod1_20_timeperiod2_5_timeperiod3_34',\n",
      "       'tta_MINUS_DM_timeperiod_6', 'tta_ADOSC_fastperiod_14_slowperiod_9',\n",
      "       'tta_DX_timeperiod_26', 'tta_HT_PHASOR_0', 'tta_HT_PHASOR_1',\n",
      "       'tta_MFI_timeperiod_36',\n",
      "       'tta_SAREXT_accelerationlong_28_accelerationshort_26',\n",
      "       'tta_CDLENGULFING', 'tta_T3_timeperiod_38', 'tta_HT_TRENDMODE',\n",
      "       'tta_HT_DCPERIOD', 'tta_CDLSHORTLINE', 'tta_HT_DCPHASE',\n",
      "       'tta_CDL3WHITESOLDIERS', 'tta_CDLMORNINGDOJISTAR', 'tta_CDLTRISTAR',\n",
      "       'tta_CDLHIKKAKE', 'tta_CDLLONGLEGGEDDOJI', 'tta_HT_SINE_0',\n",
      "       'tta_HT_SINE_1', 'tta_CDLUNIQUE3RIVER', 'tta_CDL3LINESTRIKE',\n",
      "       'tta_CDLSTICKSANDWICH', 'tta_CDL3OUTSIDE', 'tta_CDLSPINNINGTOP',\n",
      "       'tta_CDLLADDERBOTTOM', 'tta_CDLEVENINGDOJISTAR', 'tta_CDLPIERCING',\n",
      "       'tta_CDLGAPSIDESIDEWHITE', 'tta_CDLIDENTICAL3CROWS', 'tta_CDL2CROWS',\n",
      "       'tta_CDLGRAVESTONEDOJI', 'tta_CDLTASUKIGAP', 'tta_CDLHAMMER',\n",
      "       'tta_CDLINNECK', 'tta_CDLSEPARATINGLINES', 'tta_CDLDRAGONFLYDOJI',\n",
      "       'tta_CDLINVERTEDHAMMER', 'tta_CDLHARAMI', 'tta_CDLXSIDEGAP3METHODS',\n",
      "       'tta_CDLMORNINGSTAR', 'tta_CDLONNECK', 'tta_CDLHIKKAKEMOD',\n",
      "       'tta_CDLDARKCLOUDCOVER', 'tta_CDLEVENINGSTAR', 'tta_CDLSTALLEDPATTERN',\n",
      "       'tta_CDL3BLACKCROWS', 'tta_CDLHANGINGMAN', 'tta_CDLHARAMICROSS',\n",
      "       'tta_CDLMATCHINGLOW', 'tta_CDLDOJISTAR', 'tta_CDLTHRUSTING',\n",
      "       'tta_CDLHOMINGPIGEON', 'tta_CDLSHOOTINGSTAR', 'tta_CDLADVANCEBLOCK',\n",
      "       'Target_Avg_1min'],\n",
      "      dtype='object')\n"
     ]
    }
   ],
   "source": [
    "import pycaret\n",
    "pycaret.__version__\n",
    "import pandas as pd\n",
    "\n",
    "from pycaret.regression import *\n",
    "\n",
    "TRAIN_PATH = 'train_withF_Avg.csv'\n",
    "TEST_PATH = 'test_withF_Avg.csv'\n",
    "\n",
    "train = pd.read_csv(TRAIN_PATH,index_col='Timestamp')\n",
    "test = pd.read_csv(TEST_PATH,index_col='Timestamp')\n",
    "\n",
    "print(train.columns)"
   ]
  },
  {
   "cell_type": "code",
   "execution_count": 10,
   "metadata": {},
   "outputs": [],
   "source": [
    "# percent_zeros = (train == 0).sum() / len(train) * 100\n",
    "\n",
    "# # Identify columns where the percentage of zeros exceeds 90%\n",
    "# columns_to_drop = percent_zeros[percent_zeros >= 90].index\n",
    "\n",
    "# # print(columns_to_drop)\n",
    "\n",
    "# train.drop(columns=columns_to_drop,inplace= True)\n",
    "# test.drop(columns=columns_to_drop,inplace= True)\n",
    "\n",
    "# print(train.columns)\n"
   ]
  },
  {
   "cell_type": "code",
   "execution_count": 11,
   "metadata": {},
   "outputs": [
    {
     "data": {
      "text/plain": [
       "pycaret.regression.oop.RegressionExperiment"
      ]
     },
     "execution_count": 11,
     "metadata": {},
     "output_type": "execute_result"
    }
   ],
   "source": [
    "from pycaret.regression import RegressionExperiment\n",
    "# from pycaret.regression import *\n",
    "exp = RegressionExperiment()\n",
    "type(exp)"
   ]
  },
  {
   "cell_type": "code",
   "execution_count": 12,
   "metadata": {},
   "outputs": [
    {
     "data": {
      "text/html": [
       "<style type=\"text/css\">\n",
       "</style>\n",
       "<table id=\"T_28805\">\n",
       "  <thead>\n",
       "    <tr>\n",
       "      <th class=\"blank level0\" >&nbsp;</th>\n",
       "      <th id=\"T_28805_level0_col0\" class=\"col_heading level0 col0\" >Description</th>\n",
       "      <th id=\"T_28805_level0_col1\" class=\"col_heading level0 col1\" >Value</th>\n",
       "    </tr>\n",
       "  </thead>\n",
       "  <tbody>\n",
       "    <tr>\n",
       "      <th id=\"T_28805_level0_row0\" class=\"row_heading level0 row0\" >0</th>\n",
       "      <td id=\"T_28805_row0_col0\" class=\"data row0 col0\" >Session id</td>\n",
       "      <td id=\"T_28805_row0_col1\" class=\"data row0 col1\" >123</td>\n",
       "    </tr>\n",
       "    <tr>\n",
       "      <th id=\"T_28805_level0_row1\" class=\"row_heading level0 row1\" >1</th>\n",
       "      <td id=\"T_28805_row1_col0\" class=\"data row1 col0\" >Target</td>\n",
       "      <td id=\"T_28805_row1_col1\" class=\"data row1 col1\" >Target_Avg_1min</td>\n",
       "    </tr>\n",
       "    <tr>\n",
       "      <th id=\"T_28805_level0_row2\" class=\"row_heading level0 row2\" >2</th>\n",
       "      <td id=\"T_28805_row2_col0\" class=\"data row2 col0\" >Target type</td>\n",
       "      <td id=\"T_28805_row2_col1\" class=\"data row2 col1\" >Regression</td>\n",
       "    </tr>\n",
       "    <tr>\n",
       "      <th id=\"T_28805_level0_row3\" class=\"row_heading level0 row3\" >3</th>\n",
       "      <td id=\"T_28805_row3_col0\" class=\"data row3 col0\" >Original data shape</td>\n",
       "      <td id=\"T_28805_row3_col1\" class=\"data row3 col1\" >(5256, 63)</td>\n",
       "    </tr>\n",
       "    <tr>\n",
       "      <th id=\"T_28805_level0_row4\" class=\"row_heading level0 row4\" >4</th>\n",
       "      <td id=\"T_28805_row4_col0\" class=\"data row4 col0\" >Transformed data shape</td>\n",
       "      <td id=\"T_28805_row4_col1\" class=\"data row4 col1\" >(5256, 63)</td>\n",
       "    </tr>\n",
       "    <tr>\n",
       "      <th id=\"T_28805_level0_row5\" class=\"row_heading level0 row5\" >5</th>\n",
       "      <td id=\"T_28805_row5_col0\" class=\"data row5 col0\" >Transformed train set shape</td>\n",
       "      <td id=\"T_28805_row5_col1\" class=\"data row5 col1\" >(3679, 63)</td>\n",
       "    </tr>\n",
       "    <tr>\n",
       "      <th id=\"T_28805_level0_row6\" class=\"row_heading level0 row6\" >6</th>\n",
       "      <td id=\"T_28805_row6_col0\" class=\"data row6 col0\" >Transformed test set shape</td>\n",
       "      <td id=\"T_28805_row6_col1\" class=\"data row6 col1\" >(1577, 63)</td>\n",
       "    </tr>\n",
       "    <tr>\n",
       "      <th id=\"T_28805_level0_row7\" class=\"row_heading level0 row7\" >7</th>\n",
       "      <td id=\"T_28805_row7_col0\" class=\"data row7 col0\" >Numeric features</td>\n",
       "      <td id=\"T_28805_row7_col1\" class=\"data row7 col1\" >62</td>\n",
       "    </tr>\n",
       "  </tbody>\n",
       "</table>\n"
      ],
      "text/plain": [
       "<pandas.io.formats.style.Styler at 0x173ef2f1f90>"
      ]
     },
     "metadata": {},
     "output_type": "display_data"
    },
    {
     "data": {
      "text/plain": [
       "<pycaret.regression.oop.RegressionExperiment at 0x173ef9820b0>"
      ]
     },
     "execution_count": 12,
     "metadata": {},
     "output_type": "execute_result"
    }
   ],
   "source": [
    "setup(data=train, data_split_shuffle = False,preprocess = False, feature_selection= True,target='Target_Avg_1min', session_id = 123)\n",
    "\n",
    "# setup(data=train,target='Target_Avg_1min', session_id = 123)"
   ]
  },
  {
   "cell_type": "code",
   "execution_count": 13,
   "metadata": {},
   "outputs": [
    {
     "data": {
      "text/html": [
       "<div>\n",
       "<style scoped>\n",
       "    .dataframe tbody tr th:only-of-type {\n",
       "        vertical-align: middle;\n",
       "    }\n",
       "\n",
       "    .dataframe tbody tr th {\n",
       "        vertical-align: top;\n",
       "    }\n",
       "\n",
       "    .dataframe thead th {\n",
       "        text-align: right;\n",
       "    }\n",
       "</style>\n",
       "<table border=\"1\" class=\"dataframe\">\n",
       "  <thead>\n",
       "    <tr style=\"text-align: right;\">\n",
       "      <th></th>\n",
       "      <th></th>\n",
       "      <th></th>\n",
       "    </tr>\n",
       "    <tr>\n",
       "      <th></th>\n",
       "      <th></th>\n",
       "      <th></th>\n",
       "    </tr>\n",
       "  </thead>\n",
       "  <tbody>\n",
       "    <tr>\n",
       "      <th>Initiated</th>\n",
       "      <td>. . . . . . . . . . . . . . . . . .</td>\n",
       "      <td>13:13:00</td>\n",
       "    </tr>\n",
       "    <tr>\n",
       "      <th>Status</th>\n",
       "      <td>. . . . . . . . . . . . . . . . . .</td>\n",
       "      <td>Loading Dependencies</td>\n",
       "    </tr>\n",
       "    <tr>\n",
       "      <th>Estimator</th>\n",
       "      <td>. . . . . . . . . . . . . . . . . .</td>\n",
       "      <td>Compiling Library</td>\n",
       "    </tr>\n",
       "  </tbody>\n",
       "</table>\n",
       "</div>"
      ],
      "text/plain": [
       "                                                                    \n",
       "                                                                    \n",
       "Initiated  . . . . . . . . . . . . . . . . . .              13:13:00\n",
       "Status     . . . . . . . . . . . . . . . . . .  Loading Dependencies\n",
       "Estimator  . . . . . . . . . . . . . . . . . .     Compiling Library"
      ]
     },
     "metadata": {},
     "output_type": "display_data"
    },
    {
     "data": {
      "text/html": [
       "<style type=\"text/css\">\n",
       "#T_e3fb2 th {\n",
       "  text-align: left;\n",
       "}\n",
       "#T_e3fb2_row0_col0, #T_e3fb2_row0_col6, #T_e3fb2_row1_col0, #T_e3fb2_row1_col1, #T_e3fb2_row1_col4, #T_e3fb2_row1_col5, #T_e3fb2_row1_col6, #T_e3fb2_row2_col0, #T_e3fb2_row2_col1, #T_e3fb2_row2_col3, #T_e3fb2_row2_col4, #T_e3fb2_row2_col5, #T_e3fb2_row2_col6, #T_e3fb2_row3_col0, #T_e3fb2_row3_col1, #T_e3fb2_row3_col3, #T_e3fb2_row3_col4, #T_e3fb2_row3_col5, #T_e3fb2_row3_col6, #T_e3fb2_row4_col0, #T_e3fb2_row4_col1, #T_e3fb2_row4_col3, #T_e3fb2_row4_col4, #T_e3fb2_row4_col5, #T_e3fb2_row4_col6, #T_e3fb2_row5_col0, #T_e3fb2_row5_col1, #T_e3fb2_row5_col3, #T_e3fb2_row5_col4, #T_e3fb2_row5_col5, #T_e3fb2_row5_col6, #T_e3fb2_row6_col0, #T_e3fb2_row6_col1, #T_e3fb2_row6_col3, #T_e3fb2_row6_col4, #T_e3fb2_row6_col5, #T_e3fb2_row6_col6, #T_e3fb2_row7_col0, #T_e3fb2_row7_col1, #T_e3fb2_row7_col3, #T_e3fb2_row7_col4, #T_e3fb2_row7_col5, #T_e3fb2_row7_col6, #T_e3fb2_row8_col0, #T_e3fb2_row8_col1, #T_e3fb2_row8_col3, #T_e3fb2_row8_col4, #T_e3fb2_row8_col5, #T_e3fb2_row8_col6, #T_e3fb2_row9_col0, #T_e3fb2_row9_col1, #T_e3fb2_row9_col3, #T_e3fb2_row9_col4, #T_e3fb2_row9_col5, #T_e3fb2_row9_col6, #T_e3fb2_row10_col0, #T_e3fb2_row10_col1, #T_e3fb2_row10_col3, #T_e3fb2_row10_col4, #T_e3fb2_row10_col5, #T_e3fb2_row10_col6, #T_e3fb2_row11_col0, #T_e3fb2_row11_col1, #T_e3fb2_row11_col3, #T_e3fb2_row11_col4, #T_e3fb2_row11_col5, #T_e3fb2_row12_col0, #T_e3fb2_row12_col1, #T_e3fb2_row12_col3, #T_e3fb2_row12_col4, #T_e3fb2_row12_col5, #T_e3fb2_row12_col6, #T_e3fb2_row13_col0, #T_e3fb2_row13_col1, #T_e3fb2_row13_col3, #T_e3fb2_row13_col4, #T_e3fb2_row13_col5, #T_e3fb2_row13_col6, #T_e3fb2_row14_col0, #T_e3fb2_row14_col1, #T_e3fb2_row14_col3, #T_e3fb2_row14_col4, #T_e3fb2_row14_col5, #T_e3fb2_row14_col6, #T_e3fb2_row15_col0, #T_e3fb2_row15_col1, #T_e3fb2_row15_col3, #T_e3fb2_row15_col4, #T_e3fb2_row15_col5, #T_e3fb2_row15_col6, #T_e3fb2_row16_col0, #T_e3fb2_row16_col1, #T_e3fb2_row16_col2, #T_e3fb2_row16_col3, #T_e3fb2_row16_col4, #T_e3fb2_row16_col5, #T_e3fb2_row16_col6, #T_e3fb2_row17_col0, #T_e3fb2_row17_col1, #T_e3fb2_row17_col2, #T_e3fb2_row17_col3, #T_e3fb2_row17_col4, #T_e3fb2_row17_col5, #T_e3fb2_row17_col6 {\n",
       "  text-align: left;\n",
       "}\n",
       "#T_e3fb2_row0_col1, #T_e3fb2_row0_col2, #T_e3fb2_row0_col3, #T_e3fb2_row0_col4, #T_e3fb2_row0_col5, #T_e3fb2_row1_col2, #T_e3fb2_row1_col3, #T_e3fb2_row2_col2, #T_e3fb2_row3_col2, #T_e3fb2_row4_col2, #T_e3fb2_row5_col2, #T_e3fb2_row6_col2, #T_e3fb2_row7_col2, #T_e3fb2_row8_col2, #T_e3fb2_row9_col2, #T_e3fb2_row10_col2, #T_e3fb2_row11_col2, #T_e3fb2_row11_col6, #T_e3fb2_row12_col2, #T_e3fb2_row13_col2, #T_e3fb2_row14_col2, #T_e3fb2_row15_col2 {\n",
       "  text-align: left;\n",
       "  background-color: yellow;\n",
       "}\n",
       "#T_e3fb2_row0_col7, #T_e3fb2_row1_col7, #T_e3fb2_row2_col7, #T_e3fb2_row3_col7, #T_e3fb2_row4_col7, #T_e3fb2_row5_col7, #T_e3fb2_row6_col7, #T_e3fb2_row7_col7, #T_e3fb2_row9_col7, #T_e3fb2_row10_col7, #T_e3fb2_row11_col7, #T_e3fb2_row12_col7, #T_e3fb2_row13_col7, #T_e3fb2_row14_col7, #T_e3fb2_row15_col7, #T_e3fb2_row16_col7, #T_e3fb2_row17_col7 {\n",
       "  text-align: left;\n",
       "  background-color: lightgrey;\n",
       "}\n",
       "#T_e3fb2_row8_col7 {\n",
       "  text-align: left;\n",
       "  background-color: yellow;\n",
       "  background-color: lightgrey;\n",
       "}\n",
       "</style>\n",
       "<table id=\"T_e3fb2\">\n",
       "  <thead>\n",
       "    <tr>\n",
       "      <th class=\"blank level0\" >&nbsp;</th>\n",
       "      <th id=\"T_e3fb2_level0_col0\" class=\"col_heading level0 col0\" >Model</th>\n",
       "      <th id=\"T_e3fb2_level0_col1\" class=\"col_heading level0 col1\" >MAE</th>\n",
       "      <th id=\"T_e3fb2_level0_col2\" class=\"col_heading level0 col2\" >MSE</th>\n",
       "      <th id=\"T_e3fb2_level0_col3\" class=\"col_heading level0 col3\" >RMSE</th>\n",
       "      <th id=\"T_e3fb2_level0_col4\" class=\"col_heading level0 col4\" >R2</th>\n",
       "      <th id=\"T_e3fb2_level0_col5\" class=\"col_heading level0 col5\" >RMSLE</th>\n",
       "      <th id=\"T_e3fb2_level0_col6\" class=\"col_heading level0 col6\" >MAPE</th>\n",
       "      <th id=\"T_e3fb2_level0_col7\" class=\"col_heading level0 col7\" >TT (Sec)</th>\n",
       "    </tr>\n",
       "  </thead>\n",
       "  <tbody>\n",
       "    <tr>\n",
       "      <th id=\"T_e3fb2_level0_row0\" class=\"row_heading level0 row0\" >et</th>\n",
       "      <td id=\"T_e3fb2_row0_col0\" class=\"data row0 col0\" >Extra Trees Regressor</td>\n",
       "      <td id=\"T_e3fb2_row0_col1\" class=\"data row0 col1\" >0.0019</td>\n",
       "      <td id=\"T_e3fb2_row0_col2\" class=\"data row0 col2\" >0.0000</td>\n",
       "      <td id=\"T_e3fb2_row0_col3\" class=\"data row0 col3\" >0.0030</td>\n",
       "      <td id=\"T_e3fb2_row0_col4\" class=\"data row0 col4\" >0.2370</td>\n",
       "      <td id=\"T_e3fb2_row0_col5\" class=\"data row0 col5\" >0.0025</td>\n",
       "      <td id=\"T_e3fb2_row0_col6\" class=\"data row0 col6\" >3.2438</td>\n",
       "      <td id=\"T_e3fb2_row0_col7\" class=\"data row0 col7\" >1.2600</td>\n",
       "    </tr>\n",
       "    <tr>\n",
       "      <th id=\"T_e3fb2_level0_row1\" class=\"row_heading level0 row1\" >rf</th>\n",
       "      <td id=\"T_e3fb2_row1_col0\" class=\"data row1 col0\" >Random Forest Regressor</td>\n",
       "      <td id=\"T_e3fb2_row1_col1\" class=\"data row1 col1\" >0.0020</td>\n",
       "      <td id=\"T_e3fb2_row1_col2\" class=\"data row1 col2\" >0.0000</td>\n",
       "      <td id=\"T_e3fb2_row1_col3\" class=\"data row1 col3\" >0.0030</td>\n",
       "      <td id=\"T_e3fb2_row1_col4\" class=\"data row1 col4\" >0.2289</td>\n",
       "      <td id=\"T_e3fb2_row1_col5\" class=\"data row1 col5\" >0.0026</td>\n",
       "      <td id=\"T_e3fb2_row1_col6\" class=\"data row1 col6\" >3.5700</td>\n",
       "      <td id=\"T_e3fb2_row1_col7\" class=\"data row1 col7\" >1.8450</td>\n",
       "    </tr>\n",
       "    <tr>\n",
       "      <th id=\"T_e3fb2_level0_row2\" class=\"row_heading level0 row2\" >lightgbm</th>\n",
       "      <td id=\"T_e3fb2_row2_col0\" class=\"data row2 col0\" >Light Gradient Boosting Machine</td>\n",
       "      <td id=\"T_e3fb2_row2_col1\" class=\"data row2 col1\" >0.0020</td>\n",
       "      <td id=\"T_e3fb2_row2_col2\" class=\"data row2 col2\" >0.0000</td>\n",
       "      <td id=\"T_e3fb2_row2_col3\" class=\"data row2 col3\" >0.0031</td>\n",
       "      <td id=\"T_e3fb2_row2_col4\" class=\"data row2 col4\" >0.1843</td>\n",
       "      <td id=\"T_e3fb2_row2_col5\" class=\"data row2 col5\" >0.0026</td>\n",
       "      <td id=\"T_e3fb2_row2_col6\" class=\"data row2 col6\" >4.1118</td>\n",
       "      <td id=\"T_e3fb2_row2_col7\" class=\"data row2 col7\" >1.0520</td>\n",
       "    </tr>\n",
       "    <tr>\n",
       "      <th id=\"T_e3fb2_level0_row3\" class=\"row_heading level0 row3\" >br</th>\n",
       "      <td id=\"T_e3fb2_row3_col0\" class=\"data row3 col0\" >Bayesian Ridge</td>\n",
       "      <td id=\"T_e3fb2_row3_col1\" class=\"data row3 col1\" >0.0021</td>\n",
       "      <td id=\"T_e3fb2_row3_col2\" class=\"data row3 col2\" >0.0000</td>\n",
       "      <td id=\"T_e3fb2_row3_col3\" class=\"data row3 col3\" >0.0032</td>\n",
       "      <td id=\"T_e3fb2_row3_col4\" class=\"data row3 col4\" >0.1497</td>\n",
       "      <td id=\"T_e3fb2_row3_col5\" class=\"data row3 col5\" >0.0028</td>\n",
       "      <td id=\"T_e3fb2_row3_col6\" class=\"data row3 col6\" >3.9347</td>\n",
       "      <td id=\"T_e3fb2_row3_col7\" class=\"data row3 col7\" >0.9920</td>\n",
       "    </tr>\n",
       "    <tr>\n",
       "      <th id=\"T_e3fb2_level0_row4\" class=\"row_heading level0 row4\" >ridge</th>\n",
       "      <td id=\"T_e3fb2_row4_col0\" class=\"data row4 col0\" >Ridge Regression</td>\n",
       "      <td id=\"T_e3fb2_row4_col1\" class=\"data row4 col1\" >0.0021</td>\n",
       "      <td id=\"T_e3fb2_row4_col2\" class=\"data row4 col2\" >0.0000</td>\n",
       "      <td id=\"T_e3fb2_row4_col3\" class=\"data row4 col3\" >0.0032</td>\n",
       "      <td id=\"T_e3fb2_row4_col4\" class=\"data row4 col4\" >0.1475</td>\n",
       "      <td id=\"T_e3fb2_row4_col5\" class=\"data row4 col5\" >0.0028</td>\n",
       "      <td id=\"T_e3fb2_row4_col6\" class=\"data row4 col6\" >4.0789</td>\n",
       "      <td id=\"T_e3fb2_row4_col7\" class=\"data row4 col7\" >0.9690</td>\n",
       "    </tr>\n",
       "    <tr>\n",
       "      <th id=\"T_e3fb2_level0_row5\" class=\"row_heading level0 row5\" >lr</th>\n",
       "      <td id=\"T_e3fb2_row5_col0\" class=\"data row5 col0\" >Linear Regression</td>\n",
       "      <td id=\"T_e3fb2_row5_col1\" class=\"data row5 col1\" >0.0021</td>\n",
       "      <td id=\"T_e3fb2_row5_col2\" class=\"data row5 col2\" >0.0000</td>\n",
       "      <td id=\"T_e3fb2_row5_col3\" class=\"data row5 col3\" >0.0032</td>\n",
       "      <td id=\"T_e3fb2_row5_col4\" class=\"data row5 col4\" >0.1474</td>\n",
       "      <td id=\"T_e3fb2_row5_col5\" class=\"data row5 col5\" >0.0028</td>\n",
       "      <td id=\"T_e3fb2_row5_col6\" class=\"data row5 col6\" >4.0804</td>\n",
       "      <td id=\"T_e3fb2_row5_col7\" class=\"data row5 col7\" >1.0090</td>\n",
       "    </tr>\n",
       "    <tr>\n",
       "      <th id=\"T_e3fb2_level0_row6\" class=\"row_heading level0 row6\" >omp</th>\n",
       "      <td id=\"T_e3fb2_row6_col0\" class=\"data row6 col0\" >Orthogonal Matching Pursuit</td>\n",
       "      <td id=\"T_e3fb2_row6_col1\" class=\"data row6 col1\" >0.0021</td>\n",
       "      <td id=\"T_e3fb2_row6_col2\" class=\"data row6 col2\" >0.0000</td>\n",
       "      <td id=\"T_e3fb2_row6_col3\" class=\"data row6 col3\" >0.0032</td>\n",
       "      <td id=\"T_e3fb2_row6_col4\" class=\"data row6 col4\" >0.1285</td>\n",
       "      <td id=\"T_e3fb2_row6_col5\" class=\"data row6 col5\" >0.0029</td>\n",
       "      <td id=\"T_e3fb2_row6_col6\" class=\"data row6 col6\" >3.8340</td>\n",
       "      <td id=\"T_e3fb2_row6_col7\" class=\"data row6 col7\" >0.9700</td>\n",
       "    </tr>\n",
       "    <tr>\n",
       "      <th id=\"T_e3fb2_level0_row7\" class=\"row_heading level0 row7\" >gbr</th>\n",
       "      <td id=\"T_e3fb2_row7_col0\" class=\"data row7 col0\" >Gradient Boosting Regressor</td>\n",
       "      <td id=\"T_e3fb2_row7_col1\" class=\"data row7 col1\" >0.0023</td>\n",
       "      <td id=\"T_e3fb2_row7_col2\" class=\"data row7 col2\" >0.0000</td>\n",
       "      <td id=\"T_e3fb2_row7_col3\" class=\"data row7 col3\" >0.0034</td>\n",
       "      <td id=\"T_e3fb2_row7_col4\" class=\"data row7 col4\" >0.0155</td>\n",
       "      <td id=\"T_e3fb2_row7_col5\" class=\"data row7 col5\" >0.0029</td>\n",
       "      <td id=\"T_e3fb2_row7_col6\" class=\"data row7 col6\" >5.5310</td>\n",
       "      <td id=\"T_e3fb2_row7_col7\" class=\"data row7 col7\" >1.3450</td>\n",
       "    </tr>\n",
       "    <tr>\n",
       "      <th id=\"T_e3fb2_level0_row8\" class=\"row_heading level0 row8\" >en</th>\n",
       "      <td id=\"T_e3fb2_row8_col0\" class=\"data row8 col0\" >Elastic Net</td>\n",
       "      <td id=\"T_e3fb2_row8_col1\" class=\"data row8 col1\" >0.0023</td>\n",
       "      <td id=\"T_e3fb2_row8_col2\" class=\"data row8 col2\" >0.0000</td>\n",
       "      <td id=\"T_e3fb2_row8_col3\" class=\"data row8 col3\" >0.0035</td>\n",
       "      <td id=\"T_e3fb2_row8_col4\" class=\"data row8 col4\" >-0.0048</td>\n",
       "      <td id=\"T_e3fb2_row8_col5\" class=\"data row8 col5\" >0.0033</td>\n",
       "      <td id=\"T_e3fb2_row8_col6\" class=\"data row8 col6\" >1.7345</td>\n",
       "      <td id=\"T_e3fb2_row8_col7\" class=\"data row8 col7\" >0.9660</td>\n",
       "    </tr>\n",
       "    <tr>\n",
       "      <th id=\"T_e3fb2_level0_row9\" class=\"row_heading level0 row9\" >llar</th>\n",
       "      <td id=\"T_e3fb2_row9_col0\" class=\"data row9 col0\" >Lasso Least Angle Regression</td>\n",
       "      <td id=\"T_e3fb2_row9_col1\" class=\"data row9 col1\" >0.0023</td>\n",
       "      <td id=\"T_e3fb2_row9_col2\" class=\"data row9 col2\" >0.0000</td>\n",
       "      <td id=\"T_e3fb2_row9_col3\" class=\"data row9 col3\" >0.0035</td>\n",
       "      <td id=\"T_e3fb2_row9_col4\" class=\"data row9 col4\" >-0.0048</td>\n",
       "      <td id=\"T_e3fb2_row9_col5\" class=\"data row9 col5\" >0.0033</td>\n",
       "      <td id=\"T_e3fb2_row9_col6\" class=\"data row9 col6\" >1.7282</td>\n",
       "      <td id=\"T_e3fb2_row9_col7\" class=\"data row9 col7\" >0.9680</td>\n",
       "    </tr>\n",
       "    <tr>\n",
       "      <th id=\"T_e3fb2_level0_row10\" class=\"row_heading level0 row10\" >lasso</th>\n",
       "      <td id=\"T_e3fb2_row10_col0\" class=\"data row10 col0\" >Lasso Regression</td>\n",
       "      <td id=\"T_e3fb2_row10_col1\" class=\"data row10 col1\" >0.0023</td>\n",
       "      <td id=\"T_e3fb2_row10_col2\" class=\"data row10 col2\" >0.0000</td>\n",
       "      <td id=\"T_e3fb2_row10_col3\" class=\"data row10 col3\" >0.0035</td>\n",
       "      <td id=\"T_e3fb2_row10_col4\" class=\"data row10 col4\" >-0.0048</td>\n",
       "      <td id=\"T_e3fb2_row10_col5\" class=\"data row10 col5\" >0.0033</td>\n",
       "      <td id=\"T_e3fb2_row10_col6\" class=\"data row10 col6\" >1.7282</td>\n",
       "      <td id=\"T_e3fb2_row10_col7\" class=\"data row10 col7\" >0.9960</td>\n",
       "    </tr>\n",
       "    <tr>\n",
       "      <th id=\"T_e3fb2_level0_row11\" class=\"row_heading level0 row11\" >par</th>\n",
       "      <td id=\"T_e3fb2_row11_col0\" class=\"data row11 col0\" >Passive Aggressive Regressor</td>\n",
       "      <td id=\"T_e3fb2_row11_col1\" class=\"data row11 col1\" >0.0022</td>\n",
       "      <td id=\"T_e3fb2_row11_col2\" class=\"data row11 col2\" >0.0000</td>\n",
       "      <td id=\"T_e3fb2_row11_col3\" class=\"data row11 col3\" >0.0035</td>\n",
       "      <td id=\"T_e3fb2_row11_col4\" class=\"data row11 col4\" >-0.0085</td>\n",
       "      <td id=\"T_e3fb2_row11_col5\" class=\"data row11 col5\" >0.0035</td>\n",
       "      <td id=\"T_e3fb2_row11_col6\" class=\"data row11 col6\" >1.0000</td>\n",
       "      <td id=\"T_e3fb2_row11_col7\" class=\"data row11 col7\" >0.9790</td>\n",
       "    </tr>\n",
       "    <tr>\n",
       "      <th id=\"T_e3fb2_level0_row12\" class=\"row_heading level0 row12\" >dummy</th>\n",
       "      <td id=\"T_e3fb2_row12_col0\" class=\"data row12 col0\" >Dummy Regressor</td>\n",
       "      <td id=\"T_e3fb2_row12_col1\" class=\"data row12 col1\" >0.0023</td>\n",
       "      <td id=\"T_e3fb2_row12_col2\" class=\"data row12 col2\" >0.0000</td>\n",
       "      <td id=\"T_e3fb2_row12_col3\" class=\"data row12 col3\" >0.0035</td>\n",
       "      <td id=\"T_e3fb2_row12_col4\" class=\"data row12 col4\" >-0.0126</td>\n",
       "      <td id=\"T_e3fb2_row12_col5\" class=\"data row12 col5\" >0.0034</td>\n",
       "      <td id=\"T_e3fb2_row12_col6\" class=\"data row12 col6\" >1.5328</td>\n",
       "      <td id=\"T_e3fb2_row12_col7\" class=\"data row12 col7\" >0.9890</td>\n",
       "    </tr>\n",
       "    <tr>\n",
       "      <th id=\"T_e3fb2_level0_row13\" class=\"row_heading level0 row13\" >ada</th>\n",
       "      <td id=\"T_e3fb2_row13_col0\" class=\"data row13 col0\" >AdaBoost Regressor</td>\n",
       "      <td id=\"T_e3fb2_row13_col1\" class=\"data row13 col1\" >0.0024</td>\n",
       "      <td id=\"T_e3fb2_row13_col2\" class=\"data row13 col2\" >0.0000</td>\n",
       "      <td id=\"T_e3fb2_row13_col3\" class=\"data row13 col3\" >0.0035</td>\n",
       "      <td id=\"T_e3fb2_row13_col4\" class=\"data row13 col4\" >-0.1553</td>\n",
       "      <td id=\"T_e3fb2_row13_col5\" class=\"data row13 col5\" >0.0029</td>\n",
       "      <td id=\"T_e3fb2_row13_col6\" class=\"data row13 col6\" >7.4988</td>\n",
       "      <td id=\"T_e3fb2_row13_col7\" class=\"data row13 col7\" >1.0890</td>\n",
       "    </tr>\n",
       "    <tr>\n",
       "      <th id=\"T_e3fb2_level0_row14\" class=\"row_heading level0 row14\" >knn</th>\n",
       "      <td id=\"T_e3fb2_row14_col0\" class=\"data row14 col0\" >K Neighbors Regressor</td>\n",
       "      <td id=\"T_e3fb2_row14_col1\" class=\"data row14 col1\" >0.0025</td>\n",
       "      <td id=\"T_e3fb2_row14_col2\" class=\"data row14 col2\" >0.0000</td>\n",
       "      <td id=\"T_e3fb2_row14_col3\" class=\"data row14 col3\" >0.0038</td>\n",
       "      <td id=\"T_e3fb2_row14_col4\" class=\"data row14 col4\" >-0.1938</td>\n",
       "      <td id=\"T_e3fb2_row14_col5\" class=\"data row14 col5\" >0.0030</td>\n",
       "      <td id=\"T_e3fb2_row14_col6\" class=\"data row14 col6\" >4.8752</td>\n",
       "      <td id=\"T_e3fb2_row14_col7\" class=\"data row14 col7\" >0.9750</td>\n",
       "    </tr>\n",
       "    <tr>\n",
       "      <th id=\"T_e3fb2_level0_row15\" class=\"row_heading level0 row15\" >dt</th>\n",
       "      <td id=\"T_e3fb2_row15_col0\" class=\"data row15 col0\" >Decision Tree Regressor</td>\n",
       "      <td id=\"T_e3fb2_row15_col1\" class=\"data row15 col1\" >0.0030</td>\n",
       "      <td id=\"T_e3fb2_row15_col2\" class=\"data row15 col2\" >0.0000</td>\n",
       "      <td id=\"T_e3fb2_row15_col3\" class=\"data row15 col3\" >0.0043</td>\n",
       "      <td id=\"T_e3fb2_row15_col4\" class=\"data row15 col4\" >-0.5296</td>\n",
       "      <td id=\"T_e3fb2_row15_col5\" class=\"data row15 col5\" >0.0033</td>\n",
       "      <td id=\"T_e3fb2_row15_col6\" class=\"data row15 col6\" >8.6827</td>\n",
       "      <td id=\"T_e3fb2_row15_col7\" class=\"data row15 col7\" >0.9850</td>\n",
       "    </tr>\n",
       "    <tr>\n",
       "      <th id=\"T_e3fb2_level0_row16\" class=\"row_heading level0 row16\" >lar</th>\n",
       "      <td id=\"T_e3fb2_row16_col0\" class=\"data row16 col0\" >Least Angle Regression</td>\n",
       "      <td id=\"T_e3fb2_row16_col1\" class=\"data row16 col1\" >0.0043</td>\n",
       "      <td id=\"T_e3fb2_row16_col2\" class=\"data row16 col2\" >0.0001</td>\n",
       "      <td id=\"T_e3fb2_row16_col3\" class=\"data row16 col3\" >0.0059</td>\n",
       "      <td id=\"T_e3fb2_row16_col4\" class=\"data row16 col4\" >-8.4469</td>\n",
       "      <td id=\"T_e3fb2_row16_col5\" class=\"data row16 col5\" >0.0054</td>\n",
       "      <td id=\"T_e3fb2_row16_col6\" class=\"data row16 col6\" >14.9328</td>\n",
       "      <td id=\"T_e3fb2_row16_col7\" class=\"data row16 col7\" >0.9800</td>\n",
       "    </tr>\n",
       "    <tr>\n",
       "      <th id=\"T_e3fb2_level0_row17\" class=\"row_heading level0 row17\" >huber</th>\n",
       "      <td id=\"T_e3fb2_row17_col0\" class=\"data row17 col0\" >Huber Regressor</td>\n",
       "      <td id=\"T_e3fb2_row17_col1\" class=\"data row17 col1\" >0.0970</td>\n",
       "      <td id=\"T_e3fb2_row17_col2\" class=\"data row17 col2\" >0.0180</td>\n",
       "      <td id=\"T_e3fb2_row17_col3\" class=\"data row17 col3\" >0.1224</td>\n",
       "      <td id=\"T_e3fb2_row17_col4\" class=\"data row17 col4\" >-1670.0591</td>\n",
       "      <td id=\"T_e3fb2_row17_col5\" class=\"data row17 col5\" >0.1087</td>\n",
       "      <td id=\"T_e3fb2_row17_col6\" class=\"data row17 col6\" >355.9159</td>\n",
       "      <td id=\"T_e3fb2_row17_col7\" class=\"data row17 col7\" >1.0730</td>\n",
       "    </tr>\n",
       "  </tbody>\n",
       "</table>\n"
      ],
      "text/plain": [
       "<pandas.io.formats.style.Styler at 0x173ef9d18d0>"
      ]
     },
     "metadata": {},
     "output_type": "display_data"
    },
    {
     "data": {
      "application/vnd.jupyter.widget-view+json": {
       "model_id": "3e99504a51fc4eefba23c82791127625",
       "version_major": 2,
       "version_minor": 0
      },
      "text/plain": [
       "Processing:   0%|          | 0/77 [00:00<?, ?it/s]"
      ]
     },
     "metadata": {},
     "output_type": "display_data"
    }
   ],
   "source": [
    "best = compare_models()"
   ]
  },
  {
   "cell_type": "code",
   "execution_count": 14,
   "metadata": {},
   "outputs": [
    {
     "data": {
      "application/vnd.jupyter.widget-view+json": {
       "model_id": "fa942b0fc7d24011aec5832755e349cb",
       "version_major": 2,
       "version_minor": 0
      },
      "text/plain": [
       "interactive(children=(ToggleButtons(description='Plot Type:', icons=('',), options=(('Pipeline Plot', 'pipelin…"
      ]
     },
     "metadata": {},
     "output_type": "display_data"
    },
    {
     "name": "stdout",
     "output_type": "stream",
     "text": [
      "ExtraTreesRegressor(n_jobs=-1, random_state=123)\n"
     ]
    }
   ],
   "source": [
    "evaluate_model(best)\n",
    "print(best)"
   ]
  },
  {
   "cell_type": "code",
   "execution_count": 15,
   "metadata": {},
   "outputs": [],
   "source": [
    "# tuned = tune_model(best)"
   ]
  },
  {
   "cell_type": "code",
   "execution_count": 16,
   "metadata": {
    "scrolled": true
   },
   "outputs": [
    {
     "data": {
      "text/html": [
       "<style type=\"text/css\">\n",
       "</style>\n",
       "<table id=\"T_17c60\">\n",
       "  <thead>\n",
       "    <tr>\n",
       "      <th class=\"blank level0\" >&nbsp;</th>\n",
       "      <th id=\"T_17c60_level0_col0\" class=\"col_heading level0 col0\" >Model</th>\n",
       "      <th id=\"T_17c60_level0_col1\" class=\"col_heading level0 col1\" >MAE</th>\n",
       "      <th id=\"T_17c60_level0_col2\" class=\"col_heading level0 col2\" >MSE</th>\n",
       "      <th id=\"T_17c60_level0_col3\" class=\"col_heading level0 col3\" >RMSE</th>\n",
       "      <th id=\"T_17c60_level0_col4\" class=\"col_heading level0 col4\" >R2</th>\n",
       "      <th id=\"T_17c60_level0_col5\" class=\"col_heading level0 col5\" >RMSLE</th>\n",
       "      <th id=\"T_17c60_level0_col6\" class=\"col_heading level0 col6\" >MAPE</th>\n",
       "    </tr>\n",
       "  </thead>\n",
       "  <tbody>\n",
       "    <tr>\n",
       "      <th id=\"T_17c60_level0_row0\" class=\"row_heading level0 row0\" >0</th>\n",
       "      <td id=\"T_17c60_row0_col0\" class=\"data row0 col0\" >Extra Trees Regressor</td>\n",
       "      <td id=\"T_17c60_row0_col1\" class=\"data row0 col1\" >0.0010</td>\n",
       "      <td id=\"T_17c60_row0_col2\" class=\"data row0 col2\" >0.0000</td>\n",
       "      <td id=\"T_17c60_row0_col3\" class=\"data row0 col3\" >0.0016</td>\n",
       "      <td id=\"T_17c60_row0_col4\" class=\"data row0 col4\" >0.0518</td>\n",
       "      <td id=\"T_17c60_row0_col5\" class=\"data row0 col5\" >0.0013</td>\n",
       "      <td id=\"T_17c60_row0_col6\" class=\"data row0 col6\" >3.6142</td>\n",
       "    </tr>\n",
       "  </tbody>\n",
       "</table>\n"
      ],
      "text/plain": [
       "<pandas.io.formats.style.Styler at 0x173ef8c19f0>"
      ]
     },
     "metadata": {},
     "output_type": "display_data"
    }
   ],
   "source": [
    "# test = test.drop(['Target_Close_1min'], axis=1)\n",
    "predictions = predict_model(best, data = test)\n",
    "# predictions = predict_model(best, data = train)\n",
    "\n",
    "predictions.head()\n",
    "\n",
    "predictions.to_csv('result_ET_Binary.csv')"
   ]
  },
  {
   "cell_type": "markdown",
   "metadata": {},
   "source": [
    "### precition : \n",
    "\n",
    "train pred vs actual \n",
    "\n",
    "###prediction_label\n",
    "\n",
    "pred: 10/20/50 quantile. [-1,1] => [-1, -0.8]   [-0.8, -0.6]\n",
    "\n",
    "'prediction_label'\n",
    "data_sort = data.sort_values\n",
    "\n",
    "\n",
    "## \n",
    "1）预测正确率\n",
    "2）corr，spearman pearson\n",
    "3）每个组里 actual mean ， pred mean"
   ]
  }
 ],
 "metadata": {
  "kernelspec": {
   "display_name": "Python 3 (ipykernel)",
   "language": "python",
   "name": "python3"
  },
  "language_info": {
   "codemirror_mode": {
    "name": "ipython",
    "version": 3
   },
   "file_extension": ".py",
   "mimetype": "text/x-python",
   "name": "python",
   "nbconvert_exporter": "python",
   "pygments_lexer": "ipython3",
   "version": "3.10.9"
  }
 },
 "nbformat": 4,
 "nbformat_minor": 2
}
