{
 "cells": [
  {
   "cell_type": "code",
   "execution_count": 1,
   "metadata": {},
   "outputs": [
    {
     "name": "stdout",
     "output_type": "stream",
     "text": [
      "Index(['tta_BOP', 'tta_STOCHRSI_timeperiod_6_fastk_period_5_fastd_period_8_0',\n",
      "       'tta_STOCHRSI_timeperiod_6_fastk_period_5_fastd_period_8_1',\n",
      "       'tta_TRANGE', 'tta_CDLBELTHOLD', 'tta_CDLCLOSINGMARUBOZU',\n",
      "       'tta_ULTOSC_timeperiod1_20_timeperiod2_5_timeperiod3_34',\n",
      "       'tta_MINUS_DM_timeperiod_6', 'tta_ADOSC_fastperiod_14_slowperiod_9',\n",
      "       'tta_DX_timeperiod_26', 'tta_HT_PHASOR_0', 'tta_HT_PHASOR_1',\n",
      "       'tta_MFI_timeperiod_36',\n",
      "       'tta_SAREXT_accelerationlong_28_accelerationshort_26',\n",
      "       'tta_CDLENGULFING', 'tta_T3_timeperiod_38', 'tta_HT_TRENDMODE',\n",
      "       'tta_HT_DCPERIOD', 'tta_CDLSHORTLINE', 'tta_HT_DCPHASE',\n",
      "       'tta_CDL3WHITESOLDIERS', 'tta_CDLMORNINGDOJISTAR', 'tta_CDLTRISTAR',\n",
      "       'tta_CDLHIKKAKE', 'tta_CDLLONGLEGGEDDOJI', 'tta_HT_SINE_0',\n",
      "       'tta_HT_SINE_1', 'tta_CDLUNIQUE3RIVER', 'tta_CDL3LINESTRIKE',\n",
      "       'tta_CDLSTICKSANDWICH', 'tta_CDL3OUTSIDE', 'tta_CDLSPINNINGTOP',\n",
      "       'tta_CDLLADDERBOTTOM', 'tta_CDLEVENINGDOJISTAR', 'tta_CDLPIERCING',\n",
      "       'tta_CDLGAPSIDESIDEWHITE', 'tta_CDLIDENTICAL3CROWS', 'tta_CDL2CROWS',\n",
      "       'tta_CDLGRAVESTONEDOJI', 'tta_CDLTASUKIGAP', 'tta_CDLHAMMER',\n",
      "       'tta_CDLINNECK', 'tta_CDLSEPARATINGLINES', 'tta_CDLDRAGONFLYDOJI',\n",
      "       'tta_CDLINVERTEDHAMMER', 'tta_CDLHARAMI', 'tta_CDLXSIDEGAP3METHODS',\n",
      "       'tta_CDLMORNINGSTAR', 'tta_CDLONNECK', 'tta_CDLHIKKAKEMOD',\n",
      "       'tta_CDLDARKCLOUDCOVER', 'tta_CDLEVENINGSTAR', 'tta_CDLSTALLEDPATTERN',\n",
      "       'tta_CDL3BLACKCROWS', 'tta_CDLHANGINGMAN', 'tta_CDLHARAMICROSS',\n",
      "       'tta_CDLMATCHINGLOW', 'tta_CDLDOJISTAR', 'tta_CDLTHRUSTING',\n",
      "       'tta_CDLHOMINGPIGEON', 'tta_CDLSHOOTINGSTAR', 'tta_CDLADVANCEBLOCK',\n",
      "       'Target_Avg_1min'],\n",
      "      dtype='object')\n"
     ]
    }
   ],
   "source": [
    "import pycaret\n",
    "pycaret.__version__\n",
    "import pandas as pd\n",
    "\n",
    "from pycaret.classification import *\n",
    "\n",
    "TRAIN_PATH = 'train_withF_Avg.csv'\n",
    "TEST_PATH = 'test_withF_Avg.csv'\n",
    "\n",
    "train = pd.read_csv(TRAIN_PATH,index_col='Timestamp')\n",
    "test = pd.read_csv(TEST_PATH,index_col='Timestamp')\n",
    "\n",
    "print(train.columns)"
   ]
  },
  {
   "cell_type": "code",
   "execution_count": 2,
   "metadata": {},
   "outputs": [
    {
     "name": "stdout",
     "output_type": "stream",
     "text": [
      "Index(['tta_BOP', 'tta_STOCHRSI_timeperiod_6_fastk_period_5_fastd_period_8_0',\n",
      "       'tta_STOCHRSI_timeperiod_6_fastk_period_5_fastd_period_8_1',\n",
      "       'tta_TRANGE', 'tta_CDLBELTHOLD', 'tta_CDLCLOSINGMARUBOZU',\n",
      "       'tta_ULTOSC_timeperiod1_20_timeperiod2_5_timeperiod3_34',\n",
      "       'tta_MINUS_DM_timeperiod_6', 'tta_ADOSC_fastperiod_14_slowperiod_9',\n",
      "       'tta_DX_timeperiod_26', 'tta_HT_PHASOR_0', 'tta_HT_PHASOR_1',\n",
      "       'tta_MFI_timeperiod_36',\n",
      "       'tta_SAREXT_accelerationlong_28_accelerationshort_26',\n",
      "       'tta_CDLENGULFING', 'tta_T3_timeperiod_38', 'tta_HT_TRENDMODE',\n",
      "       'tta_HT_DCPERIOD', 'tta_CDLSHORTLINE', 'tta_HT_DCPHASE',\n",
      "       'tta_CDL3WHITESOLDIERS', 'tta_CDLMORNINGDOJISTAR', 'tta_CDLTRISTAR',\n",
      "       'tta_CDLHIKKAKE', 'tta_CDLLONGLEGGEDDOJI', 'tta_HT_SINE_0',\n",
      "       'tta_HT_SINE_1', 'tta_CDLUNIQUE3RIVER', 'tta_CDL3LINESTRIKE',\n",
      "       'tta_CDLSTICKSANDWICH', 'tta_CDL3OUTSIDE', 'tta_CDLSPINNINGTOP',\n",
      "       'tta_CDLLADDERBOTTOM', 'tta_CDLEVENINGDOJISTAR', 'tta_CDLPIERCING',\n",
      "       'tta_CDLGAPSIDESIDEWHITE', 'tta_CDLIDENTICAL3CROWS', 'tta_CDL2CROWS',\n",
      "       'tta_CDLGRAVESTONEDOJI', 'tta_CDLTASUKIGAP', 'tta_CDLHAMMER',\n",
      "       'tta_CDLINNECK', 'tta_CDLSEPARATINGLINES', 'tta_CDLDRAGONFLYDOJI',\n",
      "       'tta_CDLINVERTEDHAMMER', 'tta_CDLHARAMI', 'tta_CDLXSIDEGAP3METHODS',\n",
      "       'tta_CDLMORNINGSTAR', 'tta_CDLONNECK', 'tta_CDLHIKKAKEMOD',\n",
      "       'tta_CDLDARKCLOUDCOVER', 'tta_CDLEVENINGSTAR', 'tta_CDLSTALLEDPATTERN',\n",
      "       'tta_CDL3BLACKCROWS', 'tta_CDLHANGINGMAN', 'tta_CDLHARAMICROSS',\n",
      "       'tta_CDLMATCHINGLOW', 'tta_CDLDOJISTAR', 'tta_CDLTHRUSTING',\n",
      "       'tta_CDLHOMINGPIGEON', 'tta_CDLSHOOTINGSTAR', 'tta_CDLADVANCEBLOCK',\n",
      "       'Target_Class_Avg_1min'],\n",
      "      dtype='object')\n"
     ]
    }
   ],
   "source": [
    "def class_target(value):\n",
    "    if value > 0:\n",
    "        return 1\n",
    "    elif value < 0:\n",
    "        return -1\n",
    "    else:\n",
    "        return 0\n",
    "\n",
    "train['Target_Class_Avg_1min'] = train['Target_Avg_1min'].apply(class_target)\n",
    "test['Target_Class_Avg_1min'] = test['Target_Avg_1min'].apply(class_target)\n",
    "\n",
    "train.drop(columns='Target_Avg_1min', inplace=True)\n",
    "test.drop(columns='Target_Avg_1min', inplace=True)\n",
    "\n",
    "print(train.columns)"
   ]
  },
  {
   "cell_type": "code",
   "execution_count": 3,
   "metadata": {},
   "outputs": [],
   "source": [
    "# percent_zeros = (train == 0).sum() / len(train) * 100\n",
    "\n",
    "# # Identify columns where the percentage of zeros exceeds 90%\n",
    "# columns_to_drop = percent_zeros[percent_zeros >= 90].index\n",
    "\n",
    "# # print(columns_to_drop)\n",
    "\n",
    "# train.drop(columns=columns_to_drop,inplace= True)\n",
    "# test.drop(columns=columns_to_drop,inplace= True)\n",
    "\n",
    "# print(train.columns)\n"
   ]
  },
  {
   "cell_type": "code",
   "execution_count": 4,
   "metadata": {},
   "outputs": [
    {
     "name": "stdout",
     "output_type": "stream",
     "text": [
      "Index(['tta_CDLENGULFING', 'tta_CDL3WHITESOLDIERS', 'tta_CDLMORNINGDOJISTAR',\n",
      "       'tta_CDLTRISTAR', 'tta_CDLUNIQUE3RIVER', 'tta_CDL3LINESTRIKE',\n",
      "       'tta_CDLSTICKSANDWICH', 'tta_CDL3OUTSIDE', 'tta_CDLLADDERBOTTOM',\n",
      "       'tta_CDLEVENINGDOJISTAR', 'tta_CDLPIERCING', 'tta_CDLGAPSIDESIDEWHITE',\n",
      "       'tta_CDLIDENTICAL3CROWS', 'tta_CDL2CROWS', 'tta_CDLGRAVESTONEDOJI',\n",
      "       'tta_CDLTASUKIGAP', 'tta_CDLHAMMER', 'tta_CDLINNECK',\n",
      "       'tta_CDLSEPARATINGLINES', 'tta_CDLDRAGONFLYDOJI',\n",
      "       'tta_CDLINVERTEDHAMMER', 'tta_CDLHARAMI', 'tta_CDLXSIDEGAP3METHODS',\n",
      "       'tta_CDLMORNINGSTAR', 'tta_CDLONNECK', 'tta_CDLHIKKAKEMOD',\n",
      "       'tta_CDLDARKCLOUDCOVER', 'tta_CDLEVENINGSTAR', 'tta_CDLSTALLEDPATTERN',\n",
      "       'tta_CDL3BLACKCROWS', 'tta_CDLHANGINGMAN', 'tta_CDLHARAMICROSS',\n",
      "       'tta_CDLMATCHINGLOW', 'tta_CDLDOJISTAR', 'tta_CDLTHRUSTING',\n",
      "       'tta_CDLHOMINGPIGEON', 'tta_CDLSHOOTINGSTAR', 'tta_CDLADVANCEBLOCK',\n",
      "       'Target_Class_Avg_1min'],\n",
      "      dtype='object')\n"
     ]
    }
   ],
   "source": [
    "percent_zeros = (train == 0).sum() / len(train) * 100\n",
    "\n",
    "# Identify columns where the percentage of zeros exceeds 90%\n",
    "columns_to_drop = percent_zeros[percent_zeros >= 90].index\n",
    "\n",
    "temp = pd.Index(['Target_Class_Avg_1min'])\n",
    "columns_to_drop = columns_to_drop.append(temp)\n",
    "\n",
    "train = train[columns_to_drop]\n",
    "test = test[columns_to_drop]\n",
    "\n",
    "print(train.columns)"
   ]
  },
  {
   "cell_type": "code",
   "execution_count": 5,
   "metadata": {},
   "outputs": [],
   "source": [
    "from pycaret.classification import ClassificationExperiment\n",
    "# from pycaret.regression import *\n",
    "exp = ClassificationExperiment()"
   ]
  },
  {
   "cell_type": "code",
   "execution_count": 6,
   "metadata": {},
   "outputs": [
    {
     "data": {
      "text/html": [
       "<style type=\"text/css\">\n",
       "</style>\n",
       "<table id=\"T_6c669\">\n",
       "  <thead>\n",
       "    <tr>\n",
       "      <th class=\"blank level0\" >&nbsp;</th>\n",
       "      <th id=\"T_6c669_level0_col0\" class=\"col_heading level0 col0\" >Description</th>\n",
       "      <th id=\"T_6c669_level0_col1\" class=\"col_heading level0 col1\" >Value</th>\n",
       "    </tr>\n",
       "  </thead>\n",
       "  <tbody>\n",
       "    <tr>\n",
       "      <th id=\"T_6c669_level0_row0\" class=\"row_heading level0 row0\" >0</th>\n",
       "      <td id=\"T_6c669_row0_col0\" class=\"data row0 col0\" >Session id</td>\n",
       "      <td id=\"T_6c669_row0_col1\" class=\"data row0 col1\" >123</td>\n",
       "    </tr>\n",
       "    <tr>\n",
       "      <th id=\"T_6c669_level0_row1\" class=\"row_heading level0 row1\" >1</th>\n",
       "      <td id=\"T_6c669_row1_col0\" class=\"data row1 col0\" >Target</td>\n",
       "      <td id=\"T_6c669_row1_col1\" class=\"data row1 col1\" >Target_Class_Avg_1min</td>\n",
       "    </tr>\n",
       "    <tr>\n",
       "      <th id=\"T_6c669_level0_row2\" class=\"row_heading level0 row2\" >2</th>\n",
       "      <td id=\"T_6c669_row2_col0\" class=\"data row2 col0\" >Target type</td>\n",
       "      <td id=\"T_6c669_row2_col1\" class=\"data row2 col1\" >Binary</td>\n",
       "    </tr>\n",
       "    <tr>\n",
       "      <th id=\"T_6c669_level0_row3\" class=\"row_heading level0 row3\" >3</th>\n",
       "      <td id=\"T_6c669_row3_col0\" class=\"data row3 col0\" >Original data shape</td>\n",
       "      <td id=\"T_6c669_row3_col1\" class=\"data row3 col1\" >(5256, 39)</td>\n",
       "    </tr>\n",
       "    <tr>\n",
       "      <th id=\"T_6c669_level0_row4\" class=\"row_heading level0 row4\" >4</th>\n",
       "      <td id=\"T_6c669_row4_col0\" class=\"data row4 col0\" >Transformed data shape</td>\n",
       "      <td id=\"T_6c669_row4_col1\" class=\"data row4 col1\" >(5256, 39)</td>\n",
       "    </tr>\n",
       "    <tr>\n",
       "      <th id=\"T_6c669_level0_row5\" class=\"row_heading level0 row5\" >5</th>\n",
       "      <td id=\"T_6c669_row5_col0\" class=\"data row5 col0\" >Transformed train set shape</td>\n",
       "      <td id=\"T_6c669_row5_col1\" class=\"data row5 col1\" >(3679, 39)</td>\n",
       "    </tr>\n",
       "    <tr>\n",
       "      <th id=\"T_6c669_level0_row6\" class=\"row_heading level0 row6\" >6</th>\n",
       "      <td id=\"T_6c669_row6_col0\" class=\"data row6 col0\" >Transformed test set shape</td>\n",
       "      <td id=\"T_6c669_row6_col1\" class=\"data row6 col1\" >(1577, 39)</td>\n",
       "    </tr>\n",
       "    <tr>\n",
       "      <th id=\"T_6c669_level0_row7\" class=\"row_heading level0 row7\" >7</th>\n",
       "      <td id=\"T_6c669_row7_col0\" class=\"data row7 col0\" >Numeric features</td>\n",
       "      <td id=\"T_6c669_row7_col1\" class=\"data row7 col1\" >38</td>\n",
       "    </tr>\n",
       "  </tbody>\n",
       "</table>\n"
      ],
      "text/plain": [
       "<pandas.io.formats.style.Styler at 0x1a84b2ed240>"
      ]
     },
     "metadata": {},
     "output_type": "display_data"
    },
    {
     "data": {
      "text/plain": [
       "<pycaret.classification.oop.ClassificationExperiment at 0x1a84a47a0e0>"
      ]
     },
     "execution_count": 6,
     "metadata": {},
     "output_type": "execute_result"
    }
   ],
   "source": [
    "setup(data=train, preprocess = False, feature_selection= True,target='Target_Class_Avg_1min', session_id = 123)\n",
    "\n",
    "# setup(data=train,target='Target_Avg_1min', session_id = 123)"
   ]
  },
  {
   "cell_type": "code",
   "execution_count": 7,
   "metadata": {},
   "outputs": [
    {
     "data": {
      "text/html": [],
      "text/plain": [
       "<IPython.core.display.HTML object>"
      ]
     },
     "metadata": {},
     "output_type": "display_data"
    },
    {
     "data": {
      "text/html": [
       "<style type=\"text/css\">\n",
       "#T_2fb49 th {\n",
       "  text-align: left;\n",
       "}\n",
       "#T_2fb49_row0_col0, #T_2fb49_row0_col2, #T_2fb49_row0_col4, #T_2fb49_row1_col0, #T_2fb49_row1_col1, #T_2fb49_row1_col2, #T_2fb49_row1_col3, #T_2fb49_row1_col4, #T_2fb49_row1_col5, #T_2fb49_row1_col6, #T_2fb49_row1_col7, #T_2fb49_row2_col0, #T_2fb49_row2_col1, #T_2fb49_row2_col3, #T_2fb49_row2_col4, #T_2fb49_row2_col5, #T_2fb49_row2_col6, #T_2fb49_row2_col7, #T_2fb49_row3_col0, #T_2fb49_row3_col1, #T_2fb49_row3_col2, #T_2fb49_row3_col3, #T_2fb49_row3_col4, #T_2fb49_row3_col5, #T_2fb49_row3_col6, #T_2fb49_row3_col7, #T_2fb49_row4_col0, #T_2fb49_row4_col1, #T_2fb49_row4_col2, #T_2fb49_row4_col3, #T_2fb49_row4_col4, #T_2fb49_row4_col5, #T_2fb49_row4_col6, #T_2fb49_row4_col7, #T_2fb49_row5_col0, #T_2fb49_row5_col1, #T_2fb49_row5_col2, #T_2fb49_row5_col3, #T_2fb49_row5_col4, #T_2fb49_row5_col5, #T_2fb49_row5_col6, #T_2fb49_row5_col7, #T_2fb49_row6_col0, #T_2fb49_row6_col1, #T_2fb49_row6_col2, #T_2fb49_row6_col3, #T_2fb49_row6_col4, #T_2fb49_row6_col5, #T_2fb49_row6_col6, #T_2fb49_row6_col7, #T_2fb49_row7_col0, #T_2fb49_row7_col1, #T_2fb49_row7_col2, #T_2fb49_row7_col3, #T_2fb49_row7_col4, #T_2fb49_row7_col5, #T_2fb49_row7_col6, #T_2fb49_row7_col7, #T_2fb49_row8_col0, #T_2fb49_row8_col1, #T_2fb49_row8_col2, #T_2fb49_row8_col3, #T_2fb49_row8_col4, #T_2fb49_row8_col5, #T_2fb49_row8_col6, #T_2fb49_row8_col7, #T_2fb49_row9_col0, #T_2fb49_row9_col1, #T_2fb49_row9_col2, #T_2fb49_row9_col3, #T_2fb49_row9_col4, #T_2fb49_row9_col5, #T_2fb49_row9_col6, #T_2fb49_row9_col7, #T_2fb49_row10_col0, #T_2fb49_row10_col1, #T_2fb49_row10_col2, #T_2fb49_row10_col3, #T_2fb49_row10_col4, #T_2fb49_row10_col5, #T_2fb49_row10_col6, #T_2fb49_row10_col7, #T_2fb49_row11_col0, #T_2fb49_row11_col1, #T_2fb49_row11_col2, #T_2fb49_row11_col3, #T_2fb49_row11_col5, #T_2fb49_row11_col6, #T_2fb49_row11_col7, #T_2fb49_row12_col0, #T_2fb49_row12_col1, #T_2fb49_row12_col2, #T_2fb49_row12_col3, #T_2fb49_row12_col4, #T_2fb49_row12_col5, #T_2fb49_row12_col6, #T_2fb49_row12_col7, #T_2fb49_row13_col0, #T_2fb49_row13_col1, #T_2fb49_row13_col2, #T_2fb49_row13_col3, #T_2fb49_row13_col4, #T_2fb49_row13_col5, #T_2fb49_row13_col6, #T_2fb49_row13_col7 {\n",
       "  text-align: left;\n",
       "}\n",
       "#T_2fb49_row0_col1, #T_2fb49_row0_col3, #T_2fb49_row0_col5, #T_2fb49_row0_col6, #T_2fb49_row0_col7, #T_2fb49_row2_col2, #T_2fb49_row11_col4 {\n",
       "  text-align: left;\n",
       "  background-color: yellow;\n",
       "}\n",
       "#T_2fb49_row0_col8, #T_2fb49_row11_col8 {\n",
       "  text-align: left;\n",
       "  background-color: yellow;\n",
       "  background-color: lightgrey;\n",
       "}\n",
       "#T_2fb49_row1_col8, #T_2fb49_row2_col8, #T_2fb49_row3_col8, #T_2fb49_row4_col8, #T_2fb49_row5_col8, #T_2fb49_row6_col8, #T_2fb49_row7_col8, #T_2fb49_row8_col8, #T_2fb49_row9_col8, #T_2fb49_row10_col8, #T_2fb49_row12_col8, #T_2fb49_row13_col8 {\n",
       "  text-align: left;\n",
       "  background-color: lightgrey;\n",
       "}\n",
       "</style>\n",
       "<table id=\"T_2fb49\">\n",
       "  <thead>\n",
       "    <tr>\n",
       "      <th class=\"blank level0\" >&nbsp;</th>\n",
       "      <th id=\"T_2fb49_level0_col0\" class=\"col_heading level0 col0\" >Model</th>\n",
       "      <th id=\"T_2fb49_level0_col1\" class=\"col_heading level0 col1\" >Accuracy</th>\n",
       "      <th id=\"T_2fb49_level0_col2\" class=\"col_heading level0 col2\" >AUC</th>\n",
       "      <th id=\"T_2fb49_level0_col3\" class=\"col_heading level0 col3\" >Recall</th>\n",
       "      <th id=\"T_2fb49_level0_col4\" class=\"col_heading level0 col4\" >Prec.</th>\n",
       "      <th id=\"T_2fb49_level0_col5\" class=\"col_heading level0 col5\" >F1</th>\n",
       "      <th id=\"T_2fb49_level0_col6\" class=\"col_heading level0 col6\" >Kappa</th>\n",
       "      <th id=\"T_2fb49_level0_col7\" class=\"col_heading level0 col7\" >MCC</th>\n",
       "      <th id=\"T_2fb49_level0_col8\" class=\"col_heading level0 col8\" >TT (Sec)</th>\n",
       "    </tr>\n",
       "  </thead>\n",
       "  <tbody>\n",
       "    <tr>\n",
       "      <th id=\"T_2fb49_level0_row0\" class=\"row_heading level0 row0\" >dt</th>\n",
       "      <td id=\"T_2fb49_row0_col0\" class=\"data row0 col0\" >Decision Tree Classifier</td>\n",
       "      <td id=\"T_2fb49_row0_col1\" class=\"data row0 col1\" >0.5727</td>\n",
       "      <td id=\"T_2fb49_row0_col2\" class=\"data row0 col2\" >0.6076</td>\n",
       "      <td id=\"T_2fb49_row0_col3\" class=\"data row0 col3\" >0.5727</td>\n",
       "      <td id=\"T_2fb49_row0_col4\" class=\"data row0 col4\" >0.6055</td>\n",
       "      <td id=\"T_2fb49_row0_col5\" class=\"data row0 col5\" >0.5225</td>\n",
       "      <td id=\"T_2fb49_row0_col6\" class=\"data row0 col6\" >0.1284</td>\n",
       "      <td id=\"T_2fb49_row0_col7\" class=\"data row0 col7\" >0.1641</td>\n",
       "      <td id=\"T_2fb49_row0_col8\" class=\"data row0 col8\" >1.1130</td>\n",
       "    </tr>\n",
       "    <tr>\n",
       "      <th id=\"T_2fb49_level0_row1\" class=\"row_heading level0 row1\" >et</th>\n",
       "      <td id=\"T_2fb49_row1_col0\" class=\"data row1 col0\" >Extra Trees Classifier</td>\n",
       "      <td id=\"T_2fb49_row1_col1\" class=\"data row1 col1\" >0.5719</td>\n",
       "      <td id=\"T_2fb49_row1_col2\" class=\"data row1 col2\" >0.6067</td>\n",
       "      <td id=\"T_2fb49_row1_col3\" class=\"data row1 col3\" >0.5719</td>\n",
       "      <td id=\"T_2fb49_row1_col4\" class=\"data row1 col4\" >0.6046</td>\n",
       "      <td id=\"T_2fb49_row1_col5\" class=\"data row1 col5\" >0.5213</td>\n",
       "      <td id=\"T_2fb49_row1_col6\" class=\"data row1 col6\" >0.1267</td>\n",
       "      <td id=\"T_2fb49_row1_col7\" class=\"data row1 col7\" >0.1623</td>\n",
       "      <td id=\"T_2fb49_row1_col8\" class=\"data row1 col8\" >1.2350</td>\n",
       "    </tr>\n",
       "    <tr>\n",
       "      <th id=\"T_2fb49_level0_row2\" class=\"row_heading level0 row2\" >rf</th>\n",
       "      <td id=\"T_2fb49_row2_col0\" class=\"data row2 col0\" >Random Forest Classifier</td>\n",
       "      <td id=\"T_2fb49_row2_col1\" class=\"data row2 col1\" >0.5697</td>\n",
       "      <td id=\"T_2fb49_row2_col2\" class=\"data row2 col2\" >0.6098</td>\n",
       "      <td id=\"T_2fb49_row2_col3\" class=\"data row2 col3\" >0.5697</td>\n",
       "      <td id=\"T_2fb49_row2_col4\" class=\"data row2 col4\" >0.5982</td>\n",
       "      <td id=\"T_2fb49_row2_col5\" class=\"data row2 col5\" >0.5221</td>\n",
       "      <td id=\"T_2fb49_row2_col6\" class=\"data row2 col6\" >0.1228</td>\n",
       "      <td id=\"T_2fb49_row2_col7\" class=\"data row2 col7\" >0.1548</td>\n",
       "      <td id=\"T_2fb49_row2_col8\" class=\"data row2 col8\" >1.1600</td>\n",
       "    </tr>\n",
       "    <tr>\n",
       "      <th id=\"T_2fb49_level0_row3\" class=\"row_heading level0 row3\" >ada</th>\n",
       "      <td id=\"T_2fb49_row3_col0\" class=\"data row3 col0\" >Ada Boost Classifier</td>\n",
       "      <td id=\"T_2fb49_row3_col1\" class=\"data row3 col1\" >0.5665</td>\n",
       "      <td id=\"T_2fb49_row3_col2\" class=\"data row3 col2\" >0.6044</td>\n",
       "      <td id=\"T_2fb49_row3_col3\" class=\"data row3 col3\" >0.5665</td>\n",
       "      <td id=\"T_2fb49_row3_col4\" class=\"data row3 col4\" >0.5905</td>\n",
       "      <td id=\"T_2fb49_row3_col5\" class=\"data row3 col5\" >0.5204</td>\n",
       "      <td id=\"T_2fb49_row3_col6\" class=\"data row3 col6\" >0.1165</td>\n",
       "      <td id=\"T_2fb49_row3_col7\" class=\"data row3 col7\" >0.1448</td>\n",
       "      <td id=\"T_2fb49_row3_col8\" class=\"data row3 col8\" >1.1330</td>\n",
       "    </tr>\n",
       "    <tr>\n",
       "      <th id=\"T_2fb49_level0_row4\" class=\"row_heading level0 row4\" >lr</th>\n",
       "      <td id=\"T_2fb49_row4_col0\" class=\"data row4 col0\" >Logistic Regression</td>\n",
       "      <td id=\"T_2fb49_row4_col1\" class=\"data row4 col1\" >0.5654</td>\n",
       "      <td id=\"T_2fb49_row4_col2\" class=\"data row4 col2\" >0.6062</td>\n",
       "      <td id=\"T_2fb49_row4_col3\" class=\"data row4 col3\" >0.5654</td>\n",
       "      <td id=\"T_2fb49_row4_col4\" class=\"data row4 col4\" >0.5897</td>\n",
       "      <td id=\"T_2fb49_row4_col5\" class=\"data row4 col5\" >0.5179</td>\n",
       "      <td id=\"T_2fb49_row4_col6\" class=\"data row4 col6\" >0.1141</td>\n",
       "      <td id=\"T_2fb49_row4_col7\" class=\"data row4 col7\" >0.1427</td>\n",
       "      <td id=\"T_2fb49_row4_col8\" class=\"data row4 col8\" >1.8470</td>\n",
       "    </tr>\n",
       "    <tr>\n",
       "      <th id=\"T_2fb49_level0_row5\" class=\"row_heading level0 row5\" >ridge</th>\n",
       "      <td id=\"T_2fb49_row5_col0\" class=\"data row5 col0\" >Ridge Classifier</td>\n",
       "      <td id=\"T_2fb49_row5_col1\" class=\"data row5 col1\" >0.5646</td>\n",
       "      <td id=\"T_2fb49_row5_col2\" class=\"data row5 col2\" >0.0000</td>\n",
       "      <td id=\"T_2fb49_row5_col3\" class=\"data row5 col3\" >0.5646</td>\n",
       "      <td id=\"T_2fb49_row5_col4\" class=\"data row5 col4\" >0.5883</td>\n",
       "      <td id=\"T_2fb49_row5_col5\" class=\"data row5 col5\" >0.5171</td>\n",
       "      <td id=\"T_2fb49_row5_col6\" class=\"data row5 col6\" >0.1124</td>\n",
       "      <td id=\"T_2fb49_row5_col7\" class=\"data row5 col7\" >0.1405</td>\n",
       "      <td id=\"T_2fb49_row5_col8\" class=\"data row5 col8\" >1.1160</td>\n",
       "    </tr>\n",
       "    <tr>\n",
       "      <th id=\"T_2fb49_level0_row6\" class=\"row_heading level0 row6\" >lda</th>\n",
       "      <td id=\"T_2fb49_row6_col0\" class=\"data row6 col0\" >Linear Discriminant Analysis</td>\n",
       "      <td id=\"T_2fb49_row6_col1\" class=\"data row6 col1\" >0.5646</td>\n",
       "      <td id=\"T_2fb49_row6_col2\" class=\"data row6 col2\" >0.6069</td>\n",
       "      <td id=\"T_2fb49_row6_col3\" class=\"data row6 col3\" >0.5646</td>\n",
       "      <td id=\"T_2fb49_row6_col4\" class=\"data row6 col4\" >0.5883</td>\n",
       "      <td id=\"T_2fb49_row6_col5\" class=\"data row6 col5\" >0.5171</td>\n",
       "      <td id=\"T_2fb49_row6_col6\" class=\"data row6 col6\" >0.1124</td>\n",
       "      <td id=\"T_2fb49_row6_col7\" class=\"data row6 col7\" >0.1405</td>\n",
       "      <td id=\"T_2fb49_row6_col8\" class=\"data row6 col8\" >1.1250</td>\n",
       "    </tr>\n",
       "    <tr>\n",
       "      <th id=\"T_2fb49_level0_row7\" class=\"row_heading level0 row7\" >gbc</th>\n",
       "      <td id=\"T_2fb49_row7_col0\" class=\"data row7 col0\" >Gradient Boosting Classifier</td>\n",
       "      <td id=\"T_2fb49_row7_col1\" class=\"data row7 col1\" >0.5632</td>\n",
       "      <td id=\"T_2fb49_row7_col2\" class=\"data row7 col2\" >0.6070</td>\n",
       "      <td id=\"T_2fb49_row7_col3\" class=\"data row7 col3\" >0.5632</td>\n",
       "      <td id=\"T_2fb49_row7_col4\" class=\"data row7 col4\" >0.5957</td>\n",
       "      <td id=\"T_2fb49_row7_col5\" class=\"data row7 col5\" >0.5070</td>\n",
       "      <td id=\"T_2fb49_row7_col6\" class=\"data row7 col6\" >0.1084</td>\n",
       "      <td id=\"T_2fb49_row7_col7\" class=\"data row7 col7\" >0.1435</td>\n",
       "      <td id=\"T_2fb49_row7_col8\" class=\"data row7 col8\" >1.1310</td>\n",
       "    </tr>\n",
       "    <tr>\n",
       "      <th id=\"T_2fb49_level0_row8\" class=\"row_heading level0 row8\" >lightgbm</th>\n",
       "      <td id=\"T_2fb49_row8_col0\" class=\"data row8 col0\" >Light Gradient Boosting Machine</td>\n",
       "      <td id=\"T_2fb49_row8_col1\" class=\"data row8 col1\" >0.5613</td>\n",
       "      <td id=\"T_2fb49_row8_col2\" class=\"data row8 col2\" >0.5966</td>\n",
       "      <td id=\"T_2fb49_row8_col3\" class=\"data row8 col3\" >0.5613</td>\n",
       "      <td id=\"T_2fb49_row8_col4\" class=\"data row8 col4\" >0.5891</td>\n",
       "      <td id=\"T_2fb49_row8_col5\" class=\"data row8 col5\" >0.5079</td>\n",
       "      <td id=\"T_2fb49_row8_col6\" class=\"data row8 col6\" >0.1049</td>\n",
       "      <td id=\"T_2fb49_row8_col7\" class=\"data row8 col7\" >0.1362</td>\n",
       "      <td id=\"T_2fb49_row8_col8\" class=\"data row8 col8\" >1.2940</td>\n",
       "    </tr>\n",
       "    <tr>\n",
       "      <th id=\"T_2fb49_level0_row9\" class=\"row_heading level0 row9\" >svm</th>\n",
       "      <td id=\"T_2fb49_row9_col0\" class=\"data row9 col0\" >SVM - Linear Kernel</td>\n",
       "      <td id=\"T_2fb49_row9_col1\" class=\"data row9 col1\" >0.5458</td>\n",
       "      <td id=\"T_2fb49_row9_col2\" class=\"data row9 col2\" >0.0000</td>\n",
       "      <td id=\"T_2fb49_row9_col3\" class=\"data row9 col3\" >0.5458</td>\n",
       "      <td id=\"T_2fb49_row9_col4\" class=\"data row9 col4\" >0.5711</td>\n",
       "      <td id=\"T_2fb49_row9_col5\" class=\"data row9 col5\" >0.4836</td>\n",
       "      <td id=\"T_2fb49_row9_col6\" class=\"data row9 col6\" >0.0723</td>\n",
       "      <td id=\"T_2fb49_row9_col7\" class=\"data row9 col7\" >0.1008</td>\n",
       "      <td id=\"T_2fb49_row9_col8\" class=\"data row9 col8\" >1.1180</td>\n",
       "    </tr>\n",
       "    <tr>\n",
       "      <th id=\"T_2fb49_level0_row10\" class=\"row_heading level0 row10\" >knn</th>\n",
       "      <td id=\"T_2fb49_row10_col0\" class=\"data row10 col0\" >K Neighbors Classifier</td>\n",
       "      <td id=\"T_2fb49_row10_col1\" class=\"data row10 col1\" >0.5434</td>\n",
       "      <td id=\"T_2fb49_row10_col2\" class=\"data row10 col2\" >0.5559</td>\n",
       "      <td id=\"T_2fb49_row10_col3\" class=\"data row10 col3\" >0.5434</td>\n",
       "      <td id=\"T_2fb49_row10_col4\" class=\"data row10 col4\" >0.5689</td>\n",
       "      <td id=\"T_2fb49_row10_col5\" class=\"data row10 col5\" >0.4928</td>\n",
       "      <td id=\"T_2fb49_row10_col6\" class=\"data row10 col6\" >0.0843</td>\n",
       "      <td id=\"T_2fb49_row10_col7\" class=\"data row10 col7\" >0.1073</td>\n",
       "      <td id=\"T_2fb49_row10_col8\" class=\"data row10 col8\" >1.2640</td>\n",
       "    </tr>\n",
       "    <tr>\n",
       "      <th id=\"T_2fb49_level0_row11\" class=\"row_heading level0 row11\" >nb</th>\n",
       "      <td id=\"T_2fb49_row11_col0\" class=\"data row11 col0\" >Naive Bayes</td>\n",
       "      <td id=\"T_2fb49_row11_col1\" class=\"data row11 col1\" >0.5251</td>\n",
       "      <td id=\"T_2fb49_row11_col2\" class=\"data row11 col2\" >0.5705</td>\n",
       "      <td id=\"T_2fb49_row11_col3\" class=\"data row11 col3\" >0.5251</td>\n",
       "      <td id=\"T_2fb49_row11_col4\" class=\"data row11 col4\" >0.6119</td>\n",
       "      <td id=\"T_2fb49_row11_col5\" class=\"data row11 col5\" >0.3845</td>\n",
       "      <td id=\"T_2fb49_row11_col6\" class=\"data row11 col6\" >0.0223</td>\n",
       "      <td id=\"T_2fb49_row11_col7\" class=\"data row11 col7\" >0.0685</td>\n",
       "      <td id=\"T_2fb49_row11_col8\" class=\"data row11 col8\" >1.1130</td>\n",
       "    </tr>\n",
       "    <tr>\n",
       "      <th id=\"T_2fb49_level0_row12\" class=\"row_heading level0 row12\" >qda</th>\n",
       "      <td id=\"T_2fb49_row12_col0\" class=\"data row12 col0\" >Quadratic Discriminant Analysis</td>\n",
       "      <td id=\"T_2fb49_row12_col1\" class=\"data row12 col1\" >0.5219</td>\n",
       "      <td id=\"T_2fb49_row12_col2\" class=\"data row12 col2\" >0.5600</td>\n",
       "      <td id=\"T_2fb49_row12_col3\" class=\"data row12 col3\" >0.5219</td>\n",
       "      <td id=\"T_2fb49_row12_col4\" class=\"data row12 col4\" >0.5421</td>\n",
       "      <td id=\"T_2fb49_row12_col5\" class=\"data row12 col5\" >0.3921</td>\n",
       "      <td id=\"T_2fb49_row12_col6\" class=\"data row12 col6\" >0.0204</td>\n",
       "      <td id=\"T_2fb49_row12_col7\" class=\"data row12 col7\" >0.0428</td>\n",
       "      <td id=\"T_2fb49_row12_col8\" class=\"data row12 col8\" >1.1220</td>\n",
       "    </tr>\n",
       "    <tr>\n",
       "      <th id=\"T_2fb49_level0_row13\" class=\"row_heading level0 row13\" >dummy</th>\n",
       "      <td id=\"T_2fb49_row13_col0\" class=\"data row13 col0\" >Dummy Classifier</td>\n",
       "      <td id=\"T_2fb49_row13_col1\" class=\"data row13 col1\" >0.5151</td>\n",
       "      <td id=\"T_2fb49_row13_col2\" class=\"data row13 col2\" >0.5000</td>\n",
       "      <td id=\"T_2fb49_row13_col3\" class=\"data row13 col3\" >0.5151</td>\n",
       "      <td id=\"T_2fb49_row13_col4\" class=\"data row13 col4\" >0.2653</td>\n",
       "      <td id=\"T_2fb49_row13_col5\" class=\"data row13 col5\" >0.3502</td>\n",
       "      <td id=\"T_2fb49_row13_col6\" class=\"data row13 col6\" >0.0000</td>\n",
       "      <td id=\"T_2fb49_row13_col7\" class=\"data row13 col7\" >0.0000</td>\n",
       "      <td id=\"T_2fb49_row13_col8\" class=\"data row13 col8\" >1.1180</td>\n",
       "    </tr>\n",
       "  </tbody>\n",
       "</table>\n"
      ],
      "text/plain": [
       "<pandas.io.formats.style.Styler at 0x1a8487e3160>"
      ]
     },
     "metadata": {},
     "output_type": "display_data"
    },
    {
     "data": {
      "application/vnd.jupyter.widget-view+json": {
       "model_id": "d71a6df57df949939fbaaf993f6fdf52",
       "version_major": 2,
       "version_minor": 0
      },
      "text/plain": [
       "Processing:   0%|          | 0/61 [00:00<?, ?it/s]"
      ]
     },
     "metadata": {},
     "output_type": "display_data"
    }
   ],
   "source": [
    "best = compare_models()"
   ]
  },
  {
   "cell_type": "code",
   "execution_count": 8,
   "metadata": {},
   "outputs": [
    {
     "data": {
      "application/vnd.jupyter.widget-view+json": {
       "model_id": "0071748c3d2e4bceafe16a8bafeb9b91",
       "version_major": 2,
       "version_minor": 0
      },
      "text/plain": [
       "interactive(children=(ToggleButtons(description='Plot Type:', icons=('',), options=(('Pipeline Plot', 'pipelin…"
      ]
     },
     "metadata": {},
     "output_type": "display_data"
    },
    {
     "name": "stdout",
     "output_type": "stream",
     "text": [
      "DecisionTreeClassifier(ccp_alpha=0.0, class_weight=None, criterion='gini',\n",
      "                       max_depth=None, max_features=None, max_leaf_nodes=None,\n",
      "                       min_impurity_decrease=0.0, min_samples_leaf=1,\n",
      "                       min_samples_split=2, min_weight_fraction_leaf=0.0,\n",
      "                       random_state=123, splitter='best')\n"
     ]
    }
   ],
   "source": [
    "evaluate_model(best)\n",
    "print(best)"
   ]
  },
  {
   "cell_type": "code",
   "execution_count": 9,
   "metadata": {},
   "outputs": [],
   "source": [
    "# tuned = tune_model(best)"
   ]
  },
  {
   "cell_type": "code",
   "execution_count": 10,
   "metadata": {
    "scrolled": true
   },
   "outputs": [
    {
     "data": {
      "text/html": [
       "<style type=\"text/css\">\n",
       "</style>\n",
       "<table id=\"T_fac35\">\n",
       "  <thead>\n",
       "    <tr>\n",
       "      <th class=\"blank level0\" >&nbsp;</th>\n",
       "      <th id=\"T_fac35_level0_col0\" class=\"col_heading level0 col0\" >Model</th>\n",
       "      <th id=\"T_fac35_level0_col1\" class=\"col_heading level0 col1\" >Accuracy</th>\n",
       "      <th id=\"T_fac35_level0_col2\" class=\"col_heading level0 col2\" >AUC</th>\n",
       "      <th id=\"T_fac35_level0_col3\" class=\"col_heading level0 col3\" >Recall</th>\n",
       "      <th id=\"T_fac35_level0_col4\" class=\"col_heading level0 col4\" >Prec.</th>\n",
       "      <th id=\"T_fac35_level0_col5\" class=\"col_heading level0 col5\" >F1</th>\n",
       "      <th id=\"T_fac35_level0_col6\" class=\"col_heading level0 col6\" >Kappa</th>\n",
       "      <th id=\"T_fac35_level0_col7\" class=\"col_heading level0 col7\" >MCC</th>\n",
       "    </tr>\n",
       "  </thead>\n",
       "  <tbody>\n",
       "    <tr>\n",
       "      <th id=\"T_fac35_level0_row0\" class=\"row_heading level0 row0\" >0</th>\n",
       "      <td id=\"T_fac35_row0_col0\" class=\"data row0 col0\" >Decision Tree Classifier</td>\n",
       "      <td id=\"T_fac35_row0_col1\" class=\"data row0 col1\" >0.5810</td>\n",
       "      <td id=\"T_fac35_row0_col2\" class=\"data row0 col2\" >0.5860</td>\n",
       "      <td id=\"T_fac35_row0_col3\" class=\"data row0 col3\" >0.5810</td>\n",
       "      <td id=\"T_fac35_row0_col4\" class=\"data row0 col4\" >0.5870</td>\n",
       "      <td id=\"T_fac35_row0_col5\" class=\"data row0 col5\" >0.5333</td>\n",
       "      <td id=\"T_fac35_row0_col6\" class=\"data row0 col6\" >0.1113</td>\n",
       "      <td id=\"T_fac35_row0_col7\" class=\"data row0 col7\" >0.1365</td>\n",
       "    </tr>\n",
       "  </tbody>\n",
       "</table>\n"
      ],
      "text/plain": [
       "<pandas.io.formats.style.Styler at 0x1a84c4a0fd0>"
      ]
     },
     "metadata": {},
     "output_type": "display_data"
    }
   ],
   "source": [
    "# test = test.drop(['Target_Close_1min'], axis=1)\n",
    "predictions = predict_model(best, data = test)\n",
    "# predictions = predict_model(best, data = train)\n",
    "\n",
    "predictions.head()\n",
    "\n",
    "predictions.to_csv('Classification_result_ET_Binary.csv')"
   ]
  }
 ],
 "metadata": {
  "kernelspec": {
   "display_name": "Python 3 (ipykernel)",
   "language": "python",
   "name": "python3"
  },
  "language_info": {
   "codemirror_mode": {
    "name": "ipython",
    "version": 3
   },
   "file_extension": ".py",
   "mimetype": "text/x-python",
   "name": "python",
   "nbconvert_exporter": "python",
   "pygments_lexer": "ipython3",
   "version": "3.10.9"
  }
 },
 "nbformat": 4,
 "nbformat_minor": 2
}
