{
 "cells": [
  {
   "cell_type": "code",
   "execution_count": null,
   "id": "b2b03635",
   "metadata": {},
   "outputs": [],
   "source": [
    "import pandas as pd"
   ]
  },
  {
   "cell_type": "code",
   "execution_count": null,
   "id": "4ef3a8fa",
   "metadata": {},
   "outputs": [],
   "source": [
    "# Change file name to raw_test.csv if applying to test dataset\n",
    "raw_train = pd.read_csv(\"raw_train.csv\", index_col='Timestamp')\n",
    "print(raw_train.columns)"
   ]
  },
  {
   "cell_type": "code",
   "execution_count": null,
   "id": "edd9699c",
   "metadata": {},
   "outputs": [],
   "source": [
    "raw_train = raw_train.drop(['InstrumentID','TradingDay','UpdateTime'], axis=1)\n",
    "\n",
    "print(raw_train)"
   ]
  },
  {
   "cell_type": "code",
   "execution_count": null,
   "id": "e2b756ed",
   "metadata": {},
   "outputs": [],
   "source": [
    "raw_train.index = pd.to_datetime(raw_train.index)\n",
    "print(raw_train)"
   ]
  },
  {
   "cell_type": "code",
   "execution_count": null,
   "id": "e41db81d",
   "metadata": {},
   "outputs": [],
   "source": [
    "raw_train['Target_Close_1min'] = (raw_train['Close'].shift(-1) - raw_train['Close'])/raw_train['Close']\n",
    "\n",
    "raw_train['Target_Close_5min_Mean'] = (raw_train['Close'].rolling(window=5).mean().shift(-5) - raw_train['Close']) / raw_train['Close']\n",
    "\n",
    "raw_train['Target_Close_10min_Mean'] = (raw_train['Close'].rolling(window=10).mean().shift(-10) - raw_train['Close']) / raw_train['Close']\n",
    "\n",
    "raw_train['Target_Close_15min_Mean'] = (raw_train['Close'].rolling(window=10).mean().shift(-15) - raw_train['Close']) / raw_train['Close']\n",
    "\n",
    "print(raw_train)\n",
    "\n",
    "raw_train.dropna()\n",
    "\n",
    "raw_train = raw_train[(raw_train['Target_Close_1min'] != 0)\n",
    "                      & (raw_train['Target_Close_5min_Mean'] != 0)\n",
    "                      & (raw_train['Target_Close_10min_Mean'] != 0)\n",
    "                      & (raw_train['Target_Close_15min_Mean'] != 0)\n",
    "                     ]\n",
    "raw_train.dropna()\n",
    "\n",
    "print(raw_train)\n",
    "\n",
    "\n",
    "# Change file name to test_add_target if apply to test dataset\n",
    "raw_train.to_csv('train_add_target.csv')"
   ]
  },
  {
   "cell_type": "code",
   "execution_count": null,
   "id": "f423397f",
   "metadata": {},
   "outputs": [],
   "source": []
  }
 ],
 "metadata": {
  "kernelspec": {
   "display_name": "Python 3 (ipykernel)",
   "language": "python",
   "name": "python3"
  },
  "language_info": {
   "codemirror_mode": {
    "name": "ipython",
    "version": 3
   },
   "file_extension": ".py",
   "mimetype": "text/x-python",
   "name": "python",
   "nbconvert_exporter": "python",
   "pygments_lexer": "ipython3",
   "version": "3.10.9"
  }
 },
 "nbformat": 4,
 "nbformat_minor": 5
}
