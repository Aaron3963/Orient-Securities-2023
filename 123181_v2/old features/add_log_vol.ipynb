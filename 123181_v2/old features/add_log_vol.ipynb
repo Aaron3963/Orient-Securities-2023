{
 "cells": [
  {
   "cell_type": "code",
   "execution_count": 2,
   "metadata": {},
   "outputs": [],
   "source": [
    "import pandas as pd\n",
    "import numpy as np\n",
    "\n",
    "PATH_READ = 'train_add_target_hist.csv'\n",
    "\n",
    "df = pd.read_csv(PATH_READ, index_col='Timestamp')"
   ]
  },
  {
   "cell_type": "code",
   "execution_count": 3,
   "metadata": {},
   "outputs": [
    {
     "name": "stdout",
     "output_type": "stream",
     "text": [
      "Index(['PreClosePrice', 'Open', 'High', 'Low', 'Volume', 'Turnover', 'Close',\n",
      "       '4mean Price', 'Avg Price', 'Hist_Ret_Close_3min',\n",
      "       'Hist_Ret_Close_5min', 'Hist_Ret_Close_10min', 'Hist_Ret_Close_15min',\n",
      "       'Target_Close_1min', 'Target_Close_5min_Mean',\n",
      "       'Target_Close_10min_Mean', 'Target_Close_15min_Mean',\n",
      "       'Log_Return_Close_1min'],\n",
      "      dtype='object')\n",
      "Timestamp\n",
      "2023/6/1 9:45           NaN\n",
      "2023/6/1 9:46     -0.001933\n",
      "2023/6/1 9:47     -0.002795\n",
      "2023/6/1 9:48      0.002330\n",
      "2023/6/1 9:49      0.000355\n",
      "                     ...   \n",
      "2023/6/20 14:39   -0.002274\n",
      "2023/6/20 14:40    0.004515\n",
      "2023/6/20 14:41    0.001466\n",
      "2023/6/20 14:42   -0.000863\n",
      "2023/6/20 14:43   -0.001273\n",
      "Name: Log_Return_Close_1min, Length: 3065, dtype: float64\n"
     ]
    }
   ],
   "source": [
    "df['Log_Return_Close_1min'] = np.log(df['Close'] / df['Close'].shift(1))\n",
    "\n",
    "print(df.columns)\n",
    "print(df['Log_Return_Close_1min'])"
   ]
  },
  {
   "cell_type": "code",
   "execution_count": null,
   "metadata": {},
   "outputs": [],
   "source": []
  }
 ],
 "metadata": {
  "kernelspec": {
   "display_name": "Python 3 (ipykernel)",
   "language": "python",
   "name": "python3"
  },
  "language_info": {
   "codemirror_mode": {
    "name": "ipython",
    "version": 3
   },
   "file_extension": ".py",
   "mimetype": "text/x-python",
   "name": "python",
   "nbconvert_exporter": "python",
   "pygments_lexer": "ipython3",
   "version": "3.10.9"
  },
  "orig_nbformat": 4
 },
 "nbformat": 4,
 "nbformat_minor": 2
}
