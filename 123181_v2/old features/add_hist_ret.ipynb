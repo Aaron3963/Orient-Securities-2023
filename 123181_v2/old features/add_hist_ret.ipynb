{
 "cells": [
  {
   "cell_type": "code",
   "execution_count": 35,
   "id": "62d37b9c",
   "metadata": {},
   "outputs": [
    {
     "name": "stdout",
     "output_type": "stream",
     "text": [
      "Index(['Timestamp', 'PreClosePrice', 'Open', 'High', 'Low', 'Volume',\n",
      "       'Turnover', 'Close', 'Target_Close_1min', 'Target_Close_5min_Mean',\n",
      "       'Target_Close_10min_Mean', 'Target_Close_15min_Mean'],\n",
      "      dtype='object')\n"
     ]
    }
   ],
   "source": [
    "import pandas as pd\n",
    "\n",
    "PATH_READ = 'test_add_target.csv'\n",
    "PATH_WRITE = 'test_add_target_hist.csv'\n",
    "\n",
    "df = pd.read_csv(PATH_READ)\n",
    "\n",
    "print(df.columns)"
   ]
  },
  {
   "cell_type": "code",
   "execution_count": 36,
   "id": "446ee638",
   "metadata": {},
   "outputs": [],
   "source": [
    "def hist_ret(df, param):\n",
    "    return df['Close'] / df['Close'].shift(param)"
   ]
  },
  {
   "cell_type": "code",
   "execution_count": 37,
   "id": "3df4a55e",
   "metadata": {},
   "outputs": [
    {
     "name": "stdout",
     "output_type": "stream",
     "text": [
      "Index(['Timestamp', 'PreClosePrice', 'Open', 'High', 'Low', 'Volume',\n",
      "       'Turnover', 'Close', 'Hist_Ret_Close_3min', 'Hist_Ret_Close_5min',\n",
      "       'Hist_Ret_Close_10min', 'Hist_Ret_Close_15min', 'Target_Close_1min',\n",
      "       'Target_Close_5min_Mean', 'Target_Close_10min_Mean',\n",
      "       'Target_Close_15min_Mean'],\n",
      "      dtype='object')\n"
     ]
    }
   ],
   "source": [
    "df.insert(loc=df.columns.get_loc('Close')+1, column= 'Hist_Ret_Close_15min', value= hist_ret(df,15))\n",
    "df.insert(loc=df.columns.get_loc('Close')+1, column= 'Hist_Ret_Close_10min', value= hist_ret(df,10))\n",
    "df.insert(loc=df.columns.get_loc('Close')+1, column= 'Hist_Ret_Close_5min', value= hist_ret(df,5))\n",
    "df.insert(loc=df.columns.get_loc('Close')+1, column= 'Hist_Ret_Close_3min', value= hist_ret(df,3))\n",
    "\n",
    "print(df.columns)\n",
    "    "
   ]
  },
  {
   "cell_type": "code",
   "execution_count": 38,
   "id": "16776106",
   "metadata": {},
   "outputs": [],
   "source": [
    "df = df.dropna()\n",
    "df.to_csv(PATH_WRITE, index=False)"
   ]
  }
 ],
 "metadata": {
  "kernelspec": {
   "display_name": "Python 3 (ipykernel)",
   "language": "python",
   "name": "python3"
  }
 },
 "nbformat": 4,
 "nbformat_minor": 5
}
