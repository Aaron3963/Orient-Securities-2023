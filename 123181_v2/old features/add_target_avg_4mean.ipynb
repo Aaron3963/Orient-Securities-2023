{
 "cells": [
  {
   "cell_type": "code",
   "execution_count": 7,
   "metadata": {},
   "outputs": [],
   "source": [
    "import pandas as pd\n",
    "\n",
    "PATH_READ = 'train_add_target_hist.csv'\n",
    "\n",
    "df = pd.read_csv(PATH_READ, index_col= 'Timestamp')"
   ]
  },
  {
   "cell_type": "code",
   "execution_count": 8,
   "metadata": {},
   "outputs": [
    {
     "name": "stdout",
     "output_type": "stream",
     "text": [
      "Index(['PreClosePrice', 'Open', 'High', 'Low', 'Volume', 'Turnover', 'Close',\n",
      "       'Hist_Ret_Close_3min', 'Hist_Ret_Close_5min', 'Hist_Ret_Close_10min',\n",
      "       'Hist_Ret_Close_15min', 'Target_Close_1min', 'Target_Close_5min_Mean',\n",
      "       'Target_Close_10min_Mean', 'Target_Close_15min_Mean'],\n",
      "      dtype='object')\n"
     ]
    }
   ],
   "source": [
    "print(df.columns)"
   ]
  },
  {
   "cell_type": "code",
   "execution_count": 9,
   "metadata": {},
   "outputs": [
    {
     "name": "stdout",
     "output_type": "stream",
     "text": [
      "Index(['PreClosePrice', 'Open', 'High', 'Low', 'Volume', 'Turnover', 'Close',\n",
      "       'Avg Price', 'Hist_Ret_Close_3min', 'Hist_Ret_Close_5min',\n",
      "       'Hist_Ret_Close_10min', 'Hist_Ret_Close_15min', 'Target_Close_1min',\n",
      "       'Target_Close_5min_Mean', 'Target_Close_10min_Mean',\n",
      "       'Target_Close_15min_Mean'],\n",
      "      dtype='object')\n"
     ]
    }
   ],
   "source": [
    "avg = df['Turnover']/df['Volume']\n",
    "\n",
    "df.insert(loc=df.columns.get_loc('Close')+1, column= 'Avg Price', value= avg)\n",
    "\n",
    "df['Avg Price'].fillna(0, inplace=True)\n",
    "print(df.columns)"
   ]
  },
  {
   "cell_type": "code",
   "execution_count": 10,
   "metadata": {},
   "outputs": [
    {
     "name": "stdout",
     "output_type": "stream",
     "text": [
      "Index(['PreClosePrice', 'Open', 'High', 'Low', 'Volume', 'Turnover', 'Close',\n",
      "       '4mean Price', 'Avg Price', 'Hist_Ret_Close_3min',\n",
      "       'Hist_Ret_Close_5min', 'Hist_Ret_Close_10min', 'Hist_Ret_Close_15min',\n",
      "       'Target_Close_1min', 'Target_Close_5min_Mean',\n",
      "       'Target_Close_10min_Mean', 'Target_Close_15min_Mean'],\n",
      "      dtype='object')\n"
     ]
    }
   ],
   "source": [
    "mean4 = (df['High']+df['Low']+df['Close']+df['Open'])/4.0\n",
    "\n",
    "df.insert(loc=df.columns.get_loc('Close')+1, column= '4mean Price', value= mean4)\n",
    "print(df.columns)"
   ]
  },
  {
   "cell_type": "code",
   "execution_count": 11,
   "metadata": {},
   "outputs": [
    {
     "name": "stdout",
     "output_type": "stream",
     "text": [
      "                 PreClosePrice     Open     High      Low  Volume  \\\n",
      "Timestamp                                                           \n",
      "2023/6/1 9:45          161.331  164.447  164.883  163.664   66850   \n",
      "2023/6/1 9:46          161.331  163.510  163.689  163.269   56180   \n",
      "2023/6/1 9:47          161.331  163.379  163.684  162.892   45340   \n",
      "2023/6/1 9:48          161.331  162.819  163.449  162.802   58240   \n",
      "2023/6/1 9:49          161.331  163.381  163.500  163.219   15950   \n",
      "...                        ...      ...      ...      ...     ...   \n",
      "2023/6/20 14:39        351.000  324.429  324.429  323.475   12390   \n",
      "2023/6/20 14:40        351.000  323.514  325.495  323.514   34231   \n",
      "2023/6/20 14:41        351.000  325.219  326.362  324.685   35950   \n",
      "2023/6/20 14:42        351.000  325.796  325.796  325.038   30390   \n",
      "2023/6/20 14:43        351.000  325.300  325.452  324.364   14481   \n",
      "\n",
      "                     Turnover    Close  4mean Price   Avg Price  \\\n",
      "Timestamp                                                         \n",
      "2023/6/1 9:45    1.099202e+07  163.664    164.16450  164.428098   \n",
      "2023/6/1 9:46    9.185431e+06  163.348    163.45400  163.500020   \n",
      "2023/6/1 9:47    7.400842e+06  162.892    163.21175  163.229863   \n",
      "2023/6/1 9:48    9.503958e+06  163.272    163.08550  163.186093   \n",
      "2023/6/1 9:49    2.605440e+06  163.330    163.35750  163.350465   \n",
      "...                       ...      ...          ...         ...   \n",
      "2023/6/20 14:39  4.012603e+06  323.750    324.02075  323.858223   \n",
      "2023/6/20 14:40  1.112412e+07  325.215    324.43450  324.972166   \n",
      "2023/6/20 14:41  1.170473e+07  325.692    325.48950  325.583502   \n",
      "2023/6/20 14:42  9.890472e+06  325.411    325.51025  325.451515   \n",
      "2023/6/20 14:43  4.706521e+06  324.997    325.02825  325.013516   \n",
      "\n",
      "                 Hist_Ret_Close_3min  Hist_Ret_Close_5min  \\\n",
      "Timestamp                                                   \n",
      "2023/6/1 9:45               0.999627             0.996093   \n",
      "2023/6/1 9:46               0.992695             0.994811   \n",
      "2023/6/1 9:47               0.989858             0.994912   \n",
      "2023/6/1 9:48               0.997605             0.992233   \n",
      "2023/6/1 9:49               0.999890             0.992519   \n",
      "...                              ...                  ...   \n",
      "2023/6/20 14:39             1.001392             0.997520   \n",
      "2023/6/20 14:40             1.003679             1.003611   \n",
      "2023/6/20 14:41             1.003714             1.007399   \n",
      "2023/6/20 14:42             1.005131             1.004284   \n",
      "2023/6/20 14:43             0.999330             1.001572   \n",
      "\n",
      "                 Hist_Ret_Close_10min  Hist_Ret_Close_15min  \\\n",
      "Timestamp                                                     \n",
      "2023/6/1 9:45                1.006835              1.011520   \n",
      "2023/6/1 9:46                1.007239              1.007177   \n",
      "2023/6/1 9:47                1.000018              1.007397   \n",
      "2023/6/1 9:48                0.994506              1.006237   \n",
      "2023/6/1 9:49                0.997910              1.000717   \n",
      "...                               ...                   ...   \n",
      "2023/6/20 14:39              1.005101              1.005435   \n",
      "2023/6/20 14:40              1.009984              1.011555   \n",
      "2023/6/20 14:41              1.007754              1.011466   \n",
      "2023/6/20 14:42              1.007355              1.009543   \n",
      "2023/6/20 14:43              1.000773              1.007821   \n",
      "\n",
      "                 Target_Close_1min  Target_Close_5min_Mean  \\\n",
      "Timestamp                                                    \n",
      "2023/6/1 9:45            -0.001931               -0.002831   \n",
      "2023/6/1 9:46            -0.002792               -0.000594   \n",
      "2023/6/1 9:47             0.002333                0.003740   \n",
      "2023/6/1 9:48             0.000355                0.002793   \n",
      "2023/6/1 9:49            -0.001035                0.003857   \n",
      "...                            ...                     ...   \n",
      "2023/6/20 14:39           0.004525                0.004587   \n",
      "2023/6/20 14:40           0.001467               -0.000993   \n",
      "2023/6/20 14:41          -0.000863               -0.003662   \n",
      "2023/6/20 14:42          -0.001272               -0.003827   \n",
      "2023/6/20 14:43          -0.000418               -0.003287   \n",
      "\n",
      "                 Target_Close_10min_Mean  Target_Close_15min_Mean  \n",
      "Timestamp                                                          \n",
      "2023/6/1 9:45                   0.000181                 0.002052  \n",
      "2023/6/1 9:46                   0.002609                 0.003624  \n",
      "2023/6/1 9:47                   0.006033                 0.005905  \n",
      "2023/6/1 9:48                   0.003914                 0.002554  \n",
      "2023/6/1 9:49                   0.003677                 0.001024  \n",
      "...                                  ...                      ...  \n",
      "2023/6/20 14:39                 0.002206                -0.001266  \n",
      "2023/6/20 14:40                -0.003205                -0.006534  \n",
      "2023/6/20 14:41                -0.005242                -0.008969  \n",
      "2023/6/20 14:42                -0.005095                -0.009077  \n",
      "2023/6/20 14:43                -0.004363                -0.008742  \n",
      "\n",
      "[3065 rows x 17 columns]\n"
     ]
    }
   ],
   "source": [
    "print(df)"
   ]
  },
  {
   "cell_type": "code",
   "execution_count": 12,
   "metadata": {},
   "outputs": [],
   "source": [
    "df.to_csv(PATH_READ)"
   ]
  },
  {
   "cell_type": "code",
   "execution_count": null,
   "metadata": {},
   "outputs": [],
   "source": []
  }
 ],
 "metadata": {
  "kernelspec": {
   "display_name": "Python 3 (ipykernel)",
   "language": "python",
   "name": "python3"
  },
  "orig_nbformat": 4
 },
 "nbformat": 4,
 "nbformat_minor": 2
}
