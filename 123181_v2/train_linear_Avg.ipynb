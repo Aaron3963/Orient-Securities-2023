{
 "cells": [
  {
   "cell_type": "code",
   "execution_count": 4,
   "metadata": {},
   "outputs": [],
   "source": [
    "import pandas as pd\n",
    "from sklearn.linear_model import LinearRegression, Ridge\n",
    "from sklearn.metrics import mean_squared_error,r2_score\n",
    "from sklearn.model_selection import train_test_split\n",
    "import matplotlib.pyplot as plt\n",
    "\n",
    "\n",
    "TRAIN_PATH = 'train_with_features_v2.csv'\n",
    "TEST_PATH = 'test_with_features_v2.csv'\n",
    "\n",
    "train = pd.read_csv(TRAIN_PATH)\n",
    "test = pd.read_csv(TEST_PATH)\n"
   ]
  },
  {
   "cell_type": "markdown",
   "metadata": {},
   "source": [
    "Prune raw features"
   ]
  },
  {
   "cell_type": "code",
   "execution_count": 5,
   "metadata": {},
   "outputs": [
    {
     "name": "stdout",
     "output_type": "stream",
     "text": [
      "Index(['Log_Return_Avg_1min', 'Hist_Ret_Avg_3min', 'Hist_Ret_Avg_5min',\n",
      "       'Hist_Ret_Avg_10min', 'Hist_Ret_Avg_15min', 'Target_Avg_1min'],\n",
      "      dtype='object')\n"
     ]
    }
   ],
   "source": [
    "# train = train.drop(['PreClosePrice','Open','High','Low','Volume','Turnover','Close'], axis=1)\n",
    "# test = test.drop(['PreClosePrice','Open','High','Low','Volume','Turnover','Close'], axis=1)\n",
    "\n",
    "train = train[['Log_Return_Avg_1min', 'Hist_Ret_Avg_3min','Hist_Ret_Avg_5min', \n",
    "               'Hist_Ret_Avg_10min', 'Hist_Ret_Avg_15min','Target_Avg_1min']]\n",
    "\n",
    "test = test[['Log_Return_Avg_1min', 'Hist_Ret_Avg_3min','Hist_Ret_Avg_5min', \n",
    "               'Hist_Ret_Avg_10min', 'Hist_Ret_Avg_15min','Target_Avg_1min']]\n",
    "\n",
    "print(train.columns)\n"
   ]
  },
  {
   "cell_type": "markdown",
   "metadata": {},
   "source": [
    "Train Model"
   ]
  },
  {
   "cell_type": "code",
   "execution_count": 6,
   "metadata": {},
   "outputs": [],
   "source": [
    "def trainLR_Close(train, test, target):\n",
    "       model = LinearRegression()\n",
    "\n",
    "       model.fit(train[['Hist_Ret_Close_3min', 'Hist_Ret_Close_5min',\n",
    "              'Hist_Ret_Close_10min', 'Hist_Ret_Close_15min', 'Log_Return_Close_1min',\n",
    "              'Avg Price', '4mean Price', 'Vol_5min_Close', 'Vol_10min_Close', 'Vol_15min_Close',\n",
    "              'Sharpe_Log_ret_1min/Vol_5min_Close', 'Sharpe_Log_ret_1min/Vol_10min_Close',\n",
    "              'Sharpe_Log_ret_1min/Vol_15min_Close']], train[target])\n",
    "\n",
    "       # Calculate prediction from model\n",
    "       predictions = model.predict(test[['Hist_Ret_Close_3min', 'Hist_Ret_Close_5min',\n",
    "              'Hist_Ret_Close_10min', 'Hist_Ret_Close_15min', 'Log_Return_Close_1min',\n",
    "              'Avg Price', '4mean Price', 'Vol_5min_Close', 'Vol_10min_Close', 'Vol_15min_Close',\n",
    "              'Sharpe_Log_ret_1min/Vol_5min_Close', 'Sharpe_Log_ret_1min/Vol_10min_Close',\n",
    "              'Sharpe_Log_ret_1min/Vol_15min_Close']])\n",
    "       \n",
    "       # model.fit(train[['Hist_Ret_Close_10min',\n",
    "       #                  'Sharpe_Log_ret_1min/Vol_15min']], train[target])\n",
    "\n",
    "       # # Calculate prediction from model\n",
    "       # predictions = model.predict(test[['Hist_Ret_Close_10min',\n",
    "       #                  'Sharpe_Log_ret_1min/Vol_15min']])\n",
    "                            \n",
    "       # Results\n",
    "       print(model.coef_)\n",
    "       print(\"MSE: %5f\"%mean_squared_error(test[target],predictions))\n",
    "       print(\"R^2: %5f\"%r2_score(test[target],predictions))\n"
   ]
  },
  {
   "cell_type": "code",
   "execution_count": 7,
   "metadata": {},
   "outputs": [],
   "source": [
    "def trainLR_Avg(train, test, target):\n",
    "       model = LinearRegression()\n",
    "\n",
    "       model.fit(train[['Log_Return_Avg_1min', 'Hist_Ret_Avg_3min', 'Hist_Ret_Avg_5min',\n",
    "       'Hist_Ret_Avg_10min', 'Hist_Ret_Avg_15min']], train[target])\n",
    "\n",
    "       predictions = model.predict(test[['Log_Return_Avg_1min', 'Hist_Ret_Avg_3min', 'Hist_Ret_Avg_5min',\n",
    "       'Hist_Ret_Avg_10min', 'Hist_Ret_Avg_15min']])\n",
    "       \n",
    "       # model.fit(train[['Hist_Ret_Close_10min',\n",
    "       #                  'Sharpe_Log_ret_1min/Vol_15min']], train[target])\n",
    "\n",
    "       # # Calculate prediction from model\n",
    "       # predictions = model.predict(test[['Hist_Ret_Close_10min',\n",
    "       #                  'Sharpe_Log_ret_1min/Vol_15min']])\n",
    "                            \n",
    "       # Results\n",
    "       print(model.coef_)\n",
    "       print(\"MSE: %5f\"%mean_squared_error(test[target],predictions))\n",
    "       print(\"R^2: %5f\"%r2_score(test[target],predictions))\n"
   ]
  },
  {
   "cell_type": "code",
   "execution_count": 8,
   "metadata": {},
   "outputs": [
    {
     "name": "stdout",
     "output_type": "stream",
     "text": [
      "[ 0.21324174  0.03194322 -0.03272188  0.00861185  0.00595819]\n",
      "MSE: 0.000004\n",
      "R^2: -0.053493\n"
     ]
    }
   ],
   "source": [
    "# for i in ['Target_Close_1min','Target_Close_5min_Mean','Target_Close_10min_Mean','Target_Close_15min_Mean']:\n",
    "#     trainLR(train,test,i)\n",
    "#     print(\"\\n=========================================================\\n\")\n",
    "\n",
    "# trainLR_Close(train,test,'Target_Close_1min')\n",
    "\n",
    "trainLR_Avg(train,test, 'Target_Avg_1min')"
   ]
  }
 ],
 "metadata": {
  "kernelspec": {
   "display_name": "Python 3 (ipykernel)",
   "language": "python",
   "name": "python3"
  },
  "language_info": {
   "codemirror_mode": {
    "name": "ipython",
    "version": 3
   },
   "file_extension": ".py",
   "mimetype": "text/x-python",
   "name": "python",
   "nbconvert_exporter": "python",
   "pygments_lexer": "ipython3",
   "version": "3.10.9"
  },
  "orig_nbformat": 4
 },
 "nbformat": 4,
 "nbformat_minor": 2
}
