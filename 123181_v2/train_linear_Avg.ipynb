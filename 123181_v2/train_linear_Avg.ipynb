{
 "cells": [
  {
   "cell_type": "code",
   "execution_count": 6,
   "metadata": {},
   "outputs": [],
   "source": [
    "import pandas as pd\n",
    "from sklearn.linear_model import LinearRegression, Ridge\n",
    "from sklearn.metrics import mean_squared_error,r2_score\n",
    "from sklearn.model_selection import train_test_split\n",
    "import matplotlib.pyplot as plt\n",
    "\n",
    "\n",
    "TRAIN_PATH = 'train_with_features_v2.csv'\n",
    "TEST_PATH = 'test_with_features_v2.csv'\n",
    "\n",
    "train = pd.read_csv(TRAIN_PATH)\n",
    "test = pd.read_csv(TEST_PATH)\n"
   ]
  },
  {
   "cell_type": "markdown",
   "metadata": {},
   "source": [
    "Prune raw features"
   ]
  },
  {
   "cell_type": "code",
   "execution_count": 7,
   "metadata": {},
   "outputs": [
    {
     "name": "stdout",
     "output_type": "stream",
     "text": [
      "Index(['Timestamp', 'PreClosePrice', 'Open', 'High', 'Low', 'Volume',\n",
      "       'Turnover', 'Close', 'Hist_Ret_Close_3min', 'Hist_Ret_Close_5min',\n",
      "       'Hist_Ret_Close_10min', 'Hist_Ret_Close_15min', 'Log_Return_Close_1min',\n",
      "       'Avg Price', '4mean Price', 'Log_Return_Avg_1min', 'Hist_Ret_Avg_3min',\n",
      "       'Hist_Ret_Avg_5min', 'Hist_Ret_Avg_10min', 'Hist_Ret_Avg_15min',\n",
      "       'Target_Close_1min', 'Target_Close_5min_Mean',\n",
      "       'Target_Close_10min_Mean', 'Target_Close_15min_Mean', 'Target_Avg_1min',\n",
      "       'Target_Avg_5min_Mean', 'Target_Avg_10min_Mean',\n",
      "       'Target_Avg_15min_Mean', 'Vol_5min_Close', 'Vol_10min_Close',\n",
      "       'Vol_15min_Close', 'Sharpe_Log_ret_1min/Vol_5min_Close',\n",
      "       'Sharpe_Log_ret_1min/Vol_10min_Close',\n",
      "       'Sharpe_Log_ret_1min/Vol_15min_Close'],\n",
      "      dtype='object')\n"
     ]
    }
   ],
   "source": [
    "print(train.columns)\n",
    "\n",
    "train = train.drop(['PreClosePrice','Open','High','Low','Volume','Turnover','Close'], axis=1)\n",
    "test = test.drop(['PreClosePrice','Open','High','Low','Volume','Turnover','Close'], axis=1)\n"
   ]
  },
  {
   "cell_type": "markdown",
   "metadata": {},
   "source": [
    "Train Model"
   ]
  },
  {
   "cell_type": "code",
   "execution_count": 8,
   "metadata": {},
   "outputs": [],
   "source": [
    "def trainLR_Close(train, test, target):\n",
    "       model = LinearRegression()\n",
    "\n",
    "       model.fit(train[['Hist_Ret_Close_3min', 'Hist_Ret_Close_5min',\n",
    "              'Hist_Ret_Close_10min', 'Hist_Ret_Close_15min', 'Log_Return_Close_1min',\n",
    "              'Avg Price', '4mean Price', 'Vol_5min_Close', 'Vol_10min_Close', 'Vol_15min_Close',\n",
    "              'Sharpe_Log_ret_1min/Vol_5min_Close', 'Sharpe_Log_ret_1min/Vol_10min_Close',\n",
    "              'Sharpe_Log_ret_1min/Vol_15min_Close']], train[target])\n",
    "\n",
    "       # Calculate prediction from model\n",
    "       predictions = model.predict(test[['Hist_Ret_Close_3min', 'Hist_Ret_Close_5min',\n",
    "              'Hist_Ret_Close_10min', 'Hist_Ret_Close_15min', 'Log_Return_Close_1min',\n",
    "              'Avg Price', '4mean Price', 'Vol_5min_Close', 'Vol_10min_Close', 'Vol_15min_Close',\n",
    "              'Sharpe_Log_ret_1min/Vol_5min_Close', 'Sharpe_Log_ret_1min/Vol_10min_Close',\n",
    "              'Sharpe_Log_ret_1min/Vol_15min_Close']])\n",
    "       \n",
    "       # model.fit(train[['Hist_Ret_Close_10min',\n",
    "       #                  'Sharpe_Log_ret_1min/Vol_15min']], train[target])\n",
    "\n",
    "       # # Calculate prediction from model\n",
    "       # predictions = model.predict(test[['Hist_Ret_Close_10min',\n",
    "       #                  'Sharpe_Log_ret_1min/Vol_15min']])\n",
    "                            \n",
    "       # Results\n",
    "       print(model.coef_)\n",
    "       print(\"MSE: %5f\"%mean_squared_error(test[target],predictions))\n",
    "       print(\"R^2: %5f\"%r2_score(test[target],predictions))\n"
   ]
  },
  {
   "cell_type": "code",
   "execution_count": 9,
   "metadata": {},
   "outputs": [],
   "source": [
    "def trainLR_Avg(train, test, target):\n",
    "       model = LinearRegression()\n",
    "\n",
    "       model.fit(train[['Hist_Ret_Avg_3min', 'Hist_Ret_Avg_5min',\n",
    "              'Hist_Ret_Avg_10min', 'Hist_Ret_Avg_15min', 'Log_Return_Avg_1min',\n",
    "              'Avg Price', '4mean Price', 'Vol_5min_Close', 'Vol_10min_Close', 'Vol_15min_Close',\n",
    "              'Sharpe_Log_ret_1min/Vol_5min_Close', 'Sharpe_Log_ret_1min/Vol_10min_Close',\n",
    "              'Sharpe_Log_ret_1min/Vol_15min_Close']], train[target])\n",
    "\n",
    "       predictions = model.predict(test[['Hist_Ret_Avg_3min', 'Hist_Ret_Avg_5min',\n",
    "              'Hist_Ret_Avg_10min', 'Hist_Ret_Avg_15min', 'Log_Return_Avg_1min',\n",
    "              'Avg Price', '4mean Price', 'Vol_5min_Close', 'Vol_10min_Close', 'Vol_15min_Close',\n",
    "              'Sharpe_Log_ret_1min/Vol_5min_Close', 'Sharpe_Log_ret_1min/Vol_10min_Close',\n",
    "              'Sharpe_Log_ret_1min/Vol_15min_Close']])\n",
    "       \n",
    "       # model.fit(train[['Hist_Ret_Close_10min',\n",
    "       #                  'Sharpe_Log_ret_1min/Vol_15min']], train[target])\n",
    "\n",
    "       # # Calculate prediction from model\n",
    "       # predictions = model.predict(test[['Hist_Ret_Close_10min',\n",
    "       #                  'Sharpe_Log_ret_1min/Vol_15min']])\n",
    "                            \n",
    "       # Results\n",
    "       print(model.coef_)\n",
    "       print(\"MSE: %5f\"%mean_squared_error(test[target],predictions))\n",
    "       print(\"R^2: %5f\"%r2_score(test[target],predictions))\n"
   ]
  },
  {
   "cell_type": "code",
   "execution_count": 10,
   "metadata": {},
   "outputs": [
    {
     "name": "stdout",
     "output_type": "stream",
     "text": [
      "[ 4.20302636e-02 -3.08540394e-02  1.42047758e-02  1.39530683e-03\n",
      " -6.64468947e-02 -1.08480222e-03  1.08258310e-03 -1.12598031e-04\n",
      "  1.78896619e-04  5.19071948e-05  3.07420467e-02 -6.78726491e-02\n",
      "  6.82702042e-02]\n",
      "MSE: 0.000005\n",
      "R^2: -0.006977\n",
      "[ 2.60207357e-02 -1.92553857e-02  9.65848640e-03  4.57279312e-03\n",
      "  2.52498458e-01 -6.05211237e-03  6.05113110e-03  2.80008701e-05\n",
      "  1.72186512e-04  7.12528153e-06  1.32293548e-01 -1.92521193e-02\n",
      "  1.85291738e-01]\n",
      "MSE: 0.000003\n",
      "R^2: 0.207182\n"
     ]
    }
   ],
   "source": [
    "# for i in ['Target_Close_1min','Target_Close_5min_Mean','Target_Close_10min_Mean','Target_Close_15min_Mean']:\n",
    "#     trainLR(train,test,i)\n",
    "#     print(\"\\n=========================================================\\n\")\n",
    "\n",
    "trainLR_Close(train,test,'Target_Close_1min')\n",
    "\n",
    "trainLR_Avg(train,test, 'Target_Avg_1min')"
   ]
  }
 ],
 "metadata": {
  "kernelspec": {
   "display_name": "Python 3 (ipykernel)",
   "language": "python",
   "name": "python3"
  },
  "language_info": {
   "codemirror_mode": {
    "name": "ipython",
    "version": 3
   },
   "file_extension": ".py",
   "mimetype": "text/x-python",
   "name": "python",
   "nbconvert_exporter": "python",
   "pygments_lexer": "ipython3",
   "version": "3.10.9"
  },
  "orig_nbformat": 4
 },
 "nbformat": 4,
 "nbformat_minor": 2
}
