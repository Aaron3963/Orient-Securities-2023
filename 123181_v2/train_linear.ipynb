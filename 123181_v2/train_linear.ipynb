{
 "cells": [
  {
   "cell_type": "code",
   "execution_count": 26,
   "metadata": {},
   "outputs": [],
   "source": [
    "import pandas as pd\n",
    "from sklearn.linear_model import LinearRegression, Ridge\n",
    "from sklearn.metrics import mean_squared_error,r2_score\n",
    "from sklearn.model_selection import train_test_split\n",
    "import matplotlib.pyplot as plt\n",
    "\n",
    "\n",
    "TRAIN_PATH = 'train_with_features.csv'\n",
    "TEST_PATH = 'test_with_features.csv'\n",
    "\n",
    "train = pd.read_csv(TRAIN_PATH)\n",
    "test = pd.read_csv(TEST_PATH)\n"
   ]
  },
  {
   "cell_type": "markdown",
   "metadata": {},
   "source": [
    "Prune raw features"
   ]
  },
  {
   "cell_type": "code",
   "execution_count": 27,
   "metadata": {},
   "outputs": [
    {
     "name": "stdout",
     "output_type": "stream",
     "text": [
      "Index(['Timestamp', 'PreClosePrice', 'Open', 'High', 'Low', 'Volume',\n",
      "       'Turnover', 'Close', 'Hist_Ret_Close_3min', 'Hist_Ret_Close_5min',\n",
      "       'Hist_Ret_Close_10min', 'Hist_Ret_Close_15min', 'Log_Return_Close_1min',\n",
      "       'Avg Price', '4mean Price', 'Target_Close_1min',\n",
      "       'Target_Close_5min_Mean', 'Target_Close_10min_Mean',\n",
      "       'Target_Close_15min_Mean', 'Vol_5min', 'Vol_10min', 'Vol_15min',\n",
      "       'Sharpe_Log_ret_1min/Vol_5min', 'Sharpe_Log_ret_1min/Vol_10min',\n",
      "       'Sharpe_Log_ret_1min/Vol_15min'],\n",
      "      dtype='object')\n"
     ]
    }
   ],
   "source": [
    "print(train.columns)\n",
    "\n",
    "train = train.drop(['PreClosePrice','Open','High','Low','Volume','Turnover','Close'], axis=1)\n",
    "test = test.drop(['PreClosePrice','Open','High','Low','Volume','Turnover','Close'], axis=1)\n"
   ]
  },
  {
   "cell_type": "markdown",
   "metadata": {},
   "source": [
    "Train Model"
   ]
  },
  {
   "cell_type": "code",
   "execution_count": 28,
   "metadata": {},
   "outputs": [],
   "source": [
    "def trainLR(train, test, target):\n",
    "       model = LinearRegression()\n",
    "\n",
    "       model.fit(train[['Hist_Ret_Close_3min', 'Hist_Ret_Close_5min',\n",
    "              'Hist_Ret_Close_10min', 'Hist_Ret_Close_15min', 'Log_Return_Close_1min',\n",
    "              'Avg Price', '4mean Price', 'Vol_5min', 'Vol_10min', 'Vol_15min',\n",
    "              'Sharpe_Log_ret_1min/Vol_5min', 'Sharpe_Log_ret_1min/Vol_10min',\n",
    "              'Sharpe_Log_ret_1min/Vol_15min']], train[target])\n",
    "\n",
    "       # Calculate prediction from model\n",
    "       predictions = model.predict(test[['Hist_Ret_Close_3min', 'Hist_Ret_Close_5min',\n",
    "              'Hist_Ret_Close_10min', 'Hist_Ret_Close_15min', 'Log_Return_Close_1min',\n",
    "              'Avg Price', '4mean Price', 'Vol_5min', 'Vol_10min', 'Vol_15min',\n",
    "              'Sharpe_Log_ret_1min/Vol_5min', 'Sharpe_Log_ret_1min/Vol_10min',\n",
    "              'Sharpe_Log_ret_1min/Vol_15min']])\n",
    "       \n",
    "       # Results\n",
    "       print(model.coef_)\n",
    "       print(\"MSE: %5f\"%mean_squared_error(test[target],predictions))\n",
    "       print(\"R^2: %5f\"%r2_score(test[target],predictions))\n"
   ]
  },
  {
   "cell_type": "code",
   "execution_count": 29,
   "metadata": {},
   "outputs": [
    {
     "name": "stdout",
     "output_type": "stream",
     "text": [
      "[ 3.66905635e-04  6.55258871e-03  9.30900535e-03  4.90576566e-04\n",
      " -4.36179135e-02 -9.00672233e-06  5.72919458e-06  2.65192842e-05\n",
      " -1.80627928e-05  4.69346906e-05 -2.56958995e-02 -2.13742870e-01\n",
      "  3.20046187e-01]\n",
      "MSE: 0.000006\n",
      "R^2: 0.012459\n",
      "\n",
      "\n",
      " ========================================================= \n",
      "\n",
      "\n",
      "[-8.22075513e-03  3.38410682e-02  8.05588682e-03  5.86312779e-03\n",
      " -5.39297040e-02 -2.42275214e-05  1.50378832e-05  9.39481120e-05\n",
      "  7.64512191e-05  4.47393522e-05 -7.88401870e-02 -2.07415113e-01\n",
      "  4.28641736e-01]\n",
      "MSE: 0.000013\n",
      "R^2: -0.033743\n",
      "\n",
      "\n",
      " ========================================================= \n",
      "\n",
      "\n",
      "[ 9.42533528e-03  4.51258537e-02 -1.04777329e-02  2.84115445e-02\n",
      " -5.00715482e-02 -3.99039943e-05  2.48699725e-05  2.48513757e-04\n",
      " -3.13338299e-04  3.59821268e-04 -8.36271914e-02 -3.52292200e-01\n",
      "  6.10692346e-01]\n",
      "MSE: 0.000019\n",
      "R^2: -0.085648\n",
      "\n",
      "\n",
      " ========================================================= \n",
      "\n",
      "\n",
      "[ 3.38511394e-02  3.84979466e-02 -7.39456676e-03  4.82840219e-02\n",
      " -4.26063681e-02 -5.81334574e-05  2.98397542e-05  1.11956873e-04\n",
      " -7.37781222e-04  1.02892193e-03 -1.11544378e-02 -8.20941767e-01\n",
      "  1.06679431e+00]\n",
      "MSE: 0.000036\n",
      "R^2: -0.073043\n",
      "\n",
      "\n",
      " ========================================================= \n",
      "\n",
      "\n"
     ]
    }
   ],
   "source": [
    "for i in ['Target_Close_1min','Target_Close_5min_Mean','Target_Close_10min_Mean','Target_Close_15min_Mean']:\n",
    "    trainLR(train,test,i)\n",
    "    print(\"\\n\\n ========================================================= \\n\\n\")"
   ]
  }
 ],
 "metadata": {
  "kernelspec": {
   "display_name": "Python 3 (ipykernel)",
   "language": "python",
   "name": "python3"
  },
  "language_info": {
   "codemirror_mode": {
    "name": "ipython",
    "version": 3
   },
   "file_extension": ".py",
   "mimetype": "text/x-python",
   "name": "python",
   "nbconvert_exporter": "python",
   "pygments_lexer": "ipython3",
   "version": "3.10.9"
  },
  "orig_nbformat": 4
 },
 "nbformat": 4,
 "nbformat_minor": 2
}
