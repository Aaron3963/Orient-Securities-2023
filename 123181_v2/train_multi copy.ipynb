{
 "cells": [
  {
   "cell_type": "code",
   "execution_count": 8,
   "metadata": {},
   "outputs": [
    {
     "name": "stdout",
     "output_type": "stream",
     "text": [
      "Index(['PreClosePrice', 'Open', 'High', 'Low', 'Volume', 'Turnover', 'Close',\n",
      "       'Hist_Ret_Close_3min', 'Hist_Ret_Close_5min', 'Hist_Ret_Close_10min',\n",
      "       'Hist_Ret_Close_15min', 'Log_Return_Close_1min', 'Avg Price',\n",
      "       '4mean Price', 'Log_Return_Avg_1min', 'Hist_Ret_Avg_3min',\n",
      "       'Hist_Ret_Avg_5min', 'Hist_Ret_Avg_10min', 'Hist_Ret_Avg_15min',\n",
      "       'Target_Close_1min', 'Target_Close_5min_Mean',\n",
      "       'Target_Close_10min_Mean', 'Target_Close_15min_Mean', 'Target_Avg_1min',\n",
      "       'Target_Avg_5min_Mean', 'Target_Avg_10min_Mean',\n",
      "       'Target_Avg_15min_Mean', 'Vol_5min_Close', 'Vol_10min_Close',\n",
      "       'Vol_15min_Close', 'Sharpe_Log_ret_1min/Vol_5min_Close',\n",
      "       'Sharpe_Log_ret_1min/Vol_10min_Close',\n",
      "       'Sharpe_Log_ret_1min/Vol_15min_Close'],\n",
      "      dtype='object')\n"
     ]
    }
   ],
   "source": [
    "import pycaret\n",
    "pycaret.__version__\n",
    "from pycaret.datasets import get_data\n",
    "import pandas as pd\n",
    "\n",
    "from pycaret.regression import *\n",
    "\n",
    "TRAIN_PATH = 'train_with_features_v2.csv'\n",
    "TEST_PATH = 'test_with_features_v2.csv'\n",
    "\n",
    "train = pd.read_csv(TRAIN_PATH,index_col='Timestamp')\n",
    "test = pd.read_csv(TEST_PATH,index_col='Timestamp')\n",
    "\n",
    "print(train.columns)"
   ]
  },
  {
   "cell_type": "code",
   "execution_count": 9,
   "metadata": {},
   "outputs": [],
   "source": [
    "train = train.drop(['PreClosePrice','Open','High','Low','Volume','Turnover','Close',\n",
    "                'Target_Close_1min', 'Target_Close_5min_Mean',\n",
    "       'Target_Close_10min_Mean','Target_Avg_5min_Mean', 'Target_Avg_10min_Mean',\n",
    "       'Target_Avg_15min_Mean' ], axis=1)\n",
    "\n",
    "test = test.drop(['PreClosePrice','Open','High','Low','Volume','Turnover','Close',\n",
    "                'Target_Close_1min', 'Target_Close_5min_Mean',\n",
    "       'Target_Close_10min_Mean','Target_Avg_5min_Mean', 'Target_Avg_10min_Mean',\n",
    "       'Target_Avg_15min_Mean'], axis=1)"
   ]
  },
  {
   "cell_type": "code",
   "execution_count": 10,
   "metadata": {},
   "outputs": [],
   "source": [
    "from pycaret.regression import *\n",
    "\n",
    "# s = setup(data=train, data_split_shuffle = False,preprocess = False,target='Target_Avg_1min', session_id = 123)"
   ]
  },
  {
   "cell_type": "code",
   "execution_count": 11,
   "metadata": {},
   "outputs": [
    {
     "data": {
      "text/plain": [
       "pycaret.regression.oop.RegressionExperiment"
      ]
     },
     "execution_count": 11,
     "metadata": {},
     "output_type": "execute_result"
    }
   ],
   "source": [
    "from pycaret.regression import RegressionExperiment\n",
    "# from pycaret.regression import *\n",
    "exp = RegressionExperiment()\n",
    "type(exp)"
   ]
  },
  {
   "cell_type": "code",
   "execution_count": 12,
   "metadata": {},
   "outputs": [
    {
     "data": {
      "text/html": [
       "<style type=\"text/css\">\n",
       "#T_5e075_row8_col1 {\n",
       "  background-color: lightgreen;\n",
       "}\n",
       "</style>\n",
       "<table id=\"T_5e075\">\n",
       "  <thead>\n",
       "    <tr>\n",
       "      <th class=\"blank level0\" >&nbsp;</th>\n",
       "      <th id=\"T_5e075_level0_col0\" class=\"col_heading level0 col0\" >Description</th>\n",
       "      <th id=\"T_5e075_level0_col1\" class=\"col_heading level0 col1\" >Value</th>\n",
       "    </tr>\n",
       "  </thead>\n",
       "  <tbody>\n",
       "    <tr>\n",
       "      <th id=\"T_5e075_level0_row0\" class=\"row_heading level0 row0\" >0</th>\n",
       "      <td id=\"T_5e075_row0_col0\" class=\"data row0 col0\" >Session id</td>\n",
       "      <td id=\"T_5e075_row0_col1\" class=\"data row0 col1\" >123</td>\n",
       "    </tr>\n",
       "    <tr>\n",
       "      <th id=\"T_5e075_level0_row1\" class=\"row_heading level0 row1\" >1</th>\n",
       "      <td id=\"T_5e075_row1_col0\" class=\"data row1 col0\" >Target</td>\n",
       "      <td id=\"T_5e075_row1_col1\" class=\"data row1 col1\" >Target_Avg_1min</td>\n",
       "    </tr>\n",
       "    <tr>\n",
       "      <th id=\"T_5e075_level0_row2\" class=\"row_heading level0 row2\" >2</th>\n",
       "      <td id=\"T_5e075_row2_col0\" class=\"data row2 col0\" >Target type</td>\n",
       "      <td id=\"T_5e075_row2_col1\" class=\"data row2 col1\" >Regression</td>\n",
       "    </tr>\n",
       "    <tr>\n",
       "      <th id=\"T_5e075_level0_row3\" class=\"row_heading level0 row3\" >3</th>\n",
       "      <td id=\"T_5e075_row3_col0\" class=\"data row3 col0\" >Original data shape</td>\n",
       "      <td id=\"T_5e075_row3_col1\" class=\"data row3 col1\" >(2895, 20)</td>\n",
       "    </tr>\n",
       "    <tr>\n",
       "      <th id=\"T_5e075_level0_row4\" class=\"row_heading level0 row4\" >4</th>\n",
       "      <td id=\"T_5e075_row4_col0\" class=\"data row4 col0\" >Transformed data shape</td>\n",
       "      <td id=\"T_5e075_row4_col1\" class=\"data row4 col1\" >(2895, 20)</td>\n",
       "    </tr>\n",
       "    <tr>\n",
       "      <th id=\"T_5e075_level0_row5\" class=\"row_heading level0 row5\" >5</th>\n",
       "      <td id=\"T_5e075_row5_col0\" class=\"data row5 col0\" >Transformed train set shape</td>\n",
       "      <td id=\"T_5e075_row5_col1\" class=\"data row5 col1\" >(2026, 20)</td>\n",
       "    </tr>\n",
       "    <tr>\n",
       "      <th id=\"T_5e075_level0_row6\" class=\"row_heading level0 row6\" >6</th>\n",
       "      <td id=\"T_5e075_row6_col0\" class=\"data row6 col0\" >Transformed test set shape</td>\n",
       "      <td id=\"T_5e075_row6_col1\" class=\"data row6 col1\" >(869, 20)</td>\n",
       "    </tr>\n",
       "    <tr>\n",
       "      <th id=\"T_5e075_level0_row7\" class=\"row_heading level0 row7\" >7</th>\n",
       "      <td id=\"T_5e075_row7_col0\" class=\"data row7 col0\" >Numeric features</td>\n",
       "      <td id=\"T_5e075_row7_col1\" class=\"data row7 col1\" >19</td>\n",
       "    </tr>\n",
       "    <tr>\n",
       "      <th id=\"T_5e075_level0_row8\" class=\"row_heading level0 row8\" >8</th>\n",
       "      <td id=\"T_5e075_row8_col0\" class=\"data row8 col0\" >Preprocess</td>\n",
       "      <td id=\"T_5e075_row8_col1\" class=\"data row8 col1\" >True</td>\n",
       "    </tr>\n",
       "    <tr>\n",
       "      <th id=\"T_5e075_level0_row9\" class=\"row_heading level0 row9\" >9</th>\n",
       "      <td id=\"T_5e075_row9_col0\" class=\"data row9 col0\" >Imputation type</td>\n",
       "      <td id=\"T_5e075_row9_col1\" class=\"data row9 col1\" >simple</td>\n",
       "    </tr>\n",
       "    <tr>\n",
       "      <th id=\"T_5e075_level0_row10\" class=\"row_heading level0 row10\" >10</th>\n",
       "      <td id=\"T_5e075_row10_col0\" class=\"data row10 col0\" >Numeric imputation</td>\n",
       "      <td id=\"T_5e075_row10_col1\" class=\"data row10 col1\" >mean</td>\n",
       "    </tr>\n",
       "    <tr>\n",
       "      <th id=\"T_5e075_level0_row11\" class=\"row_heading level0 row11\" >11</th>\n",
       "      <td id=\"T_5e075_row11_col0\" class=\"data row11 col0\" >Categorical imputation</td>\n",
       "      <td id=\"T_5e075_row11_col1\" class=\"data row11 col1\" >mode</td>\n",
       "    </tr>\n",
       "    <tr>\n",
       "      <th id=\"T_5e075_level0_row12\" class=\"row_heading level0 row12\" >12</th>\n",
       "      <td id=\"T_5e075_row12_col0\" class=\"data row12 col0\" >Fold Generator</td>\n",
       "      <td id=\"T_5e075_row12_col1\" class=\"data row12 col1\" >KFold</td>\n",
       "    </tr>\n",
       "    <tr>\n",
       "      <th id=\"T_5e075_level0_row13\" class=\"row_heading level0 row13\" >13</th>\n",
       "      <td id=\"T_5e075_row13_col0\" class=\"data row13 col0\" >Fold Number</td>\n",
       "      <td id=\"T_5e075_row13_col1\" class=\"data row13 col1\" >10</td>\n",
       "    </tr>\n",
       "    <tr>\n",
       "      <th id=\"T_5e075_level0_row14\" class=\"row_heading level0 row14\" >14</th>\n",
       "      <td id=\"T_5e075_row14_col0\" class=\"data row14 col0\" >CPU Jobs</td>\n",
       "      <td id=\"T_5e075_row14_col1\" class=\"data row14 col1\" >-1</td>\n",
       "    </tr>\n",
       "    <tr>\n",
       "      <th id=\"T_5e075_level0_row15\" class=\"row_heading level0 row15\" >15</th>\n",
       "      <td id=\"T_5e075_row15_col0\" class=\"data row15 col0\" >Use GPU</td>\n",
       "      <td id=\"T_5e075_row15_col1\" class=\"data row15 col1\" >False</td>\n",
       "    </tr>\n",
       "    <tr>\n",
       "      <th id=\"T_5e075_level0_row16\" class=\"row_heading level0 row16\" >16</th>\n",
       "      <td id=\"T_5e075_row16_col0\" class=\"data row16 col0\" >Log Experiment</td>\n",
       "      <td id=\"T_5e075_row16_col1\" class=\"data row16 col1\" >False</td>\n",
       "    </tr>\n",
       "    <tr>\n",
       "      <th id=\"T_5e075_level0_row17\" class=\"row_heading level0 row17\" >17</th>\n",
       "      <td id=\"T_5e075_row17_col0\" class=\"data row17 col0\" >Experiment Name</td>\n",
       "      <td id=\"T_5e075_row17_col1\" class=\"data row17 col1\" >reg-default-name</td>\n",
       "    </tr>\n",
       "    <tr>\n",
       "      <th id=\"T_5e075_level0_row18\" class=\"row_heading level0 row18\" >18</th>\n",
       "      <td id=\"T_5e075_row18_col0\" class=\"data row18 col0\" >USI</td>\n",
       "      <td id=\"T_5e075_row18_col1\" class=\"data row18 col1\" >0fbe</td>\n",
       "    </tr>\n",
       "  </tbody>\n",
       "</table>\n"
      ],
      "text/plain": [
       "<pandas.io.formats.style.Styler at 0x1cc751ae800>"
      ]
     },
     "metadata": {},
     "output_type": "display_data"
    },
    {
     "data": {
      "text/plain": [
       "<pycaret.regression.oop.RegressionExperiment at 0x1cc74f796f0>"
      ]
     },
     "execution_count": 12,
     "metadata": {},
     "output_type": "execute_result"
    }
   ],
   "source": [
    "# exp.setup(data=train, data_split_shuffle = False,preprocess = False,target='Target_Close_1min', session_id = 123)\n",
    "\n",
    "setup(data=train,target='Target_Avg_1min', session_id = 123)"
   ]
  },
  {
   "cell_type": "code",
   "execution_count": 13,
   "metadata": {},
   "outputs": [
    {
     "data": {
      "text/html": [],
      "text/plain": [
       "<IPython.core.display.HTML object>"
      ]
     },
     "metadata": {},
     "output_type": "display_data"
    },
    {
     "data": {
      "text/html": [
       "<style type=\"text/css\">\n",
       "#T_bc75e th {\n",
       "  text-align: left;\n",
       "}\n",
       "#T_bc75e_row0_col0, #T_bc75e_row0_col6, #T_bc75e_row1_col0, #T_bc75e_row1_col4, #T_bc75e_row1_col6, #T_bc75e_row2_col0, #T_bc75e_row2_col1, #T_bc75e_row2_col3, #T_bc75e_row2_col4, #T_bc75e_row2_col6, #T_bc75e_row3_col0, #T_bc75e_row3_col1, #T_bc75e_row3_col3, #T_bc75e_row3_col4, #T_bc75e_row3_col5, #T_bc75e_row3_col6, #T_bc75e_row4_col0, #T_bc75e_row4_col1, #T_bc75e_row4_col3, #T_bc75e_row4_col4, #T_bc75e_row4_col5, #T_bc75e_row4_col6, #T_bc75e_row5_col0, #T_bc75e_row5_col1, #T_bc75e_row5_col3, #T_bc75e_row5_col4, #T_bc75e_row5_col5, #T_bc75e_row5_col6, #T_bc75e_row6_col0, #T_bc75e_row6_col1, #T_bc75e_row6_col3, #T_bc75e_row6_col4, #T_bc75e_row6_col5, #T_bc75e_row6_col6, #T_bc75e_row7_col0, #T_bc75e_row7_col1, #T_bc75e_row7_col3, #T_bc75e_row7_col4, #T_bc75e_row7_col5, #T_bc75e_row7_col6, #T_bc75e_row8_col0, #T_bc75e_row8_col1, #T_bc75e_row8_col3, #T_bc75e_row8_col4, #T_bc75e_row8_col5, #T_bc75e_row8_col6, #T_bc75e_row9_col0, #T_bc75e_row9_col1, #T_bc75e_row9_col3, #T_bc75e_row9_col4, #T_bc75e_row9_col5, #T_bc75e_row9_col6, #T_bc75e_row10_col0, #T_bc75e_row10_col1, #T_bc75e_row10_col3, #T_bc75e_row10_col4, #T_bc75e_row10_col5, #T_bc75e_row11_col0, #T_bc75e_row11_col1, #T_bc75e_row11_col3, #T_bc75e_row11_col4, #T_bc75e_row11_col5, #T_bc75e_row11_col6, #T_bc75e_row12_col0, #T_bc75e_row12_col1, #T_bc75e_row12_col3, #T_bc75e_row12_col4, #T_bc75e_row12_col5, #T_bc75e_row12_col6, #T_bc75e_row13_col0, #T_bc75e_row13_col1, #T_bc75e_row13_col3, #T_bc75e_row13_col4, #T_bc75e_row13_col5, #T_bc75e_row13_col6, #T_bc75e_row14_col0, #T_bc75e_row14_col1, #T_bc75e_row14_col3, #T_bc75e_row14_col4, #T_bc75e_row14_col5, #T_bc75e_row14_col6, #T_bc75e_row15_col0, #T_bc75e_row15_col1, #T_bc75e_row15_col3, #T_bc75e_row15_col4, #T_bc75e_row15_col5, #T_bc75e_row15_col6, #T_bc75e_row16_col0, #T_bc75e_row16_col1, #T_bc75e_row16_col3, #T_bc75e_row16_col4, #T_bc75e_row16_col5, #T_bc75e_row16_col6, #T_bc75e_row17_col0, #T_bc75e_row17_col1, #T_bc75e_row17_col3, #T_bc75e_row17_col4, #T_bc75e_row17_col5, #T_bc75e_row17_col6 {\n",
       "  text-align: left;\n",
       "}\n",
       "#T_bc75e_row0_col1, #T_bc75e_row0_col2, #T_bc75e_row0_col3, #T_bc75e_row0_col4, #T_bc75e_row0_col5, #T_bc75e_row1_col1, #T_bc75e_row1_col2, #T_bc75e_row1_col3, #T_bc75e_row1_col5, #T_bc75e_row2_col2, #T_bc75e_row2_col5, #T_bc75e_row3_col2, #T_bc75e_row4_col2, #T_bc75e_row5_col2, #T_bc75e_row6_col2, #T_bc75e_row7_col2, #T_bc75e_row8_col2, #T_bc75e_row9_col2, #T_bc75e_row10_col2, #T_bc75e_row10_col6, #T_bc75e_row11_col2, #T_bc75e_row12_col2, #T_bc75e_row13_col2, #T_bc75e_row14_col2, #T_bc75e_row15_col2, #T_bc75e_row16_col2, #T_bc75e_row17_col2 {\n",
       "  text-align: left;\n",
       "  background-color: yellow;\n",
       "}\n",
       "#T_bc75e_row0_col7, #T_bc75e_row1_col7, #T_bc75e_row2_col7, #T_bc75e_row3_col7, #T_bc75e_row4_col7, #T_bc75e_row5_col7, #T_bc75e_row6_col7, #T_bc75e_row7_col7, #T_bc75e_row9_col7, #T_bc75e_row10_col7, #T_bc75e_row11_col7, #T_bc75e_row12_col7, #T_bc75e_row13_col7, #T_bc75e_row14_col7, #T_bc75e_row15_col7, #T_bc75e_row16_col7, #T_bc75e_row17_col7 {\n",
       "  text-align: left;\n",
       "  background-color: lightgrey;\n",
       "}\n",
       "#T_bc75e_row8_col7 {\n",
       "  text-align: left;\n",
       "  background-color: yellow;\n",
       "  background-color: lightgrey;\n",
       "}\n",
       "</style>\n",
       "<table id=\"T_bc75e\">\n",
       "  <thead>\n",
       "    <tr>\n",
       "      <th class=\"blank level0\" >&nbsp;</th>\n",
       "      <th id=\"T_bc75e_level0_col0\" class=\"col_heading level0 col0\" >Model</th>\n",
       "      <th id=\"T_bc75e_level0_col1\" class=\"col_heading level0 col1\" >MAE</th>\n",
       "      <th id=\"T_bc75e_level0_col2\" class=\"col_heading level0 col2\" >MSE</th>\n",
       "      <th id=\"T_bc75e_level0_col3\" class=\"col_heading level0 col3\" >RMSE</th>\n",
       "      <th id=\"T_bc75e_level0_col4\" class=\"col_heading level0 col4\" >R2</th>\n",
       "      <th id=\"T_bc75e_level0_col5\" class=\"col_heading level0 col5\" >RMSLE</th>\n",
       "      <th id=\"T_bc75e_level0_col6\" class=\"col_heading level0 col6\" >MAPE</th>\n",
       "      <th id=\"T_bc75e_level0_col7\" class=\"col_heading level0 col7\" >TT (Sec)</th>\n",
       "    </tr>\n",
       "  </thead>\n",
       "  <tbody>\n",
       "    <tr>\n",
       "      <th id=\"T_bc75e_level0_row0\" class=\"row_heading level0 row0\" >br</th>\n",
       "      <td id=\"T_bc75e_row0_col0\" class=\"data row0 col0\" >Bayesian Ridge</td>\n",
       "      <td id=\"T_bc75e_row0_col1\" class=\"data row0 col1\" >0.0018</td>\n",
       "      <td id=\"T_bc75e_row0_col2\" class=\"data row0 col2\" >0.0000</td>\n",
       "      <td id=\"T_bc75e_row0_col3\" class=\"data row0 col3\" >0.0026</td>\n",
       "      <td id=\"T_bc75e_row0_col4\" class=\"data row0 col4\" >0.4050</td>\n",
       "      <td id=\"T_bc75e_row0_col5\" class=\"data row0 col5\" >0.0023</td>\n",
       "      <td id=\"T_bc75e_row0_col6\" class=\"data row0 col6\" >4.8295</td>\n",
       "      <td id=\"T_bc75e_row0_col7\" class=\"data row0 col7\" >0.2420</td>\n",
       "    </tr>\n",
       "    <tr>\n",
       "      <th id=\"T_bc75e_level0_row1\" class=\"row_heading level0 row1\" >lr</th>\n",
       "      <td id=\"T_bc75e_row1_col0\" class=\"data row1 col0\" >Linear Regression</td>\n",
       "      <td id=\"T_bc75e_row1_col1\" class=\"data row1 col1\" >0.0018</td>\n",
       "      <td id=\"T_bc75e_row1_col2\" class=\"data row1 col2\" >0.0000</td>\n",
       "      <td id=\"T_bc75e_row1_col3\" class=\"data row1 col3\" >0.0026</td>\n",
       "      <td id=\"T_bc75e_row1_col4\" class=\"data row1 col4\" >0.4041</td>\n",
       "      <td id=\"T_bc75e_row1_col5\" class=\"data row1 col5\" >0.0023</td>\n",
       "      <td id=\"T_bc75e_row1_col6\" class=\"data row1 col6\" >4.8358</td>\n",
       "      <td id=\"T_bc75e_row1_col7\" class=\"data row1 col7\" >0.9540</td>\n",
       "    </tr>\n",
       "    <tr>\n",
       "      <th id=\"T_bc75e_level0_row2\" class=\"row_heading level0 row2\" >lar</th>\n",
       "      <td id=\"T_bc75e_row2_col0\" class=\"data row2 col0\" >Least Angle Regression</td>\n",
       "      <td id=\"T_bc75e_row2_col1\" class=\"data row2 col1\" >0.0019</td>\n",
       "      <td id=\"T_bc75e_row2_col2\" class=\"data row2 col2\" >0.0000</td>\n",
       "      <td id=\"T_bc75e_row2_col3\" class=\"data row2 col3\" >0.0027</td>\n",
       "      <td id=\"T_bc75e_row2_col4\" class=\"data row2 col4\" >0.3634</td>\n",
       "      <td id=\"T_bc75e_row2_col5\" class=\"data row2 col5\" >0.0023</td>\n",
       "      <td id=\"T_bc75e_row2_col6\" class=\"data row2 col6\" >5.0582</td>\n",
       "      <td id=\"T_bc75e_row2_col7\" class=\"data row2 col7\" >0.2440</td>\n",
       "    </tr>\n",
       "    <tr>\n",
       "      <th id=\"T_bc75e_level0_row3\" class=\"row_heading level0 row3\" >gbr</th>\n",
       "      <td id=\"T_bc75e_row3_col0\" class=\"data row3 col0\" >Gradient Boosting Regressor</td>\n",
       "      <td id=\"T_bc75e_row3_col1\" class=\"data row3 col1\" >0.0020</td>\n",
       "      <td id=\"T_bc75e_row3_col2\" class=\"data row3 col2\" >0.0000</td>\n",
       "      <td id=\"T_bc75e_row3_col3\" class=\"data row3 col3\" >0.0029</td>\n",
       "      <td id=\"T_bc75e_row3_col4\" class=\"data row3 col4\" >0.2743</td>\n",
       "      <td id=\"T_bc75e_row3_col5\" class=\"data row3 col5\" >0.0025</td>\n",
       "      <td id=\"T_bc75e_row3_col6\" class=\"data row3 col6\" >4.0807</td>\n",
       "      <td id=\"T_bc75e_row3_col7\" class=\"data row3 col7\" >0.4790</td>\n",
       "    </tr>\n",
       "    <tr>\n",
       "      <th id=\"T_bc75e_level0_row4\" class=\"row_heading level0 row4\" >rf</th>\n",
       "      <td id=\"T_bc75e_row4_col0\" class=\"data row4 col0\" >Random Forest Regressor</td>\n",
       "      <td id=\"T_bc75e_row4_col1\" class=\"data row4 col1\" >0.0020</td>\n",
       "      <td id=\"T_bc75e_row4_col2\" class=\"data row4 col2\" >0.0000</td>\n",
       "      <td id=\"T_bc75e_row4_col3\" class=\"data row4 col3\" >0.0029</td>\n",
       "      <td id=\"T_bc75e_row4_col4\" class=\"data row4 col4\" >0.2733</td>\n",
       "      <td id=\"T_bc75e_row4_col5\" class=\"data row4 col5\" >0.0025</td>\n",
       "      <td id=\"T_bc75e_row4_col6\" class=\"data row4 col6\" >2.7954</td>\n",
       "      <td id=\"T_bc75e_row4_col7\" class=\"data row4 col7\" >0.7290</td>\n",
       "    </tr>\n",
       "    <tr>\n",
       "      <th id=\"T_bc75e_level0_row5\" class=\"row_heading level0 row5\" >lightgbm</th>\n",
       "      <td id=\"T_bc75e_row5_col0\" class=\"data row5 col0\" >Light Gradient Boosting Machine</td>\n",
       "      <td id=\"T_bc75e_row5_col1\" class=\"data row5 col1\" >0.0020</td>\n",
       "      <td id=\"T_bc75e_row5_col2\" class=\"data row5 col2\" >0.0000</td>\n",
       "      <td id=\"T_bc75e_row5_col3\" class=\"data row5 col3\" >0.0029</td>\n",
       "      <td id=\"T_bc75e_row5_col4\" class=\"data row5 col4\" >0.2700</td>\n",
       "      <td id=\"T_bc75e_row5_col5\" class=\"data row5 col5\" >0.0024</td>\n",
       "      <td id=\"T_bc75e_row5_col6\" class=\"data row5 col6\" >3.6099</td>\n",
       "      <td id=\"T_bc75e_row5_col7\" class=\"data row5 col7\" >0.4600</td>\n",
       "    </tr>\n",
       "    <tr>\n",
       "      <th id=\"T_bc75e_level0_row6\" class=\"row_heading level0 row6\" >et</th>\n",
       "      <td id=\"T_bc75e_row6_col0\" class=\"data row6 col0\" >Extra Trees Regressor</td>\n",
       "      <td id=\"T_bc75e_row6_col1\" class=\"data row6 col1\" >0.0021</td>\n",
       "      <td id=\"T_bc75e_row6_col2\" class=\"data row6 col2\" >0.0000</td>\n",
       "      <td id=\"T_bc75e_row6_col3\" class=\"data row6 col3\" >0.0030</td>\n",
       "      <td id=\"T_bc75e_row6_col4\" class=\"data row6 col4\" >0.2496</td>\n",
       "      <td id=\"T_bc75e_row6_col5\" class=\"data row6 col5\" >0.0025</td>\n",
       "      <td id=\"T_bc75e_row6_col6\" class=\"data row6 col6\" >2.6331</td>\n",
       "      <td id=\"T_bc75e_row6_col7\" class=\"data row6 col7\" >0.3770</td>\n",
       "    </tr>\n",
       "    <tr>\n",
       "      <th id=\"T_bc75e_level0_row7\" class=\"row_heading level0 row7\" >ada</th>\n",
       "      <td id=\"T_bc75e_row7_col0\" class=\"data row7 col0\" >AdaBoost Regressor</td>\n",
       "      <td id=\"T_bc75e_row7_col1\" class=\"data row7 col1\" >0.0022</td>\n",
       "      <td id=\"T_bc75e_row7_col2\" class=\"data row7 col2\" >0.0000</td>\n",
       "      <td id=\"T_bc75e_row7_col3\" class=\"data row7 col3\" >0.0030</td>\n",
       "      <td id=\"T_bc75e_row7_col4\" class=\"data row7 col4\" >0.2359</td>\n",
       "      <td id=\"T_bc75e_row7_col5\" class=\"data row7 col5\" >0.0025</td>\n",
       "      <td id=\"T_bc75e_row7_col6\" class=\"data row7 col6\" >4.7662</td>\n",
       "      <td id=\"T_bc75e_row7_col7\" class=\"data row7 col7\" >0.3260</td>\n",
       "    </tr>\n",
       "    <tr>\n",
       "      <th id=\"T_bc75e_level0_row8\" class=\"row_heading level0 row8\" >ridge</th>\n",
       "      <td id=\"T_bc75e_row8_col0\" class=\"data row8 col0\" >Ridge Regression</td>\n",
       "      <td id=\"T_bc75e_row8_col1\" class=\"data row8 col1\" >0.0022</td>\n",
       "      <td id=\"T_bc75e_row8_col2\" class=\"data row8 col2\" >0.0000</td>\n",
       "      <td id=\"T_bc75e_row8_col3\" class=\"data row8 col3\" >0.0032</td>\n",
       "      <td id=\"T_bc75e_row8_col4\" class=\"data row8 col4\" >0.1307</td>\n",
       "      <td id=\"T_bc75e_row8_col5\" class=\"data row8 col5\" >0.0029</td>\n",
       "      <td id=\"T_bc75e_row8_col6\" class=\"data row8 col6\" >2.2920</td>\n",
       "      <td id=\"T_bc75e_row8_col7\" class=\"data row8 col7\" >0.2390</td>\n",
       "    </tr>\n",
       "    <tr>\n",
       "      <th id=\"T_bc75e_level0_row9\" class=\"row_heading level0 row9\" >huber</th>\n",
       "      <td id=\"T_bc75e_row9_col0\" class=\"data row9 col0\" >Huber Regressor</td>\n",
       "      <td id=\"T_bc75e_row9_col1\" class=\"data row9 col1\" >0.0023</td>\n",
       "      <td id=\"T_bc75e_row9_col2\" class=\"data row9 col2\" >0.0000</td>\n",
       "      <td id=\"T_bc75e_row9_col3\" class=\"data row9 col3\" >0.0034</td>\n",
       "      <td id=\"T_bc75e_row9_col4\" class=\"data row9 col4\" >0.0187</td>\n",
       "      <td id=\"T_bc75e_row9_col5\" class=\"data row9 col5\" >0.0031</td>\n",
       "      <td id=\"T_bc75e_row9_col6\" class=\"data row9 col6\" >1.5395</td>\n",
       "      <td id=\"T_bc75e_row9_col7\" class=\"data row9 col7\" >0.2540</td>\n",
       "    </tr>\n",
       "    <tr>\n",
       "      <th id=\"T_bc75e_level0_row10\" class=\"row_heading level0 row10\" >par</th>\n",
       "      <td id=\"T_bc75e_row10_col0\" class=\"data row10 col0\" >Passive Aggressive Regressor</td>\n",
       "      <td id=\"T_bc75e_row10_col1\" class=\"data row10 col1\" >0.0024</td>\n",
       "      <td id=\"T_bc75e_row10_col2\" class=\"data row10 col2\" >0.0000</td>\n",
       "      <td id=\"T_bc75e_row10_col3\" class=\"data row10 col3\" >0.0034</td>\n",
       "      <td id=\"T_bc75e_row10_col4\" class=\"data row10 col4\" >-0.0090</td>\n",
       "      <td id=\"T_bc75e_row10_col5\" class=\"data row10 col5\" >0.0034</td>\n",
       "      <td id=\"T_bc75e_row10_col6\" class=\"data row10 col6\" >1.0000</td>\n",
       "      <td id=\"T_bc75e_row10_col7\" class=\"data row10 col7\" >0.2420</td>\n",
       "    </tr>\n",
       "    <tr>\n",
       "      <th id=\"T_bc75e_level0_row11\" class=\"row_heading level0 row11\" >lasso</th>\n",
       "      <td id=\"T_bc75e_row11_col0\" class=\"data row11 col0\" >Lasso Regression</td>\n",
       "      <td id=\"T_bc75e_row11_col1\" class=\"data row11 col1\" >0.0024</td>\n",
       "      <td id=\"T_bc75e_row11_col2\" class=\"data row11 col2\" >0.0000</td>\n",
       "      <td id=\"T_bc75e_row11_col3\" class=\"data row11 col3\" >0.0034</td>\n",
       "      <td id=\"T_bc75e_row11_col4\" class=\"data row11 col4\" >-0.0094</td>\n",
       "      <td id=\"T_bc75e_row11_col5\" class=\"data row11 col5\" >0.0033</td>\n",
       "      <td id=\"T_bc75e_row11_col6\" class=\"data row11 col6\" >1.2022</td>\n",
       "      <td id=\"T_bc75e_row11_col7\" class=\"data row11 col7\" >0.6550</td>\n",
       "    </tr>\n",
       "    <tr>\n",
       "      <th id=\"T_bc75e_level0_row12\" class=\"row_heading level0 row12\" >en</th>\n",
       "      <td id=\"T_bc75e_row12_col0\" class=\"data row12 col0\" >Elastic Net</td>\n",
       "      <td id=\"T_bc75e_row12_col1\" class=\"data row12 col1\" >0.0024</td>\n",
       "      <td id=\"T_bc75e_row12_col2\" class=\"data row12 col2\" >0.0000</td>\n",
       "      <td id=\"T_bc75e_row12_col3\" class=\"data row12 col3\" >0.0034</td>\n",
       "      <td id=\"T_bc75e_row12_col4\" class=\"data row12 col4\" >-0.0094</td>\n",
       "      <td id=\"T_bc75e_row12_col5\" class=\"data row12 col5\" >0.0033</td>\n",
       "      <td id=\"T_bc75e_row12_col6\" class=\"data row12 col6\" >1.2022</td>\n",
       "      <td id=\"T_bc75e_row12_col7\" class=\"data row12 col7\" >0.2400</td>\n",
       "    </tr>\n",
       "    <tr>\n",
       "      <th id=\"T_bc75e_level0_row13\" class=\"row_heading level0 row13\" >llar</th>\n",
       "      <td id=\"T_bc75e_row13_col0\" class=\"data row13 col0\" >Lasso Least Angle Regression</td>\n",
       "      <td id=\"T_bc75e_row13_col1\" class=\"data row13 col1\" >0.0024</td>\n",
       "      <td id=\"T_bc75e_row13_col2\" class=\"data row13 col2\" >0.0000</td>\n",
       "      <td id=\"T_bc75e_row13_col3\" class=\"data row13 col3\" >0.0034</td>\n",
       "      <td id=\"T_bc75e_row13_col4\" class=\"data row13 col4\" >-0.0094</td>\n",
       "      <td id=\"T_bc75e_row13_col5\" class=\"data row13 col5\" >0.0033</td>\n",
       "      <td id=\"T_bc75e_row13_col6\" class=\"data row13 col6\" >1.2022</td>\n",
       "      <td id=\"T_bc75e_row13_col7\" class=\"data row13 col7\" >0.2480</td>\n",
       "    </tr>\n",
       "    <tr>\n",
       "      <th id=\"T_bc75e_level0_row14\" class=\"row_heading level0 row14\" >dummy</th>\n",
       "      <td id=\"T_bc75e_row14_col0\" class=\"data row14 col0\" >Dummy Regressor</td>\n",
       "      <td id=\"T_bc75e_row14_col1\" class=\"data row14 col1\" >0.0024</td>\n",
       "      <td id=\"T_bc75e_row14_col2\" class=\"data row14 col2\" >0.0000</td>\n",
       "      <td id=\"T_bc75e_row14_col3\" class=\"data row14 col3\" >0.0034</td>\n",
       "      <td id=\"T_bc75e_row14_col4\" class=\"data row14 col4\" >-0.0094</td>\n",
       "      <td id=\"T_bc75e_row14_col5\" class=\"data row14 col5\" >0.0033</td>\n",
       "      <td id=\"T_bc75e_row14_col6\" class=\"data row14 col6\" >1.2022</td>\n",
       "      <td id=\"T_bc75e_row14_col7\" class=\"data row14 col7\" >0.2820</td>\n",
       "    </tr>\n",
       "    <tr>\n",
       "      <th id=\"T_bc75e_level0_row15\" class=\"row_heading level0 row15\" >omp</th>\n",
       "      <td id=\"T_bc75e_row15_col0\" class=\"data row15 col0\" >Orthogonal Matching Pursuit</td>\n",
       "      <td id=\"T_bc75e_row15_col1\" class=\"data row15 col1\" >0.0024</td>\n",
       "      <td id=\"T_bc75e_row15_col2\" class=\"data row15 col2\" >0.0000</td>\n",
       "      <td id=\"T_bc75e_row15_col3\" class=\"data row15 col3\" >0.0035</td>\n",
       "      <td id=\"T_bc75e_row15_col4\" class=\"data row15 col4\" >-0.0100</td>\n",
       "      <td id=\"T_bc75e_row15_col5\" class=\"data row15 col5\" >0.0034</td>\n",
       "      <td id=\"T_bc75e_row15_col6\" class=\"data row15 col6\" >1.3416</td>\n",
       "      <td id=\"T_bc75e_row15_col7\" class=\"data row15 col7\" >0.2430</td>\n",
       "    </tr>\n",
       "    <tr>\n",
       "      <th id=\"T_bc75e_level0_row16\" class=\"row_heading level0 row16\" >knn</th>\n",
       "      <td id=\"T_bc75e_row16_col0\" class=\"data row16 col0\" >K Neighbors Regressor</td>\n",
       "      <td id=\"T_bc75e_row16_col1\" class=\"data row16 col1\" >0.0026</td>\n",
       "      <td id=\"T_bc75e_row16_col2\" class=\"data row16 col2\" >0.0000</td>\n",
       "      <td id=\"T_bc75e_row16_col3\" class=\"data row16 col3\" >0.0037</td>\n",
       "      <td id=\"T_bc75e_row16_col4\" class=\"data row16 col4\" >-0.1799</td>\n",
       "      <td id=\"T_bc75e_row16_col5\" class=\"data row16 col5\" >0.0028</td>\n",
       "      <td id=\"T_bc75e_row16_col6\" class=\"data row16 col6\" >2.4796</td>\n",
       "      <td id=\"T_bc75e_row16_col7\" class=\"data row16 col7\" >0.2680</td>\n",
       "    </tr>\n",
       "    <tr>\n",
       "      <th id=\"T_bc75e_level0_row17\" class=\"row_heading level0 row17\" >dt</th>\n",
       "      <td id=\"T_bc75e_row17_col0\" class=\"data row17 col0\" >Decision Tree Regressor</td>\n",
       "      <td id=\"T_bc75e_row17_col1\" class=\"data row17 col1\" >0.0029</td>\n",
       "      <td id=\"T_bc75e_row17_col2\" class=\"data row17 col2\" >0.0000</td>\n",
       "      <td id=\"T_bc75e_row17_col3\" class=\"data row17 col3\" >0.0040</td>\n",
       "      <td id=\"T_bc75e_row17_col4\" class=\"data row17 col4\" >-0.4040</td>\n",
       "      <td id=\"T_bc75e_row17_col5\" class=\"data row17 col5\" >0.0031</td>\n",
       "      <td id=\"T_bc75e_row17_col6\" class=\"data row17 col6\" >4.1947</td>\n",
       "      <td id=\"T_bc75e_row17_col7\" class=\"data row17 col7\" >0.2480</td>\n",
       "    </tr>\n",
       "  </tbody>\n",
       "</table>\n"
      ],
      "text/plain": [
       "<pandas.io.formats.style.Styler at 0x1cc71832440>"
      ]
     },
     "metadata": {},
     "output_type": "display_data"
    },
    {
     "data": {
      "application/vnd.jupyter.widget-view+json": {
       "model_id": "51748ce2c2014b3584bb885f13adb835",
       "version_major": 2,
       "version_minor": 0
      },
      "text/plain": [
       "Processing:   0%|          | 0/77 [00:00<?, ?it/s]"
      ]
     },
     "metadata": {},
     "output_type": "display_data"
    }
   ],
   "source": [
    "best = compare_models()"
   ]
  },
  {
   "cell_type": "code",
   "execution_count": 14,
   "metadata": {},
   "outputs": [
    {
     "data": {
      "application/vnd.jupyter.widget-view+json": {
       "model_id": "4b1babf8a62a45c4ba2a78eb3080a390",
       "version_major": 2,
       "version_minor": 0
      },
      "text/plain": [
       "interactive(children=(ToggleButtons(description='Plot Type:', icons=('',), options=(('Pipeline Plot', 'pipelin…"
      ]
     },
     "metadata": {},
     "output_type": "display_data"
    },
    {
     "name": "stdout",
     "output_type": "stream",
     "text": [
      "BayesianRidge()\n"
     ]
    }
   ],
   "source": [
    "evaluate_model(best)\n",
    "print(best)"
   ]
  },
  {
   "cell_type": "code",
   "execution_count": null,
   "metadata": {},
   "outputs": [
    {
     "data": {
      "application/vnd.jupyter.widget-view+json": {
       "model_id": "45f1c8d7e58c443a9f88b2f5c7f06c94",
       "version_major": 2,
       "version_minor": 0
      },
      "text/plain": [
       "interactive(children=(ToggleButtons(description='Plot Type:', icons=('',), options=(('Pipeline Plot', 'pipelin…"
      ]
     },
     "metadata": {},
     "output_type": "display_data"
    },
    {
     "name": "stdout",
     "output_type": "stream",
     "text": [
      "PassiveAggressiveRegressor(random_state=123)\n"
     ]
    }
   ],
   "source": [
    "evaluate_model(best)\n",
    "print(best)"
   ]
  },
  {
   "cell_type": "code",
   "execution_count": 54,
   "metadata": {},
   "outputs": [],
   "source": [
    "# tuned = tune_model(best)"
   ]
  },
  {
   "cell_type": "code",
   "execution_count": 58,
   "metadata": {},
   "outputs": [
    {
     "ename": "KeyError",
     "evalue": "\"['Target_Close_1min'] not found in axis\"",
     "output_type": "error",
     "traceback": [
      "\u001b[1;31m---------------------------------------------------------------------------\u001b[0m",
      "\u001b[1;31mKeyError\u001b[0m                                  Traceback (most recent call last)",
      "Cell \u001b[1;32mIn[58], line 1\u001b[0m\n\u001b[1;32m----> 1\u001b[0m test \u001b[39m=\u001b[39m test\u001b[39m.\u001b[39;49mdrop([\u001b[39m'\u001b[39;49m\u001b[39mTarget_Close_1min\u001b[39;49m\u001b[39m'\u001b[39;49m], axis\u001b[39m=\u001b[39;49m\u001b[39m1\u001b[39;49m)\n\u001b[0;32m      2\u001b[0m \u001b[39m# predictions = predict_model(best, data = test)\u001b[39;00m\n\u001b[0;32m      3\u001b[0m predictions \u001b[39m=\u001b[39m predict_model(best, data \u001b[39m=\u001b[39m train)\n",
      "File \u001b[1;32m~\\anaconda3\\lib\\site-packages\\pandas\\util\\_decorators.py:331\u001b[0m, in \u001b[0;36mdeprecate_nonkeyword_arguments.<locals>.decorate.<locals>.wrapper\u001b[1;34m(*args, **kwargs)\u001b[0m\n\u001b[0;32m    325\u001b[0m \u001b[39mif\u001b[39;00m \u001b[39mlen\u001b[39m(args) \u001b[39m>\u001b[39m num_allow_args:\n\u001b[0;32m    326\u001b[0m     warnings\u001b[39m.\u001b[39mwarn(\n\u001b[0;32m    327\u001b[0m         msg\u001b[39m.\u001b[39mformat(arguments\u001b[39m=\u001b[39m_format_argument_list(allow_args)),\n\u001b[0;32m    328\u001b[0m         \u001b[39mFutureWarning\u001b[39;00m,\n\u001b[0;32m    329\u001b[0m         stacklevel\u001b[39m=\u001b[39mfind_stack_level(),\n\u001b[0;32m    330\u001b[0m     )\n\u001b[1;32m--> 331\u001b[0m \u001b[39mreturn\u001b[39;00m func(\u001b[39m*\u001b[39margs, \u001b[39m*\u001b[39m\u001b[39m*\u001b[39mkwargs)\n",
      "File \u001b[1;32m~\\anaconda3\\lib\\site-packages\\pandas\\core\\frame.py:5399\u001b[0m, in \u001b[0;36mDataFrame.drop\u001b[1;34m(self, labels, axis, index, columns, level, inplace, errors)\u001b[0m\n\u001b[0;32m   5251\u001b[0m \u001b[39m@deprecate_nonkeyword_arguments\u001b[39m(version\u001b[39m=\u001b[39m\u001b[39mNone\u001b[39;00m, allowed_args\u001b[39m=\u001b[39m[\u001b[39m\"\u001b[39m\u001b[39mself\u001b[39m\u001b[39m\"\u001b[39m, \u001b[39m\"\u001b[39m\u001b[39mlabels\u001b[39m\u001b[39m\"\u001b[39m])\n\u001b[0;32m   5252\u001b[0m \u001b[39mdef\u001b[39;00m \u001b[39mdrop\u001b[39m(  \u001b[39m# type: ignore[override]\u001b[39;00m\n\u001b[0;32m   5253\u001b[0m     \u001b[39mself\u001b[39m,\n\u001b[1;32m   (...)\u001b[0m\n\u001b[0;32m   5260\u001b[0m     errors: IgnoreRaise \u001b[39m=\u001b[39m \u001b[39m\"\u001b[39m\u001b[39mraise\u001b[39m\u001b[39m\"\u001b[39m,\n\u001b[0;32m   5261\u001b[0m ) \u001b[39m-\u001b[39m\u001b[39m>\u001b[39m DataFrame \u001b[39m|\u001b[39m \u001b[39mNone\u001b[39;00m:\n\u001b[0;32m   5262\u001b[0m     \u001b[39m\"\"\"\u001b[39;00m\n\u001b[0;32m   5263\u001b[0m \u001b[39m    Drop specified labels from rows or columns.\u001b[39;00m\n\u001b[0;32m   5264\u001b[0m \n\u001b[1;32m   (...)\u001b[0m\n\u001b[0;32m   5397\u001b[0m \u001b[39m            weight  1.0     0.8\u001b[39;00m\n\u001b[0;32m   5398\u001b[0m \u001b[39m    \"\"\"\u001b[39;00m\n\u001b[1;32m-> 5399\u001b[0m     \u001b[39mreturn\u001b[39;00m \u001b[39msuper\u001b[39;49m()\u001b[39m.\u001b[39;49mdrop(\n\u001b[0;32m   5400\u001b[0m         labels\u001b[39m=\u001b[39;49mlabels,\n\u001b[0;32m   5401\u001b[0m         axis\u001b[39m=\u001b[39;49maxis,\n\u001b[0;32m   5402\u001b[0m         index\u001b[39m=\u001b[39;49mindex,\n\u001b[0;32m   5403\u001b[0m         columns\u001b[39m=\u001b[39;49mcolumns,\n\u001b[0;32m   5404\u001b[0m         level\u001b[39m=\u001b[39;49mlevel,\n\u001b[0;32m   5405\u001b[0m         inplace\u001b[39m=\u001b[39;49minplace,\n\u001b[0;32m   5406\u001b[0m         errors\u001b[39m=\u001b[39;49merrors,\n\u001b[0;32m   5407\u001b[0m     )\n",
      "File \u001b[1;32m~\\anaconda3\\lib\\site-packages\\pandas\\util\\_decorators.py:331\u001b[0m, in \u001b[0;36mdeprecate_nonkeyword_arguments.<locals>.decorate.<locals>.wrapper\u001b[1;34m(*args, **kwargs)\u001b[0m\n\u001b[0;32m    325\u001b[0m \u001b[39mif\u001b[39;00m \u001b[39mlen\u001b[39m(args) \u001b[39m>\u001b[39m num_allow_args:\n\u001b[0;32m    326\u001b[0m     warnings\u001b[39m.\u001b[39mwarn(\n\u001b[0;32m    327\u001b[0m         msg\u001b[39m.\u001b[39mformat(arguments\u001b[39m=\u001b[39m_format_argument_list(allow_args)),\n\u001b[0;32m    328\u001b[0m         \u001b[39mFutureWarning\u001b[39;00m,\n\u001b[0;32m    329\u001b[0m         stacklevel\u001b[39m=\u001b[39mfind_stack_level(),\n\u001b[0;32m    330\u001b[0m     )\n\u001b[1;32m--> 331\u001b[0m \u001b[39mreturn\u001b[39;00m func(\u001b[39m*\u001b[39margs, \u001b[39m*\u001b[39m\u001b[39m*\u001b[39mkwargs)\n",
      "File \u001b[1;32m~\\anaconda3\\lib\\site-packages\\pandas\\core\\generic.py:4505\u001b[0m, in \u001b[0;36mNDFrame.drop\u001b[1;34m(self, labels, axis, index, columns, level, inplace, errors)\u001b[0m\n\u001b[0;32m   4503\u001b[0m \u001b[39mfor\u001b[39;00m axis, labels \u001b[39min\u001b[39;00m axes\u001b[39m.\u001b[39mitems():\n\u001b[0;32m   4504\u001b[0m     \u001b[39mif\u001b[39;00m labels \u001b[39mis\u001b[39;00m \u001b[39mnot\u001b[39;00m \u001b[39mNone\u001b[39;00m:\n\u001b[1;32m-> 4505\u001b[0m         obj \u001b[39m=\u001b[39m obj\u001b[39m.\u001b[39;49m_drop_axis(labels, axis, level\u001b[39m=\u001b[39;49mlevel, errors\u001b[39m=\u001b[39;49merrors)\n\u001b[0;32m   4507\u001b[0m \u001b[39mif\u001b[39;00m inplace:\n\u001b[0;32m   4508\u001b[0m     \u001b[39mself\u001b[39m\u001b[39m.\u001b[39m_update_inplace(obj)\n",
      "File \u001b[1;32m~\\anaconda3\\lib\\site-packages\\pandas\\core\\generic.py:4546\u001b[0m, in \u001b[0;36mNDFrame._drop_axis\u001b[1;34m(self, labels, axis, level, errors, only_slice)\u001b[0m\n\u001b[0;32m   4544\u001b[0m         new_axis \u001b[39m=\u001b[39m axis\u001b[39m.\u001b[39mdrop(labels, level\u001b[39m=\u001b[39mlevel, errors\u001b[39m=\u001b[39merrors)\n\u001b[0;32m   4545\u001b[0m     \u001b[39melse\u001b[39;00m:\n\u001b[1;32m-> 4546\u001b[0m         new_axis \u001b[39m=\u001b[39m axis\u001b[39m.\u001b[39;49mdrop(labels, errors\u001b[39m=\u001b[39;49merrors)\n\u001b[0;32m   4547\u001b[0m     indexer \u001b[39m=\u001b[39m axis\u001b[39m.\u001b[39mget_indexer(new_axis)\n\u001b[0;32m   4549\u001b[0m \u001b[39m# Case for non-unique axis\u001b[39;00m\n\u001b[0;32m   4550\u001b[0m \u001b[39melse\u001b[39;00m:\n",
      "File \u001b[1;32m~\\anaconda3\\lib\\site-packages\\pandas\\core\\indexes\\base.py:6934\u001b[0m, in \u001b[0;36mIndex.drop\u001b[1;34m(self, labels, errors)\u001b[0m\n\u001b[0;32m   6932\u001b[0m \u001b[39mif\u001b[39;00m mask\u001b[39m.\u001b[39many():\n\u001b[0;32m   6933\u001b[0m     \u001b[39mif\u001b[39;00m errors \u001b[39m!=\u001b[39m \u001b[39m\"\u001b[39m\u001b[39mignore\u001b[39m\u001b[39m\"\u001b[39m:\n\u001b[1;32m-> 6934\u001b[0m         \u001b[39mraise\u001b[39;00m \u001b[39mKeyError\u001b[39;00m(\u001b[39mf\u001b[39m\u001b[39m\"\u001b[39m\u001b[39m{\u001b[39;00m\u001b[39mlist\u001b[39m(labels[mask])\u001b[39m}\u001b[39;00m\u001b[39m not found in axis\u001b[39m\u001b[39m\"\u001b[39m)\n\u001b[0;32m   6935\u001b[0m     indexer \u001b[39m=\u001b[39m indexer[\u001b[39m~\u001b[39mmask]\n\u001b[0;32m   6936\u001b[0m \u001b[39mreturn\u001b[39;00m \u001b[39mself\u001b[39m\u001b[39m.\u001b[39mdelete(indexer)\n",
      "\u001b[1;31mKeyError\u001b[0m: \"['Target_Close_1min'] not found in axis\""
     ]
    }
   ],
   "source": [
    "test = test.drop(['Target_Close_1min'], axis=1)\n",
    "# predictions = predict_model(best, data = test)\n",
    "predictions = predict_model(best, data = train)\n",
    "\n",
    "predictions.head()"
   ]
  }
 ],
 "metadata": {
  "kernelspec": {
   "display_name": "Python 3 (ipykernel)",
   "language": "python",
   "name": "python3"
  },
  "language_info": {
   "codemirror_mode": {
    "name": "ipython",
    "version": 3
   },
   "file_extension": ".py",
   "mimetype": "text/x-python",
   "name": "python",
   "nbconvert_exporter": "python",
   "pygments_lexer": "ipython3",
   "version": "3.10.9"
  }
 },
 "nbformat": 4,
 "nbformat_minor": 2
}
