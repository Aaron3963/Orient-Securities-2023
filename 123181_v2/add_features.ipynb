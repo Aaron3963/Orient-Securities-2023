{
 "cells": [
  {
   "cell_type": "code",
   "execution_count": 114,
   "metadata": {},
   "outputs": [],
   "source": [
    "import pandas as pd\n",
    "import numpy as np\n",
    "import seaborn as sns\n",
    "\n",
    "PATH_READ = 'raw_train.csv'\n",
    "PATH_WRITE = 'train_with_features_TB.csv'\n",
    "# df = pd.read_csv(PATH_READ, index_col='Timestamp')\n",
    "df = pd.read_csv(PATH_READ)\n"
   ]
  },
  {
   "cell_type": "markdown",
   "metadata": {},
   "source": [
    "Preprocessing, cleaning unwanted cols"
   ]
  },
  {
   "cell_type": "code",
   "execution_count": 115,
   "metadata": {},
   "outputs": [
    {
     "name": "stdout",
     "output_type": "stream",
     "text": [
      "Index(['Timestamp', 'Open', 'High', 'Low', 'Volume', 'Turnover', 'Close'], dtype='object')\n"
     ]
    }
   ],
   "source": [
    "df = df.drop(['InstrumentID','TradingDay','PreClosePrice','UpdateTime'], axis=1)\n",
    "# df.index = pd.to_datetime(df.index)\n",
    "\n",
    "print(df.columns)"
   ]
  },
  {
   "cell_type": "markdown",
   "metadata": {},
   "source": [
    "Add hist return features"
   ]
  },
  {
   "cell_type": "code",
   "execution_count": 116,
   "metadata": {},
   "outputs": [
    {
     "name": "stdout",
     "output_type": "stream",
     "text": [
      "Index(['Timestamp', 'Open', 'High', 'Low', 'Volume', 'Turnover', 'Close',\n",
      "       'Hist_Ret_Close_3min', 'Hist_Ret_Close_5min', 'Hist_Ret_Close_10min',\n",
      "       'Hist_Ret_Close_15min'],\n",
      "      dtype='object')\n"
     ]
    }
   ],
   "source": [
    "def hist_ret_close(df, param):\n",
    "    return df['Close'] / df['Close'].shift(param)\n",
    "\n",
    "df.insert(loc=df.columns.get_loc('Close')+1, column= 'Hist_Ret_Close_15min', value= hist_ret_close(df,15))\n",
    "df.insert(loc=df.columns.get_loc('Close')+1, column= 'Hist_Ret_Close_10min', value= hist_ret_close(df,10))\n",
    "df.insert(loc=df.columns.get_loc('Close')+1, column= 'Hist_Ret_Close_5min', value= hist_ret_close(df,5))\n",
    "df.insert(loc=df.columns.get_loc('Close')+1, column= 'Hist_Ret_Close_3min', value= hist_ret_close(df,3))\n",
    "\n",
    "print(df.columns)"
   ]
  },
  {
   "cell_type": "markdown",
   "metadata": {},
   "source": [
    "Add log return features"
   ]
  },
  {
   "cell_type": "code",
   "execution_count": 117,
   "metadata": {},
   "outputs": [
    {
     "name": "stdout",
     "output_type": "stream",
     "text": [
      "Index(['Timestamp', 'Open', 'High', 'Low', 'Volume', 'Turnover', 'Close',\n",
      "       'Hist_Ret_Close_3min', 'Hist_Ret_Close_5min', 'Hist_Ret_Close_10min',\n",
      "       'Hist_Ret_Close_15min', 'Log_Return_Close_1min'],\n",
      "      dtype='object')\n",
      "0           NaN\n",
      "1     -0.015623\n",
      "2      0.024979\n",
      "3      0.007725\n",
      "4     -0.007563\n",
      "         ...   \n",
      "724   -0.001032\n",
      "725    0.000000\n",
      "726    0.000000\n",
      "727    0.001754\n",
      "728    0.000000\n",
      "Name: Log_Return_Close_1min, Length: 729, dtype: float64\n"
     ]
    }
   ],
   "source": [
    "df['Log_Return_Close_1min'] = np.log(df['Close'] / df['Close'].shift(1))\n",
    "\n",
    "print(df.columns)\n",
    "print(df['Log_Return_Close_1min'])"
   ]
  },
  {
   "cell_type": "markdown",
   "metadata": {},
   "source": [
    "Add average price and mean price from 4"
   ]
  },
  {
   "cell_type": "code",
   "execution_count": 118,
   "metadata": {},
   "outputs": [],
   "source": [
    "df['Avg Price'] = df['Turnover']/df['Volume']\n",
    "\n",
    "# For unchanged prices, fill zero\n",
    "df['Avg Price'].fillna(0, inplace=True)\n",
    "\n",
    "\n",
    "df['4mean Price'] = (df['High']+df['Low']+df['Close']+df['Open'])/4.0\n"
   ]
  },
  {
   "cell_type": "markdown",
   "metadata": {},
   "source": [
    "Add log return based on avg price"
   ]
  },
  {
   "cell_type": "code",
   "execution_count": 119,
   "metadata": {},
   "outputs": [
    {
     "name": "stdout",
     "output_type": "stream",
     "text": [
      "Index(['Timestamp', 'Open', 'High', 'Low', 'Volume', 'Turnover', 'Close',\n",
      "       'Hist_Ret_Close_3min', 'Hist_Ret_Close_5min', 'Hist_Ret_Close_10min',\n",
      "       'Hist_Ret_Close_15min', 'Log_Return_Close_1min', 'Avg Price',\n",
      "       '4mean Price', 'Log_Return_Avg_1min'],\n",
      "      dtype='object')\n",
      "0           NaN\n",
      "1     -0.004298\n",
      "2      0.005441\n",
      "3      0.015268\n",
      "4     -0.003514\n",
      "         ...   \n",
      "724    0.001320\n",
      "725         NaN\n",
      "726         NaN\n",
      "727         NaN\n",
      "728         NaN\n",
      "Name: Log_Return_Avg_1min, Length: 729, dtype: float64\n"
     ]
    },
    {
     "name": "stderr",
     "output_type": "stream",
     "text": [
      "C:\\Users\\Aaron\\anaconda3\\lib\\site-packages\\pandas\\core\\arraylike.py:402: RuntimeWarning: divide by zero encountered in log\n",
      "  result = getattr(ufunc, method)(*inputs, **kwargs)\n"
     ]
    }
   ],
   "source": [
    "df['Log_Return_Avg_1min'] = np.log(df['Avg Price'] / df['Avg Price'].shift(1))\n",
    "\n",
    "print(df.columns)\n",
    "print(df['Log_Return_Avg_1min'])"
   ]
  },
  {
   "cell_type": "markdown",
   "metadata": {},
   "source": [
    "Hist based on avg price"
   ]
  },
  {
   "cell_type": "code",
   "execution_count": 120,
   "metadata": {},
   "outputs": [],
   "source": [
    "def hist_ret_avg(df, param):\n",
    "    return df['Avg Price'] / df['Avg Price'].shift(param)\n",
    "\n",
    "df['Hist_Ret_Avg_3min'] = hist_ret_avg(df, 3)\n",
    "df['Hist_Ret_Avg_5min'] = hist_ret_avg(df, 5)\n",
    "df['Hist_Ret_Avg_10min'] = hist_ret_avg(df, 10)\n",
    "df['Hist_Ret_Avg_15min'] = hist_ret_avg(df, 15)"
   ]
  },
  {
   "cell_type": "markdown",
   "metadata": {},
   "source": [
    "Add targets based on close price"
   ]
  },
  {
   "cell_type": "code",
   "execution_count": 121,
   "metadata": {},
   "outputs": [],
   "source": [
    "df['Target_Close_1min'] = (df['Close'].shift(-1) - df['Close'])/df['Close']\n",
    "\n",
    "df['Target_Close_5min_Mean'] = (df['Close'].rolling(window=5).mean().shift(-5) - df['Close']) / df['Close']\n",
    "\n",
    "df['Target_Close_10min_Mean'] = (df['Close'].rolling(window=10).mean().shift(-10) - df['Close']) / df['Close']\n",
    "\n",
    "df['Target_Close_15min_Mean'] = (df['Close'].rolling(window=10).mean().shift(-15) - df['Close']) / df['Close']"
   ]
  },
  {
   "cell_type": "markdown",
   "metadata": {},
   "source": [
    "Add targets based on avg price"
   ]
  },
  {
   "cell_type": "code",
   "execution_count": 122,
   "metadata": {},
   "outputs": [],
   "source": [
    "df['Target_Avg_1min'] = (df['Avg Price'].shift(-1) - df['Avg Price'])/df['Avg Price']\n",
    "\n",
    "df['Target_Avg_5min_Mean'] = (df['Avg Price'].rolling(window=5).mean().shift(-5) - df['Avg Price']) / df['Avg Price']\n",
    "\n",
    "df['Target_Avg_10min_Mean'] = (df['Avg Price'].rolling(window=10).mean().shift(-10) - df['Avg Price']) / df['Avg Price']\n",
    "\n",
    "df['Target_Avg_15min_Mean'] = (df['Avg Price'].rolling(window=10).mean().shift(-15) - df['Avg Price']) / df['Avg Price']"
   ]
  },
  {
   "cell_type": "markdown",
   "metadata": {},
   "source": [
    "Experiment with rolling volatility"
   ]
  },
  {
   "cell_type": "code",
   "execution_count": 123,
   "metadata": {},
   "outputs": [
    {
     "name": "stdout",
     "output_type": "stream",
     "text": [
      "Index(['Timestamp', 'Open', 'High', 'Low', 'Volume', 'Turnover', 'Close',\n",
      "       'Hist_Ret_Close_3min', 'Hist_Ret_Close_5min', 'Hist_Ret_Close_10min',\n",
      "       'Hist_Ret_Close_15min', 'Log_Return_Close_1min', 'Avg Price',\n",
      "       '4mean Price', 'Log_Return_Avg_1min', 'Hist_Ret_Avg_3min',\n",
      "       'Hist_Ret_Avg_5min', 'Hist_Ret_Avg_10min', 'Hist_Ret_Avg_15min',\n",
      "       'Target_Close_1min', 'Target_Close_5min_Mean',\n",
      "       'Target_Close_10min_Mean', 'Target_Close_15min_Mean', 'Target_Avg_1min',\n",
      "       'Target_Avg_5min_Mean', 'Target_Avg_10min_Mean',\n",
      "       'Target_Avg_15min_Mean', 'Vol_5min_Close', 'Vol_10min_Close',\n",
      "       'Vol_15min_Close'],\n",
      "      dtype='object')\n"
     ]
    }
   ],
   "source": [
    "def rolling_std(df, window_size):\n",
    "    return df['Close'].rolling(window=window_size).std()\n",
    "\n",
    "df['Vol_5min_Close'] = rolling_std(df, 5)\n",
    "df['Vol_10min_Close'] = rolling_std(df, 10)\n",
    "df['Vol_15min_Close'] = rolling_std(df, 15)\n",
    "\n",
    "print(df.columns)"
   ]
  },
  {
   "cell_type": "markdown",
   "metadata": {},
   "source": [
    "Sharpe on close price"
   ]
  },
  {
   "cell_type": "code",
   "execution_count": 124,
   "metadata": {},
   "outputs": [],
   "source": [
    "risk_free_rate = 0\n",
    "\n",
    "df['Sharpe_Log_ret_1min/Vol_5min_Close'] = (df['Log_Return_Close_1min'] - risk_free_rate) / df['Vol_5min_Close']\n",
    "df['Sharpe_Log_ret_1min/Vol_10min_Close'] = (df['Log_Return_Close_1min'] - risk_free_rate) / df['Vol_10min_Close']\n",
    "df['Sharpe_Log_ret_1min/Vol_15min_Close'] = (df['Log_Return_Close_1min'] - risk_free_rate) / df['Vol_15min_Close']\n"
   ]
  },
  {
   "cell_type": "markdown",
   "metadata": {},
   "source": [
    "Add Triple Barrier Target"
   ]
  },
  {
   "cell_type": "code",
   "execution_count": 134,
   "metadata": {},
   "outputs": [
    {
     "data": {
      "text/plain": [
       "<Axes: >"
      ]
     },
     "execution_count": 134,
     "metadata": {},
     "output_type": "execute_result"
    },
    {
     "data": {
      "image/png": "[encoded data removed]",
      "text/plain": [
       "<Figure size 640x480 with 1 Axes>"
      ]
     },
     "metadata": {},
     "output_type": "display_data"
    }
   ],
   "source": [
    "df['15min_range'] = df['High'].rolling(15).max() - df['Low'].rolling(15).min()\n",
    "(df['15min_range'] /df['High']).hist()"
   ]
  },
  {
   "cell_type": "code",
   "execution_count": 125,
   "metadata": {},
   "outputs": [],
   "source": [
    "def getDailyVol(data, span=30):\n",
    "    df = data.assign(Return = lambda x: data['Close'] / data['Close'].shift(1)-1)\n",
    "    sigma = df['Return'].ewm(span=span).std()\n",
    "    return sigma\n",
    "\n",
    "vol = getDailyVol(data=df)"
   ]
  },
  {
   "cell_type": "code",
   "execution_count": 126,
   "metadata": {},
   "outputs": [
    {
     "name": "stdout",
     "output_type": "stream",
     "text": [
      "              Timestamp                  VB       Vol\n",
      "0   2023-06-21 09:26:00 2023-06-21 09:41:00       NaN\n",
      "1   2023-06-21 09:31:00 2023-06-21 09:46:00       NaN\n",
      "2   2023-06-21 09:32:00 2023-06-21 09:47:00  0.028847\n",
      "3   2023-06-21 09:33:00 2023-06-21 09:48:00  0.020354\n",
      "4   2023-06-21 09:34:00 2023-06-21 09:49:00  0.017893\n",
      "..                  ...                 ...       ...\n",
      "724 2023-06-27 14:58:00 2023-06-27 15:13:00  0.002023\n",
      "725 2023-06-27 14:59:00 2023-06-27 15:14:00  0.002004\n",
      "726 2023-06-27 15:00:00 2023-06-27 15:15:00  0.001984\n",
      "727 2023-06-27 15:01:00 2023-06-27 15:16:00  0.001975\n",
      "728 2023-06-27 15:35:00 2023-06-27 15:50:00  0.001956\n",
      "\n",
      "[729 rows x 3 columns]\n"
     ]
    }
   ],
   "source": [
    "df['Timestamp'] = pd.to_datetime(df['Timestamp'])\n",
    "\n",
    "events = df[['Timestamp']].copy(deep=True)\n",
    "events['VB'] = df['Timestamp'] + pd.Timedelta(minutes=15)\n",
    "events['Vol'] = vol\n",
    "\n",
    "print(events)"
   ]
  },
  {
   "cell_type": "code",
   "execution_count": 127,
   "metadata": {},
   "outputs": [],
   "source": [
    "def TBL(df, events, width):\n",
    "    \n",
    "    res = events[['Timestamp', 'VB']].copy(deep=True)\n",
    "    \n",
    "    if width[0] > 0: events['UB'] = width[0]*events['Vol']\n",
    "    else: events['UB'] = np.nan\n",
    "        \n",
    "    if width[1] > 0: events['DB'] = -width[1]*events['Vol']\n",
    "    else: events['DB'] = np.nan\n",
    "        \n",
    "    for col,date,vb in res.itertuples():\n",
    "        df0 = df[(df['Timestamp'] > date) & (df['Timestamp'] < vb)].copy(deep=True)\n",
    "        df0['Return'] = df0['Close'] / df.loc[df['Timestamp'] == date, 'Close'].iloc[0]-1\n",
    "        \n",
    "        idx = (res['Timestamp'] == date)\n",
    "        \n",
    "        res.loc[idx, 'ut'] = df0.loc[df0['Return'] > events.loc[idx,'UB'].iloc[0], 'Timestamp'].min()\n",
    "        res.loc[idx, 'dt'] = df0.loc[df0['Return'] < events.loc[idx,'DB'].iloc[0], 'Timestamp'].min()\n",
    "            \n",
    "    return res"
   ]
  },
  {
   "cell_type": "code",
   "execution_count": 128,
   "metadata": {},
   "outputs": [
    {
     "name": "stdout",
     "output_type": "stream",
     "text": [
      "              Timestamp                  VB  ut                  dt  \\\n",
      "0   2023-06-21 09:26:00 2023-06-21 09:41:00 NaT                 NaT   \n",
      "1   2023-06-21 09:31:00 2023-06-21 09:46:00 NaT                 NaT   \n",
      "2   2023-06-21 09:32:00 2023-06-21 09:47:00 NaT                 NaT   \n",
      "3   2023-06-21 09:33:00 2023-06-21 09:48:00 NaT 2023-06-21 09:47:00   \n",
      "4   2023-06-21 09:34:00 2023-06-21 09:49:00 NaT 2023-06-21 09:48:00   \n",
      "..                  ...                 ...  ..                 ...   \n",
      "724 2023-06-27 14:58:00 2023-06-27 15:13:00 NaT                 NaT   \n",
      "725 2023-06-27 14:59:00 2023-06-27 15:14:00 NaT                 NaT   \n",
      "726 2023-06-27 15:00:00 2023-06-27 15:15:00 NaT                 NaT   \n",
      "727 2023-06-27 15:01:00 2023-06-27 15:16:00 NaT                 NaT   \n",
      "728 2023-06-27 15:35:00 2023-06-27 15:50:00 NaT                 NaT   \n",
      "\n",
      "                  First  \n",
      "0   2023-06-21 09:41:00  \n",
      "1   2023-06-21 09:46:00  \n",
      "2   2023-06-21 09:47:00  \n",
      "3   2023-06-21 09:47:00  \n",
      "4   2023-06-21 09:48:00  \n",
      "..                  ...  \n",
      "724 2023-06-27 15:13:00  \n",
      "725 2023-06-27 15:14:00  \n",
      "726 2023-06-27 15:15:00  \n",
      "727 2023-06-27 15:16:00  \n",
      "728 2023-06-27 15:50:00  \n",
      "\n",
      "[729 rows x 5 columns]\n"
     ]
    }
   ],
   "source": [
    "def get_first_touch(df, events, width):\n",
    "    res = TBL(df, events, width)\n",
    "    res['First'] = res[['VB', 'ut', 'dt']].dropna(how='all').min(axis=1)\n",
    "    return res\n",
    "\n",
    "# 上下栅栏的宽度由 vol(span) * 系数[up,down] 决定\n",
    "result = get_first_touch(df,events,width = [0.4,0.4])\n",
    "print(result)"
   ]
  },
  {
   "cell_type": "code",
   "execution_count": 129,
   "metadata": {},
   "outputs": [
    {
     "name": "stdout",
     "output_type": "stream",
     "text": [
      "              Timestamp  TB_15min_Label\n",
      "0   2023-06-21 09:26:00            -1.0\n",
      "1   2023-06-21 09:31:00             1.0\n",
      "2   2023-06-21 09:32:00            -1.0\n",
      "3   2023-06-21 09:33:00            -1.0\n",
      "4   2023-06-21 09:34:00            -1.0\n",
      "..                  ...             ...\n",
      "724 2023-06-27 14:58:00             NaN\n",
      "725 2023-06-27 14:59:00             NaN\n",
      "726 2023-06-27 15:00:00             NaN\n",
      "727 2023-06-27 15:01:00             NaN\n",
      "728 2023-06-27 15:35:00             NaN\n",
      "\n",
      "[729 rows x 2 columns]\n"
     ]
    }
   ],
   "source": [
    "def get_label(df,result):\n",
    "    result = result.dropna(subset=['First'])\n",
    "    outcome = result[['Timestamp']].copy(deep=True)\n",
    "    \n",
    "    price_t0 = pd.merge(result,df,on=['Timestamp'],how='left')['Close']\n",
    "    price_t1 = pd.merge(result,df,left_on=['First'], right_on=['Timestamp'], how = 'left')['Close']\n",
    "    \n",
    "    outcome['Return'] = price_t1/price_t0-1\n",
    "    outcome['TB_15min_Label'] = np.sign(outcome['Return'].dropna())\n",
    "    \n",
    "    outcome = outcome.drop(['Return'], axis = 1)\n",
    "\n",
    "    return outcome\n",
    "\n",
    "outcome = get_label(df,result)\n",
    "print(outcome)\n",
    "\n",
    "df = pd.merge(df,outcome, on=['Timestamp'],how='inner')"
   ]
  },
  {
   "cell_type": "markdown",
   "metadata": {},
   "source": [
    "Cleaning NaN and unwanted data"
   ]
  },
  {
   "cell_type": "code",
   "execution_count": 130,
   "metadata": {},
   "outputs": [
    {
     "name": "stdout",
     "output_type": "stream",
     "text": [
      "(729, 34)\n",
      "                        Open     High      Low  Volume     Turnover    Close  \\\n",
      "Timestamp                                                                      \n",
      "2023-06-21 09:45:00  325.416  325.416  324.244   44726  14534416.33  324.340   \n",
      "2023-06-21 09:46:00  324.200  324.200  323.000   37280  12061931.19  324.000   \n",
      "2023-06-21 09:47:00  324.025  324.025  323.033   25290   8180562.04  323.273   \n",
      "2023-06-21 09:48:00  322.933  322.933  321.000   47670  15338315.83  322.000   \n",
      "2023-06-21 09:49:00  321.819  323.653  321.809   38780  12523104.37  323.209   \n",
      "...                      ...      ...      ...     ...          ...      ...   \n",
      "2023-06-27 14:43:00  319.878  320.880  319.780   28910   9266188.65  320.880   \n",
      "2023-06-27 14:44:00  320.491  321.132  320.400   45330  14541863.93  321.132   \n",
      "2023-06-27 14:45:00  321.400  322.229  321.307   76080  24486139.04  321.750   \n",
      "2023-06-27 14:46:00  321.971  321.971  321.100   29700   9550888.62  321.220   \n",
      "2023-06-27 14:47:00  321.299  321.400  320.800   25350   8142114.83  321.000   \n",
      "\n",
      "                     Hist_Ret_Close_3min  Hist_Ret_Close_5min  \\\n",
      "Timestamp                                                       \n",
      "2023-06-21 09:45:00             0.997825             0.994432   \n",
      "2023-06-21 09:46:00             1.000003             0.997055   \n",
      "2023-06-21 09:47:00             0.994686             0.994542   \n",
      "2023-06-21 09:48:00             0.992785             0.993830   \n",
      "2023-06-21 09:49:00             0.997559             0.994489   \n",
      "...                                  ...                  ...   \n",
      "2023-06-27 14:43:00             1.002186             1.003374   \n",
      "2023-06-27 14:44:00             1.005775             1.001675   \n",
      "2023-06-27 14:45:00             1.006406             1.004903   \n",
      "2023-06-27 14:46:00             1.001060             1.006051   \n",
      "2023-06-27 14:47:00             0.999589             1.004060   \n",
      "\n",
      "                     Hist_Ret_Close_10min  Hist_Ret_Close_15min  ...  \\\n",
      "Timestamp                                                        ...   \n",
      "2023-06-21 09:45:00              0.984782              0.997969  ...   \n",
      "2023-06-21 09:46:00              0.977827              1.012620  ...   \n",
      "2023-06-21 09:47:00              0.973245              0.985423  ...   \n",
      "2023-06-21 09:48:00              0.977209              0.973990  ...   \n",
      "2023-06-21 09:49:00              0.978591              0.985069  ...   \n",
      "...                                   ...                   ...  ...   \n",
      "2023-06-27 14:43:00              1.002124              1.009120  ...   \n",
      "2023-06-27 14:44:00              1.003537              1.009932  ...   \n",
      "2023-06-27 14:45:00              1.002858              1.012305  ...   \n",
      "2023-06-27 14:46:00              1.004908              1.005374  ...   \n",
      "2023-06-27 14:47:00              1.000920              1.002818  ...   \n",
      "\n",
      "                     Target_Avg_5min_Mean  Target_Avg_10min_Mean  \\\n",
      "Timestamp                                                          \n",
      "2023-06-21 09:45:00             -0.006033              -0.003711   \n",
      "2023-06-21 09:46:00             -0.002027               0.000876   \n",
      "2023-06-21 09:47:00             -0.000542               0.001479   \n",
      "2023-06-21 09:48:00              0.006946               0.007503   \n",
      "2023-06-21 09:49:00              0.004196               0.004224   \n",
      "...                                   ...                    ...   \n",
      "2023-06-27 14:43:00              0.002930               0.005366   \n",
      "2023-06-27 14:44:00              0.002813               0.005419   \n",
      "2023-06-27 14:45:00             -0.000373               0.002935   \n",
      "2023-06-27 14:46:00              0.001046               0.004559   \n",
      "2023-06-27 14:47:00              0.004161               0.006793   \n",
      "\n",
      "                     Target_Avg_15min_Mean  Vol_5min_Close  Vol_10min_Close  \\\n",
      "Timestamp                                                                     \n",
      "2023-06-21 09:45:00              -0.001846        0.472369         3.172464   \n",
      "2023-06-21 09:46:00               0.002362        0.517979         2.970128   \n",
      "2023-06-21 09:47:00               0.001695        0.626343         2.372833   \n",
      "2023-06-21 09:48:00               0.005742        1.146666         2.199724   \n",
      "2023-06-21 09:49:00               0.000991        0.901370         1.180290   \n",
      "...                                    ...             ...              ...   \n",
      "2023-06-27 14:43:00               0.009830        0.646794         0.561898   \n",
      "2023-06-27 14:44:00              -0.091438        0.775330         0.634620   \n",
      "2023-06-27 14:45:00              -0.194432        1.024618         0.774721   \n",
      "2023-06-27 14:46:00              -0.192935        0.759532         0.772163   \n",
      "2023-06-27 14:47:00              -0.292902        0.335358         0.785314   \n",
      "\n",
      "                     Vol_15min_Close  Sharpe_Log_ret_1min/Vol_5min_Close  \\\n",
      "Timestamp                                                                  \n",
      "2023-06-21 09:45:00         3.388234                           -0.004303   \n",
      "2023-06-21 09:46:00         2.891079                           -0.002025   \n",
      "2023-06-21 09:47:00         3.085833                           -0.003586   \n",
      "2023-06-21 09:48:00         3.207326                           -0.003441   \n",
      "2023-06-21 09:49:00         3.294882                            0.004158   \n",
      "...                              ...                                 ...   \n",
      "2023-06-27 14:43:00         0.913219                            0.005686   \n",
      "2023-06-27 14:44:00         0.817042                            0.001013   \n",
      "2023-06-27 14:45:00         0.681721                            0.001876   \n",
      "2023-06-27 14:46:00         0.684665                           -0.002171   \n",
      "2023-06-27 14:47:00         0.695551                           -0.002043   \n",
      "\n",
      "                     Sharpe_Log_ret_1min/Vol_10min_Close  \\\n",
      "Timestamp                                                  \n",
      "2023-06-21 09:45:00                            -0.000641   \n",
      "2023-06-21 09:46:00                            -0.000353   \n",
      "2023-06-21 09:47:00                            -0.000947   \n",
      "2023-06-21 09:48:00                            -0.001794   \n",
      "2023-06-21 09:49:00                             0.003175   \n",
      "...                                                  ...   \n",
      "2023-06-27 14:43:00                             0.006546   \n",
      "2023-06-27 14:44:00                             0.001237   \n",
      "2023-06-27 14:45:00                             0.002482   \n",
      "2023-06-27 14:46:00                            -0.002135   \n",
      "2023-06-27 14:47:00                            -0.000872   \n",
      "\n",
      "                     Sharpe_Log_ret_1min/Vol_15min_Close  TB_15min_Label  \n",
      "Timestamp                                                                 \n",
      "2023-06-21 09:45:00                            -0.000600            -1.0  \n",
      "2023-06-21 09:46:00                            -0.000363            -1.0  \n",
      "2023-06-21 09:47:00                            -0.000728            -1.0  \n",
      "2023-06-21 09:48:00                            -0.001230             1.0  \n",
      "2023-06-21 09:49:00                             0.001137             1.0  \n",
      "...                                                  ...             ...  \n",
      "2023-06-27 14:43:00                             0.004027             1.0  \n",
      "2023-06-27 14:44:00                             0.000961             1.0  \n",
      "2023-06-27 14:45:00                             0.002820            -1.0  \n",
      "2023-06-27 14:46:00                            -0.002408             1.0  \n",
      "2023-06-27 14:47:00                            -0.000985             1.0  \n",
      "\n",
      "[648 rows x 33 columns]\n"
     ]
    }
   ],
   "source": [
    "print(df.shape)\n",
    "\n",
    "df.index = df['Timestamp']\n",
    "df = df.drop(['Timestamp'], axis=1)\n",
    "\n",
    "df = df[(df['Target_Close_1min'] != 0)\n",
    "                      & (df['Target_Close_5min_Mean'] != 0)\n",
    "                      & (df['Target_Close_10min_Mean'] != 0)\n",
    "                      & (df['Target_Close_15min_Mean'] != 0)\n",
    "                     ]\n",
    "pd.set_option ('mode.use_inf_as_na', True)\n",
    "df = df.dropna()\n",
    "\n",
    "print(df)"
   ]
  },
  {
   "cell_type": "markdown",
   "metadata": {},
   "source": [
    "Saving CSV"
   ]
  },
  {
   "cell_type": "code",
   "execution_count": 131,
   "metadata": {},
   "outputs": [],
   "source": [
    "df.to_csv(PATH_WRITE)"
   ]
  }
 ],
 "metadata": {
  "kernelspec": {
   "display_name": "Python 3 (ipykernel)",
   "language": "python",
   "name": "python3"
  },
  "orig_nbformat": 4
 },
 "nbformat": 4,
 "nbformat_minor": 2
}
