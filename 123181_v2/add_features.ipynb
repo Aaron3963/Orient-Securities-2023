{
 "cells": [
  {
   "cell_type": "code",
   "execution_count": 96,
   "metadata": {},
   "outputs": [],
   "source": [
    "import pandas as pd\n",
    "import numpy as np\n",
    "import seaborn as sns\n",
    "\n",
    "PATH_READ = 'raw_train.csv'\n",
    "PATH_WRITE = 'train_with_features_v2.csv'\n",
    "df = pd.read_csv(PATH_READ, index_col='Timestamp')"
   ]
  },
  {
   "cell_type": "markdown",
   "metadata": {},
   "source": [
    "Preprocessing, cleaning unwanted cols"
   ]
  },
  {
   "cell_type": "code",
   "execution_count": 97,
   "metadata": {},
   "outputs": [
    {
     "name": "stdout",
     "output_type": "stream",
     "text": [
      "Index(['PreClosePrice', 'Open', 'High', 'Low', 'Volume', 'Turnover', 'Close'], dtype='object')\n"
     ]
    }
   ],
   "source": [
    "df = df.drop(['InstrumentID','TradingDay','PreClosePrice','UpdateTime'], axis=1)\n",
    "df.index = pd.to_datetime(df.index)\n",
    "\n",
    "print(df.columns)"
   ]
  },
  {
   "cell_type": "markdown",
   "metadata": {},
   "source": [
    "Add hist return features"
   ]
  },
  {
   "cell_type": "code",
   "execution_count": 98,
   "metadata": {},
   "outputs": [
    {
     "name": "stdout",
     "output_type": "stream",
     "text": [
      "Index(['PreClosePrice', 'Open', 'High', 'Low', 'Volume', 'Turnover', 'Close',\n",
      "       'Hist_Ret_Close_3min', 'Hist_Ret_Close_5min', 'Hist_Ret_Close_10min',\n",
      "       'Hist_Ret_Close_15min'],\n",
      "      dtype='object')\n"
     ]
    }
   ],
   "source": [
    "def hist_ret_close(df, param):\n",
    "    return df['Close'] / df['Close'].shift(param)\n",
    "\n",
    "df.insert(loc=df.columns.get_loc('Close')+1, column= 'Hist_Ret_Close_15min', value= hist_ret_close(df,15))\n",
    "df.insert(loc=df.columns.get_loc('Close')+1, column= 'Hist_Ret_Close_10min', value= hist_ret_close(df,10))\n",
    "df.insert(loc=df.columns.get_loc('Close')+1, column= 'Hist_Ret_Close_5min', value= hist_ret_close(df,5))\n",
    "df.insert(loc=df.columns.get_loc('Close')+1, column= 'Hist_Ret_Close_3min', value= hist_ret_close(df,3))\n",
    "\n",
    "print(df.columns)"
   ]
  },
  {
   "cell_type": "markdown",
   "metadata": {},
   "source": [
    "Add log return features"
   ]
  },
  {
   "cell_type": "code",
   "execution_count": 99,
   "metadata": {},
   "outputs": [
    {
     "name": "stdout",
     "output_type": "stream",
     "text": [
      "Index(['PreClosePrice', 'Open', 'High', 'Low', 'Volume', 'Turnover', 'Close',\n",
      "       'Hist_Ret_Close_3min', 'Hist_Ret_Close_5min', 'Hist_Ret_Close_10min',\n",
      "       'Hist_Ret_Close_15min', 'Log_Return_Close_1min'],\n",
      "      dtype='object')\n",
      "Timestamp\n",
      "2023-06-21 09:26:00         NaN\n",
      "2023-06-21 09:31:00   -0.015623\n",
      "2023-06-21 09:32:00    0.024979\n",
      "2023-06-21 09:33:00    0.007725\n",
      "2023-06-21 09:34:00   -0.007563\n",
      "                         ...   \n",
      "2023-06-27 14:58:00   -0.001032\n",
      "2023-06-27 14:59:00    0.000000\n",
      "2023-06-27 15:00:00    0.000000\n",
      "2023-06-27 15:01:00    0.001754\n",
      "2023-06-27 15:35:00    0.000000\n",
      "Name: Log_Return_Close_1min, Length: 729, dtype: float64\n"
     ]
    }
   ],
   "source": [
    "df['Log_Return_Close_1min'] = np.log(df['Close'] / df['Close'].shift(1))\n",
    "\n",
    "print(df.columns)\n",
    "print(df['Log_Return_Close_1min'])"
   ]
  },
  {
   "cell_type": "markdown",
   "metadata": {},
   "source": [
    "Add average price and mean price from 4"
   ]
  },
  {
   "cell_type": "code",
   "execution_count": 100,
   "metadata": {},
   "outputs": [],
   "source": [
    "df['Avg Price'] = df['Turnover']/df['Volume']\n",
    "\n",
    "# For unchanged prices, fill zero\n",
    "df['Avg Price'].fillna(0, inplace=True)\n",
    "\n",
    "\n",
    "df['4mean Price'] = (df['High']+df['Low']+df['Close']+df['Open'])/4.0\n"
   ]
  },
  {
   "cell_type": "markdown",
   "metadata": {},
   "source": [
    "Add log return based on avg price"
   ]
  },
  {
   "cell_type": "code",
   "execution_count": 101,
   "metadata": {},
   "outputs": [
    {
     "name": "stdout",
     "output_type": "stream",
     "text": [
      "Index(['PreClosePrice', 'Open', 'High', 'Low', 'Volume', 'Turnover', 'Close',\n",
      "       'Hist_Ret_Close_3min', 'Hist_Ret_Close_5min', 'Hist_Ret_Close_10min',\n",
      "       'Hist_Ret_Close_15min', 'Log_Return_Close_1min', 'Avg Price',\n",
      "       '4mean Price', 'Log_Return_Avg_1min'],\n",
      "      dtype='object')\n",
      "Timestamp\n",
      "2023-06-21 09:26:00         NaN\n",
      "2023-06-21 09:31:00   -0.004298\n",
      "2023-06-21 09:32:00    0.005441\n",
      "2023-06-21 09:33:00    0.015268\n",
      "2023-06-21 09:34:00   -0.003514\n",
      "                         ...   \n",
      "2023-06-27 14:58:00    0.001320\n",
      "2023-06-27 14:59:00         NaN\n",
      "2023-06-27 15:00:00         NaN\n",
      "2023-06-27 15:01:00         NaN\n",
      "2023-06-27 15:35:00         NaN\n",
      "Name: Log_Return_Avg_1min, Length: 729, dtype: float64\n"
     ]
    },
    {
     "name": "stderr",
     "output_type": "stream",
     "text": [
      "C:\\Users\\Aaron\\anaconda3\\lib\\site-packages\\pandas\\core\\arraylike.py:402: RuntimeWarning: divide by zero encountered in log\n",
      "  result = getattr(ufunc, method)(*inputs, **kwargs)\n"
     ]
    }
   ],
   "source": [
    "df['Log_Return_Avg_1min'] = np.log(df['Avg Price'] / df['Avg Price'].shift(1))\n",
    "\n",
    "print(df.columns)\n",
    "print(df['Log_Return_Avg_1min'])"
   ]
  },
  {
   "cell_type": "markdown",
   "metadata": {},
   "source": [
    "Hist based on avg price"
   ]
  },
  {
   "cell_type": "code",
   "execution_count": 102,
   "metadata": {},
   "outputs": [],
   "source": [
    "def hist_ret_avg(df, param):\n",
    "    return df['Avg Price'] / df['Avg Price'].shift(param)\n",
    "\n",
    "df['Hist_Ret_Avg_3min'] = hist_ret_avg(df, 3)\n",
    "df['Hist_Ret_Avg_5min'] = hist_ret_avg(df, 5)\n",
    "df['Hist_Ret_Avg_10min'] = hist_ret_avg(df, 10)\n",
    "df['Hist_Ret_Avg_15min'] = hist_ret_avg(df, 15)"
   ]
  },
  {
   "cell_type": "markdown",
   "metadata": {},
   "source": [
    "Add targets based on close price"
   ]
  },
  {
   "cell_type": "code",
   "execution_count": 103,
   "metadata": {},
   "outputs": [],
   "source": [
    "df['Target_Close_1min'] = (df['Close'].shift(-1) - df['Close'])/df['Close']\n",
    "\n",
    "df['Target_Close_5min_Mean'] = (df['Close'].rolling(window=5).mean().shift(-5) - df['Close']) / df['Close']\n",
    "\n",
    "df['Target_Close_10min_Mean'] = (df['Close'].rolling(window=10).mean().shift(-10) - df['Close']) / df['Close']\n",
    "\n",
    "df['Target_Close_15min_Mean'] = (df['Close'].rolling(window=10).mean().shift(-15) - df['Close']) / df['Close']"
   ]
  },
  {
   "cell_type": "markdown",
   "metadata": {},
   "source": [
    "Add targets based on avg price"
   ]
  },
  {
   "cell_type": "code",
   "execution_count": 104,
   "metadata": {},
   "outputs": [],
   "source": [
    "df['Target_Avg_1min'] = (df['Avg Price'].shift(-1) - df['Avg Price'])/df['Avg Price']\n",
    "\n",
    "df['Target_Avg_5min_Mean'] = (df['Avg Price'].rolling(window=5).mean().shift(-5) - df['Avg Price']) / df['Avg Price']\n",
    "\n",
    "df['Target_Avg_10min_Mean'] = (df['Avg Price'].rolling(window=10).mean().shift(-10) - df['Avg Price']) / df['Avg Price']\n",
    "\n",
    "df['Target_Avg_15min_Mean'] = (df['Avg Price'].rolling(window=10).mean().shift(-15) - df['Avg Price']) / df['Avg Price']"
   ]
  },
  {
   "cell_type": "markdown",
   "metadata": {},
   "source": [
    "Experiment with rolling volatility"
   ]
  },
  {
   "cell_type": "code",
   "execution_count": 105,
   "metadata": {},
   "outputs": [
    {
     "name": "stdout",
     "output_type": "stream",
     "text": [
      "Index(['PreClosePrice', 'Open', 'High', 'Low', 'Volume', 'Turnover', 'Close',\n",
      "       'Hist_Ret_Close_3min', 'Hist_Ret_Close_5min', 'Hist_Ret_Close_10min',\n",
      "       'Hist_Ret_Close_15min', 'Log_Return_Close_1min', 'Avg Price',\n",
      "       '4mean Price', 'Log_Return_Avg_1min', 'Hist_Ret_Avg_3min',\n",
      "       'Hist_Ret_Avg_5min', 'Hist_Ret_Avg_10min', 'Hist_Ret_Avg_15min',\n",
      "       'Target_Close_1min', 'Target_Close_5min_Mean',\n",
      "       'Target_Close_10min_Mean', 'Target_Close_15min_Mean', 'Target_Avg_1min',\n",
      "       'Target_Avg_5min_Mean', 'Target_Avg_10min_Mean',\n",
      "       'Target_Avg_15min_Mean', 'Vol_5min_Close', 'Vol_10min_Close',\n",
      "       'Vol_15min_Close'],\n",
      "      dtype='object')\n"
     ]
    }
   ],
   "source": [
    "def rolling_std(df, window_size):\n",
    "    return df['Close'].rolling(window=window_size).std()\n",
    "\n",
    "df['Vol_5min_Close'] = rolling_std(df, 5)\n",
    "df['Vol_10min_Close'] = rolling_std(df, 10)\n",
    "df['Vol_15min_Close'] = rolling_std(df, 15)\n",
    "\n",
    "print(df.columns)"
   ]
  },
  {
   "cell_type": "markdown",
   "metadata": {},
   "source": [
    "Sharpe on close price"
   ]
  },
  {
   "cell_type": "code",
   "execution_count": 106,
   "metadata": {},
   "outputs": [],
   "source": [
    "risk_free_rate = 0\n",
    "\n",
    "df['Sharpe_Log_ret_1min/Vol_5min_Close'] = (df['Log_Return_Close_1min'] - risk_free_rate) / df['Vol_5min_Close']\n",
    "df['Sharpe_Log_ret_1min/Vol_10min_Close'] = (df['Log_Return_Close_1min'] - risk_free_rate) / df['Vol_10min_Close']\n",
    "df['Sharpe_Log_ret_1min/Vol_15min_Close'] = (df['Log_Return_Close_1min'] - risk_free_rate) / df['Vol_15min_Close']\n"
   ]
  },
  {
   "cell_type": "markdown",
   "metadata": {},
   "source": [
    "Cleaning NaN and unwanted data"
   ]
  },
  {
   "cell_type": "code",
   "execution_count": 107,
   "metadata": {},
   "outputs": [
    {
     "name": "stdout",
     "output_type": "stream",
     "text": [
      "(729, 33)\n",
      "                     PreClosePrice     Open     High      Low  Volume  \\\n",
      "Timestamp                                                               \n",
      "2023-06-21 09:45:00          320.8  325.416  325.416  324.244   44726   \n",
      "2023-06-21 09:46:00          320.8  324.200  324.200  323.000   37280   \n",
      "2023-06-21 09:47:00          320.8  324.025  324.025  323.033   25290   \n",
      "2023-06-21 09:48:00          320.8  322.933  322.933  321.000   47670   \n",
      "2023-06-21 09:49:00          320.8  321.819  323.653  321.809   38780   \n",
      "...                            ...      ...      ...      ...     ...   \n",
      "2023-06-27 14:43:00          318.9  319.878  320.880  319.780   28910   \n",
      "2023-06-27 14:44:00          318.9  320.491  321.132  320.400   45330   \n",
      "2023-06-27 14:45:00          318.9  321.400  322.229  321.307   76080   \n",
      "2023-06-27 14:46:00          318.9  321.971  321.971  321.100   29700   \n",
      "2023-06-27 14:47:00          318.9  321.299  321.400  320.800   25350   \n",
      "\n",
      "                        Turnover    Close  Hist_Ret_Close_3min  \\\n",
      "Timestamp                                                        \n",
      "2023-06-21 09:45:00  14534416.33  324.340             0.997825   \n",
      "2023-06-21 09:46:00  12061931.19  324.000             1.000003   \n",
      "2023-06-21 09:47:00   8180562.04  323.273             0.994686   \n",
      "2023-06-21 09:48:00  15338315.83  322.000             0.992785   \n",
      "2023-06-21 09:49:00  12523104.37  323.209             0.997559   \n",
      "...                          ...      ...                  ...   \n",
      "2023-06-27 14:43:00   9266188.65  320.880             1.002186   \n",
      "2023-06-27 14:44:00  14541863.93  321.132             1.005775   \n",
      "2023-06-27 14:45:00  24486139.04  321.750             1.006406   \n",
      "2023-06-27 14:46:00   9550888.62  321.220             1.001060   \n",
      "2023-06-27 14:47:00   8142114.83  321.000             0.999589   \n",
      "\n",
      "                     Hist_Ret_Close_5min  Hist_Ret_Close_10min  ...  \\\n",
      "Timestamp                                                       ...   \n",
      "2023-06-21 09:45:00             0.994432              0.984782  ...   \n",
      "2023-06-21 09:46:00             0.997055              0.977827  ...   \n",
      "2023-06-21 09:47:00             0.994542              0.973245  ...   \n",
      "2023-06-21 09:48:00             0.993830              0.977209  ...   \n",
      "2023-06-21 09:49:00             0.994489              0.978591  ...   \n",
      "...                                  ...                   ...  ...   \n",
      "2023-06-27 14:43:00             1.003374              1.002124  ...   \n",
      "2023-06-27 14:44:00             1.001675              1.003537  ...   \n",
      "2023-06-27 14:45:00             1.004903              1.002858  ...   \n",
      "2023-06-27 14:46:00             1.006051              1.004908  ...   \n",
      "2023-06-27 14:47:00             1.004060              1.000920  ...   \n",
      "\n",
      "                     Target_Avg_1min  Target_Avg_5min_Mean  \\\n",
      "Timestamp                                                    \n",
      "2023-06-21 09:45:00        -0.004358             -0.006033   \n",
      "2023-06-21 09:46:00        -0.000245             -0.002027   \n",
      "2023-06-21 09:47:00        -0.005286             -0.000542   \n",
      "2023-06-21 09:48:00         0.003625              0.006946   \n",
      "2023-06-21 09:49:00         0.001213              0.004196   \n",
      "...                              ...                   ...   \n",
      "2023-06-27 14:43:00         0.000878              0.002930   \n",
      "2023-06-27 14:44:00         0.003265              0.002813   \n",
      "2023-06-27 14:45:00        -0.000834             -0.000373   \n",
      "2023-06-27 14:46:00        -0.001215              0.001046   \n",
      "2023-06-27 14:47:00         0.002134              0.004161   \n",
      "\n",
      "                     Target_Avg_10min_Mean  Target_Avg_15min_Mean  \\\n",
      "Timestamp                                                           \n",
      "2023-06-21 09:45:00              -0.003711              -0.001846   \n",
      "2023-06-21 09:46:00               0.000876               0.002362   \n",
      "2023-06-21 09:47:00               0.001479               0.001695   \n",
      "2023-06-21 09:48:00               0.007503               0.005742   \n",
      "2023-06-21 09:49:00               0.004224               0.000991   \n",
      "...                                    ...                    ...   \n",
      "2023-06-27 14:43:00               0.005366               0.009830   \n",
      "2023-06-27 14:44:00               0.005419              -0.091438   \n",
      "2023-06-27 14:45:00               0.002935              -0.194432   \n",
      "2023-06-27 14:46:00               0.004559              -0.192935   \n",
      "2023-06-27 14:47:00               0.006793              -0.292902   \n",
      "\n",
      "                     Vol_5min_Close  Vol_10min_Close  Vol_15min_Close  \\\n",
      "Timestamp                                                               \n",
      "2023-06-21 09:45:00        0.472369         3.172464         3.388234   \n",
      "2023-06-21 09:46:00        0.517979         2.970128         2.891079   \n",
      "2023-06-21 09:47:00        0.626343         2.372833         3.085833   \n",
      "2023-06-21 09:48:00        1.146666         2.199724         3.207326   \n",
      "2023-06-21 09:49:00        0.901370         1.180290         3.294882   \n",
      "...                             ...              ...              ...   \n",
      "2023-06-27 14:43:00        0.646794         0.561898         0.913219   \n",
      "2023-06-27 14:44:00        0.775330         0.634620         0.817042   \n",
      "2023-06-27 14:45:00        1.024618         0.774721         0.681721   \n",
      "2023-06-27 14:46:00        0.759532         0.772163         0.684665   \n",
      "2023-06-27 14:47:00        0.335358         0.785314         0.695551   \n",
      "\n",
      "                     Sharpe_Log_ret_1min/Vol_5min_Close  \\\n",
      "Timestamp                                                 \n",
      "2023-06-21 09:45:00                           -0.004303   \n",
      "2023-06-21 09:46:00                           -0.002025   \n",
      "2023-06-21 09:47:00                           -0.003586   \n",
      "2023-06-21 09:48:00                           -0.003441   \n",
      "2023-06-21 09:49:00                            0.004158   \n",
      "...                                                 ...   \n",
      "2023-06-27 14:43:00                            0.005686   \n",
      "2023-06-27 14:44:00                            0.001013   \n",
      "2023-06-27 14:45:00                            0.001876   \n",
      "2023-06-27 14:46:00                           -0.002171   \n",
      "2023-06-27 14:47:00                           -0.002043   \n",
      "\n",
      "                     Sharpe_Log_ret_1min/Vol_10min_Close  \\\n",
      "Timestamp                                                  \n",
      "2023-06-21 09:45:00                            -0.000641   \n",
      "2023-06-21 09:46:00                            -0.000353   \n",
      "2023-06-21 09:47:00                            -0.000947   \n",
      "2023-06-21 09:48:00                            -0.001794   \n",
      "2023-06-21 09:49:00                             0.003175   \n",
      "...                                                  ...   \n",
      "2023-06-27 14:43:00                             0.006546   \n",
      "2023-06-27 14:44:00                             0.001237   \n",
      "2023-06-27 14:45:00                             0.002482   \n",
      "2023-06-27 14:46:00                            -0.002135   \n",
      "2023-06-27 14:47:00                            -0.000872   \n",
      "\n",
      "                     Sharpe_Log_ret_1min/Vol_15min_Close  \n",
      "Timestamp                                                 \n",
      "2023-06-21 09:45:00                            -0.000600  \n",
      "2023-06-21 09:46:00                            -0.000363  \n",
      "2023-06-21 09:47:00                            -0.000728  \n",
      "2023-06-21 09:48:00                            -0.001230  \n",
      "2023-06-21 09:49:00                             0.001137  \n",
      "...                                                  ...  \n",
      "2023-06-27 14:43:00                             0.004027  \n",
      "2023-06-27 14:44:00                             0.000961  \n",
      "2023-06-27 14:45:00                             0.002820  \n",
      "2023-06-27 14:46:00                            -0.002408  \n",
      "2023-06-27 14:47:00                            -0.000985  \n",
      "\n",
      "[664 rows x 33 columns]\n"
     ]
    }
   ],
   "source": [
    "print(df.shape)\n",
    "\n",
    "df = df[(df['Target_Close_1min'] != 0)\n",
    "                      & (df['Target_Close_5min_Mean'] != 0)\n",
    "                      & (df['Target_Close_10min_Mean'] != 0)\n",
    "                      & (df['Target_Close_15min_Mean'] != 0)\n",
    "                     ]\n",
    "pd.set_option ('mode.use_inf_as_na', True)\n",
    "df = df.dropna()\n",
    "\n",
    "print(df)"
   ]
  },
  {
   "cell_type": "markdown",
   "metadata": {},
   "source": [
    "Saving CSV"
   ]
  },
  {
   "cell_type": "code",
   "execution_count": 108,
   "metadata": {},
   "outputs": [],
   "source": [
    "df.to_csv(PATH_WRITE)"
   ]
  }
 ],
 "metadata": {
  "kernelspec": {
   "display_name": "Python 3 (ipykernel)",
   "language": "python",
   "name": "python3"
  },
  "language_info": {
   "codemirror_mode": {
    "name": "ipython",
    "version": 3
   },
   "file_extension": ".py",
   "mimetype": "text/x-python",
   "name": "python",
   "nbconvert_exporter": "python",
   "pygments_lexer": "ipython3",
   "version": "3.10.9"
  },
  "orig_nbformat": 4
 },
 "nbformat": 4,
 "nbformat_minor": 2
}
