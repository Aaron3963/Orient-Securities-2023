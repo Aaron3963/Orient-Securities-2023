{
 "cells": [
  {
   "cell_type": "code",
   "execution_count": 20,
   "metadata": {},
   "outputs": [],
   "source": [
    "import pandas as pd\n",
    "import numpy as np\n",
    "import seaborn as sns\n",
    "\n",
    "PATH_READ = 'train_with_features_v2.csv'\n",
    "PATH_WRITE = 'train_with_features_TB.csv'\n",
    "df = pd.read_csv(PATH_READ)"
   ]
  },
  {
   "cell_type": "code",
   "execution_count": 21,
   "metadata": {},
   "outputs": [
    {
     "name": "stdout",
     "output_type": "stream",
     "text": [
      "0            NaN\n",
      "1            NaN\n",
      "2       0.000609\n",
      "3       0.002759\n",
      "4       0.002312\n",
      "          ...   \n",
      "2890    0.002385\n",
      "2891    0.002369\n",
      "2892    0.002346\n",
      "2893    0.002398\n",
      "2894    0.002376\n",
      "Name: Return, Length: 2895, dtype: float64\n"
     ]
    }
   ],
   "source": [
    "def getDailyVol(data, span=100):\n",
    "    df = data.assign(Return = lambda x: data['Close'] / data['Close'].shift(1)-1)\n",
    "    sigma = df['Return'].ewm(span=span).std()\n",
    "    return sigma\n",
    "\n",
    "vol = getDailyVol(data=df)\n",
    "print(vol)"
   ]
  },
  {
   "cell_type": "code",
   "execution_count": 22,
   "metadata": {},
   "outputs": [
    {
     "name": "stdout",
     "output_type": "stream",
     "text": [
      "               Timestamp                  VB       Vol\n",
      "0    2023-06-01 09:45:00 2023-06-01 10:00:00       NaN\n",
      "1    2023-06-01 09:46:00 2023-06-01 10:01:00       NaN\n",
      "2    2023-06-01 09:47:00 2023-06-01 10:02:00  0.000609\n",
      "3    2023-06-01 09:48:00 2023-06-01 10:03:00  0.002759\n",
      "4    2023-06-01 09:49:00 2023-06-01 10:04:00  0.002312\n",
      "...                  ...                 ...       ...\n",
      "2890 2023-06-20 14:42:00 2023-06-20 14:57:00  0.002385\n",
      "2891 2023-06-20 14:43:00 2023-06-20 14:58:00  0.002369\n",
      "2892 2023-06-20 14:44:00 2023-06-20 14:59:00  0.002346\n",
      "2893 2023-06-20 14:46:00 2023-06-20 15:01:00  0.002398\n",
      "2894 2023-06-20 14:47:00 2023-06-20 15:02:00  0.002376\n",
      "\n",
      "[2895 rows x 3 columns]\n"
     ]
    }
   ],
   "source": [
    "df['Timestamp'] = pd.to_datetime(df['Timestamp'])\n",
    "\n",
    "events = df[['Timestamp']].copy(deep=True)\n",
    "events['VB'] = df['Timestamp'] + pd.Timedelta(minutes=15)\n",
    "events['Vol'] = vol\n",
    "\n",
    "print(events)"
   ]
  },
  {
   "cell_type": "code",
   "execution_count": 23,
   "metadata": {},
   "outputs": [],
   "source": [
    "def TBL(df, events, width):\n",
    "    \n",
    "    res = events[['Timestamp', 'VB']].copy(deep=True)\n",
    "    \n",
    "    if width[0] > 0: events['UB'] = width[0]*events['Vol']\n",
    "    else: events['UB'] = np.nan\n",
    "        \n",
    "    if width[1] > 0: events['DB'] = -width[1]*events['Vol']\n",
    "    else: events['DB'] = np.nan\n",
    "        \n",
    "    for col,date,vb in res.itertuples():\n",
    "        df0 = df[(df['Timestamp'] > date) & (df['Timestamp'] < vb)].copy(deep=True)\n",
    "        df0['Return'] = df0['Close'] / df.loc[df['Timestamp'] == date, 'Close'].iloc[0]-1\n",
    "        \n",
    "        idx = (res['Timestamp'] == date)\n",
    "        \n",
    "        res.loc[idx, 'ut'] = df0.loc[df0['Return'] > events.loc[idx,'UB'].iloc[0], 'Timestamp'].min()\n",
    "        res.loc[idx, 'dt'] = df0.loc[df0['Return'] < events.loc[idx,'DB'].iloc[0], 'Timestamp'].min()\n",
    "            \n",
    "    return res"
   ]
  },
  {
   "cell_type": "code",
   "execution_count": 25,
   "metadata": {},
   "outputs": [
    {
     "name": "stdout",
     "output_type": "stream",
     "text": [
      "               Timestamp                  VB                  ut  \\\n",
      "0    2023-06-01 09:45:00 2023-06-01 10:00:00                 NaT   \n",
      "1    2023-06-01 09:46:00 2023-06-01 10:01:00                 NaT   \n",
      "2    2023-06-01 09:47:00 2023-06-01 10:02:00 2023-06-01 09:48:00   \n",
      "3    2023-06-01 09:48:00 2023-06-01 10:03:00 2023-06-01 09:52:00   \n",
      "4    2023-06-01 09:49:00 2023-06-01 10:04:00 2023-06-01 09:52:00   \n",
      "...                  ...                 ...                 ...   \n",
      "2890 2023-06-20 14:42:00 2023-06-20 14:57:00                 NaT   \n",
      "2891 2023-06-20 14:43:00 2023-06-20 14:58:00                 NaT   \n",
      "2892 2023-06-20 14:44:00 2023-06-20 14:59:00                 NaT   \n",
      "2893 2023-06-20 14:46:00 2023-06-20 15:01:00                 NaT   \n",
      "2894 2023-06-20 14:47:00 2023-06-20 15:02:00                 NaT   \n",
      "\n",
      "                      dt               First  \n",
      "0                    NaT 2023-06-01 10:00:00  \n",
      "1                    NaT 2023-06-01 10:01:00  \n",
      "2                    NaT 2023-06-01 09:48:00  \n",
      "3                    NaT 2023-06-01 09:52:00  \n",
      "4    2023-06-01 10:03:00 2023-06-01 09:52:00  \n",
      "...                  ...                 ...  \n",
      "2890 2023-06-20 14:46:00 2023-06-20 14:46:00  \n",
      "2891 2023-06-20 14:46:00 2023-06-20 14:46:00  \n",
      "2892 2023-06-20 14:46:00 2023-06-20 14:46:00  \n",
      "2893                 NaT 2023-06-20 15:01:00  \n",
      "2894                 NaT 2023-06-20 15:02:00  \n",
      "\n",
      "[2895 rows x 5 columns]\n"
     ]
    }
   ],
   "source": [
    "def get_first_touch(df, events, width):\n",
    "    res = TBL(df, events, width)\n",
    "    res['First'] = res[['VB', 'ut', 'dt']].dropna(how='all').min(axis=1)\n",
    "    return res\n",
    "\n",
    "result = get_first_touch(df,events,width = [1,1])\n",
    "print(result)"
   ]
  },
  {
   "cell_type": "code",
   "execution_count": 27,
   "metadata": {},
   "outputs": [
    {
     "name": "stdout",
     "output_type": "stream",
     "text": [
      "               Timestamp    Return  Label\n",
      "0    2023-06-01 09:45:00  0.001161    1.0\n",
      "1    2023-06-01 09:46:00 -0.002130   -1.0\n",
      "2    2023-06-01 09:47:00  0.002333    1.0\n",
      "3    2023-06-01 09:48:00  0.005335    1.0\n",
      "4    2023-06-01 09:49:00  0.004978    1.0\n",
      "...                  ...       ...    ...\n",
      "2888 2023-06-20 14:40:00 -0.005273   -1.0\n",
      "2889 2023-06-20 14:41:00 -0.002551   -1.0\n",
      "2890 2023-06-20 14:42:00 -0.005873   -1.0\n",
      "2891 2023-06-20 14:43:00 -0.004606   -1.0\n",
      "2892 2023-06-20 14:44:00 -0.004189   -1.0\n",
      "\n",
      "[2786 rows x 3 columns]\n"
     ]
    }
   ],
   "source": [
    "def get_label(df,result):\n",
    "    result = result.dropna(subset=['First'])\n",
    "    outcome = result[['Timestamp']].copy(deep=True)\n",
    "    \n",
    "    price_t0 = pd.merge(result,df,on=['Timestamp'],how='left')['Close']\n",
    "    price_t1 = pd.merge(result,df,left_on=['First'], right_on=['Timestamp'], how = 'left')['Close']\n",
    "    \n",
    "    outcome['Return'] = price_t1/price_t0-1\n",
    "    outcome['Label'] = np.sign(outcome['Return'].dropna())\n",
    "    \n",
    "    return outcome.dropna()\n",
    "\n",
    "outcome = get_label(df,result)\n",
    "print(outcome)"
   ]
  }
 ],
 "metadata": {
  "kernelspec": {
   "display_name": "Python 3 (ipykernel)",
   "language": "python",
   "name": "python3"
  },
  "language_info": {
   "codemirror_mode": {
    "name": "ipython",
    "version": 3
   },
   "file_extension": ".py",
   "mimetype": "text/x-python",
   "name": "python",
   "nbconvert_exporter": "python",
   "pygments_lexer": "ipython3",
   "version": "3.10.9"
  },
  "orig_nbformat": 4
 },
 "nbformat": 4,
 "nbformat_minor": 2
}
