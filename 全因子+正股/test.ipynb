{
 "cells": [
  {
   "cell_type": "code",
   "execution_count": 2,
   "metadata": {},
   "outputs": [
    {
     "name": "stdout",
     "output_type": "stream",
     "text": [
      "Correlation: 0.9999401874026429\n"
     ]
    }
   ],
   "source": [
    "import pandas as pd\n",
    "import talib\n",
    "\n",
    "df = pd.read_csv('123181_train_raw.csv')\n",
    "\n",
    "df['Avg_VT'] = df['Turnover']/df['Volume']\n",
    "df['Avg_VT'].fillna(df['Close'], inplace=True)\n",
    "\n",
    "df['Avg_TA'] = talib.AVGPRICE(df['Open'], df['High'], df['Low'], df['Close'])\n",
    "\n",
    "\n",
    "\n",
    "p_corr = df['Close'].corr(df['Avg_TA'])\n",
    "\n",
    "print(\"Correlation: \" + str(p_corr))\n"
   ]
  }
 ],
 "metadata": {
  "kernelspec": {
   "display_name": "base",
   "language": "python",
   "name": "python3"
  },
  "language_info": {
   "codemirror_mode": {
    "name": "ipython",
    "version": 3
   },
   "file_extension": ".py",
   "mimetype": "text/x-python",
   "name": "python",
   "nbconvert_exporter": "python",
   "pygments_lexer": "ipython3",
   "version": "3.10.9"
  },
  "orig_nbformat": 4
 },
 "nbformat": 4,
 "nbformat_minor": 2
}
