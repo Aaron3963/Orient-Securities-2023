{
 "cells": [
  {
   "cell_type": "code",
   "execution_count": 13,
   "metadata": {},
   "outputs": [
    {
     "name": "stdout",
     "output_type": "stream",
     "text": [
      "   Data1  Data2  Column\n",
      "B   20.0   15.0     100\n",
      "C   30.0   25.0     200\n",
      "D   40.0   35.0     300\n",
      "F    NaN    NaN     400\n"
     ]
    }
   ],
   "source": [
    "import pandas as pd\n",
    "\n",
    "# Create a sample DataFrame and a column DataFrame\n",
    "data = {'Data1': [10, 20, 30, 40, 50],\n",
    "        'Data2': [5, 15, 25, 35, 45]}\n",
    "df_main = pd.DataFrame(data, index=['A', 'B', 'C', 'D', 'E'])\n",
    "\n",
    "column_data = {'Column': [100, 200, 300, 400]}\n",
    "df_column = pd.DataFrame(column_data, index =['B', 'C', 'D', 'F'])\n",
    "\n",
    "# Merge the column data into the main DataFrame using 'Index' as the key\n",
    "merged_df = df_main.merge(df_column, how='right',left_index=True,right_index=True)\n",
    "\n",
    "# merged_df = merged_df.set_index('Index')\n",
    "# Drop the 'Index' column and keep only the relevant columns\n",
    "\n",
    "\n",
    "print(merged_df)\n"
   ]
  }
 ],
 "metadata": {
  "kernelspec": {
   "display_name": "base",
   "language": "python",
   "name": "python3"
  },
  "language_info": {
   "codemirror_mode": {
    "name": "ipython",
    "version": 3
   },
   "file_extension": ".py",
   "mimetype": "text/x-python",
   "name": "python",
   "nbconvert_exporter": "python",
   "pygments_lexer": "ipython3",
   "version": "3.10.9"
  },
  "orig_nbformat": 4
 },
 "nbformat": 4,
 "nbformat_minor": 2
}
