{
 "cells": [
  {
   "cell_type": "code",
   "execution_count": 1,
   "metadata": {},
   "outputs": [
    {
     "name": "stdout",
     "output_type": "stream",
     "text": [
      "Index(['tta_BOP', 'tta_NATR_timeperiod_7',\n",
      "       'tta_STOCHRSI_timeperiod_19_fastk_period_4_fastd_period_11_0',\n",
      "       'tta_STOCHRSI_timeperiod_19_fastk_period_4_fastd_period_11_1',\n",
      "       'tta_CDLCLOSINGMARUBOZU',\n",
      "       'tta_MACD_fastperiod_33_slowperiod_4_signalperiod_37_0',\n",
      "       'tta_MACD_fastperiod_33_slowperiod_4_signalperiod_37_1',\n",
      "       'tta_MACD_fastperiod_33_slowperiod_4_signalperiod_37_2',\n",
      "       'tta_MINUS_DM_timeperiod_7',\n",
      "       'tta_ULTOSC_timeperiod1_38_timeperiod2_6_timeperiod3_27',\n",
      "       ...\n",
      "       'STOCK_tta_CDLSEPARATINGLINES', 'STOCK_tta_CDLHANGINGMAN',\n",
      "       'STOCK_tta_CDL3INSIDE', 'STOCK_tta_CDLDOJISTAR',\n",
      "       'STOCK_tta_CDLSHOOTINGSTAR', 'STOCK_tta_CDLHARAMICROSS',\n",
      "       'STOCK_tta_CDLTHRUSTING', 'STOCK_tta_CDLHOMINGPIGEON',\n",
      "       'STOCK_tta_CDLSTALLEDPATTERN', 'Flag_5low'],\n",
      "      dtype='object', length=142)\n"
     ]
    }
   ],
   "source": [
    "import pycaret\n",
    "import pandas as pd\n",
    "\n",
    "# from pycaret.regression import *\n",
    "\n",
    "TRAIN_PATH = 'train_withF_VT_Avg_1min_FULL.csv'\n",
    "TEST_PATH = 'test_withF_VT_Avg_1min_FULL.csv'\n",
    "\n",
    "train = pd.read_csv(TRAIN_PATH,index_col='Timestamp')\n",
    "test = pd.read_csv(TEST_PATH,index_col='Timestamp')\n",
    "\n",
    "# target_train = train['Flag_5low']\n",
    "# target_test = test['Flag_5low']\n",
    "\n",
    "# # train = train.iloc[:, 0:66]\n",
    "# # test = test.iloc[:, 0:66]\n",
    "\n",
    "# train['Target_Close_1min'] = target_train\n",
    "# test['Target_Close_1min'] = target_test\n",
    "\n",
    "train.drop(columns=['Target_Avg_1min'], inplace=True)\n",
    "test.drop(columns=['Target_Avg_1min'], inplace=True)\n",
    "\n",
    "print(train.columns)"
   ]
  },
  {
   "cell_type": "code",
   "execution_count": 2,
   "metadata": {},
   "outputs": [],
   "source": [
    "# percent_zeros = (train == 0).sum() / len(train) * 100\n",
    "\n",
    "# # Identify columns where the percentage of zeros exceeds 90%\n",
    "# columns_to_drop = percent_zeros[percent_zeros >= 90].index\n",
    "\n",
    "# # print(columns_to_drop)\n",
    "\n",
    "# train.drop(columns=columns_to_drop,inplace= True)\n",
    "# test.drop(columns=columns_to_drop,inplace= True)\n",
    "\n",
    "# print(train.columns)\n"
   ]
  },
  {
   "cell_type": "code",
   "execution_count": 3,
   "metadata": {},
   "outputs": [
    {
     "data": {
      "text/plain": [
       "pycaret.classification.oop.ClassificationExperiment"
      ]
     },
     "execution_count": 3,
     "metadata": {},
     "output_type": "execute_result"
    }
   ],
   "source": [
    "# from pycaret.regression import RegressionExperiment\n",
    "from pycaret.classification import *\n",
    "# from pycaret.regression import *\n",
    "exp = ClassificationExperiment()\n",
    "type(exp)"
   ]
  },
  {
   "cell_type": "code",
   "execution_count": 4,
   "metadata": {},
   "outputs": [
    {
     "data": {
      "text/html": [
       "<style type=\"text/css\">\n",
       "</style>\n",
       "<table id=\"T_6407c\">\n",
       "  <thead>\n",
       "    <tr>\n",
       "      <th class=\"blank level0\" >&nbsp;</th>\n",
       "      <th id=\"T_6407c_level0_col0\" class=\"col_heading level0 col0\" >Description</th>\n",
       "      <th id=\"T_6407c_level0_col1\" class=\"col_heading level0 col1\" >Value</th>\n",
       "    </tr>\n",
       "  </thead>\n",
       "  <tbody>\n",
       "    <tr>\n",
       "      <th id=\"T_6407c_level0_row0\" class=\"row_heading level0 row0\" >0</th>\n",
       "      <td id=\"T_6407c_row0_col0\" class=\"data row0 col0\" >Session id</td>\n",
       "      <td id=\"T_6407c_row0_col1\" class=\"data row0 col1\" >123</td>\n",
       "    </tr>\n",
       "    <tr>\n",
       "      <th id=\"T_6407c_level0_row1\" class=\"row_heading level0 row1\" >1</th>\n",
       "      <td id=\"T_6407c_row1_col0\" class=\"data row1 col0\" >Target</td>\n",
       "      <td id=\"T_6407c_row1_col1\" class=\"data row1 col1\" >Flag_5low</td>\n",
       "    </tr>\n",
       "    <tr>\n",
       "      <th id=\"T_6407c_level0_row2\" class=\"row_heading level0 row2\" >2</th>\n",
       "      <td id=\"T_6407c_row2_col0\" class=\"data row2 col0\" >Target type</td>\n",
       "      <td id=\"T_6407c_row2_col1\" class=\"data row2 col1\" >Binary</td>\n",
       "    </tr>\n",
       "    <tr>\n",
       "      <th id=\"T_6407c_level0_row3\" class=\"row_heading level0 row3\" >3</th>\n",
       "      <td id=\"T_6407c_row3_col0\" class=\"data row3 col0\" >Original data shape</td>\n",
       "      <td id=\"T_6407c_row3_col1\" class=\"data row3 col1\" >(5408, 142)</td>\n",
       "    </tr>\n",
       "    <tr>\n",
       "      <th id=\"T_6407c_level0_row4\" class=\"row_heading level0 row4\" >4</th>\n",
       "      <td id=\"T_6407c_row4_col0\" class=\"data row4 col0\" >Transformed data shape</td>\n",
       "      <td id=\"T_6407c_row4_col1\" class=\"data row4 col1\" >(5408, 142)</td>\n",
       "    </tr>\n",
       "    <tr>\n",
       "      <th id=\"T_6407c_level0_row5\" class=\"row_heading level0 row5\" >5</th>\n",
       "      <td id=\"T_6407c_row5_col0\" class=\"data row5 col0\" >Transformed train set shape</td>\n",
       "      <td id=\"T_6407c_row5_col1\" class=\"data row5 col1\" >(3785, 142)</td>\n",
       "    </tr>\n",
       "    <tr>\n",
       "      <th id=\"T_6407c_level0_row6\" class=\"row_heading level0 row6\" >6</th>\n",
       "      <td id=\"T_6407c_row6_col0\" class=\"data row6 col0\" >Transformed test set shape</td>\n",
       "      <td id=\"T_6407c_row6_col1\" class=\"data row6 col1\" >(1623, 142)</td>\n",
       "    </tr>\n",
       "    <tr>\n",
       "      <th id=\"T_6407c_level0_row7\" class=\"row_heading level0 row7\" >7</th>\n",
       "      <td id=\"T_6407c_row7_col0\" class=\"data row7 col0\" >Numeric features</td>\n",
       "      <td id=\"T_6407c_row7_col1\" class=\"data row7 col1\" >141</td>\n",
       "    </tr>\n",
       "  </tbody>\n",
       "</table>\n"
      ],
      "text/plain": [
       "<pandas.io.formats.style.Styler at 0x208407bf7c0>"
      ]
     },
     "metadata": {},
     "output_type": "display_data"
    },
    {
     "data": {
      "text/plain": [
       "<pycaret.classification.oop.ClassificationExperiment at 0x2083e8211b0>"
      ]
     },
     "execution_count": 4,
     "metadata": {},
     "output_type": "execute_result"
    }
   ],
   "source": [
    "setup(data=train, preprocess = False, feature_selection= True,target='Flag_5low', session_id = 123)"
   ]
  },
  {
   "cell_type": "code",
   "execution_count": 5,
   "metadata": {},
   "outputs": [
    {
     "data": {
      "text/html": [],
      "text/plain": [
       "<IPython.core.display.HTML object>"
      ]
     },
     "metadata": {},
     "output_type": "display_data"
    },
    {
     "data": {
      "text/html": [
       "<style type=\"text/css\">\n",
       "#T_75e07 th {\n",
       "  text-align: left;\n",
       "}\n",
       "#T_75e07_row0_col0, #T_75e07_row0_col2, #T_75e07_row0_col3, #T_75e07_row0_col4, #T_75e07_row0_col6, #T_75e07_row0_col7, #T_75e07_row1_col0, #T_75e07_row1_col1, #T_75e07_row1_col3, #T_75e07_row1_col4, #T_75e07_row1_col5, #T_75e07_row2_col0, #T_75e07_row2_col1, #T_75e07_row2_col2, #T_75e07_row2_col3, #T_75e07_row2_col4, #T_75e07_row2_col5, #T_75e07_row2_col6, #T_75e07_row2_col7, #T_75e07_row3_col0, #T_75e07_row3_col1, #T_75e07_row3_col2, #T_75e07_row3_col3, #T_75e07_row3_col4, #T_75e07_row3_col5, #T_75e07_row3_col6, #T_75e07_row3_col7, #T_75e07_row4_col0, #T_75e07_row4_col1, #T_75e07_row4_col2, #T_75e07_row4_col3, #T_75e07_row4_col4, #T_75e07_row4_col5, #T_75e07_row4_col6, #T_75e07_row4_col7, #T_75e07_row5_col0, #T_75e07_row5_col1, #T_75e07_row5_col2, #T_75e07_row5_col3, #T_75e07_row5_col4, #T_75e07_row5_col5, #T_75e07_row5_col6, #T_75e07_row5_col7, #T_75e07_row6_col0, #T_75e07_row6_col1, #T_75e07_row6_col2, #T_75e07_row6_col3, #T_75e07_row6_col4, #T_75e07_row6_col5, #T_75e07_row6_col6, #T_75e07_row6_col7, #T_75e07_row7_col0, #T_75e07_row7_col1, #T_75e07_row7_col2, #T_75e07_row7_col3, #T_75e07_row7_col4, #T_75e07_row7_col5, #T_75e07_row7_col6, #T_75e07_row7_col7, #T_75e07_row8_col0, #T_75e07_row8_col1, #T_75e07_row8_col2, #T_75e07_row8_col4, #T_75e07_row8_col5, #T_75e07_row8_col6, #T_75e07_row8_col7, #T_75e07_row9_col0, #T_75e07_row9_col1, #T_75e07_row9_col2, #T_75e07_row9_col3, #T_75e07_row9_col4, #T_75e07_row9_col5, #T_75e07_row9_col6, #T_75e07_row9_col7, #T_75e07_row10_col0, #T_75e07_row10_col1, #T_75e07_row10_col2, #T_75e07_row10_col3, #T_75e07_row10_col4, #T_75e07_row10_col5, #T_75e07_row10_col6, #T_75e07_row10_col7, #T_75e07_row11_col0, #T_75e07_row11_col1, #T_75e07_row11_col2, #T_75e07_row11_col3, #T_75e07_row11_col4, #T_75e07_row11_col5, #T_75e07_row11_col6, #T_75e07_row11_col7, #T_75e07_row12_col0, #T_75e07_row12_col1, #T_75e07_row12_col2, #T_75e07_row12_col3, #T_75e07_row12_col4, #T_75e07_row12_col5, #T_75e07_row12_col6, #T_75e07_row12_col7, #T_75e07_row13_col0, #T_75e07_row13_col1, #T_75e07_row13_col2, #T_75e07_row13_col3, #T_75e07_row13_col5, #T_75e07_row13_col6, #T_75e07_row13_col7 {\n",
       "  text-align: left;\n",
       "}\n",
       "#T_75e07_row0_col1, #T_75e07_row0_col5, #T_75e07_row1_col2, #T_75e07_row1_col6, #T_75e07_row1_col7, #T_75e07_row8_col3, #T_75e07_row13_col4 {\n",
       "  text-align: left;\n",
       "  background-color: yellow;\n",
       "}\n",
       "#T_75e07_row0_col8, #T_75e07_row1_col8, #T_75e07_row2_col8, #T_75e07_row3_col8, #T_75e07_row4_col8, #T_75e07_row6_col8, #T_75e07_row7_col8, #T_75e07_row8_col8, #T_75e07_row9_col8, #T_75e07_row10_col8, #T_75e07_row11_col8, #T_75e07_row12_col8, #T_75e07_row13_col8 {\n",
       "  text-align: left;\n",
       "  background-color: lightgrey;\n",
       "}\n",
       "#T_75e07_row5_col8 {\n",
       "  text-align: left;\n",
       "  background-color: yellow;\n",
       "  background-color: lightgrey;\n",
       "}\n",
       "</style>\n",
       "<table id=\"T_75e07\">\n",
       "  <thead>\n",
       "    <tr>\n",
       "      <th class=\"blank level0\" >&nbsp;</th>\n",
       "      <th id=\"T_75e07_level0_col0\" class=\"col_heading level0 col0\" >Model</th>\n",
       "      <th id=\"T_75e07_level0_col1\" class=\"col_heading level0 col1\" >Accuracy</th>\n",
       "      <th id=\"T_75e07_level0_col2\" class=\"col_heading level0 col2\" >AUC</th>\n",
       "      <th id=\"T_75e07_level0_col3\" class=\"col_heading level0 col3\" >Recall</th>\n",
       "      <th id=\"T_75e07_level0_col4\" class=\"col_heading level0 col4\" >Prec.</th>\n",
       "      <th id=\"T_75e07_level0_col5\" class=\"col_heading level0 col5\" >F1</th>\n",
       "      <th id=\"T_75e07_level0_col6\" class=\"col_heading level0 col6\" >Kappa</th>\n",
       "      <th id=\"T_75e07_level0_col7\" class=\"col_heading level0 col7\" >MCC</th>\n",
       "      <th id=\"T_75e07_level0_col8\" class=\"col_heading level0 col8\" >TT (Sec)</th>\n",
       "    </tr>\n",
       "  </thead>\n",
       "  <tbody>\n",
       "    <tr>\n",
       "      <th id=\"T_75e07_level0_row0\" class=\"row_heading level0 row0\" >rf</th>\n",
       "      <td id=\"T_75e07_row0_col0\" class=\"data row0 col0\" >Random Forest Classifier</td>\n",
       "      <td id=\"T_75e07_row0_col1\" class=\"data row0 col1\" >0.7395</td>\n",
       "      <td id=\"T_75e07_row0_col2\" class=\"data row0 col2\" >0.7416</td>\n",
       "      <td id=\"T_75e07_row0_col3\" class=\"data row0 col3\" >0.9306</td>\n",
       "      <td id=\"T_75e07_row0_col4\" class=\"data row0 col4\" >0.7560</td>\n",
       "      <td id=\"T_75e07_row0_col5\" class=\"data row0 col5\" >0.8342</td>\n",
       "      <td id=\"T_75e07_row0_col6\" class=\"data row0 col6\" >0.2556</td>\n",
       "      <td id=\"T_75e07_row0_col7\" class=\"data row0 col7\" >0.2892</td>\n",
       "      <td id=\"T_75e07_row0_col8\" class=\"data row0 col8\" >1.5510</td>\n",
       "    </tr>\n",
       "    <tr>\n",
       "      <th id=\"T_75e07_level0_row1\" class=\"row_heading level0 row1\" >lightgbm</th>\n",
       "      <td id=\"T_75e07_row1_col0\" class=\"data row1 col0\" >Light Gradient Boosting Machine</td>\n",
       "      <td id=\"T_75e07_row1_col1\" class=\"data row1 col1\" >0.7392</td>\n",
       "      <td id=\"T_75e07_row1_col2\" class=\"data row1 col2\" >0.7531</td>\n",
       "      <td id=\"T_75e07_row1_col3\" class=\"data row1 col3\" >0.9006</td>\n",
       "      <td id=\"T_75e07_row1_col4\" class=\"data row1 col4\" >0.7690</td>\n",
       "      <td id=\"T_75e07_row1_col5\" class=\"data row1 col5\" >0.8295</td>\n",
       "      <td id=\"T_75e07_row1_col6\" class=\"data row1 col6\" >0.2895</td>\n",
       "      <td id=\"T_75e07_row1_col7\" class=\"data row1 col7\" >0.3072</td>\n",
       "      <td id=\"T_75e07_row1_col8\" class=\"data row1 col8\" >1.5950</td>\n",
       "    </tr>\n",
       "    <tr>\n",
       "      <th id=\"T_75e07_level0_row2\" class=\"row_heading level0 row2\" >et</th>\n",
       "      <td id=\"T_75e07_row2_col0\" class=\"data row2 col0\" >Extra Trees Classifier</td>\n",
       "      <td id=\"T_75e07_row2_col1\" class=\"data row2 col1\" >0.7376</td>\n",
       "      <td id=\"T_75e07_row2_col2\" class=\"data row2 col2\" >0.7351</td>\n",
       "      <td id=\"T_75e07_row2_col3\" class=\"data row2 col3\" >0.9239</td>\n",
       "      <td id=\"T_75e07_row2_col4\" class=\"data row2 col4\" >0.7573</td>\n",
       "      <td id=\"T_75e07_row2_col5\" class=\"data row2 col5\" >0.8323</td>\n",
       "      <td id=\"T_75e07_row2_col6\" class=\"data row2 col6\" >0.2565</td>\n",
       "      <td id=\"T_75e07_row2_col7\" class=\"data row2 col7\" >0.2854</td>\n",
       "      <td id=\"T_75e07_row2_col8\" class=\"data row2 col8\" >1.4980</td>\n",
       "    </tr>\n",
       "    <tr>\n",
       "      <th id=\"T_75e07_level0_row3\" class=\"row_heading level0 row3\" >gbc</th>\n",
       "      <td id=\"T_75e07_row3_col0\" class=\"data row3 col0\" >Gradient Boosting Classifier</td>\n",
       "      <td id=\"T_75e07_row3_col1\" class=\"data row3 col1\" >0.7263</td>\n",
       "      <td id=\"T_75e07_row3_col2\" class=\"data row3 col2\" >0.7193</td>\n",
       "      <td id=\"T_75e07_row3_col3\" class=\"data row3 col3\" >0.9126</td>\n",
       "      <td id=\"T_75e07_row3_col4\" class=\"data row3 col4\" >0.7519</td>\n",
       "      <td id=\"T_75e07_row3_col5\" class=\"data row3 col5\" >0.8245</td>\n",
       "      <td id=\"T_75e07_row3_col6\" class=\"data row3 col6\" >0.2287</td>\n",
       "      <td id=\"T_75e07_row3_col7\" class=\"data row3 col7\" >0.2530</td>\n",
       "      <td id=\"T_75e07_row3_col8\" class=\"data row3 col8\" >2.3410</td>\n",
       "    </tr>\n",
       "    <tr>\n",
       "      <th id=\"T_75e07_level0_row4\" class=\"row_heading level0 row4\" >ada</th>\n",
       "      <td id=\"T_75e07_row4_col0\" class=\"data row4 col0\" >Ada Boost Classifier</td>\n",
       "      <td id=\"T_75e07_row4_col1\" class=\"data row4 col1\" >0.7163</td>\n",
       "      <td id=\"T_75e07_row4_col2\" class=\"data row4 col2\" >0.6977</td>\n",
       "      <td id=\"T_75e07_row4_col3\" class=\"data row4 col3\" >0.8789</td>\n",
       "      <td id=\"T_75e07_row4_col4\" class=\"data row4 col4\" >0.7573</td>\n",
       "      <td id=\"T_75e07_row4_col5\" class=\"data row4 col5\" >0.8135</td>\n",
       "      <td id=\"T_75e07_row4_col6\" class=\"data row4 col6\" >0.2336</td>\n",
       "      <td id=\"T_75e07_row4_col7\" class=\"data row4 col7\" >0.2456</td>\n",
       "      <td id=\"T_75e07_row4_col8\" class=\"data row4 col8\" >1.5760</td>\n",
       "    </tr>\n",
       "    <tr>\n",
       "      <th id=\"T_75e07_level0_row5\" class=\"row_heading level0 row5\" >ridge</th>\n",
       "      <td id=\"T_75e07_row5_col0\" class=\"data row5 col0\" >Ridge Classifier</td>\n",
       "      <td id=\"T_75e07_row5_col1\" class=\"data row5 col1\" >0.7154</td>\n",
       "      <td id=\"T_75e07_row5_col2\" class=\"data row5 col2\" >0.0000</td>\n",
       "      <td id=\"T_75e07_row5_col3\" class=\"data row5 col3\" >0.9070</td>\n",
       "      <td id=\"T_75e07_row5_col4\" class=\"data row5 col4\" >0.7448</td>\n",
       "      <td id=\"T_75e07_row5_col5\" class=\"data row5 col5\" >0.8178</td>\n",
       "      <td id=\"T_75e07_row5_col6\" class=\"data row5 col6\" >0.1954</td>\n",
       "      <td id=\"T_75e07_row5_col7\" class=\"data row5 col7\" >0.2179</td>\n",
       "      <td id=\"T_75e07_row5_col8\" class=\"data row5 col8\" >1.3030</td>\n",
       "    </tr>\n",
       "    <tr>\n",
       "      <th id=\"T_75e07_level0_row6\" class=\"row_heading level0 row6\" >lda</th>\n",
       "      <td id=\"T_75e07_row6_col0\" class=\"data row6 col0\" >Linear Discriminant Analysis</td>\n",
       "      <td id=\"T_75e07_row6_col1\" class=\"data row6 col1\" >0.7128</td>\n",
       "      <td id=\"T_75e07_row6_col2\" class=\"data row6 col2\" >0.6929</td>\n",
       "      <td id=\"T_75e07_row6_col3\" class=\"data row6 col3\" >0.8848</td>\n",
       "      <td id=\"T_75e07_row6_col4\" class=\"data row6 col4\" >0.7517</td>\n",
       "      <td id=\"T_75e07_row6_col5\" class=\"data row6 col5\" >0.8127</td>\n",
       "      <td id=\"T_75e07_row6_col6\" class=\"data row6 col6\" >0.2135</td>\n",
       "      <td id=\"T_75e07_row6_col7\" class=\"data row6 col7\" >0.2275</td>\n",
       "      <td id=\"T_75e07_row6_col8\" class=\"data row6 col8\" >1.3500</td>\n",
       "    </tr>\n",
       "    <tr>\n",
       "      <th id=\"T_75e07_level0_row7\" class=\"row_heading level0 row7\" >lr</th>\n",
       "      <td id=\"T_75e07_row7_col0\" class=\"data row7 col0\" >Logistic Regression</td>\n",
       "      <td id=\"T_75e07_row7_col1\" class=\"data row7 col1\" >0.7120</td>\n",
       "      <td id=\"T_75e07_row7_col2\" class=\"data row7 col2\" >0.5828</td>\n",
       "      <td id=\"T_75e07_row7_col3\" class=\"data row7 col3\" >0.9846</td>\n",
       "      <td id=\"T_75e07_row7_col4\" class=\"data row7 col4\" >0.7153</td>\n",
       "      <td id=\"T_75e07_row7_col5\" class=\"data row7 col5\" >0.8282</td>\n",
       "      <td id=\"T_75e07_row7_col6\" class=\"data row7 col6\" >0.0586</td>\n",
       "      <td id=\"T_75e07_row7_col7\" class=\"data row7 col7\" >0.0724</td>\n",
       "      <td id=\"T_75e07_row7_col8\" class=\"data row7 col8\" >2.0410</td>\n",
       "    </tr>\n",
       "    <tr>\n",
       "      <th id=\"T_75e07_level0_row8\" class=\"row_heading level0 row8\" >dummy</th>\n",
       "      <td id=\"T_75e07_row8_col0\" class=\"data row8 col0\" >Dummy Classifier</td>\n",
       "      <td id=\"T_75e07_row8_col1\" class=\"data row8 col1\" >0.7044</td>\n",
       "      <td id=\"T_75e07_row8_col2\" class=\"data row8 col2\" >0.5000</td>\n",
       "      <td id=\"T_75e07_row8_col3\" class=\"data row8 col3\" >1.0000</td>\n",
       "      <td id=\"T_75e07_row8_col4\" class=\"data row8 col4\" >0.7044</td>\n",
       "      <td id=\"T_75e07_row8_col5\" class=\"data row8 col5\" >0.8265</td>\n",
       "      <td id=\"T_75e07_row8_col6\" class=\"data row8 col6\" >0.0000</td>\n",
       "      <td id=\"T_75e07_row8_col7\" class=\"data row8 col7\" >0.0000</td>\n",
       "      <td id=\"T_75e07_row8_col8\" class=\"data row8 col8\" >1.3320</td>\n",
       "    </tr>\n",
       "    <tr>\n",
       "      <th id=\"T_75e07_level0_row9\" class=\"row_heading level0 row9\" >nb</th>\n",
       "      <td id=\"T_75e07_row9_col0\" class=\"data row9 col0\" >Naive Bayes</td>\n",
       "      <td id=\"T_75e07_row9_col1\" class=\"data row9 col1\" >0.6996</td>\n",
       "      <td id=\"T_75e07_row9_col2\" class=\"data row9 col2\" >0.6539</td>\n",
       "      <td id=\"T_75e07_row9_col3\" class=\"data row9 col3\" >0.9895</td>\n",
       "      <td id=\"T_75e07_row9_col4\" class=\"data row9 col4\" >0.7040</td>\n",
       "      <td id=\"T_75e07_row9_col5\" class=\"data row9 col5\" >0.8227</td>\n",
       "      <td id=\"T_75e07_row9_col6\" class=\"data row9 col6\" >-0.0020</td>\n",
       "      <td id=\"T_75e07_row9_col7\" class=\"data row9 col7\" >0.0098</td>\n",
       "      <td id=\"T_75e07_row9_col8\" class=\"data row9 col8\" >1.3300</td>\n",
       "    </tr>\n",
       "    <tr>\n",
       "      <th id=\"T_75e07_level0_row10\" class=\"row_heading level0 row10\" >knn</th>\n",
       "      <td id=\"T_75e07_row10_col0\" class=\"data row10 col0\" >K Neighbors Classifier</td>\n",
       "      <td id=\"T_75e07_row10_col1\" class=\"data row10 col1\" >0.6616</td>\n",
       "      <td id=\"T_75e07_row10_col2\" class=\"data row10 col2\" >0.5663</td>\n",
       "      <td id=\"T_75e07_row10_col3\" class=\"data row10 col3\" >0.8488</td>\n",
       "      <td id=\"T_75e07_row10_col4\" class=\"data row10 col4\" >0.7205</td>\n",
       "      <td id=\"T_75e07_row10_col5\" class=\"data row10 col5\" >0.7794</td>\n",
       "      <td id=\"T_75e07_row10_col6\" class=\"data row10 col6\" >0.0732</td>\n",
       "      <td id=\"T_75e07_row10_col7\" class=\"data row10 col7\" >0.0778</td>\n",
       "      <td id=\"T_75e07_row10_col8\" class=\"data row10 col8\" >1.4310</td>\n",
       "    </tr>\n",
       "    <tr>\n",
       "      <th id=\"T_75e07_level0_row11\" class=\"row_heading level0 row11\" >dt</th>\n",
       "      <td id=\"T_75e07_row11_col0\" class=\"data row11 col0\" >Decision Tree Classifier</td>\n",
       "      <td id=\"T_75e07_row11_col1\" class=\"data row11 col1\" >0.6354</td>\n",
       "      <td id=\"T_75e07_row11_col2\" class=\"data row11 col2\" >0.5683</td>\n",
       "      <td id=\"T_75e07_row11_col3\" class=\"data row11 col3\" >0.7326</td>\n",
       "      <td id=\"T_75e07_row11_col4\" class=\"data row11 col4\" >0.7454</td>\n",
       "      <td id=\"T_75e07_row11_col5\" class=\"data row11 col5\" >0.7388</td>\n",
       "      <td id=\"T_75e07_row11_col6\" class=\"data row11 col6\" >0.1350</td>\n",
       "      <td id=\"T_75e07_row11_col7\" class=\"data row11 col7\" >0.1352</td>\n",
       "      <td id=\"T_75e07_row11_col8\" class=\"data row11 col8\" >1.3610</td>\n",
       "    </tr>\n",
       "    <tr>\n",
       "      <th id=\"T_75e07_level0_row12\" class=\"row_heading level0 row12\" >svm</th>\n",
       "      <td id=\"T_75e07_row12_col0\" class=\"data row12 col0\" >SVM - Linear Kernel</td>\n",
       "      <td id=\"T_75e07_row12_col1\" class=\"data row12 col1\" >0.5202</td>\n",
       "      <td id=\"T_75e07_row12_col2\" class=\"data row12 col2\" >0.0000</td>\n",
       "      <td id=\"T_75e07_row12_col3\" class=\"data row12 col3\" >0.5368</td>\n",
       "      <td id=\"T_75e07_row12_col4\" class=\"data row12 col4\" >0.7130</td>\n",
       "      <td id=\"T_75e07_row12_col5\" class=\"data row12 col5\" >0.6041</td>\n",
       "      <td id=\"T_75e07_row12_col6\" class=\"data row12 col6\" >0.0140</td>\n",
       "      <td id=\"T_75e07_row12_col7\" class=\"data row12 col7\" >0.0163</td>\n",
       "      <td id=\"T_75e07_row12_col8\" class=\"data row12 col8\" >1.3260</td>\n",
       "    </tr>\n",
       "    <tr>\n",
       "      <th id=\"T_75e07_level0_row13\" class=\"row_heading level0 row13\" >qda</th>\n",
       "      <td id=\"T_75e07_row13_col0\" class=\"data row13 col0\" >Quadratic Discriminant Analysis</td>\n",
       "      <td id=\"T_75e07_row13_col1\" class=\"data row13 col1\" >0.3120</td>\n",
       "      <td id=\"T_75e07_row13_col2\" class=\"data row13 col2\" >0.6500</td>\n",
       "      <td id=\"T_75e07_row13_col3\" class=\"data row13 col3\" >0.0311</td>\n",
       "      <td id=\"T_75e07_row13_col4\" class=\"data row13 col4\" >0.8102</td>\n",
       "      <td id=\"T_75e07_row13_col5\" class=\"data row13 col5\" >0.0596</td>\n",
       "      <td id=\"T_75e07_row13_col6\" class=\"data row13 col6\" >0.0074</td>\n",
       "      <td id=\"T_75e07_row13_col7\" class=\"data row13 col7\" >0.0360</td>\n",
       "      <td id=\"T_75e07_row13_col8\" class=\"data row13 col8\" >1.3090</td>\n",
       "    </tr>\n",
       "  </tbody>\n",
       "</table>\n"
      ],
      "text/plain": [
       "<pandas.io.formats.style.Styler at 0x2083e8e29e0>"
      ]
     },
     "metadata": {},
     "output_type": "display_data"
    },
    {
     "data": {
      "application/vnd.jupyter.widget-view+json": {
       "model_id": "0179c96915994757b935874ed1dd062e",
       "version_major": 2,
       "version_minor": 0
      },
      "text/plain": [
       "Processing:   0%|          | 0/61 [00:00<?, ?it/s]"
      ]
     },
     "metadata": {},
     "output_type": "display_data"
    }
   ],
   "source": [
    "best = compare_models()"
   ]
  },
  {
   "cell_type": "code",
   "execution_count": 6,
   "metadata": {},
   "outputs": [
    {
     "data": {
      "application/vnd.jupyter.widget-view+json": {
       "model_id": "c4838d22e1904c83969457f3896a6796",
       "version_major": 2,
       "version_minor": 0
      },
      "text/plain": [
       "interactive(children=(ToggleButtons(description='Plot Type:', icons=('',), options=(('Pipeline Plot', 'pipelin…"
      ]
     },
     "metadata": {},
     "output_type": "display_data"
    },
    {
     "name": "stdout",
     "output_type": "stream",
     "text": [
      "RandomForestClassifier(bootstrap=True, ccp_alpha=0.0, class_weight=None,\n",
      "                       criterion='gini', max_depth=None, max_features='sqrt',\n",
      "                       max_leaf_nodes=None, max_samples=None,\n",
      "                       min_impurity_decrease=0.0, min_samples_leaf=1,\n",
      "                       min_samples_split=2, min_weight_fraction_leaf=0.0,\n",
      "                       n_estimators=100, n_jobs=-1, oob_score=False,\n",
      "                       random_state=123, verbose=0, warm_start=False)\n"
     ]
    }
   ],
   "source": [
    "evaluate_model(best)\n",
    "print(best)"
   ]
  },
  {
   "cell_type": "code",
   "execution_count": 7,
   "metadata": {},
   "outputs": [
    {
     "data": {
      "text/html": [],
      "text/plain": [
       "<IPython.core.display.HTML object>"
      ]
     },
     "metadata": {},
     "output_type": "display_data"
    },
    {
     "data": {
      "text/html": [
       "<style type=\"text/css\">\n",
       "#T_263d7_row10_col0, #T_263d7_row10_col1, #T_263d7_row10_col2, #T_263d7_row10_col3, #T_263d7_row10_col4, #T_263d7_row10_col5, #T_263d7_row10_col6 {\n",
       "  background: yellow;\n",
       "}\n",
       "</style>\n",
       "<table id=\"T_263d7\">\n",
       "  <thead>\n",
       "    <tr>\n",
       "      <th class=\"blank level0\" >&nbsp;</th>\n",
       "      <th id=\"T_263d7_level0_col0\" class=\"col_heading level0 col0\" >Accuracy</th>\n",
       "      <th id=\"T_263d7_level0_col1\" class=\"col_heading level0 col1\" >AUC</th>\n",
       "      <th id=\"T_263d7_level0_col2\" class=\"col_heading level0 col2\" >Recall</th>\n",
       "      <th id=\"T_263d7_level0_col3\" class=\"col_heading level0 col3\" >Prec.</th>\n",
       "      <th id=\"T_263d7_level0_col4\" class=\"col_heading level0 col4\" >F1</th>\n",
       "      <th id=\"T_263d7_level0_col5\" class=\"col_heading level0 col5\" >Kappa</th>\n",
       "      <th id=\"T_263d7_level0_col6\" class=\"col_heading level0 col6\" >MCC</th>\n",
       "    </tr>\n",
       "    <tr>\n",
       "      <th class=\"index_name level0\" >Fold</th>\n",
       "      <th class=\"blank col0\" >&nbsp;</th>\n",
       "      <th class=\"blank col1\" >&nbsp;</th>\n",
       "      <th class=\"blank col2\" >&nbsp;</th>\n",
       "      <th class=\"blank col3\" >&nbsp;</th>\n",
       "      <th class=\"blank col4\" >&nbsp;</th>\n",
       "      <th class=\"blank col5\" >&nbsp;</th>\n",
       "      <th class=\"blank col6\" >&nbsp;</th>\n",
       "    </tr>\n",
       "  </thead>\n",
       "  <tbody>\n",
       "    <tr>\n",
       "      <th id=\"T_263d7_level0_row0\" class=\"row_heading level0 row0\" >0</th>\n",
       "      <td id=\"T_263d7_row0_col0\" class=\"data row0 col0\" >0.6860</td>\n",
       "      <td id=\"T_263d7_row0_col1\" class=\"data row0 col1\" >0.6569</td>\n",
       "      <td id=\"T_263d7_row0_col2\" class=\"data row0 col2\" >0.9213</td>\n",
       "      <td id=\"T_263d7_row0_col3\" class=\"data row0 col3\" >0.7151</td>\n",
       "      <td id=\"T_263d7_row0_col4\" class=\"data row0 col4\" >0.8052</td>\n",
       "      <td id=\"T_263d7_row0_col5\" class=\"data row0 col5\" >0.0579</td>\n",
       "      <td id=\"T_263d7_row0_col6\" class=\"data row0 col6\" >0.0730</td>\n",
       "    </tr>\n",
       "    <tr>\n",
       "      <th id=\"T_263d7_level0_row1\" class=\"row_heading level0 row1\" >1</th>\n",
       "      <td id=\"T_263d7_row1_col0\" class=\"data row1 col0\" >0.7124</td>\n",
       "      <td id=\"T_263d7_row1_col1\" class=\"data row1 col1\" >0.6472</td>\n",
       "      <td id=\"T_263d7_row1_col2\" class=\"data row1 col2\" >0.8689</td>\n",
       "      <td id=\"T_263d7_row1_col3\" class=\"data row1 col3\" >0.7582</td>\n",
       "      <td id=\"T_263d7_row1_col4\" class=\"data row1 col4\" >0.8098</td>\n",
       "      <td id=\"T_263d7_row1_col5\" class=\"data row1 col5\" >0.2316</td>\n",
       "      <td id=\"T_263d7_row1_col6\" class=\"data row1 col6\" >0.2409</td>\n",
       "    </tr>\n",
       "    <tr>\n",
       "      <th id=\"T_263d7_level0_row2\" class=\"row_heading level0 row2\" >2</th>\n",
       "      <td id=\"T_263d7_row2_col0\" class=\"data row2 col0\" >0.7098</td>\n",
       "      <td id=\"T_263d7_row2_col1\" class=\"data row2 col1\" >0.6472</td>\n",
       "      <td id=\"T_263d7_row2_col2\" class=\"data row2 col2\" >0.8464</td>\n",
       "      <td id=\"T_263d7_row2_col3\" class=\"data row2 col3\" >0.7661</td>\n",
       "      <td id=\"T_263d7_row2_col4\" class=\"data row2 col4\" >0.8043</td>\n",
       "      <td id=\"T_263d7_row2_col5\" class=\"data row2 col5\" >0.2484</td>\n",
       "      <td id=\"T_263d7_row2_col6\" class=\"data row2 col6\" >0.2531</td>\n",
       "    </tr>\n",
       "    <tr>\n",
       "      <th id=\"T_263d7_level0_row3\" class=\"row_heading level0 row3\" >3</th>\n",
       "      <td id=\"T_263d7_row3_col0\" class=\"data row3 col0\" >0.7124</td>\n",
       "      <td id=\"T_263d7_row3_col1\" class=\"data row3 col1\" >0.6338</td>\n",
       "      <td id=\"T_263d7_row3_col2\" class=\"data row3 col2\" >0.8801</td>\n",
       "      <td id=\"T_263d7_row3_col3\" class=\"data row3 col3\" >0.7532</td>\n",
       "      <td id=\"T_263d7_row3_col4\" class=\"data row3 col4\" >0.8117</td>\n",
       "      <td id=\"T_263d7_row3_col5\" class=\"data row3 col5\" >0.2181</td>\n",
       "      <td id=\"T_263d7_row3_col6\" class=\"data row3 col6\" >0.2304</td>\n",
       "    </tr>\n",
       "    <tr>\n",
       "      <th id=\"T_263d7_level0_row4\" class=\"row_heading level0 row4\" >4</th>\n",
       "      <td id=\"T_263d7_row4_col0\" class=\"data row4 col0\" >0.7177</td>\n",
       "      <td id=\"T_263d7_row4_col1\" class=\"data row4 col1\" >0.6843</td>\n",
       "      <td id=\"T_263d7_row4_col2\" class=\"data row4 col2\" >0.8951</td>\n",
       "      <td id=\"T_263d7_row4_col3\" class=\"data row4 col3\" >0.7516</td>\n",
       "      <td id=\"T_263d7_row4_col4\" class=\"data row4 col4\" >0.8171</td>\n",
       "      <td id=\"T_263d7_row4_col5\" class=\"data row4 col5\" >0.2187</td>\n",
       "      <td id=\"T_263d7_row4_col6\" class=\"data row4 col6\" >0.2356</td>\n",
       "    </tr>\n",
       "    <tr>\n",
       "      <th id=\"T_263d7_level0_row5\" class=\"row_heading level0 row5\" >5</th>\n",
       "      <td id=\"T_263d7_row5_col0\" class=\"data row5 col0\" >0.7196</td>\n",
       "      <td id=\"T_263d7_row5_col1\" class=\"data row5 col1\" >0.6599</td>\n",
       "      <td id=\"T_263d7_row5_col2\" class=\"data row5 col2\" >0.8390</td>\n",
       "      <td id=\"T_263d7_row5_col3\" class=\"data row5 col3\" >0.7805</td>\n",
       "      <td id=\"T_263d7_row5_col4\" class=\"data row5 col4\" >0.8087</td>\n",
       "      <td id=\"T_263d7_row5_col5\" class=\"data row5 col5\" >0.2865</td>\n",
       "      <td id=\"T_263d7_row5_col6\" class=\"data row5 col6\" >0.2891</td>\n",
       "    </tr>\n",
       "    <tr>\n",
       "      <th id=\"T_263d7_level0_row6\" class=\"row_heading level0 row6\" >6</th>\n",
       "      <td id=\"T_263d7_row6_col0\" class=\"data row6 col0\" >0.7090</td>\n",
       "      <td id=\"T_263d7_row6_col1\" class=\"data row6 col1\" >0.6638</td>\n",
       "      <td id=\"T_263d7_row6_col2\" class=\"data row6 col2\" >0.8308</td>\n",
       "      <td id=\"T_263d7_row6_col3\" class=\"data row6 col3\" >0.7727</td>\n",
       "      <td id=\"T_263d7_row6_col4\" class=\"data row6 col4\" >0.8007</td>\n",
       "      <td id=\"T_263d7_row6_col5\" class=\"data row6 col5\" >0.2641</td>\n",
       "      <td id=\"T_263d7_row6_col6\" class=\"data row6 col6\" >0.2665</td>\n",
       "    </tr>\n",
       "    <tr>\n",
       "      <th id=\"T_263d7_level0_row7\" class=\"row_heading level0 row7\" >7</th>\n",
       "      <td id=\"T_263d7_row7_col0\" class=\"data row7 col0\" >0.7090</td>\n",
       "      <td id=\"T_263d7_row7_col1\" class=\"data row7 col1\" >0.6670</td>\n",
       "      <td id=\"T_263d7_row7_col2\" class=\"data row7 col2\" >0.9135</td>\n",
       "      <td id=\"T_263d7_row7_col3\" class=\"data row7 col3\" >0.7364</td>\n",
       "      <td id=\"T_263d7_row7_col4\" class=\"data row7 col4\" >0.8154</td>\n",
       "      <td id=\"T_263d7_row7_col5\" class=\"data row7 col5\" >0.1639</td>\n",
       "      <td id=\"T_263d7_row7_col6\" class=\"data row7 col6\" >0.1875</td>\n",
       "    </tr>\n",
       "    <tr>\n",
       "      <th id=\"T_263d7_level0_row8\" class=\"row_heading level0 row8\" >8</th>\n",
       "      <td id=\"T_263d7_row8_col0\" class=\"data row8 col0\" >0.7778</td>\n",
       "      <td id=\"T_263d7_row8_col1\" class=\"data row8 col1\" >0.6908</td>\n",
       "      <td id=\"T_263d7_row8_col2\" class=\"data row8 col2\" >0.9323</td>\n",
       "      <td id=\"T_263d7_row8_col3\" class=\"data row8 col3\" >0.7898</td>\n",
       "      <td id=\"T_263d7_row8_col4\" class=\"data row8 col4\" >0.8552</td>\n",
       "      <td id=\"T_263d7_row8_col5\" class=\"data row8 col5\" >0.3916</td>\n",
       "      <td id=\"T_263d7_row8_col6\" class=\"data row8 col6\" >0.4177</td>\n",
       "    </tr>\n",
       "    <tr>\n",
       "      <th id=\"T_263d7_level0_row9\" class=\"row_heading level0 row9\" >9</th>\n",
       "      <td id=\"T_263d7_row9_col0\" class=\"data row9 col0\" >0.7222</td>\n",
       "      <td id=\"T_263d7_row9_col1\" class=\"data row9 col1\" >0.6291</td>\n",
       "      <td id=\"T_263d7_row9_col2\" class=\"data row9 col2\" >0.8684</td>\n",
       "      <td id=\"T_263d7_row9_col3\" class=\"data row9 col3\" >0.7674</td>\n",
       "      <td id=\"T_263d7_row9_col4\" class=\"data row9 col4\" >0.8148</td>\n",
       "      <td id=\"T_263d7_row9_col5\" class=\"data row9 col5\" >0.2676</td>\n",
       "      <td id=\"T_263d7_row9_col6\" class=\"data row9 col6\" >0.2760</td>\n",
       "    </tr>\n",
       "    <tr>\n",
       "      <th id=\"T_263d7_level0_row10\" class=\"row_heading level0 row10\" >Mean</th>\n",
       "      <td id=\"T_263d7_row10_col0\" class=\"data row10 col0\" >0.7176</td>\n",
       "      <td id=\"T_263d7_row10_col1\" class=\"data row10 col1\" >0.6580</td>\n",
       "      <td id=\"T_263d7_row10_col2\" class=\"data row10 col2\" >0.8796</td>\n",
       "      <td id=\"T_263d7_row10_col3\" class=\"data row10 col3\" >0.7591</td>\n",
       "      <td id=\"T_263d7_row10_col4\" class=\"data row10 col4\" >0.8143</td>\n",
       "      <td id=\"T_263d7_row10_col5\" class=\"data row10 col5\" >0.2348</td>\n",
       "      <td id=\"T_263d7_row10_col6\" class=\"data row10 col6\" >0.2470</td>\n",
       "    </tr>\n",
       "    <tr>\n",
       "      <th id=\"T_263d7_level0_row11\" class=\"row_heading level0 row11\" >Std</th>\n",
       "      <td id=\"T_263d7_row11_col0\" class=\"data row11 col0\" >0.0222</td>\n",
       "      <td id=\"T_263d7_row11_col1\" class=\"data row11 col1\" >0.0188</td>\n",
       "      <td id=\"T_263d7_row11_col2\" class=\"data row11 col2\" >0.0336</td>\n",
       "      <td id=\"T_263d7_row11_col3\" class=\"data row11 col3\" >0.0206</td>\n",
       "      <td id=\"T_263d7_row11_col4\" class=\"data row11 col4\" >0.0145</td>\n",
       "      <td id=\"T_263d7_row11_col5\" class=\"data row11 col5\" >0.0814</td>\n",
       "      <td id=\"T_263d7_row11_col6\" class=\"data row11 col6\" >0.0815</td>\n",
       "    </tr>\n",
       "  </tbody>\n",
       "</table>\n"
      ],
      "text/plain": [
       "<pandas.io.formats.style.Styler at 0x20840b0c700>"
      ]
     },
     "metadata": {},
     "output_type": "display_data"
    },
    {
     "data": {
      "application/vnd.jupyter.widget-view+json": {
       "model_id": "bbb96b7c9c6a4fe3b655eba0db8a87ab",
       "version_major": 2,
       "version_minor": 0
      },
      "text/plain": [
       "Processing:   0%|          | 0/7 [00:00<?, ?it/s]"
      ]
     },
     "metadata": {},
     "output_type": "display_data"
    },
    {
     "name": "stdout",
     "output_type": "stream",
     "text": [
      "Fitting 10 folds for each of 10 candidates, totalling 100 fits\n",
      "Original model was better than the tuned model, hence it will be returned. NOTE: The display metrics are for the tuned model (not the original one).\n"
     ]
    }
   ],
   "source": [
    "tuned = tune_model(best)"
   ]
  },
  {
   "cell_type": "code",
   "execution_count": 8,
   "metadata": {
    "scrolled": true
   },
   "outputs": [
    {
     "data": {
      "text/html": [
       "<style type=\"text/css\">\n",
       "</style>\n",
       "<table id=\"T_bbc16\">\n",
       "  <thead>\n",
       "    <tr>\n",
       "      <th class=\"blank level0\" >&nbsp;</th>\n",
       "      <th id=\"T_bbc16_level0_col0\" class=\"col_heading level0 col0\" >Model</th>\n",
       "      <th id=\"T_bbc16_level0_col1\" class=\"col_heading level0 col1\" >Accuracy</th>\n",
       "      <th id=\"T_bbc16_level0_col2\" class=\"col_heading level0 col2\" >AUC</th>\n",
       "      <th id=\"T_bbc16_level0_col3\" class=\"col_heading level0 col3\" >Recall</th>\n",
       "      <th id=\"T_bbc16_level0_col4\" class=\"col_heading level0 col4\" >Prec.</th>\n",
       "      <th id=\"T_bbc16_level0_col5\" class=\"col_heading level0 col5\" >F1</th>\n",
       "      <th id=\"T_bbc16_level0_col6\" class=\"col_heading level0 col6\" >Kappa</th>\n",
       "      <th id=\"T_bbc16_level0_col7\" class=\"col_heading level0 col7\" >MCC</th>\n",
       "    </tr>\n",
       "  </thead>\n",
       "  <tbody>\n",
       "    <tr>\n",
       "      <th id=\"T_bbc16_level0_row0\" class=\"row_heading level0 row0\" >0</th>\n",
       "      <td id=\"T_bbc16_row0_col0\" class=\"data row0 col0\" >Random Forest Classifier</td>\n",
       "      <td id=\"T_bbc16_row0_col1\" class=\"data row0 col1\" >0.7506</td>\n",
       "      <td id=\"T_bbc16_row0_col2\" class=\"data row0 col2\" >0.6421</td>\n",
       "      <td id=\"T_bbc16_row0_col3\" class=\"data row0 col3\" >0.9115</td>\n",
       "      <td id=\"T_bbc16_row0_col4\" class=\"data row0 col4\" >0.7923</td>\n",
       "      <td id=\"T_bbc16_row0_col5\" class=\"data row0 col5\" >0.8477</td>\n",
       "      <td id=\"T_bbc16_row0_col6\" class=\"data row0 col6\" >0.1781</td>\n",
       "      <td id=\"T_bbc16_row0_col7\" class=\"data row0 col7\" >0.1924</td>\n",
       "    </tr>\n",
       "  </tbody>\n",
       "</table>\n"
      ],
      "text/plain": [
       "<pandas.io.formats.style.Styler at 0x20840b0e0e0>"
      ]
     },
     "metadata": {},
     "output_type": "display_data"
    }
   ],
   "source": [
    "# test = test.drop(['Target_Close_1min'], axis=1)\n",
    "predictions = predict_model(best, data = test)\n",
    "# predictions = predict_model(best, data = train)\n",
    "\n",
    "predictions.head()\n",
    "\n",
    "predictions.to_csv('result_5Low_1min.csv')"
   ]
  }
 ],
 "metadata": {
  "kernelspec": {
   "display_name": "Python 3 (ipykernel)",
   "language": "python",
   "name": "python3"
  },
  "language_info": {
   "codemirror_mode": {
    "name": "ipython",
    "version": 3
   },
   "file_extension": ".py",
   "mimetype": "text/x-python",
   "name": "python",
   "nbconvert_exporter": "python",
   "pygments_lexer": "ipython3",
   "version": "3.10.9"
  }
 },
 "nbformat": 4,
 "nbformat_minor": 2
}
