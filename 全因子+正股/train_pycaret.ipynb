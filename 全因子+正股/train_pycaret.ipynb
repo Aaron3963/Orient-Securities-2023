{
 "cells": [
  {
   "cell_type": "code",
   "execution_count": 11,
   "metadata": {},
   "outputs": [
    {
     "name": "stdout",
     "output_type": "stream",
     "text": [
      "Index(['tta_STDDEV_timeperiod_9', 'tta_NATR_timeperiod_28',\n",
      "       'tta_ADOSC_fastperiod_5_slowperiod_20', 'tta_MINUS_DM_timeperiod_7',\n",
      "       'tta_ADX_timeperiod_11',\n",
      "       'tta_ULTOSC_timeperiod1_37_timeperiod2_38_timeperiod3_25',\n",
      "       'tta_HT_PHASOR_0', 'tta_HT_PHASOR_1', 'tta_MFI_timeperiod_35',\n",
      "       'tta_MINUS_DI_timeperiod_24',\n",
      "       ...\n",
      "       'STOCK_tta_CDLTHRUSTING', 'STOCK_tta_CDLMATCHINGLOW',\n",
      "       'STOCK_tta_CDLHANGINGMAN', 'STOCK_tta_CDL3OUTSIDE',\n",
      "       'STOCK_tta_CDLSTALLEDPATTERN', 'STOCK_tta_CDLHARAMICROSS',\n",
      "       'STOCK_tta_CDL3INSIDE', 'STOCK_tta_CDLSEPARATINGLINES',\n",
      "       'STOCK_tta_CDLHOMINGPIGEON', 'Target_Close_1min'],\n",
      "      dtype='object', length=144)\n"
     ]
    }
   ],
   "source": [
    "import pycaret\n",
    "import pandas as pd\n",
    "\n",
    "from pycaret.regression import *\n",
    "\n",
    "TRAIN_PATH = 'train_withF_Close_1min_FULL.csv'\n",
    "TEST_PATH = 'test_withF_Close_1min_FULL.csv'\n",
    "\n",
    "train = pd.read_csv(TRAIN_PATH,index_col='Timestamp')\n",
    "test = pd.read_csv(TEST_PATH,index_col='Timestamp')\n",
    "\n",
    "train = train.iloc[:, 62:141]\n",
    "test = test.iloc[:, 62:141]\n",
    "\n",
    "print(train.columns)"
   ]
  },
  {
   "cell_type": "code",
   "execution_count": 12,
   "metadata": {},
   "outputs": [],
   "source": [
    "# percent_zeros = (train == 0).sum() / len(train) * 100\n",
    "\n",
    "# # Identify columns where the percentage of zeros exceeds 90%\n",
    "# columns_to_drop = percent_zeros[percent_zeros >= 90].index\n",
    "\n",
    "# # print(columns_to_drop)\n",
    "\n",
    "# train.drop(columns=columns_to_drop,inplace= True)\n",
    "# test.drop(columns=columns_to_drop,inplace= True)\n",
    "\n",
    "# print(train.columns)\n"
   ]
  },
  {
   "cell_type": "code",
   "execution_count": 13,
   "metadata": {},
   "outputs": [
    {
     "data": {
      "text/plain": [
       "pycaret.regression.oop.RegressionExperiment"
      ]
     },
     "execution_count": 13,
     "metadata": {},
     "output_type": "execute_result"
    }
   ],
   "source": [
    "from pycaret.regression import RegressionExperiment\n",
    "# from pycaret.regression import *\n",
    "exp = RegressionExperiment()\n",
    "type(exp)"
   ]
  },
  {
   "cell_type": "code",
   "execution_count": 14,
   "metadata": {},
   "outputs": [
    {
     "data": {
      "text/html": [
       "<style type=\"text/css\">\n",
       "</style>\n",
       "<table id=\"T_35a4c\">\n",
       "  <thead>\n",
       "    <tr>\n",
       "      <th class=\"blank level0\" >&nbsp;</th>\n",
       "      <th id=\"T_35a4c_level0_col0\" class=\"col_heading level0 col0\" >Description</th>\n",
       "      <th id=\"T_35a4c_level0_col1\" class=\"col_heading level0 col1\" >Value</th>\n",
       "    </tr>\n",
       "  </thead>\n",
       "  <tbody>\n",
       "    <tr>\n",
       "      <th id=\"T_35a4c_level0_row0\" class=\"row_heading level0 row0\" >0</th>\n",
       "      <td id=\"T_35a4c_row0_col0\" class=\"data row0 col0\" >Session id</td>\n",
       "      <td id=\"T_35a4c_row0_col1\" class=\"data row0 col1\" >123</td>\n",
       "    </tr>\n",
       "    <tr>\n",
       "      <th id=\"T_35a4c_level0_row1\" class=\"row_heading level0 row1\" >1</th>\n",
       "      <td id=\"T_35a4c_row1_col0\" class=\"data row1 col0\" >Target</td>\n",
       "      <td id=\"T_35a4c_row1_col1\" class=\"data row1 col1\" >Target_Close_1min</td>\n",
       "    </tr>\n",
       "    <tr>\n",
       "      <th id=\"T_35a4c_level0_row2\" class=\"row_heading level0 row2\" >2</th>\n",
       "      <td id=\"T_35a4c_row2_col0\" class=\"data row2 col0\" >Target type</td>\n",
       "      <td id=\"T_35a4c_row2_col1\" class=\"data row2 col1\" >Regression</td>\n",
       "    </tr>\n",
       "    <tr>\n",
       "      <th id=\"T_35a4c_level0_row3\" class=\"row_heading level0 row3\" >3</th>\n",
       "      <td id=\"T_35a4c_row3_col0\" class=\"data row3 col0\" >Original data shape</td>\n",
       "      <td id=\"T_35a4c_row3_col1\" class=\"data row3 col1\" >(5409, 144)</td>\n",
       "    </tr>\n",
       "    <tr>\n",
       "      <th id=\"T_35a4c_level0_row4\" class=\"row_heading level0 row4\" >4</th>\n",
       "      <td id=\"T_35a4c_row4_col0\" class=\"data row4 col0\" >Transformed data shape</td>\n",
       "      <td id=\"T_35a4c_row4_col1\" class=\"data row4 col1\" >(5409, 144)</td>\n",
       "    </tr>\n",
       "    <tr>\n",
       "      <th id=\"T_35a4c_level0_row5\" class=\"row_heading level0 row5\" >5</th>\n",
       "      <td id=\"T_35a4c_row5_col0\" class=\"data row5 col0\" >Transformed train set shape</td>\n",
       "      <td id=\"T_35a4c_row5_col1\" class=\"data row5 col1\" >(3786, 144)</td>\n",
       "    </tr>\n",
       "    <tr>\n",
       "      <th id=\"T_35a4c_level0_row6\" class=\"row_heading level0 row6\" >6</th>\n",
       "      <td id=\"T_35a4c_row6_col0\" class=\"data row6 col0\" >Transformed test set shape</td>\n",
       "      <td id=\"T_35a4c_row6_col1\" class=\"data row6 col1\" >(1623, 144)</td>\n",
       "    </tr>\n",
       "    <tr>\n",
       "      <th id=\"T_35a4c_level0_row7\" class=\"row_heading level0 row7\" >7</th>\n",
       "      <td id=\"T_35a4c_row7_col0\" class=\"data row7 col0\" >Numeric features</td>\n",
       "      <td id=\"T_35a4c_row7_col1\" class=\"data row7 col1\" >143</td>\n",
       "    </tr>\n",
       "  </tbody>\n",
       "</table>\n"
      ],
      "text/plain": [
       "<pandas.io.formats.style.Styler at 0x16299a3f820>"
      ]
     },
     "metadata": {},
     "output_type": "display_data"
    },
    {
     "data": {
      "text/plain": [
       "<pycaret.regression.oop.RegressionExperiment at 0x162979da2c0>"
      ]
     },
     "execution_count": 14,
     "metadata": {},
     "output_type": "execute_result"
    }
   ],
   "source": [
    "setup(data=train, data_split_shuffle = False,preprocess = False, feature_selection= True,target='Target_Close_1min', session_id = 123)"
   ]
  },
  {
   "cell_type": "code",
   "execution_count": 15,
   "metadata": {},
   "outputs": [
    {
     "data": {
      "text/html": [],
      "text/plain": [
       "<IPython.core.display.HTML object>"
      ]
     },
     "metadata": {},
     "output_type": "display_data"
    },
    {
     "data": {
      "text/html": [
       "<style type=\"text/css\">\n",
       "#T_7e240 th {\n",
       "  text-align: left;\n",
       "}\n",
       "#T_7e240_row0_col0, #T_7e240_row0_col5, #T_7e240_row1_col0, #T_7e240_row1_col4, #T_7e240_row1_col5, #T_7e240_row1_col6, #T_7e240_row2_col0, #T_7e240_row2_col4, #T_7e240_row2_col5, #T_7e240_row2_col6, #T_7e240_row3_col0, #T_7e240_row3_col1, #T_7e240_row3_col4, #T_7e240_row3_col5, #T_7e240_row3_col6, #T_7e240_row4_col0, #T_7e240_row4_col1, #T_7e240_row4_col4, #T_7e240_row4_col5, #T_7e240_row4_col6, #T_7e240_row5_col0, #T_7e240_row5_col1, #T_7e240_row5_col4, #T_7e240_row5_col5, #T_7e240_row5_col6, #T_7e240_row6_col0, #T_7e240_row6_col1, #T_7e240_row6_col4, #T_7e240_row6_col5, #T_7e240_row6_col6, #T_7e240_row7_col0, #T_7e240_row7_col1, #T_7e240_row7_col3, #T_7e240_row7_col4, #T_7e240_row7_col5, #T_7e240_row7_col6, #T_7e240_row8_col0, #T_7e240_row8_col1, #T_7e240_row8_col3, #T_7e240_row8_col4, #T_7e240_row8_col5, #T_7e240_row8_col6, #T_7e240_row9_col0, #T_7e240_row9_col1, #T_7e240_row9_col3, #T_7e240_row9_col4, #T_7e240_row9_col6, #T_7e240_row10_col0, #T_7e240_row10_col1, #T_7e240_row10_col3, #T_7e240_row10_col4, #T_7e240_row10_col5, #T_7e240_row10_col6, #T_7e240_row11_col0, #T_7e240_row11_col1, #T_7e240_row11_col3, #T_7e240_row11_col4, #T_7e240_row11_col5, #T_7e240_row11_col6, #T_7e240_row12_col0, #T_7e240_row12_col1, #T_7e240_row12_col3, #T_7e240_row12_col4, #T_7e240_row12_col5, #T_7e240_row12_col6, #T_7e240_row13_col0, #T_7e240_row13_col1, #T_7e240_row13_col2, #T_7e240_row13_col3, #T_7e240_row13_col4, #T_7e240_row13_col5, #T_7e240_row13_col6, #T_7e240_row14_col0, #T_7e240_row14_col1, #T_7e240_row14_col3, #T_7e240_row14_col4, #T_7e240_row14_col5, #T_7e240_row14_col6, #T_7e240_row15_col0, #T_7e240_row15_col1, #T_7e240_row15_col3, #T_7e240_row15_col4, #T_7e240_row15_col5, #T_7e240_row15_col6, #T_7e240_row16_col0, #T_7e240_row16_col1, #T_7e240_row16_col2, #T_7e240_row16_col3, #T_7e240_row16_col4, #T_7e240_row16_col5, #T_7e240_row16_col6, #T_7e240_row17_col0, #T_7e240_row17_col1, #T_7e240_row17_col2, #T_7e240_row17_col3, #T_7e240_row17_col4, #T_7e240_row17_col5, #T_7e240_row17_col6 {\n",
       "  text-align: left;\n",
       "}\n",
       "#T_7e240_row0_col1, #T_7e240_row0_col2, #T_7e240_row0_col3, #T_7e240_row0_col4, #T_7e240_row0_col6, #T_7e240_row1_col1, #T_7e240_row1_col2, #T_7e240_row1_col3, #T_7e240_row2_col1, #T_7e240_row2_col2, #T_7e240_row2_col3, #T_7e240_row3_col2, #T_7e240_row3_col3, #T_7e240_row4_col2, #T_7e240_row4_col3, #T_7e240_row5_col2, #T_7e240_row5_col3, #T_7e240_row6_col2, #T_7e240_row6_col3, #T_7e240_row7_col2, #T_7e240_row8_col2, #T_7e240_row9_col2, #T_7e240_row9_col5, #T_7e240_row10_col2, #T_7e240_row11_col2, #T_7e240_row12_col2, #T_7e240_row14_col2, #T_7e240_row15_col2 {\n",
       "  text-align: left;\n",
       "  background-color: yellow;\n",
       "}\n",
       "#T_7e240_row0_col7, #T_7e240_row1_col7, #T_7e240_row2_col7, #T_7e240_row4_col7, #T_7e240_row6_col7, #T_7e240_row7_col7, #T_7e240_row8_col7, #T_7e240_row9_col7, #T_7e240_row10_col7, #T_7e240_row11_col7, #T_7e240_row12_col7, #T_7e240_row13_col7, #T_7e240_row14_col7, #T_7e240_row15_col7, #T_7e240_row16_col7, #T_7e240_row17_col7 {\n",
       "  text-align: left;\n",
       "  background-color: lightgrey;\n",
       "}\n",
       "#T_7e240_row3_col7, #T_7e240_row5_col7 {\n",
       "  text-align: left;\n",
       "  background-color: yellow;\n",
       "  background-color: lightgrey;\n",
       "}\n",
       "</style>\n",
       "<table id=\"T_7e240\">\n",
       "  <thead>\n",
       "    <tr>\n",
       "      <th class=\"blank level0\" >&nbsp;</th>\n",
       "      <th id=\"T_7e240_level0_col0\" class=\"col_heading level0 col0\" >Model</th>\n",
       "      <th id=\"T_7e240_level0_col1\" class=\"col_heading level0 col1\" >MAE</th>\n",
       "      <th id=\"T_7e240_level0_col2\" class=\"col_heading level0 col2\" >MSE</th>\n",
       "      <th id=\"T_7e240_level0_col3\" class=\"col_heading level0 col3\" >RMSE</th>\n",
       "      <th id=\"T_7e240_level0_col4\" class=\"col_heading level0 col4\" >R2</th>\n",
       "      <th id=\"T_7e240_level0_col5\" class=\"col_heading level0 col5\" >RMSLE</th>\n",
       "      <th id=\"T_7e240_level0_col6\" class=\"col_heading level0 col6\" >MAPE</th>\n",
       "      <th id=\"T_7e240_level0_col7\" class=\"col_heading level0 col7\" >TT (Sec)</th>\n",
       "    </tr>\n",
       "  </thead>\n",
       "  <tbody>\n",
       "    <tr>\n",
       "      <th id=\"T_7e240_level0_row0\" class=\"row_heading level0 row0\" >par</th>\n",
       "      <td id=\"T_7e240_row0_col0\" class=\"data row0 col0\" >Passive Aggressive Regressor</td>\n",
       "      <td id=\"T_7e240_row0_col1\" class=\"data row0 col1\" >0.0030</td>\n",
       "      <td id=\"T_7e240_row0_col2\" class=\"data row0 col2\" >0.0000</td>\n",
       "      <td id=\"T_7e240_row0_col3\" class=\"data row0 col3\" >0.0045</td>\n",
       "      <td id=\"T_7e240_row0_col4\" class=\"data row0 col4\" >-0.0037</td>\n",
       "      <td id=\"T_7e240_row0_col5\" class=\"data row0 col5\" >0.0045</td>\n",
       "      <td id=\"T_7e240_row0_col6\" class=\"data row0 col6\" >1.0000</td>\n",
       "      <td id=\"T_7e240_row0_col7\" class=\"data row0 col7\" >1.1480</td>\n",
       "    </tr>\n",
       "    <tr>\n",
       "      <th id=\"T_7e240_level0_row1\" class=\"row_heading level0 row1\" >huber</th>\n",
       "      <td id=\"T_7e240_row1_col0\" class=\"data row1 col0\" >Huber Regressor</td>\n",
       "      <td id=\"T_7e240_row1_col1\" class=\"data row1 col1\" >0.0030</td>\n",
       "      <td id=\"T_7e240_row1_col2\" class=\"data row1 col2\" >0.0000</td>\n",
       "      <td id=\"T_7e240_row1_col3\" class=\"data row1 col3\" >0.0045</td>\n",
       "      <td id=\"T_7e240_row1_col4\" class=\"data row1 col4\" >-0.0052</td>\n",
       "      <td id=\"T_7e240_row1_col5\" class=\"data row1 col5\" >0.0043</td>\n",
       "      <td id=\"T_7e240_row1_col6\" class=\"data row1 col6\" >1.1964</td>\n",
       "      <td id=\"T_7e240_row1_col7\" class=\"data row1 col7\" >1.2060</td>\n",
       "    </tr>\n",
       "    <tr>\n",
       "      <th id=\"T_7e240_level0_row2\" class=\"row_heading level0 row2\" >dummy</th>\n",
       "      <td id=\"T_7e240_row2_col0\" class=\"data row2 col0\" >Dummy Regressor</td>\n",
       "      <td id=\"T_7e240_row2_col1\" class=\"data row2 col1\" >0.0030</td>\n",
       "      <td id=\"T_7e240_row2_col2\" class=\"data row2 col2\" >0.0000</td>\n",
       "      <td id=\"T_7e240_row2_col3\" class=\"data row2 col3\" >0.0045</td>\n",
       "      <td id=\"T_7e240_row2_col4\" class=\"data row2 col4\" >-0.0063</td>\n",
       "      <td id=\"T_7e240_row2_col5\" class=\"data row2 col5\" >0.0043</td>\n",
       "      <td id=\"T_7e240_row2_col6\" class=\"data row2 col6\" >1.2941</td>\n",
       "      <td id=\"T_7e240_row2_col7\" class=\"data row2 col7\" >1.1870</td>\n",
       "    </tr>\n",
       "    <tr>\n",
       "      <th id=\"T_7e240_level0_row3\" class=\"row_heading level0 row3\" >llar</th>\n",
       "      <td id=\"T_7e240_row3_col0\" class=\"data row3 col0\" >Lasso Least Angle Regression</td>\n",
       "      <td id=\"T_7e240_row3_col1\" class=\"data row3 col1\" >0.0031</td>\n",
       "      <td id=\"T_7e240_row3_col2\" class=\"data row3 col2\" >0.0000</td>\n",
       "      <td id=\"T_7e240_row3_col3\" class=\"data row3 col3\" >0.0045</td>\n",
       "      <td id=\"T_7e240_row3_col4\" class=\"data row3 col4\" >-0.0649</td>\n",
       "      <td id=\"T_7e240_row3_col5\" class=\"data row3 col5\" >0.0043</td>\n",
       "      <td id=\"T_7e240_row3_col6\" class=\"data row3 col6\" >1.6735</td>\n",
       "      <td id=\"T_7e240_row3_col7\" class=\"data row3 col7\" >1.1350</td>\n",
       "    </tr>\n",
       "    <tr>\n",
       "      <th id=\"T_7e240_level0_row4\" class=\"row_heading level0 row4\" >lasso</th>\n",
       "      <td id=\"T_7e240_row4_col0\" class=\"data row4 col0\" >Lasso Regression</td>\n",
       "      <td id=\"T_7e240_row4_col1\" class=\"data row4 col1\" >0.0031</td>\n",
       "      <td id=\"T_7e240_row4_col2\" class=\"data row4 col2\" >0.0000</td>\n",
       "      <td id=\"T_7e240_row4_col3\" class=\"data row4 col3\" >0.0045</td>\n",
       "      <td id=\"T_7e240_row4_col4\" class=\"data row4 col4\" >-0.0649</td>\n",
       "      <td id=\"T_7e240_row4_col5\" class=\"data row4 col5\" >0.0043</td>\n",
       "      <td id=\"T_7e240_row4_col6\" class=\"data row4 col6\" >1.6735</td>\n",
       "      <td id=\"T_7e240_row4_col7\" class=\"data row4 col7\" >1.2600</td>\n",
       "    </tr>\n",
       "    <tr>\n",
       "      <th id=\"T_7e240_level0_row5\" class=\"row_heading level0 row5\" >en</th>\n",
       "      <td id=\"T_7e240_row5_col0\" class=\"data row5 col0\" >Elastic Net</td>\n",
       "      <td id=\"T_7e240_row5_col1\" class=\"data row5 col1\" >0.0031</td>\n",
       "      <td id=\"T_7e240_row5_col2\" class=\"data row5 col2\" >0.0000</td>\n",
       "      <td id=\"T_7e240_row5_col3\" class=\"data row5 col3\" >0.0045</td>\n",
       "      <td id=\"T_7e240_row5_col4\" class=\"data row5 col4\" >-0.0650</td>\n",
       "      <td id=\"T_7e240_row5_col5\" class=\"data row5 col5\" >0.0043</td>\n",
       "      <td id=\"T_7e240_row5_col6\" class=\"data row5 col6\" >1.6739</td>\n",
       "      <td id=\"T_7e240_row5_col7\" class=\"data row5 col7\" >1.1350</td>\n",
       "    </tr>\n",
       "    <tr>\n",
       "      <th id=\"T_7e240_level0_row6\" class=\"row_heading level0 row6\" >omp</th>\n",
       "      <td id=\"T_7e240_row6_col0\" class=\"data row6 col0\" >Orthogonal Matching Pursuit</td>\n",
       "      <td id=\"T_7e240_row6_col1\" class=\"data row6 col1\" >0.0031</td>\n",
       "      <td id=\"T_7e240_row6_col2\" class=\"data row6 col2\" >0.0000</td>\n",
       "      <td id=\"T_7e240_row6_col3\" class=\"data row6 col3\" >0.0045</td>\n",
       "      <td id=\"T_7e240_row6_col4\" class=\"data row6 col4\" >-0.0745</td>\n",
       "      <td id=\"T_7e240_row6_col5\" class=\"data row6 col5\" >0.0042</td>\n",
       "      <td id=\"T_7e240_row6_col6\" class=\"data row6 col6\" >2.0348</td>\n",
       "      <td id=\"T_7e240_row6_col7\" class=\"data row6 col7\" >1.1360</td>\n",
       "    </tr>\n",
       "    <tr>\n",
       "      <th id=\"T_7e240_level0_row7\" class=\"row_heading level0 row7\" >br</th>\n",
       "      <td id=\"T_7e240_row7_col0\" class=\"data row7 col0\" >Bayesian Ridge</td>\n",
       "      <td id=\"T_7e240_row7_col1\" class=\"data row7 col1\" >0.0032</td>\n",
       "      <td id=\"T_7e240_row7_col2\" class=\"data row7 col2\" >0.0000</td>\n",
       "      <td id=\"T_7e240_row7_col3\" class=\"data row7 col3\" >0.0047</td>\n",
       "      <td id=\"T_7e240_row7_col4\" class=\"data row7 col4\" >-0.1424</td>\n",
       "      <td id=\"T_7e240_row7_col5\" class=\"data row7 col5\" >0.0040</td>\n",
       "      <td id=\"T_7e240_row7_col6\" class=\"data row7 col6\" >2.6706</td>\n",
       "      <td id=\"T_7e240_row7_col7\" class=\"data row7 col7\" >1.1430</td>\n",
       "    </tr>\n",
       "    <tr>\n",
       "      <th id=\"T_7e240_level0_row8\" class=\"row_heading level0 row8\" >ridge</th>\n",
       "      <td id=\"T_7e240_row8_col0\" class=\"data row8 col0\" >Ridge Regression</td>\n",
       "      <td id=\"T_7e240_row8_col1\" class=\"data row8 col1\" >0.0033</td>\n",
       "      <td id=\"T_7e240_row8_col2\" class=\"data row8 col2\" >0.0000</td>\n",
       "      <td id=\"T_7e240_row8_col3\" class=\"data row8 col3\" >0.0048</td>\n",
       "      <td id=\"T_7e240_row8_col4\" class=\"data row8 col4\" >-0.2753</td>\n",
       "      <td id=\"T_7e240_row8_col5\" class=\"data row8 col5\" >0.0040</td>\n",
       "      <td id=\"T_7e240_row8_col6\" class=\"data row8 col6\" >3.0984</td>\n",
       "      <td id=\"T_7e240_row8_col7\" class=\"data row8 col7\" >1.1410</td>\n",
       "    </tr>\n",
       "    <tr>\n",
       "      <th id=\"T_7e240_level0_row9\" class=\"row_heading level0 row9\" >lightgbm</th>\n",
       "      <td id=\"T_7e240_row9_col0\" class=\"data row9 col0\" >Light Gradient Boosting Machine</td>\n",
       "      <td id=\"T_7e240_row9_col1\" class=\"data row9 col1\" >0.0034</td>\n",
       "      <td id=\"T_7e240_row9_col2\" class=\"data row9 col2\" >0.0000</td>\n",
       "      <td id=\"T_7e240_row9_col3\" class=\"data row9 col3\" >0.0050</td>\n",
       "      <td id=\"T_7e240_row9_col4\" class=\"data row9 col4\" >-0.3658</td>\n",
       "      <td id=\"T_7e240_row9_col5\" class=\"data row9 col5\" >0.0037</td>\n",
       "      <td id=\"T_7e240_row9_col6\" class=\"data row9 col6\" >3.5152</td>\n",
       "      <td id=\"T_7e240_row9_col7\" class=\"data row9 col7\" >1.4550</td>\n",
       "    </tr>\n",
       "    <tr>\n",
       "      <th id=\"T_7e240_level0_row10\" class=\"row_heading level0 row10\" >ada</th>\n",
       "      <td id=\"T_7e240_row10_col0\" class=\"data row10 col0\" >AdaBoost Regressor</td>\n",
       "      <td id=\"T_7e240_row10_col1\" class=\"data row10 col1\" >0.0034</td>\n",
       "      <td id=\"T_7e240_row10_col2\" class=\"data row10 col2\" >0.0000</td>\n",
       "      <td id=\"T_7e240_row10_col3\" class=\"data row10 col3\" >0.0049</td>\n",
       "      <td id=\"T_7e240_row10_col4\" class=\"data row10 col4\" >-0.6283</td>\n",
       "      <td id=\"T_7e240_row10_col5\" class=\"data row10 col5\" >0.0042</td>\n",
       "      <td id=\"T_7e240_row10_col6\" class=\"data row10 col6\" >3.7584</td>\n",
       "      <td id=\"T_7e240_row10_col7\" class=\"data row10 col7\" >1.4500</td>\n",
       "    </tr>\n",
       "    <tr>\n",
       "      <th id=\"T_7e240_level0_row11\" class=\"row_heading level0 row11\" >et</th>\n",
       "      <td id=\"T_7e240_row11_col0\" class=\"data row11 col0\" >Extra Trees Regressor</td>\n",
       "      <td id=\"T_7e240_row11_col1\" class=\"data row11 col1\" >0.0035</td>\n",
       "      <td id=\"T_7e240_row11_col2\" class=\"data row11 col2\" >0.0000</td>\n",
       "      <td id=\"T_7e240_row11_col3\" class=\"data row11 col3\" >0.0051</td>\n",
       "      <td id=\"T_7e240_row11_col4\" class=\"data row11 col4\" >-0.6992</td>\n",
       "      <td id=\"T_7e240_row11_col5\" class=\"data row11 col5\" >0.0040</td>\n",
       "      <td id=\"T_7e240_row11_col6\" class=\"data row11 col6\" >3.5113</td>\n",
       "      <td id=\"T_7e240_row11_col7\" class=\"data row11 col7\" >2.3410</td>\n",
       "    </tr>\n",
       "    <tr>\n",
       "      <th id=\"T_7e240_level0_row12\" class=\"row_heading level0 row12\" >knn</th>\n",
       "      <td id=\"T_7e240_row12_col0\" class=\"data row12 col0\" >K Neighbors Regressor</td>\n",
       "      <td id=\"T_7e240_row12_col1\" class=\"data row12 col1\" >0.0037</td>\n",
       "      <td id=\"T_7e240_row12_col2\" class=\"data row12 col2\" >0.0000</td>\n",
       "      <td id=\"T_7e240_row12_col3\" class=\"data row12 col3\" >0.0053</td>\n",
       "      <td id=\"T_7e240_row12_col4\" class=\"data row12 col4\" >-1.0476</td>\n",
       "      <td id=\"T_7e240_row12_col5\" class=\"data row12 col5\" >0.0042</td>\n",
       "      <td id=\"T_7e240_row12_col6\" class=\"data row12 col6\" >6.0808</td>\n",
       "      <td id=\"T_7e240_row12_col7\" class=\"data row12 col7\" >1.1620</td>\n",
       "    </tr>\n",
       "    <tr>\n",
       "      <th id=\"T_7e240_level0_row13\" class=\"row_heading level0 row13\" >lr</th>\n",
       "      <td id=\"T_7e240_row13_col0\" class=\"data row13 col0\" >Linear Regression</td>\n",
       "      <td id=\"T_7e240_row13_col1\" class=\"data row13 col1\" >0.0036</td>\n",
       "      <td id=\"T_7e240_row13_col2\" class=\"data row13 col2\" >0.0002</td>\n",
       "      <td id=\"T_7e240_row13_col3\" class=\"data row13 col3\" >0.0083</td>\n",
       "      <td id=\"T_7e240_row13_col4\" class=\"data row13 col4\" >-6.5316</td>\n",
       "      <td id=\"T_7e240_row13_col5\" class=\"data row13 col5\" >0.0066</td>\n",
       "      <td id=\"T_7e240_row13_col6\" class=\"data row13 col6\" >13.7682</td>\n",
       "      <td id=\"T_7e240_row13_col7\" class=\"data row13 col7\" >1.8500</td>\n",
       "    </tr>\n",
       "    <tr>\n",
       "      <th id=\"T_7e240_level0_row14\" class=\"row_heading level0 row14\" >rf</th>\n",
       "      <td id=\"T_7e240_row14_col0\" class=\"data row14 col0\" >Random Forest Regressor</td>\n",
       "      <td id=\"T_7e240_row14_col1\" class=\"data row14 col1\" >0.0041</td>\n",
       "      <td id=\"T_7e240_row14_col2\" class=\"data row14 col2\" >0.0000</td>\n",
       "      <td id=\"T_7e240_row14_col3\" class=\"data row14 col3\" >0.0059</td>\n",
       "      <td id=\"T_7e240_row14_col4\" class=\"data row14 col4\" >-6.6626</td>\n",
       "      <td id=\"T_7e240_row14_col5\" class=\"data row14 col5\" >0.0050</td>\n",
       "      <td id=\"T_7e240_row14_col6\" class=\"data row14 col6\" >6.8224</td>\n",
       "      <td id=\"T_7e240_row14_col7\" class=\"data row14 col7\" >6.1320</td>\n",
       "    </tr>\n",
       "    <tr>\n",
       "      <th id=\"T_7e240_level0_row15\" class=\"row_heading level0 row15\" >gbr</th>\n",
       "      <td id=\"T_7e240_row15_col0\" class=\"data row15 col0\" >Gradient Boosting Regressor</td>\n",
       "      <td id=\"T_7e240_row15_col1\" class=\"data row15 col1\" >0.0043</td>\n",
       "      <td id=\"T_7e240_row15_col2\" class=\"data row15 col2\" >0.0000</td>\n",
       "      <td id=\"T_7e240_row15_col3\" class=\"data row15 col3\" >0.0061</td>\n",
       "      <td id=\"T_7e240_row15_col4\" class=\"data row15 col4\" >-8.0793</td>\n",
       "      <td id=\"T_7e240_row15_col5\" class=\"data row15 col5\" >0.0053</td>\n",
       "      <td id=\"T_7e240_row15_col6\" class=\"data row15 col6\" >6.6197</td>\n",
       "      <td id=\"T_7e240_row15_col7\" class=\"data row15 col7\" >2.1060</td>\n",
       "    </tr>\n",
       "    <tr>\n",
       "      <th id=\"T_7e240_level0_row16\" class=\"row_heading level0 row16\" >dt</th>\n",
       "      <td id=\"T_7e240_row16_col0\" class=\"data row16 col0\" >Decision Tree Regressor</td>\n",
       "      <td id=\"T_7e240_row16_col1\" class=\"data row16 col1\" >0.0063</td>\n",
       "      <td id=\"T_7e240_row16_col2\" class=\"data row16 col2\" >0.0001</td>\n",
       "      <td id=\"T_7e240_row16_col3\" class=\"data row16 col3\" >0.0090</td>\n",
       "      <td id=\"T_7e240_row16_col4\" class=\"data row16 col4\" >-18.9798</td>\n",
       "      <td id=\"T_7e240_row16_col5\" class=\"data row16 col5\" >0.0067</td>\n",
       "      <td id=\"T_7e240_row16_col6\" class=\"data row16 col6\" >13.6105</td>\n",
       "      <td id=\"T_7e240_row16_col7\" class=\"data row16 col7\" >1.2570</td>\n",
       "    </tr>\n",
       "    <tr>\n",
       "      <th id=\"T_7e240_level0_row17\" class=\"row_heading level0 row17\" >lar</th>\n",
       "      <td id=\"T_7e240_row17_col0\" class=\"data row17 col0\" >Least Angle Regression</td>\n",
       "      <td id=\"T_7e240_row17_col1\" class=\"data row17 col1\" >1918103981125.3909</td>\n",
       "      <td id=\"T_7e240_row17_col2\" class=\"data row17 col2\" >101732697589803653032574976.0000</td>\n",
       "      <td id=\"T_7e240_row17_col3\" class=\"data row17 col3\" >3211529082954.4717</td>\n",
       "      <td id=\"T_7e240_row17_col4\" class=\"data row17 col4\" >-4139047224243116405269341405184.0000</td>\n",
       "      <td id=\"T_7e240_row17_col5\" class=\"data row17 col5\" >19.0592</td>\n",
       "      <td id=\"T_7e240_row17_col6\" class=\"data row17 col6\" >2659012256979337.0000</td>\n",
       "      <td id=\"T_7e240_row17_col7\" class=\"data row17 col7\" >1.1730</td>\n",
       "    </tr>\n",
       "  </tbody>\n",
       "</table>\n"
      ],
      "text/plain": [
       "<pandas.io.formats.style.Styler at 0x1629790b880>"
      ]
     },
     "metadata": {},
     "output_type": "display_data"
    },
    {
     "data": {
      "application/vnd.jupyter.widget-view+json": {
       "model_id": "032cd003fc694882b400db4644f68910",
       "version_major": 2,
       "version_minor": 0
      },
      "text/plain": [
       "Processing:   0%|          | 0/77 [00:00<?, ?it/s]"
      ]
     },
     "metadata": {},
     "output_type": "display_data"
    }
   ],
   "source": [
    "best = compare_models()"
   ]
  },
  {
   "cell_type": "code",
   "execution_count": 16,
   "metadata": {},
   "outputs": [
    {
     "data": {
      "application/vnd.jupyter.widget-view+json": {
       "model_id": "11307d6eff714734ba52b8de77dd05d0",
       "version_major": 2,
       "version_minor": 0
      },
      "text/plain": [
       "interactive(children=(ToggleButtons(description='Plot Type:', icons=('',), options=(('Pipeline Plot', 'pipelin…"
      ]
     },
     "metadata": {},
     "output_type": "display_data"
    },
    {
     "name": "stdout",
     "output_type": "stream",
     "text": [
      "PassiveAggressiveRegressor(random_state=123)\n"
     ]
    }
   ],
   "source": [
    "evaluate_model(best)\n",
    "print(best)"
   ]
  },
  {
   "cell_type": "code",
   "execution_count": 17,
   "metadata": {},
   "outputs": [],
   "source": [
    "# tuned = tune_model(best)"
   ]
  },
  {
   "cell_type": "code",
   "execution_count": 18,
   "metadata": {
    "scrolled": true
   },
   "outputs": [
    {
     "data": {
      "text/html": [
       "<style type=\"text/css\">\n",
       "</style>\n",
       "<table id=\"T_1c754\">\n",
       "  <thead>\n",
       "    <tr>\n",
       "      <th class=\"blank level0\" >&nbsp;</th>\n",
       "      <th id=\"T_1c754_level0_col0\" class=\"col_heading level0 col0\" >Model</th>\n",
       "      <th id=\"T_1c754_level0_col1\" class=\"col_heading level0 col1\" >MAE</th>\n",
       "      <th id=\"T_1c754_level0_col2\" class=\"col_heading level0 col2\" >MSE</th>\n",
       "      <th id=\"T_1c754_level0_col3\" class=\"col_heading level0 col3\" >RMSE</th>\n",
       "      <th id=\"T_1c754_level0_col4\" class=\"col_heading level0 col4\" >R2</th>\n",
       "      <th id=\"T_1c754_level0_col5\" class=\"col_heading level0 col5\" >RMSLE</th>\n",
       "      <th id=\"T_1c754_level0_col6\" class=\"col_heading level0 col6\" >MAPE</th>\n",
       "    </tr>\n",
       "  </thead>\n",
       "  <tbody>\n",
       "    <tr>\n",
       "      <th id=\"T_1c754_level0_row0\" class=\"row_heading level0 row0\" >0</th>\n",
       "      <td id=\"T_1c754_row0_col0\" class=\"data row0 col0\" >Passive Aggressive Regressor</td>\n",
       "      <td id=\"T_1c754_row0_col1\" class=\"data row0 col1\" >0.0015</td>\n",
       "      <td id=\"T_1c754_row0_col2\" class=\"data row0 col2\" >0.0000</td>\n",
       "      <td id=\"T_1c754_row0_col3\" class=\"data row0 col3\" >0.0023</td>\n",
       "      <td id=\"T_1c754_row0_col4\" class=\"data row0 col4\" >-0.0005</td>\n",
       "      <td id=\"T_1c754_row0_col5\" class=\"data row0 col5\" >0.0023</td>\n",
       "      <td id=\"T_1c754_row0_col6\" class=\"data row0 col6\" >1.0000</td>\n",
       "    </tr>\n",
       "  </tbody>\n",
       "</table>\n"
      ],
      "text/plain": [
       "<pandas.io.formats.style.Styler at 0x16299943b20>"
      ]
     },
     "metadata": {},
     "output_type": "display_data"
    }
   ],
   "source": [
    "# test = test.drop(['Target_Close_1min'], axis=1)\n",
    "predictions = predict_model(best, data = test)\n",
    "# predictions = predict_model(best, data = train)\n",
    "\n",
    "predictions.head()\n",
    "\n",
    "predictions.to_csv('result_Close_1min.csv')"
   ]
  }
 ],
 "metadata": {
  "kernelspec": {
   "display_name": "Python 3 (ipykernel)",
   "language": "python",
   "name": "python3"
  },
  "language_info": {
   "codemirror_mode": {
    "name": "ipython",
    "version": 3
   },
   "file_extension": ".py",
   "mimetype": "text/x-python",
   "name": "python",
   "nbconvert_exporter": "python",
   "pygments_lexer": "ipython3",
   "version": "3.10.9"
  }
 },
 "nbformat": 4,
 "nbformat_minor": 2
}
