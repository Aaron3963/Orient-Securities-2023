{
 "cells": [
  {
   "cell_type": "code",
   "execution_count": 5,
   "metadata": {},
   "outputs": [
    {
     "name": "stdout",
     "output_type": "stream",
     "text": [
      "Index(['tta_BOP', 'tta_STOCHRSI_timeperiod_6_fastk_period_5_fastd_period_8_0',\n",
      "       'tta_STOCHRSI_timeperiod_6_fastk_period_5_fastd_period_8_1',\n",
      "       'tta_TRANGE', 'tta_CDLBELTHOLD', 'tta_CDLCLOSINGMARUBOZU',\n",
      "       'tta_ULTOSC_timeperiod1_20_timeperiod2_5_timeperiod3_34',\n",
      "       'tta_MINUS_DM_timeperiod_6', 'tta_ADOSC_fastperiod_14_slowperiod_9',\n",
      "       'tta_DX_timeperiod_26',\n",
      "       ...\n",
      "       'STOCK_tta_CDLHANGINGMAN', 'STOCK_tta_CDLDOJISTAR',\n",
      "       'STOCK_tta_CDLHARAMI', 'STOCK_tta_CDLHARAMICROSS',\n",
      "       'STOCK_tta_CDLSHOOTINGSTAR', 'STOCK_tta_CDLADVANCEBLOCK',\n",
      "       'STOCK_tta_CDLTHRUSTING', 'STOCK_tta_CDLHOMINGPIGEON',\n",
      "       'STOCK_tta_CDLSTALLEDPATTERN', 'Flag_5low'],\n",
      "      dtype='object', length=141)\n"
     ]
    }
   ],
   "source": [
    "import pycaret\n",
    "import pandas as pd\n",
    "\n",
    "# from pycaret.regression import *\n",
    "\n",
    "TRAIN_PATH = 'train_withF_Avg_1min_FULL.csv'\n",
    "TEST_PATH = 'test_withF_Avg_1min_FULL.csv'\n",
    "\n",
    "train = pd.read_csv(TRAIN_PATH,index_col='Timestamp')\n",
    "test = pd.read_csv(TEST_PATH,index_col='Timestamp')\n",
    "\n",
    "# target_train = train['Flag_5low']\n",
    "# target_test = test['Flag_5low']\n",
    "\n",
    "# # train = train.iloc[:, 0:66]\n",
    "# # test = test.iloc[:, 0:66]\n",
    "\n",
    "# train['Target_Close_1min'] = target_train\n",
    "# test['Target_Close_1min'] = target_test\n",
    "\n",
    "train.drop(columns=['Target_Avg_1min'], inplace=True)\n",
    "test.drop(columns=['Target_Avg_1min'], inplace=True)\n",
    "\n",
    "print(train.columns)"
   ]
  },
  {
   "cell_type": "code",
   "execution_count": 6,
   "metadata": {},
   "outputs": [],
   "source": [
    "# percent_zeros = (train == 0).sum() / len(train) * 100\n",
    "\n",
    "# # Identify columns where the percentage of zeros exceeds 90%\n",
    "# columns_to_drop = percent_zeros[percent_zeros >= 90].index\n",
    "\n",
    "# # print(columns_to_drop)\n",
    "\n",
    "# train.drop(columns=columns_to_drop,inplace= True)\n",
    "# test.drop(columns=columns_to_drop,inplace= True)\n",
    "\n",
    "# print(train.columns)\n"
   ]
  },
  {
   "cell_type": "code",
   "execution_count": 7,
   "metadata": {},
   "outputs": [
    {
     "data": {
      "text/plain": [
       "pycaret.classification.oop.ClassificationExperiment"
      ]
     },
     "execution_count": 7,
     "metadata": {},
     "output_type": "execute_result"
    }
   ],
   "source": [
    "# from pycaret.regression import RegressionExperiment\n",
    "from pycaret.classification import *\n",
    "# from pycaret.regression import *\n",
    "exp = ClassificationExperiment()\n",
    "type(exp)"
   ]
  },
  {
   "cell_type": "code",
   "execution_count": 9,
   "metadata": {},
   "outputs": [
    {
     "data": {
      "text/html": [
       "<style type=\"text/css\">\n",
       "</style>\n",
       "<table id=\"T_efbca\">\n",
       "  <thead>\n",
       "    <tr>\n",
       "      <th class=\"blank level0\" >&nbsp;</th>\n",
       "      <th id=\"T_efbca_level0_col0\" class=\"col_heading level0 col0\" >Description</th>\n",
       "      <th id=\"T_efbca_level0_col1\" class=\"col_heading level0 col1\" >Value</th>\n",
       "    </tr>\n",
       "  </thead>\n",
       "  <tbody>\n",
       "    <tr>\n",
       "      <th id=\"T_efbca_level0_row0\" class=\"row_heading level0 row0\" >0</th>\n",
       "      <td id=\"T_efbca_row0_col0\" class=\"data row0 col0\" >Session id</td>\n",
       "      <td id=\"T_efbca_row0_col1\" class=\"data row0 col1\" >123</td>\n",
       "    </tr>\n",
       "    <tr>\n",
       "      <th id=\"T_efbca_level0_row1\" class=\"row_heading level0 row1\" >1</th>\n",
       "      <td id=\"T_efbca_row1_col0\" class=\"data row1 col0\" >Target</td>\n",
       "      <td id=\"T_efbca_row1_col1\" class=\"data row1 col1\" >Flag_5low</td>\n",
       "    </tr>\n",
       "    <tr>\n",
       "      <th id=\"T_efbca_level0_row2\" class=\"row_heading level0 row2\" >2</th>\n",
       "      <td id=\"T_efbca_row2_col0\" class=\"data row2 col0\" >Target type</td>\n",
       "      <td id=\"T_efbca_row2_col1\" class=\"data row2 col1\" >Binary</td>\n",
       "    </tr>\n",
       "    <tr>\n",
       "      <th id=\"T_efbca_level0_row3\" class=\"row_heading level0 row3\" >3</th>\n",
       "      <td id=\"T_efbca_row3_col0\" class=\"data row3 col0\" >Original data shape</td>\n",
       "      <td id=\"T_efbca_row3_col1\" class=\"data row3 col1\" >(5254, 141)</td>\n",
       "    </tr>\n",
       "    <tr>\n",
       "      <th id=\"T_efbca_level0_row4\" class=\"row_heading level0 row4\" >4</th>\n",
       "      <td id=\"T_efbca_row4_col0\" class=\"data row4 col0\" >Transformed data shape</td>\n",
       "      <td id=\"T_efbca_row4_col1\" class=\"data row4 col1\" >(5254, 141)</td>\n",
       "    </tr>\n",
       "    <tr>\n",
       "      <th id=\"T_efbca_level0_row5\" class=\"row_heading level0 row5\" >5</th>\n",
       "      <td id=\"T_efbca_row5_col0\" class=\"data row5 col0\" >Transformed train set shape</td>\n",
       "      <td id=\"T_efbca_row5_col1\" class=\"data row5 col1\" >(3677, 141)</td>\n",
       "    </tr>\n",
       "    <tr>\n",
       "      <th id=\"T_efbca_level0_row6\" class=\"row_heading level0 row6\" >6</th>\n",
       "      <td id=\"T_efbca_row6_col0\" class=\"data row6 col0\" >Transformed test set shape</td>\n",
       "      <td id=\"T_efbca_row6_col1\" class=\"data row6 col1\" >(1577, 141)</td>\n",
       "    </tr>\n",
       "    <tr>\n",
       "      <th id=\"T_efbca_level0_row7\" class=\"row_heading level0 row7\" >7</th>\n",
       "      <td id=\"T_efbca_row7_col0\" class=\"data row7 col0\" >Numeric features</td>\n",
       "      <td id=\"T_efbca_row7_col1\" class=\"data row7 col1\" >140</td>\n",
       "    </tr>\n",
       "  </tbody>\n",
       "</table>\n"
      ],
      "text/plain": [
       "<pandas.io.formats.style.Styler at 0x210544e6c80>"
      ]
     },
     "metadata": {},
     "output_type": "display_data"
    },
    {
     "data": {
      "text/plain": [
       "<pycaret.classification.oop.ClassificationExperiment at 0x21051b310f0>"
      ]
     },
     "execution_count": 9,
     "metadata": {},
     "output_type": "execute_result"
    }
   ],
   "source": [
    "setup(data=train, preprocess = False, feature_selection= True,target='Flag_5low', session_id = 123)"
   ]
  },
  {
   "cell_type": "code",
   "execution_count": 10,
   "metadata": {},
   "outputs": [
    {
     "data": {
      "text/html": [],
      "text/plain": [
       "<IPython.core.display.HTML object>"
      ]
     },
     "metadata": {},
     "output_type": "display_data"
    },
    {
     "data": {
      "text/html": [
       "<style type=\"text/css\">\n",
       "#T_4d1da th {\n",
       "  text-align: left;\n",
       "}\n",
       "#T_4d1da_row0_col0, #T_4d1da_row0_col3, #T_4d1da_row0_col4, #T_4d1da_row0_col5, #T_4d1da_row1_col0, #T_4d1da_row1_col1, #T_4d1da_row1_col2, #T_4d1da_row1_col3, #T_4d1da_row1_col4, #T_4d1da_row1_col6, #T_4d1da_row1_col7, #T_4d1da_row2_col0, #T_4d1da_row2_col1, #T_4d1da_row2_col2, #T_4d1da_row2_col3, #T_4d1da_row2_col4, #T_4d1da_row2_col5, #T_4d1da_row2_col6, #T_4d1da_row2_col7, #T_4d1da_row3_col0, #T_4d1da_row3_col1, #T_4d1da_row3_col2, #T_4d1da_row3_col3, #T_4d1da_row3_col4, #T_4d1da_row3_col5, #T_4d1da_row3_col6, #T_4d1da_row3_col7, #T_4d1da_row4_col0, #T_4d1da_row4_col1, #T_4d1da_row4_col2, #T_4d1da_row4_col3, #T_4d1da_row4_col4, #T_4d1da_row4_col5, #T_4d1da_row4_col6, #T_4d1da_row4_col7, #T_4d1da_row5_col0, #T_4d1da_row5_col1, #T_4d1da_row5_col2, #T_4d1da_row5_col3, #T_4d1da_row5_col4, #T_4d1da_row5_col5, #T_4d1da_row5_col6, #T_4d1da_row5_col7, #T_4d1da_row6_col0, #T_4d1da_row6_col1, #T_4d1da_row6_col2, #T_4d1da_row6_col3, #T_4d1da_row6_col4, #T_4d1da_row6_col5, #T_4d1da_row6_col6, #T_4d1da_row6_col7, #T_4d1da_row7_col0, #T_4d1da_row7_col1, #T_4d1da_row7_col2, #T_4d1da_row7_col3, #T_4d1da_row7_col4, #T_4d1da_row7_col5, #T_4d1da_row7_col6, #T_4d1da_row7_col7, #T_4d1da_row8_col0, #T_4d1da_row8_col1, #T_4d1da_row8_col2, #T_4d1da_row8_col4, #T_4d1da_row8_col5, #T_4d1da_row8_col6, #T_4d1da_row8_col7, #T_4d1da_row9_col0, #T_4d1da_row9_col1, #T_4d1da_row9_col2, #T_4d1da_row9_col3, #T_4d1da_row9_col4, #T_4d1da_row9_col5, #T_4d1da_row9_col6, #T_4d1da_row9_col7, #T_4d1da_row10_col0, #T_4d1da_row10_col1, #T_4d1da_row10_col2, #T_4d1da_row10_col3, #T_4d1da_row10_col4, #T_4d1da_row10_col5, #T_4d1da_row10_col6, #T_4d1da_row10_col7, #T_4d1da_row11_col0, #T_4d1da_row11_col1, #T_4d1da_row11_col2, #T_4d1da_row11_col3, #T_4d1da_row11_col4, #T_4d1da_row11_col5, #T_4d1da_row11_col6, #T_4d1da_row11_col7, #T_4d1da_row12_col0, #T_4d1da_row12_col1, #T_4d1da_row12_col2, #T_4d1da_row12_col3, #T_4d1da_row12_col4, #T_4d1da_row12_col5, #T_4d1da_row12_col6, #T_4d1da_row12_col7, #T_4d1da_row13_col0, #T_4d1da_row13_col1, #T_4d1da_row13_col2, #T_4d1da_row13_col3, #T_4d1da_row13_col5, #T_4d1da_row13_col6, #T_4d1da_row13_col7 {\n",
       "  text-align: left;\n",
       "}\n",
       "#T_4d1da_row0_col1, #T_4d1da_row0_col2, #T_4d1da_row0_col6, #T_4d1da_row0_col7, #T_4d1da_row1_col5, #T_4d1da_row8_col3, #T_4d1da_row13_col4 {\n",
       "  text-align: left;\n",
       "  background-color: yellow;\n",
       "}\n",
       "#T_4d1da_row0_col8, #T_4d1da_row1_col8, #T_4d1da_row2_col8, #T_4d1da_row3_col8, #T_4d1da_row4_col8, #T_4d1da_row5_col8, #T_4d1da_row6_col8, #T_4d1da_row7_col8, #T_4d1da_row8_col8, #T_4d1da_row10_col8, #T_4d1da_row11_col8, #T_4d1da_row12_col8, #T_4d1da_row13_col8 {\n",
       "  text-align: left;\n",
       "  background-color: lightgrey;\n",
       "}\n",
       "#T_4d1da_row9_col8 {\n",
       "  text-align: left;\n",
       "  background-color: yellow;\n",
       "  background-color: lightgrey;\n",
       "}\n",
       "</style>\n",
       "<table id=\"T_4d1da\">\n",
       "  <thead>\n",
       "    <tr>\n",
       "      <th class=\"blank level0\" >&nbsp;</th>\n",
       "      <th id=\"T_4d1da_level0_col0\" class=\"col_heading level0 col0\" >Model</th>\n",
       "      <th id=\"T_4d1da_level0_col1\" class=\"col_heading level0 col1\" >Accuracy</th>\n",
       "      <th id=\"T_4d1da_level0_col2\" class=\"col_heading level0 col2\" >AUC</th>\n",
       "      <th id=\"T_4d1da_level0_col3\" class=\"col_heading level0 col3\" >Recall</th>\n",
       "      <th id=\"T_4d1da_level0_col4\" class=\"col_heading level0 col4\" >Prec.</th>\n",
       "      <th id=\"T_4d1da_level0_col5\" class=\"col_heading level0 col5\" >F1</th>\n",
       "      <th id=\"T_4d1da_level0_col6\" class=\"col_heading level0 col6\" >Kappa</th>\n",
       "      <th id=\"T_4d1da_level0_col7\" class=\"col_heading level0 col7\" >MCC</th>\n",
       "      <th id=\"T_4d1da_level0_col8\" class=\"col_heading level0 col8\" >TT (Sec)</th>\n",
       "    </tr>\n",
       "  </thead>\n",
       "  <tbody>\n",
       "    <tr>\n",
       "      <th id=\"T_4d1da_level0_row0\" class=\"row_heading level0 row0\" >lightgbm</th>\n",
       "      <td id=\"T_4d1da_row0_col0\" class=\"data row0 col0\" >Light Gradient Boosting Machine</td>\n",
       "      <td id=\"T_4d1da_row0_col1\" class=\"data row0 col1\" >0.7465</td>\n",
       "      <td id=\"T_4d1da_row0_col2\" class=\"data row0 col2\" >0.7578</td>\n",
       "      <td id=\"T_4d1da_row0_col3\" class=\"data row0 col3\" >0.9063</td>\n",
       "      <td id=\"T_4d1da_row0_col4\" class=\"data row0 col4\" >0.7735</td>\n",
       "      <td id=\"T_4d1da_row0_col5\" class=\"data row0 col5\" >0.8346</td>\n",
       "      <td id=\"T_4d1da_row0_col6\" class=\"data row0 col6\" >0.3067</td>\n",
       "      <td id=\"T_4d1da_row0_col7\" class=\"data row0 col7\" >0.3255</td>\n",
       "      <td id=\"T_4d1da_row0_col8\" class=\"data row0 col8\" >2.6990</td>\n",
       "    </tr>\n",
       "    <tr>\n",
       "      <th id=\"T_4d1da_level0_row1\" class=\"row_heading level0 row1\" >rf</th>\n",
       "      <td id=\"T_4d1da_row1_col0\" class=\"data row1 col0\" >Random Forest Classifier</td>\n",
       "      <td id=\"T_4d1da_row1_col1\" class=\"data row1 col1\" >0.7427</td>\n",
       "      <td id=\"T_4d1da_row1_col2\" class=\"data row1 col2\" >0.7453</td>\n",
       "      <td id=\"T_4d1da_row1_col3\" class=\"data row1 col3\" >0.9387</td>\n",
       "      <td id=\"T_4d1da_row1_col4\" class=\"data row1 col4\" >0.7558</td>\n",
       "      <td id=\"T_4d1da_row1_col5\" class=\"data row1 col5\" >0.8373</td>\n",
       "      <td id=\"T_4d1da_row1_col6\" class=\"data row1 col6\" >0.2548</td>\n",
       "      <td id=\"T_4d1da_row1_col7\" class=\"data row1 col7\" >0.2936</td>\n",
       "      <td id=\"T_4d1da_row1_col8\" class=\"data row1 col8\" >1.5520</td>\n",
       "    </tr>\n",
       "    <tr>\n",
       "      <th id=\"T_4d1da_level0_row2\" class=\"row_heading level0 row2\" >et</th>\n",
       "      <td id=\"T_4d1da_row2_col0\" class=\"data row2 col0\" >Extra Trees Classifier</td>\n",
       "      <td id=\"T_4d1da_row2_col1\" class=\"data row2 col1\" >0.7378</td>\n",
       "      <td id=\"T_4d1da_row2_col2\" class=\"data row2 col2\" >0.7311</td>\n",
       "      <td id=\"T_4d1da_row2_col3\" class=\"data row2 col3\" >0.9217</td>\n",
       "      <td id=\"T_4d1da_row2_col4\" class=\"data row2 col4\" >0.7586</td>\n",
       "      <td id=\"T_4d1da_row2_col5\" class=\"data row2 col5\" >0.8322</td>\n",
       "      <td id=\"T_4d1da_row2_col6\" class=\"data row2 col6\" >0.2576</td>\n",
       "      <td id=\"T_4d1da_row2_col7\" class=\"data row2 col7\" >0.2859</td>\n",
       "      <td id=\"T_4d1da_row2_col8\" class=\"data row2 col8\" >1.5300</td>\n",
       "    </tr>\n",
       "    <tr>\n",
       "      <th id=\"T_4d1da_level0_row3\" class=\"row_heading level0 row3\" >gbc</th>\n",
       "      <td id=\"T_4d1da_row3_col0\" class=\"data row3 col0\" >Gradient Boosting Classifier</td>\n",
       "      <td id=\"T_4d1da_row3_col1\" class=\"data row3 col1\" >0.7346</td>\n",
       "      <td id=\"T_4d1da_row3_col2\" class=\"data row3 col2\" >0.7285</td>\n",
       "      <td id=\"T_4d1da_row3_col3\" class=\"data row3 col3\" >0.9125</td>\n",
       "      <td id=\"T_4d1da_row3_col4\" class=\"data row3 col4\" >0.7596</td>\n",
       "      <td id=\"T_4d1da_row3_col5\" class=\"data row3 col5\" >0.8290</td>\n",
       "      <td id=\"T_4d1da_row3_col6\" class=\"data row3 col6\" >0.2572</td>\n",
       "      <td id=\"T_4d1da_row3_col7\" class=\"data row3 col7\" >0.2811</td>\n",
       "      <td id=\"T_4d1da_row3_col8\" class=\"data row3 col8\" >2.2570</td>\n",
       "    </tr>\n",
       "    <tr>\n",
       "      <th id=\"T_4d1da_level0_row4\" class=\"row_heading level0 row4\" >ridge</th>\n",
       "      <td id=\"T_4d1da_row4_col0\" class=\"data row4 col0\" >Ridge Classifier</td>\n",
       "      <td id=\"T_4d1da_row4_col1\" class=\"data row4 col1\" >0.7305</td>\n",
       "      <td id=\"T_4d1da_row4_col2\" class=\"data row4 col2\" >0.0000</td>\n",
       "      <td id=\"T_4d1da_row4_col3\" class=\"data row4 col3\" >0.9090</td>\n",
       "      <td id=\"T_4d1da_row4_col4\" class=\"data row4 col4\" >0.7574</td>\n",
       "      <td id=\"T_4d1da_row4_col5\" class=\"data row4 col5\" >0.8263</td>\n",
       "      <td id=\"T_4d1da_row4_col6\" class=\"data row4 col6\" >0.2466</td>\n",
       "      <td id=\"T_4d1da_row4_col7\" class=\"data row4 col7\" >0.2696</td>\n",
       "      <td id=\"T_4d1da_row4_col8\" class=\"data row4 col8\" >1.2820</td>\n",
       "    </tr>\n",
       "    <tr>\n",
       "      <th id=\"T_4d1da_level0_row5\" class=\"row_heading level0 row5\" >lda</th>\n",
       "      <td id=\"T_4d1da_row5_col0\" class=\"data row5 col0\" >Linear Discriminant Analysis</td>\n",
       "      <td id=\"T_4d1da_row5_col1\" class=\"data row5 col1\" >0.7300</td>\n",
       "      <td id=\"T_4d1da_row5_col2\" class=\"data row5 col2\" >0.7049</td>\n",
       "      <td id=\"T_4d1da_row5_col3\" class=\"data row5 col3\" >0.8963</td>\n",
       "      <td id=\"T_4d1da_row5_col4\" class=\"data row5 col4\" >0.7625</td>\n",
       "      <td id=\"T_4d1da_row5_col5\" class=\"data row5 col5\" >0.8239</td>\n",
       "      <td id=\"T_4d1da_row5_col6\" class=\"data row5 col6\" >0.2598</td>\n",
       "      <td id=\"T_4d1da_row5_col7\" class=\"data row5 col7\" >0.2771</td>\n",
       "      <td id=\"T_4d1da_row5_col8\" class=\"data row5 col8\" >1.4260</td>\n",
       "    </tr>\n",
       "    <tr>\n",
       "      <th id=\"T_4d1da_level0_row6\" class=\"row_heading level0 row6\" >ada</th>\n",
       "      <td id=\"T_4d1da_row6_col0\" class=\"data row6 col0\" >Ada Boost Classifier</td>\n",
       "      <td id=\"T_4d1da_row6_col1\" class=\"data row6 col1\" >0.7259</td>\n",
       "      <td id=\"T_4d1da_row6_col2\" class=\"data row6 col2\" >0.7077</td>\n",
       "      <td id=\"T_4d1da_row6_col3\" class=\"data row6 col3\" >0.8820</td>\n",
       "      <td id=\"T_4d1da_row6_col4\" class=\"data row6 col4\" >0.7653</td>\n",
       "      <td id=\"T_4d1da_row6_col5\" class=\"data row6 col5\" >0.8194</td>\n",
       "      <td id=\"T_4d1da_row6_col6\" class=\"data row6 col6\" >0.2617</td>\n",
       "      <td id=\"T_4d1da_row6_col7\" class=\"data row6 col7\" >0.2738</td>\n",
       "      <td id=\"T_4d1da_row6_col8\" class=\"data row6 col8\" >1.5390</td>\n",
       "    </tr>\n",
       "    <tr>\n",
       "      <th id=\"T_4d1da_level0_row7\" class=\"row_heading level0 row7\" >lr</th>\n",
       "      <td id=\"T_4d1da_row7_col0\" class=\"data row7 col0\" >Logistic Regression</td>\n",
       "      <td id=\"T_4d1da_row7_col1\" class=\"data row7 col1\" >0.7183</td>\n",
       "      <td id=\"T_4d1da_row7_col2\" class=\"data row7 col2\" >0.6356</td>\n",
       "      <td id=\"T_4d1da_row7_col3\" class=\"data row7 col3\" >0.9653</td>\n",
       "      <td id=\"T_4d1da_row7_col4\" class=\"data row7 col4\" >0.7268</td>\n",
       "      <td id=\"T_4d1da_row7_col5\" class=\"data row7 col5\" >0.8286</td>\n",
       "      <td id=\"T_4d1da_row7_col6\" class=\"data row7 col6\" >0.1138</td>\n",
       "      <td id=\"T_4d1da_row7_col7\" class=\"data row7 col7\" >0.1394</td>\n",
       "      <td id=\"T_4d1da_row7_col8\" class=\"data row7 col8\" >2.0270</td>\n",
       "    </tr>\n",
       "    <tr>\n",
       "      <th id=\"T_4d1da_level0_row8\" class=\"row_heading level0 row8\" >dummy</th>\n",
       "      <td id=\"T_4d1da_row8_col0\" class=\"data row8 col0\" >Dummy Classifier</td>\n",
       "      <td id=\"T_4d1da_row8_col1\" class=\"data row8 col1\" >0.7055</td>\n",
       "      <td id=\"T_4d1da_row8_col2\" class=\"data row8 col2\" >0.5000</td>\n",
       "      <td id=\"T_4d1da_row8_col3\" class=\"data row8 col3\" >1.0000</td>\n",
       "      <td id=\"T_4d1da_row8_col4\" class=\"data row8 col4\" >0.7055</td>\n",
       "      <td id=\"T_4d1da_row8_col5\" class=\"data row8 col5\" >0.8273</td>\n",
       "      <td id=\"T_4d1da_row8_col6\" class=\"data row8 col6\" >0.0000</td>\n",
       "      <td id=\"T_4d1da_row8_col7\" class=\"data row8 col7\" >0.0000</td>\n",
       "      <td id=\"T_4d1da_row8_col8\" class=\"data row8 col8\" >2.6630</td>\n",
       "    </tr>\n",
       "    <tr>\n",
       "      <th id=\"T_4d1da_level0_row9\" class=\"row_heading level0 row9\" >nb</th>\n",
       "      <td id=\"T_4d1da_row9_col0\" class=\"data row9 col0\" >Naive Bayes</td>\n",
       "      <td id=\"T_4d1da_row9_col1\" class=\"data row9 col1\" >0.6900</td>\n",
       "      <td id=\"T_4d1da_row9_col2\" class=\"data row9 col2\" >0.6552</td>\n",
       "      <td id=\"T_4d1da_row9_col3\" class=\"data row9 col3\" >0.9476</td>\n",
       "      <td id=\"T_4d1da_row9_col4\" class=\"data row9 col4\" >0.7100</td>\n",
       "      <td id=\"T_4d1da_row9_col5\" class=\"data row9 col5\" >0.8117</td>\n",
       "      <td id=\"T_4d1da_row9_col6\" class=\"data row9 col6\" >0.0269</td>\n",
       "      <td id=\"T_4d1da_row9_col7\" class=\"data row9 col7\" >0.0407</td>\n",
       "      <td id=\"T_4d1da_row9_col8\" class=\"data row9 col8\" >1.2690</td>\n",
       "    </tr>\n",
       "    <tr>\n",
       "      <th id=\"T_4d1da_level0_row10\" class=\"row_heading level0 row10\" >dt</th>\n",
       "      <td id=\"T_4d1da_row10_col0\" class=\"data row10 col0\" >Decision Tree Classifier</td>\n",
       "      <td id=\"T_4d1da_row10_col1\" class=\"data row10 col1\" >0.6535</td>\n",
       "      <td id=\"T_4d1da_row10_col2\" class=\"data row10 col2\" >0.5869</td>\n",
       "      <td id=\"T_4d1da_row10_col3\" class=\"data row10 col3\" >0.7491</td>\n",
       "      <td id=\"T_4d1da_row10_col4\" class=\"data row10 col4\" >0.7572</td>\n",
       "      <td id=\"T_4d1da_row10_col5\" class=\"data row10 col5\" >0.7529</td>\n",
       "      <td id=\"T_4d1da_row10_col6\" class=\"data row10 col6\" >0.1726</td>\n",
       "      <td id=\"T_4d1da_row10_col7\" class=\"data row10 col7\" >0.1729</td>\n",
       "      <td id=\"T_4d1da_row10_col8\" class=\"data row10 col8\" >1.3140</td>\n",
       "    </tr>\n",
       "    <tr>\n",
       "      <th id=\"T_4d1da_level0_row11\" class=\"row_heading level0 row11\" >knn</th>\n",
       "      <td id=\"T_4d1da_row11_col0\" class=\"data row11 col0\" >K Neighbors Classifier</td>\n",
       "      <td id=\"T_4d1da_row11_col1\" class=\"data row11 col1\" >0.6519</td>\n",
       "      <td id=\"T_4d1da_row11_col2\" class=\"data row11 col2\" >0.5592</td>\n",
       "      <td id=\"T_4d1da_row11_col3\" class=\"data row11 col3\" >0.8404</td>\n",
       "      <td id=\"T_4d1da_row11_col4\" class=\"data row11 col4\" >0.7157</td>\n",
       "      <td id=\"T_4d1da_row11_col5\" class=\"data row11 col5\" >0.7730</td>\n",
       "      <td id=\"T_4d1da_row11_col6\" class=\"data row11 col6\" >0.0463</td>\n",
       "      <td id=\"T_4d1da_row11_col7\" class=\"data row11 col7\" >0.0491</td>\n",
       "      <td id=\"T_4d1da_row11_col8\" class=\"data row11 col8\" >1.4050</td>\n",
       "    </tr>\n",
       "    <tr>\n",
       "      <th id=\"T_4d1da_level0_row12\" class=\"row_heading level0 row12\" >svm</th>\n",
       "      <td id=\"T_4d1da_row12_col0\" class=\"data row12 col0\" >SVM - Linear Kernel</td>\n",
       "      <td id=\"T_4d1da_row12_col1\" class=\"data row12 col1\" >0.4933</td>\n",
       "      <td id=\"T_4d1da_row12_col2\" class=\"data row12 col2\" >0.0000</td>\n",
       "      <td id=\"T_4d1da_row12_col3\" class=\"data row12 col3\" >0.4915</td>\n",
       "      <td id=\"T_4d1da_row12_col4\" class=\"data row12 col4\" >0.7022</td>\n",
       "      <td id=\"T_4d1da_row12_col5\" class=\"data row12 col5\" >0.5718</td>\n",
       "      <td id=\"T_4d1da_row12_col6\" class=\"data row12 col6\" >-0.0102</td>\n",
       "      <td id=\"T_4d1da_row12_col7\" class=\"data row12 col7\" >-0.0101</td>\n",
       "      <td id=\"T_4d1da_row12_col8\" class=\"data row12 col8\" >1.3150</td>\n",
       "    </tr>\n",
       "    <tr>\n",
       "      <th id=\"T_4d1da_level0_row13\" class=\"row_heading level0 row13\" >qda</th>\n",
       "      <td id=\"T_4d1da_row13_col0\" class=\"data row13 col0\" >Quadratic Discriminant Analysis</td>\n",
       "      <td id=\"T_4d1da_row13_col1\" class=\"data row13 col1\" >0.3138</td>\n",
       "      <td id=\"T_4d1da_row13_col2\" class=\"data row13 col2\" >0.6495</td>\n",
       "      <td id=\"T_4d1da_row13_col3\" class=\"data row13 col3\" >0.0362</td>\n",
       "      <td id=\"T_4d1da_row13_col4\" class=\"data row13 col4\" >0.7954</td>\n",
       "      <td id=\"T_4d1da_row13_col5\" class=\"data row13 col5\" >0.0692</td>\n",
       "      <td id=\"T_4d1da_row13_col6\" class=\"data row13 col6\" >0.0090</td>\n",
       "      <td id=\"T_4d1da_row13_col7\" class=\"data row13 col7\" >0.0373</td>\n",
       "      <td id=\"T_4d1da_row13_col8\" class=\"data row13 col8\" >1.3100</td>\n",
       "    </tr>\n",
       "  </tbody>\n",
       "</table>\n"
      ],
      "text/plain": [
       "<pandas.io.formats.style.Styler at 0x21051a3e560>"
      ]
     },
     "metadata": {},
     "output_type": "display_data"
    },
    {
     "data": {
      "application/vnd.jupyter.widget-view+json": {
       "model_id": "3616d82deff345d1a127ee6f35e50380",
       "version_major": 2,
       "version_minor": 0
      },
      "text/plain": [
       "Processing:   0%|          | 0/61 [00:00<?, ?it/s]"
      ]
     },
     "metadata": {},
     "output_type": "display_data"
    }
   ],
   "source": [
    "best = compare_models()"
   ]
  },
  {
   "cell_type": "code",
   "execution_count": 11,
   "metadata": {},
   "outputs": [
    {
     "data": {
      "application/vnd.jupyter.widget-view+json": {
       "model_id": "ff9ab4affee64d359d3dcb6dfa2adc31",
       "version_major": 2,
       "version_minor": 0
      },
      "text/plain": [
       "interactive(children=(ToggleButtons(description='Plot Type:', icons=('',), options=(('Pipeline Plot', 'pipelin…"
      ]
     },
     "metadata": {},
     "output_type": "display_data"
    },
    {
     "name": "stdout",
     "output_type": "stream",
     "text": [
      "LGBMClassifier(boosting_type='gbdt', class_weight=None, colsample_bytree=1.0,\n",
      "               importance_type='split', learning_rate=0.1, max_depth=-1,\n",
      "               min_child_samples=20, min_child_weight=0.001, min_split_gain=0.0,\n",
      "               n_estimators=100, n_jobs=-1, num_leaves=31, objective=None,\n",
      "               random_state=123, reg_alpha=0.0, reg_lambda=0.0, silent='warn',\n",
      "               subsample=1.0, subsample_for_bin=200000, subsample_freq=0)\n"
     ]
    }
   ],
   "source": [
    "evaluate_model(best)\n",
    "print(best)"
   ]
  },
  {
   "cell_type": "code",
   "execution_count": 12,
   "metadata": {},
   "outputs": [],
   "source": [
    "# tuned = tune_model(best)"
   ]
  },
  {
   "cell_type": "code",
   "execution_count": null,
   "metadata": {},
   "outputs": [],
   "source": []
  },
  {
   "cell_type": "code",
   "execution_count": 13,
   "metadata": {
    "scrolled": true
   },
   "outputs": [
    {
     "data": {
      "text/html": [
       "<style type=\"text/css\">\n",
       "</style>\n",
       "<table id=\"T_c8702\">\n",
       "  <thead>\n",
       "    <tr>\n",
       "      <th class=\"blank level0\" >&nbsp;</th>\n",
       "      <th id=\"T_c8702_level0_col0\" class=\"col_heading level0 col0\" >Model</th>\n",
       "      <th id=\"T_c8702_level0_col1\" class=\"col_heading level0 col1\" >Accuracy</th>\n",
       "      <th id=\"T_c8702_level0_col2\" class=\"col_heading level0 col2\" >AUC</th>\n",
       "      <th id=\"T_c8702_level0_col3\" class=\"col_heading level0 col3\" >Recall</th>\n",
       "      <th id=\"T_c8702_level0_col4\" class=\"col_heading level0 col4\" >Prec.</th>\n",
       "      <th id=\"T_c8702_level0_col5\" class=\"col_heading level0 col5\" >F1</th>\n",
       "      <th id=\"T_c8702_level0_col6\" class=\"col_heading level0 col6\" >Kappa</th>\n",
       "      <th id=\"T_c8702_level0_col7\" class=\"col_heading level0 col7\" >MCC</th>\n",
       "    </tr>\n",
       "  </thead>\n",
       "  <tbody>\n",
       "    <tr>\n",
       "      <th id=\"T_c8702_level0_row0\" class=\"row_heading level0 row0\" >0</th>\n",
       "      <td id=\"T_c8702_row0_col0\" class=\"data row0 col0\" >Light Gradient Boosting Machine</td>\n",
       "      <td id=\"T_c8702_row0_col1\" class=\"data row0 col1\" >0.7296</td>\n",
       "      <td id=\"T_c8702_row0_col2\" class=\"data row0 col2\" >0.6663</td>\n",
       "      <td id=\"T_c8702_row0_col3\" class=\"data row0 col3\" >0.8678</td>\n",
       "      <td id=\"T_c8702_row0_col4\" class=\"data row0 col4\" >0.7951</td>\n",
       "      <td id=\"T_c8702_row0_col5\" class=\"data row0 col5\" >0.8298</td>\n",
       "      <td id=\"T_c8702_row0_col6\" class=\"data row0 col6\" >0.1782</td>\n",
       "      <td id=\"T_c8702_row0_col7\" class=\"data row0 col7\" >0.1824</td>\n",
       "    </tr>\n",
       "  </tbody>\n",
       "</table>\n"
      ],
      "text/plain": [
       "<pandas.io.formats.style.Styler at 0x210543dc430>"
      ]
     },
     "metadata": {},
     "output_type": "display_data"
    }
   ],
   "source": [
    "# test = test.drop(['Target_Close_1min'], axis=1)\n",
    "predictions = predict_model(best, data = test)\n",
    "# predictions = predict_model(best, data = train)\n",
    "\n",
    "predictions.head()\n",
    "\n",
    "predictions.to_csv('result_5Low_1min.csv')"
   ]
  }
 ],
 "metadata": {
  "kernelspec": {
   "display_name": "Python 3 (ipykernel)",
   "language": "python",
   "name": "python3"
  },
  "language_info": {
   "codemirror_mode": {
    "name": "ipython",
    "version": 3
   },
   "file_extension": ".py",
   "mimetype": "text/x-python",
   "name": "python",
   "nbconvert_exporter": "python",
   "pygments_lexer": "ipython3",
   "version": "3.10.9"
  }
 },
 "nbformat": 4,
 "nbformat_minor": 2
}
