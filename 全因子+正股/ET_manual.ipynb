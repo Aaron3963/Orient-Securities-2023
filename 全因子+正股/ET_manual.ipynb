{
 "cells": [
  {
   "cell_type": "code",
   "execution_count": null,
   "metadata": {},
   "outputs": [],
   "source": [
    "import pandas as pd\n",
    "import matplotlib.pyplot as plt\n",
    "import seaborn as sns\n",
    "from sklearn.ensemble import ExtraTreesRegressor\n",
    "\n",
    "# Load your dataset into a DataFrame (replace 'your_data.csv' with the actual filename)\n",
    "df = pd.read_csv('test_withF_Avg_1min_FULL.csv', index_col='Timestamp')"
   ]
  }
 ],
 "metadata": {
  "language_info": {
   "name": "python"
  },
  "orig_nbformat": 4
 },
 "nbformat": 4,
 "nbformat_minor": 2
}
