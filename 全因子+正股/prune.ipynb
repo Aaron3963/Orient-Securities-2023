{
 "cells": [
  {
   "cell_type": "code",
   "execution_count": 1,
   "metadata": {},
   "outputs": [
    {
     "name": "stdout",
     "output_type": "stream",
     "text": [
      "Index(['tta_BOP', 'tta_STOCHRSI_timeperiod_6_fastk_period_5_fastd_period_8_0',\n",
      "       'tta_STOCHRSI_timeperiod_6_fastk_period_5_fastd_period_8_1',\n",
      "       'tta_TRANGE', 'tta_CDLBELTHOLD', 'tta_CDLCLOSINGMARUBOZU',\n",
      "       'tta_ULTOSC_timeperiod1_20_timeperiod2_5_timeperiod3_34',\n",
      "       'tta_MINUS_DM_timeperiod_6', 'tta_ADOSC_fastperiod_14_slowperiod_9',\n",
      "       'tta_DX_timeperiod_26',\n",
      "       ...\n",
      "       'STOCK_tta_CDLHANGINGMAN', 'STOCK_tta_CDLDOJISTAR',\n",
      "       'STOCK_tta_CDLHARAMI', 'STOCK_tta_CDLHARAMICROSS',\n",
      "       'STOCK_tta_CDLSHOOTINGSTAR', 'STOCK_tta_CDLADVANCEBLOCK',\n",
      "       'STOCK_tta_CDLTHRUSTING', 'STOCK_tta_CDLHOMINGPIGEON',\n",
      "       'STOCK_tta_CDLSTALLEDPATTERN', 'Target_Avg_1min'],\n",
      "      dtype='object', length=141)\n"
     ]
    }
   ],
   "source": [
    "from tuneta.tune_ta import TuneTA\n",
    "import pandas as pd\n",
    "import numpy as np\n",
    "\n",
    "import talib\n",
    "\n",
    "TRAIN_PATH = 'train_withF_Avg_1min_FULL.csv'\n",
    "TEST_PATH = 'test_withF_Avg_1min_FULL.csv'\n",
    "\n",
    "train = pd.read_csv(TRAIN_PATH,index_col='Timestamp')\n",
    "test = pd.read_csv(TEST_PATH,index_col='Timestamp')\n",
    "\n",
    "print(train.columns)"
   ]
  },
  {
   "cell_type": "code",
   "execution_count": null,
   "metadata": {},
   "outputs": [],
   "source": [
    "tt = TuneTA(n_jobs=8, verbose=True)\n",
    "X_train = train.drop(columns = ['Target_Avg_1min'])\n",
    "y_train = train['Target_Avg_1min']\n",
    "\n",
    "feature_names = tt.prune_df(X_train, y_train, max_inter_correlation=0.6, report=False)\n",
    "\n",
    "print(\"Number of features before pruning: \" + str(train.shape[0]-1))\n",
    "print(\"Number of features after pruning: \" + str(len(feature_names)))"
   ]
  }
 ],
 "metadata": {
  "kernelspec": {
   "display_name": "base",
   "language": "python",
   "name": "python3"
  },
  "language_info": {
   "codemirror_mode": {
    "name": "ipython",
    "version": 3
   },
   "file_extension": ".py",
   "mimetype": "text/x-python",
   "name": "python",
   "nbconvert_exporter": "python",
   "pygments_lexer": "ipython3",
   "version": "3.10.9"
  },
  "orig_nbformat": 4
 },
 "nbformat": 4,
 "nbformat_minor": 2
}
