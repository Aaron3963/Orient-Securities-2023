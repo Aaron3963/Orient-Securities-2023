{
 "cells": [
  {
   "cell_type": "code",
   "execution_count": 7,
   "metadata": {},
   "outputs": [
    {
     "name": "stdout",
     "output_type": "stream",
     "text": [
      "Index(['Timestamp', 'Open', 'High', 'Low', 'Volume', 'Turnover', 'Close',\n",
      "       'Avg', 'log_ret_close_1min', 'BBANDS_close_16min_up',\n",
      "       'BBANDS_close_16min_mid', 'BBANDS_close_16min_low',\n",
      "       'MACD_close_F12S26S9', 'RSI_close_12min', 'SAR', 'Target_Close_1min',\n",
      "       'Target_Avg_1min', 'STOCK_log_ret_close_1min',\n",
      "       'STOCK_BBANDS_close_16min_up', 'STOCK_BBANDS_close_16min_mid',\n",
      "       'STOCK_BBANDS_close_16min_low', 'STOCK_MACD_close_F12S26S9',\n",
      "       'STOCK_RSI_close_12min', 'STOCK_SAR'],\n",
      "      dtype='object')\n"
     ]
    }
   ],
   "source": [
    "import pandas as pd\n",
    "from sklearn.linear_model import LinearRegression, Ridge, BayesianRidge\n",
    "from sklearn.metrics import mean_squared_error,r2_score\n",
    "\n",
    "import matplotlib.pyplot as plt\n",
    "\n",
    "\n",
    "TRAIN_PATH = '123181_train_withF.csv'\n",
    "TEST_PATH = '123181_test_withF.csv'\n",
    "\n",
    "train = pd.read_csv(TRAIN_PATH)\n",
    "test = pd.read_csv(TEST_PATH)\n",
    "\n",
    "print(train.columns)\n"
   ]
  },
  {
   "cell_type": "markdown",
   "metadata": {},
   "source": [
    "Train Model"
   ]
  },
  {
   "cell_type": "code",
   "execution_count": 8,
   "metadata": {},
   "outputs": [],
   "source": [
    "def experiment(train, test, target):\n",
    "    model = BayesianRidge()\n",
    "\n",
    "    train_input = train[['log_ret_close_1min', 'BBANDS_close_16min_up', 'BBANDS_close_16min_mid',\n",
    "       'BBANDS_close_16min_low', 'MACD_close_F12S26S9', 'RSI_close_12min',\n",
    "       'SAR','STOCK_log_ret_close_1min', 'STOCK_BBANDS_close_16min_up',\n",
    "       'STOCK_BBANDS_close_16min_mid', 'STOCK_BBANDS_close_16min_low',\n",
    "       'STOCK_MACD_close_F12S26S9', 'STOCK_RSI_close_12min', 'STOCK_SAR']]\n",
    "    \n",
    "    test_input = test[['log_ret_close_1min', 'BBANDS_close_16min_up', 'BBANDS_close_16min_mid',\n",
    "       'BBANDS_close_16min_low', 'MACD_close_F12S26S9', 'RSI_close_12min',\n",
    "       'SAR','STOCK_log_ret_close_1min', 'STOCK_BBANDS_close_16min_up',\n",
    "       'STOCK_BBANDS_close_16min_mid', 'STOCK_BBANDS_close_16min_low',\n",
    "       'STOCK_MACD_close_F12S26S9', 'STOCK_RSI_close_12min', 'STOCK_SAR']]\n",
    "\n",
    "    model.fit(train_input, train[target])\n",
    "\n",
    "    predictions = model.predict(test_input)\n",
    "\n",
    "                \n",
    "    # Results\n",
    "    print(model.coef_)\n",
    "    print(\"MSE: %5f\"%mean_squared_error(test[target],predictions))\n",
    "    print(\"R^2: %5f\"%r2_score(test[target],predictions))\n"
   ]
  },
  {
   "cell_type": "code",
   "execution_count": 9,
   "metadata": {},
   "outputs": [
    {
     "name": "stdout",
     "output_type": "stream",
     "text": [
      "[ 3.24006977e-01 -2.17501755e-06 -4.93594919e-06 -7.69662858e-06\n",
      " -1.24078578e-04  3.85202094e-06  1.25796218e-05  7.85504490e-02\n",
      "  6.40101045e-05  1.87529711e-05 -2.65042603e-05  5.50926367e-04\n",
      " -4.79702356e-06 -5.50189017e-05]\n",
      "MSE: 0.000003\n",
      "R^2: 0.102252\n"
     ]
    }
   ],
   "source": [
    "experiment(train = train, test = test, target= 'Target_Avg_1min')"
   ]
  }
 ],
 "metadata": {
  "kernelspec": {
   "display_name": "Python 3 (ipykernel)",
   "language": "python",
   "name": "python3"
  },
  "language_info": {
   "codemirror_mode": {
    "name": "ipython",
    "version": 3
   },
   "file_extension": ".py",
   "mimetype": "text/x-python",
   "name": "python",
   "nbconvert_exporter": "python",
   "pygments_lexer": "ipython3",
   "version": "3.10.9"
  },
  "orig_nbformat": 4
 },
 "nbformat": 4,
 "nbformat_minor": 2
}
