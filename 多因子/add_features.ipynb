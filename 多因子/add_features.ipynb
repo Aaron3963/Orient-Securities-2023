{
 "cells": [
  {
   "cell_type": "code",
   "execution_count": 187,
   "metadata": {},
   "outputs": [
    {
     "name": "stdout",
     "output_type": "stream",
     "text": [
      "Index(['Timestamp', 'Open', 'High', 'Low', 'Volume', 'Turnover', 'Close'], dtype='object')\n"
     ]
    }
   ],
   "source": [
    "import pandas as pd\n",
    "import numpy as np\n",
    "import talib as ta\n",
    "\n",
    "PATH_READ = '123181_train_raw.csv'\n",
    "PATH_READ_STOCK = '301085_train_raw.csv'\n",
    "\n",
    "PATH_WRITE = '123181_train_withF.csv'\n",
    "# df = pd.read_csv(PATH_READ, index_col='Timestamp')\n",
    "df = pd.read_csv(PATH_READ)\n",
    "df_stock = pd.read_csv(PATH_READ_STOCK)\n",
    "\n",
    "df = df.drop(['InstrumentID','TradingDay','PreClosePrice',], axis=1)\n",
    "\n",
    "print(df.columns)"
   ]
  },
  {
   "cell_type": "code",
   "execution_count": 188,
   "metadata": {},
   "outputs": [],
   "source": [
    "def log_Return (df,type,period):\n",
    "    return np.log(df[type] / df[type].shift(period))"
   ]
  },
  {
   "cell_type": "code",
   "execution_count": 189,
   "metadata": {},
   "outputs": [],
   "source": [
    "def BBands (df, type, period):\n",
    "    close_prices = np.array(df[type])\n",
    "\n",
    "    upper_band, middle_band, lower_band = ta.BBANDS(close_prices, timeperiod=period)\n",
    "\n",
    "    return upper_band, middle_band, lower_band"
   ]
  },
  {
   "cell_type": "code",
   "execution_count": 190,
   "metadata": {},
   "outputs": [],
   "source": [
    "def MACD(df, column, fastPeriod, slowPeriod, signalPeriod):\n",
    "    close = np.array(df[column])\n",
    "    macd, signal, hist = ta.MACD(close, fastperiod=fastPeriod, slowperiod=slowPeriod, signalperiod=signalPeriod)\n",
    "    return macd"
   ]
  },
  {
   "cell_type": "code",
   "execution_count": 191,
   "metadata": {},
   "outputs": [],
   "source": [
    "def RSI (df, type, period):\n",
    "    close = np.array(df[type])\n",
    "    return ta.RSI(close, timeperiod = period)"
   ]
  },
  {
   "cell_type": "code",
   "execution_count": 192,
   "metadata": {},
   "outputs": [],
   "source": [
    "def SAR (df, acc, max):\n",
    "    high = np.array(df['High'])\n",
    "    low = np.array(df['Low'])\n",
    "    \n",
    "    return ta.SAR(high, low, acceleration = acc, maximum = max)"
   ]
  },
  {
   "cell_type": "code",
   "execution_count": 193,
   "metadata": {},
   "outputs": [],
   "source": [
    "def target(df, column, period):\n",
    "    if period == 1:\n",
    "        return (df[column].shift(-1) - df[column])/df[column]\n",
    "    if period > 1:\n",
    "        return (df[column].rolling(window=period).mean().shift(-1 * period) - df[column]) / df[column]"
   ]
  },
  {
   "cell_type": "code",
   "execution_count": 194,
   "metadata": {},
   "outputs": [],
   "source": [
    "df['Avg'] = df['Turnover']/df['Volume']\n",
    "\n",
    "nan_rows_Avg = df[df['Avg'].isnull()]\n",
    "\n",
    "# 如遇涨/跌停，直接用高开低收的价格，因为都一样\n",
    "for index, row in nan_rows_Avg.iterrows():\n",
    "    if row['High'] == row['Low'] == row['Open'] == row['Close']:\n",
    "        row['Avg'] = row['High']\n",
    "\n",
    "df.update(nan_rows_Avg)"
   ]
  },
  {
   "cell_type": "markdown",
   "metadata": {},
   "source": [
    "Adding features"
   ]
  },
  {
   "cell_type": "code",
   "execution_count": 195,
   "metadata": {},
   "outputs": [
    {
     "name": "stdout",
     "output_type": "stream",
     "text": [
      "Index(['Timestamp', 'Open', 'High', 'Low', 'Volume', 'Turnover', 'Close',\n",
      "       'Avg', 'log_ret_close_1min', 'BBANDS_close_16min_up',\n",
      "       'BBANDS_close_16min_mid', 'BBANDS_close_16min_low',\n",
      "       'MACD_close_F12S26S9', 'RSI_close_12min', 'SAR'],\n",
      "      dtype='object')\n"
     ]
    }
   ],
   "source": [
    "df['log_ret_close_1min'] = log_Return(df, 'Close', 1)\n",
    "df['BBANDS_close_16min_up'], df['BBANDS_close_16min_mid'], df['BBANDS_close_16min_low'] = BBands(df, 'Close', 16)\n",
    "df['MACD_close_F12S26S9'] = MACD(df, 'Close', fastPeriod=12, slowPeriod=26, signalPeriod=9)\n",
    "df['RSI_close_12min'] = RSI(df, 'Close', period=12)\n",
    "df['SAR'] = SAR(df, 0.02, 0.2)\n",
    "\n",
    "\n",
    "print(df.columns)"
   ]
  },
  {
   "cell_type": "markdown",
   "metadata": {},
   "source": [
    "Add Targets"
   ]
  },
  {
   "cell_type": "code",
   "execution_count": 196,
   "metadata": {},
   "outputs": [],
   "source": [
    "df['Target_Close_1min'] = target(df,'Close', 1)\n",
    "df['Target_Avg_1min'] = target(df, 'Avg', 1)"
   ]
  },
  {
   "cell_type": "code",
   "execution_count": 197,
   "metadata": {},
   "outputs": [],
   "source": [
    "df_stock['STOCK_log_ret_close_1min'] = log_Return(df_stock, 'Close', 1)\n",
    "df_stock['STOCK_BBANDS_close_16min_up'], df_stock['STOCK_BBANDS_close_16min_mid'], df_stock['STOCK_BBANDS_close_16min_low'] = BBands(df_stock, 'Close', 16)\n",
    "df_stock['STOCK_MACD_close_F12S26S9'] = MACD(df_stock, 'Close', fastPeriod=12, slowPeriod=26, signalPeriod=9)\n",
    "df_stock['STOCK_RSI_close_12min'] = RSI(df_stock, 'Close', period=12)\n",
    "df_stock['STOCK_SAR'] = SAR(df_stock, 0.02, 0.2)\n"
   ]
  },
  {
   "cell_type": "markdown",
   "metadata": {},
   "source": [
    "Merging"
   ]
  },
  {
   "cell_type": "code",
   "execution_count": 198,
   "metadata": {},
   "outputs": [],
   "source": [
    "df_stock = df_stock[['STOCK_log_ret_close_1min', 'STOCK_BBANDS_close_16min_up', 'STOCK_BBANDS_close_16min_mid',\n",
    "       'STOCK_BBANDS_close_16min_low', 'STOCK_MACD_close_F12S26S9',\n",
    "       'STOCK_RSI_close_12min', 'STOCK_SAR']]\n",
    "\n",
    "result = pd.merge(df, df_stock, how='left', left_index= True, right_index=True)"
   ]
  },
  {
   "cell_type": "markdown",
   "metadata": {},
   "source": [
    "Cleaning and saving"
   ]
  },
  {
   "cell_type": "code",
   "execution_count": 199,
   "metadata": {},
   "outputs": [
    {
     "name": "stdout",
     "output_type": "stream",
     "text": [
      "Number of rows before cleaning: 5840\n",
      "Number of rows after cleaning: 5638\n"
     ]
    }
   ],
   "source": [
    "print('Number of rows before cleaning: %d'%result.shape[0])\n",
    "\n",
    "result = result.dropna()\n",
    "\n",
    "result.index = result['Timestamp']\n",
    "result = result.drop(['Timestamp'], axis=1)\n",
    "\n",
    "print('Number of rows after cleaning: %d'%result.shape[0])\n",
    "\n",
    "result.to_csv(PATH_WRITE)"
   ]
  }
 ],
 "metadata": {
  "kernelspec": {
   "display_name": "Python 3 (ipykernel)",
   "language": "python",
   "name": "python3"
  },
  "language_info": {
   "codemirror_mode": {
    "name": "ipython",
    "version": 3
   },
   "file_extension": ".py",
   "mimetype": "text/x-python",
   "name": "python",
   "nbconvert_exporter": "python",
   "pygments_lexer": "ipython3",
   "version": "3.10.9"
  },
  "orig_nbformat": 4
 },
 "nbformat": 4,
 "nbformat_minor": 2
}
